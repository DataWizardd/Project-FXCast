{
 "cells": [
  {
   "cell_type": "markdown",
   "id": "4b0d0428-9683-4ef7-8187-c9b6d4a81bb1",
   "metadata": {},
   "source": [
    "# Library"
   ]
  },
  {
   "cell_type": "code",
   "execution_count": 1,
   "id": "2a5641a1-cf6c-4499-90af-35c17a580830",
   "metadata": {},
   "outputs": [],
   "source": [
    "import pandas as pd\n",
    "from transformers import AutoTokenizer, AutoModelForSequenceClassification, pipeline\n",
    "from tqdm import tqdm"
   ]
  },
  {
   "cell_type": "markdown",
   "id": "9a62860c-cc3d-40b2-a5f1-249c6ffb9232",
   "metadata": {},
   "source": [
    "# Data Load"
   ]
  },
  {
   "cell_type": "code",
   "execution_count": 2,
   "id": "1c01d0f5-2ffa-4f84-a988-642dfcf463a7",
   "metadata": {},
   "outputs": [],
   "source": [
    "data_path = r\"C:\\Users\\james\\J_Data_Lab\\Project-FXCast\\crawler\\data\\investing_comments_cleaned_final.csv\"\n",
    "df = pd.read_csv(data_path)"
   ]
  },
  {
   "cell_type": "code",
   "execution_count": 3,
   "id": "b128aef8-1d66-4423-a194-077cafb7c1c2",
   "metadata": {},
   "outputs": [
    {
     "data": {
      "text/plain": [
       "<bound method DataFrame.info of            nickname        date  \\\n",
       "0            B Choi  2020-01-01   \n",
       "1               NaN  2020-01-01   \n",
       "2        Joe shrimp  2020-01-01   \n",
       "3       Pagan Ethos  2020-01-01   \n",
       "4       woojoon Jin  2020-01-01   \n",
       "...             ...         ...   \n",
       "283710        제갈 공명  2024-12-31   \n",
       "283711     Re START  2024-12-31   \n",
       "283712      yes you  2024-12-31   \n",
       "283713         주수 김  2024-12-31   \n",
       "283714  geonseol le  2024-12-31   \n",
       "\n",
       "                                                  content  \n",
       "0       유로와 캐나다 달러 쪽이 심상찮음. 달러 폭락을 기정사실화 하는 흐름 확인 필요. ...  \n",
       "1                             원화 가치 상승은 기정사실 1100원대가 눈앞이다  \n",
       "2       볼커룰 걔정안은 은행권의 적응 기간을 고려해 2020년 내년 1월 1일부터 발효 아...  \n",
       "3       금리인하는 미국보다 한국이 선빵을 날릴 것으로 예상합니다. 미국은 내년 상반기까지는...  \n",
       "4       떡국 한그릇들 하셨나요. 달러원이 결국 본질가치로 회귀해서 1150원대까지 왔네요....  \n",
       "...                                                   ...  \n",
       "283710  정부, 내년도에 1년물 단기 원화표시 외평채 20조원 발행 계획 발표. 대기업 법인...  \n",
       "283711                         내는 애국자답게 서학과 외인이럴 응원혀버리긋다.  \n",
       "283712                헌법재판관 2명 입명했다고 내린거같은데 지금 당장 사시면 됩니다  \n",
       "283713                   역시나 헌재 지연이 경제나락 1순위였네 바로 5원을 누르네  \n",
       "283714                  시장에 맡겨야지 자꾸 억지로 개입하면 뒷감당은 누가 하려고?  \n",
       "\n",
       "[283715 rows x 3 columns]>"
      ]
     },
     "execution_count": 3,
     "metadata": {},
     "output_type": "execute_result"
    }
   ],
   "source": [
    "df.info"
   ]
  },
  {
   "cell_type": "code",
   "execution_count": 9,
   "id": "41e5c44a-2554-4a4c-aa86-27e7f64c4acd",
   "metadata": {},
   "outputs": [
    {
     "data": {
      "text/plain": [
       "<bound method DataFrame.info of            nickname        date  \\\n",
       "0            B Choi  2020-01-01   \n",
       "1               NaN  2020-01-01   \n",
       "2        Joe shrimp  2020-01-01   \n",
       "4       woojoon Jin  2020-01-01   \n",
       "5               a j  2020-01-02   \n",
       "...             ...         ...   \n",
       "283710        제갈 공명  2024-12-31   \n",
       "283711     Re START  2024-12-31   \n",
       "283712      yes you  2024-12-31   \n",
       "283713         주수 김  2024-12-31   \n",
       "283714  geonseol le  2024-12-31   \n",
       "\n",
       "                                                  content  \n",
       "0       유로와 캐나다 달러 쪽이 심상찮음. 달러 폭락을 기정사실화 하는 흐름 확인 필요. ...  \n",
       "1                             원화 가치 상승은 기정사실 1100원대가 눈앞이다  \n",
       "2       볼커룰 걔정안은 은행권의 적응 기간을 고려해 2020년 내년 1월 1일부터 발효 아...  \n",
       "4       떡국 한그릇들 하셨나요. 달러원이 결국 본질가치로 회귀해서 1150원대까지 왔네요....  \n",
       "5                                      달러 하락 1100원 이탈시 매수  \n",
       "...                                                   ...  \n",
       "283710  정부, 내년도에 1년물 단기 원화표시 외평채 20조원 발행 계획 발표. 대기업 법인...  \n",
       "283711                         내는 애국자답게 서학과 외인이럴 응원혀버리긋다.  \n",
       "283712                헌법재판관 2명 입명했다고 내린거같은데 지금 당장 사시면 됩니다  \n",
       "283713                   역시나 헌재 지연이 경제나락 1순위였네 바로 5원을 누르네  \n",
       "283714                  시장에 맡겨야지 자꾸 억지로 개입하면 뒷감당은 누가 하려고?  \n",
       "\n",
       "[280843 rows x 3 columns]>"
      ]
     },
     "execution_count": 9,
     "metadata": {},
     "output_type": "execute_result"
    }
   ],
   "source": [
    "# 모델용 토크나이저 불러오기\n",
    "tokenizer = AutoTokenizer.from_pretrained(\"snunlp/KR-FinBERT-SC\")\n",
    "\n",
    "# 토큰 길이 계산\n",
    "df[\"token_length\"] = df[\"content\"].apply(lambda x: len(tokenizer.tokenize(str(x))))\n",
    "\n",
    "# 길이 128 미만인 댓글만 필터링\n",
    "df_filtered = df[df[\"token_length\"] < 128].copy()\n",
    "\n",
    "# token_length 컬럼은 삭제해도 됨\n",
    "df_filtered.drop(columns=[\"token_length\"], inplace=True)\n",
    "\n",
    "df_filtered.info"
   ]
  },
  {
   "cell_type": "markdown",
   "id": "208929bb-75ef-474b-a204-ce1c2bb787f3",
   "metadata": {},
   "source": [
    "# Analyze Sentiment with Fine Tuning Model"
   ]
  },
  {
   "cell_type": "code",
   "execution_count": 4,
   "id": "4b019968-44be-4077-bfa5-9c16ace64a13",
   "metadata": {},
   "outputs": [
    {
     "data": {
      "application/vnd.jupyter.widget-view+json": {
       "model_id": "fdc2e0b159554e4ea22e0b37a05db04f",
       "version_major": 2,
       "version_minor": 0
      },
      "text/plain": [
       "tokenizer_config.json:   0%|          | 0.00/1.55k [00:00<?, ?B/s]"
      ]
     },
     "metadata": {},
     "output_type": "display_data"
    },
    {
     "data": {
      "application/vnd.jupyter.widget-view+json": {
       "model_id": "a2054e8fb51f417bb1ae201aaddd0bdd",
       "version_major": 2,
       "version_minor": 0
      },
      "text/plain": [
       "vocab.txt:   0%|          | 0.00/143k [00:00<?, ?B/s]"
      ]
     },
     "metadata": {},
     "output_type": "display_data"
    },
    {
     "data": {
      "application/vnd.jupyter.widget-view+json": {
       "model_id": "f11d80d34ef14eaf8b4b933fa154534c",
       "version_major": 2,
       "version_minor": 0
      },
      "text/plain": [
       "tokenizer.json:   0%|          | 0.00/455k [00:00<?, ?B/s]"
      ]
     },
     "metadata": {},
     "output_type": "display_data"
    },
    {
     "data": {
      "application/vnd.jupyter.widget-view+json": {
       "model_id": "ff84c70378a443d5a3a1e76d5f7dc731",
       "version_major": 2,
       "version_minor": 0
      },
      "text/plain": [
       "special_tokens_map.json:   0%|          | 0.00/732 [00:00<?, ?B/s]"
      ]
     },
     "metadata": {},
     "output_type": "display_data"
    },
    {
     "data": {
      "application/vnd.jupyter.widget-view+json": {
       "model_id": "d0e8df6fd25f4bcea972a4e59900b239",
       "version_major": 2,
       "version_minor": 0
      },
      "text/plain": [
       "config.json:   0%|          | 0.00/757 [00:00<?, ?B/s]"
      ]
     },
     "metadata": {},
     "output_type": "display_data"
    },
    {
     "data": {
      "application/vnd.jupyter.widget-view+json": {
       "model_id": "6d7555b9417246828a7baa3f10d36e7c",
       "version_major": 2,
       "version_minor": 0
      },
      "text/plain": [
       "model.safetensors:   0%|          | 0.00/406M [00:00<?, ?B/s]"
      ]
     },
     "metadata": {},
     "output_type": "display_data"
    }
   ],
   "source": [
    "# 파인 튜닝한 모델 불러오기\n",
    "model_name = \"DataWizardd/finbert-sentiment-krw-comment-v3\"\n",
    "tokenizer = AutoTokenizer.from_pretrained(model_name)\n",
    "model = AutoModelForSequenceClassification.from_pretrained(model_name)"
   ]
  },
  {
   "cell_type": "code",
   "execution_count": 5,
   "id": "90f9152b-cc46-4cad-9a77-8041a3f98dce",
   "metadata": {},
   "outputs": [
    {
     "name": "stderr",
     "output_type": "stream",
     "text": [
      "Device set to use cuda:0\n"
     ]
    }
   ],
   "source": [
    "sentiment_pipe = pipeline(\"text-classification\", model=model, tokenizer=tokenizer)"
   ]
  },
  {
   "cell_type": "code",
   "execution_count": 6,
   "id": "b9d19b22-b0c0-44b2-a146-4cee9cf08fba",
   "metadata": {},
   "outputs": [],
   "source": [
    "def analyze_sentiment(text):\n",
    "    if pd.isna(text) or not text.strip():\n",
    "        return (\"None\", 0.0)\n",
    "    result = sentiment_pipe(text, truncation=True)[0]\n",
    "    return result[\"label\"], result[\"score\"]"
   ]
  },
  {
   "cell_type": "code",
   "execution_count": 10,
   "id": "e481541f-0ca2-4ebf-bf80-55939518c423",
   "metadata": {},
   "outputs": [
    {
     "name": "stderr",
     "output_type": "stream",
     "text": [
      "100%|█████████████████████████████████████████████████████████████████████████| 280843/280843 [30:11<00:00, 155.06it/s]\n"
     ]
    }
   ],
   "source": [
    "tqdm.pandas()\n",
    "df_filtered[[\"sentiment\", \"score\"]] = df_filtered[\"content\"].progress_apply(lambda x: pd.Series(analyze_sentiment(x)))"
   ]
  },
  {
   "cell_type": "code",
   "execution_count": 11,
   "id": "6aef93f8-b32f-47dd-89cf-3df46dd8db02",
   "metadata": {},
   "outputs": [
    {
     "name": "stdout",
     "output_type": "stream",
     "text": [
      "sentiment\n",
      "LABEL_1    191193\n",
      "LABEL_0     89252\n",
      "None          398\n",
      "Name: count, dtype: int64\n"
     ]
    }
   ],
   "source": [
    "# 긍정/부정 개수 카운트\n",
    "print(df_filtered[\"sentiment\"].value_counts())"
   ]
  },
  {
   "cell_type": "code",
   "execution_count": 12,
   "id": "77212380-cc99-47f0-a2a0-aef53ec3602d",
   "metadata": {},
   "outputs": [],
   "source": [
    "# \"None\"이 문자열로 들어간 경우 필터링\n",
    "df_filtered = df_filtered[df_filtered[\"sentiment\"] != \"None\"].copy()"
   ]
  },
  {
   "cell_type": "code",
   "execution_count": 13,
   "id": "4f4375ce-7eae-4cb9-a8bc-3f7b3a2754d8",
   "metadata": {},
   "outputs": [
    {
     "name": "stdout",
     "output_type": "stream",
     "text": [
      "sentiment\n",
      "LABEL_1    191193\n",
      "LABEL_0     89252\n",
      "Name: count, dtype: int64\n"
     ]
    }
   ],
   "source": [
    "print(df_filtered[\"sentiment\"].value_counts())"
   ]
  },
  {
   "cell_type": "code",
   "execution_count": 14,
   "id": "50dfc9b9-7873-4d43-b39e-07f6d49cd48f",
   "metadata": {},
   "outputs": [],
   "source": [
    "save_path = r\"C:\\Users\\james\\J_Data_Lab\\Project-FXCast\\crawler\\data\\investing_content_sentiment.csv\"\n",
    "df_filtered.to_csv(save_path, index=False, encoding=\"utf-8-sig\")"
   ]
  },
  {
   "cell_type": "code",
   "execution_count": null,
   "id": "e86bb4a2-ec9b-4063-9351-c267fc3f6554",
   "metadata": {},
   "outputs": [],
   "source": []
  }
 ],
 "metadata": {
  "kernelspec": {
   "display_name": "Python (my_new_env)",
   "language": "python",
   "name": "my_new_env"
  },
  "language_info": {
   "codemirror_mode": {
    "name": "ipython",
    "version": 3
   },
   "file_extension": ".py",
   "mimetype": "text/x-python",
   "name": "python",
   "nbconvert_exporter": "python",
   "pygments_lexer": "ipython3",
   "version": "3.9.20"
  }
 },
 "nbformat": 4,
 "nbformat_minor": 5
}
