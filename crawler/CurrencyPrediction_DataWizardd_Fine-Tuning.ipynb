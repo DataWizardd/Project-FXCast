{
 "cells": [
  {
   "cell_type": "markdown",
   "id": "011bf65e-7824-4a35-a8af-6fc3f21cf0d7",
   "metadata": {},
   "source": [
    "# Library"
   ]
  },
  {
   "cell_type": "code",
   "execution_count": null,
   "id": "7fe58e5a-3a22-4257-a826-699c22ee8424",
   "metadata": {},
   "outputs": [],
   "source": [
    "import os\n",
    "import pandas as pd\n",
    "import numpy as np\n",
    "\n",
    "from datasets import Dataset\n",
    "from dotenv import load_dotenv\n",
    "from sklearn.model_selection import train_test_split\n",
    "from sklearn.metrics import classification_report\n",
    "from transformers import AutoTokenizer, AutoModelForSequenceClassification, TrainingArguments, Traine, pipeline"
   ]
  },
  {
   "cell_type": "markdown",
   "id": "5ab9a1a2-b247-4a23-bb7a-ab44fe11233f",
   "metadata": {},
   "source": [
    "# Labeling"
   ]
  },
  {
   "cell_type": "code",
   "execution_count": 7,
   "id": "a6d17255-7808-4740-8a13-006f9ce7a1f0",
   "metadata": {},
   "outputs": [
    {
     "name": "stdout",
     "output_type": "stream",
     "text": [
      "370개 문장 저장 완료: C:\\Users\\james\\J_Data_Lab\\Project-FXCast\\crawler\\data\\labeling_2020.csv\n"
     ]
    }
   ],
   "source": [
    "data_path = r\"C:\\Users\\james\\J_Data_Lab\\Project-FXCast\\crawler\\data\\naver_finance_news_2020_prep_s7.csv\"\n",
    "df = pd.read_csv(data_path)\n",
    "\n",
    "# summary 컬럼만 추출 + 중복 제거, 공백 제거\n",
    "df_labeled = df[[\"summary\"]].dropna().drop_duplicates()\n",
    "df_labeled[\"summary\"] = df_labeled[\"summary\"].str.strip()\n",
    "\n",
    "# 감정 라벨 컬럼\n",
    "df_labeled[\"label\"] = \"\"\n",
    "\n",
    "# 저장\n",
    "save_path = r\"C:\\Users\\james\\J_Data_Lab\\Project-FXCast\\crawler\\data\\labeling_2020.csv\"\n",
    "df_labeled.to_csv(save_path, index=False, encoding=\"utf-8-sig\")\n",
    "print(f\"{len(df_labeled)}개 문장 저장 완료: {save_path}\")"
   ]
  },
  {
   "cell_type": "markdown",
   "id": "1e9d86b6-4b00-4e5f-a839-b861207d662f",
   "metadata": {},
   "source": [
    "# Fine Tuning"
   ]
  },
  {
   "cell_type": "markdown",
   "id": "0cbf2a33-cf9e-49e9-afe0-0d5d43bd7ae5",
   "metadata": {},
   "source": [
    "* 환율 전용 튜닝\n",
    "- 긍정\t시장 안정, 환율 하락, 외국인 투자 확대, 호재 반응\t하락, 안정, 진정, 강세, 회복, 개선, 순매수\n",
    "- 부정\t시장 불안, 환율 급등, 지정학적 리스크, 악재 반응\t급등, 불안, 출렁, 위기, 약세, 순매도\n",
    "- 중립\t방향성 없거나 팩트만 전달, 보합"
   ]
  },
  {
   "cell_type": "code",
   "execution_count": 1,
   "id": "afe556b3-70e1-45cf-9f15-eb5197a7984a",
   "metadata": {},
   "outputs": [],
   "source": [
    "data_path = r\"C:\\Users\\james\\J_Data_Lab\\Project-FXCast\\crawler\\data\\labeled_2020_s1.csv\"\n",
    "df = pd.read_csv(data_path)\n",
    "label_map = {\"부정\": 0, \"중립\": 1, \"긍정\": 2}\n",
    "df[\"label\"] = df[\"label\"].map(label_map)\n",
    "dataset = Dataset.from_pandas(df[[\"summary\", \"label\"]])"
   ]
  },
  {
   "cell_type": "code",
   "execution_count": 2,
   "id": "384704d7-2a43-4b52-ac80-b6f1ad3d60d5",
   "metadata": {},
   "outputs": [],
   "source": [
    "# https://huggingface.co/snunlp/KR-FinBert-SC \n",
    "model_name = \"snunlp/KR-FinBERT-SC\"\n",
    "tokenizer = AutoTokenizer.from_pretrained(model_name)\n",
    "model = AutoModelForSequenceClassification.from_pretrained(model_name, num_labels=3)"
   ]
  },
  {
   "cell_type": "code",
   "execution_count": 3,
   "id": "e9457bb5-b524-43b3-9c06-fa57702f9d51",
   "metadata": {},
   "outputs": [
    {
     "data": {
      "application/vnd.jupyter.widget-view+json": {
       "model_id": "c17de8e35c5947cf999c9586eef121d7",
       "version_major": 2,
       "version_minor": 0
      },
      "text/plain": [
       "Map:   0%|          | 0/207 [00:00<?, ? examples/s]"
      ]
     },
     "metadata": {},
     "output_type": "display_data"
    }
   ],
   "source": [
    "def tokenize(batch):\n",
    "    return tokenizer(batch[\"summary\"], padding=\"max_length\", truncation=True, max_length=128)\n",
    "\n",
    "dataset = dataset.map(tokenize, batched=True)\n",
    "dataset = dataset.train_test_split(test_size=0.1)"
   ]
  },
  {
   "cell_type": "code",
   "execution_count": 4,
   "id": "30fdd20d-12a1-4ea9-bf58-e6d899be8eea",
   "metadata": {},
   "outputs": [
    {
     "name": "stdout",
     "output_type": "stream",
     "text": [
      "WARNING:tensorflow:From C:\\Users\\james\\anaconda3\\envs\\my_new_env\\lib\\site-packages\\tf_keras\\src\\losses.py:2976: The name tf.losses.sparse_softmax_cross_entropy is deprecated. Please use tf.compat.v1.losses.sparse_softmax_cross_entropy instead.\n",
      "\n"
     ]
    },
    {
     "name": "stderr",
     "output_type": "stream",
     "text": [
      "C:\\Users\\james\\anaconda3\\envs\\my_new_env\\lib\\site-packages\\transformers\\training_args.py:1575: FutureWarning: `evaluation_strategy` is deprecated and will be removed in version 4.46 of 🤗 Transformers. Use `eval_strategy` instead\n",
      "  warnings.warn(\n"
     ]
    },
    {
     "data": {
      "text/html": [
       "\n",
       "    <div>\n",
       "      \n",
       "      <progress value='96' max='96' style='width:300px; height:20px; vertical-align: middle;'></progress>\n",
       "      [96/96 00:20, Epoch 4/4]\n",
       "    </div>\n",
       "    <table border=\"1\" class=\"dataframe\">\n",
       "  <thead>\n",
       " <tr style=\"text-align: left;\">\n",
       "      <th>Epoch</th>\n",
       "      <th>Training Loss</th>\n",
       "      <th>Validation Loss</th>\n",
       "    </tr>\n",
       "  </thead>\n",
       "  <tbody>\n",
       "    <tr>\n",
       "      <td>1</td>\n",
       "      <td>0.911500</td>\n",
       "      <td>0.706600</td>\n",
       "    </tr>\n",
       "    <tr>\n",
       "      <td>2</td>\n",
       "      <td>0.633200</td>\n",
       "      <td>0.502824</td>\n",
       "    </tr>\n",
       "    <tr>\n",
       "      <td>3</td>\n",
       "      <td>0.300000</td>\n",
       "      <td>0.293566</td>\n",
       "    </tr>\n",
       "    <tr>\n",
       "      <td>4</td>\n",
       "      <td>0.207600</td>\n",
       "      <td>0.282096</td>\n",
       "    </tr>\n",
       "  </tbody>\n",
       "</table><p>"
      ],
      "text/plain": [
       "<IPython.core.display.HTML object>"
      ]
     },
     "metadata": {},
     "output_type": "display_data"
    },
    {
     "data": {
      "text/plain": [
       "TrainOutput(global_step=96, training_loss=0.6265187462170919, metrics={'train_runtime': 21.096, 'train_samples_per_second': 35.267, 'train_steps_per_second': 4.551, 'total_flos': 48939095697408.0, 'train_loss': 0.6265187462170919, 'epoch': 4.0})"
      ]
     },
     "execution_count": 4,
     "metadata": {},
     "output_type": "execute_result"
    }
   ],
   "source": [
    "training_args = TrainingArguments(\n",
    "    output_dir=\"./finbert-finetuned\",\n",
    "    per_device_train_batch_size=8,\n",
    "    num_train_epochs=4,\n",
    "    evaluation_strategy=\"epoch\",\n",
    "    save_strategy=\"epoch\",\n",
    "    logging_dir=\"./logs\",\n",
    "    logging_steps=10,\n",
    "    load_best_model_at_end=True,\n",
    ")\n",
    "\n",
    "trainer = Trainer(\n",
    "    model=model,\n",
    "    args=training_args,\n",
    "    train_dataset=dataset[\"train\"],\n",
    "    eval_dataset=dataset[\"test\"],\n",
    ")\n",
    "\n",
    "trainer.train()"
   ]
  },
  {
   "cell_type": "code",
   "execution_count": 5,
   "id": "bc8d5b48-d6db-4e33-89af-d2aa340d5877",
   "metadata": {},
   "outputs": [
    {
     "name": "stderr",
     "output_type": "stream",
     "text": [
      "Device set to use cuda:0\n"
     ]
    },
    {
     "data": {
      "text/plain": [
       "[{'label': 'negative', 'score': 0.9823349714279175}]"
      ]
     },
     "execution_count": 5,
     "metadata": {},
     "output_type": "execute_result"
    }
   ],
   "source": [
    "trainer.save_model(\"./finbert-finetuned\")\n",
    "\n",
    "# test\n",
    "pipe = pipeline(\"text-classification\", model=\"./finbert-finetuned\", tokenizer=tokenizer)\n",
    "pipe(\"환율 급등 우려로 시장 불안이 커지고 있다.\")"
   ]
  },
  {
   "cell_type": "code",
   "execution_count": 11,
   "id": "854616a0-a598-4bb7-84c7-4a40d7f8996c",
   "metadata": {},
   "outputs": [
    {
     "data": {
      "application/vnd.jupyter.widget-view+json": {
       "model_id": "d22ced267f8649769133290e23bebdec",
       "version_major": 2,
       "version_minor": 0
      },
      "text/plain": [
       "model.safetensors:   0%|          | 0.00/406M [00:00<?, ?B/s]"
      ]
     },
     "metadata": {},
     "output_type": "display_data"
    },
    {
     "data": {
      "application/vnd.jupyter.widget-view+json": {
       "model_id": "72a37cbf6ee64a8f9d35b038a8861710",
       "version_major": 2,
       "version_minor": 0
      },
      "text/plain": [
       "README.md:   0%|          | 0.00/5.17k [00:00<?, ?B/s]"
      ]
     },
     "metadata": {},
     "output_type": "display_data"
    },
    {
     "data": {
      "text/plain": [
       "CommitInfo(commit_url='https://huggingface.co/DataWizardd/finbert-sentiment-ko/commit/1f6b07752b808ea06dce142bb79c2663536b6534', commit_message='Upload tokenizer', commit_description='', oid='1f6b07752b808ea06dce142bb79c2663536b6534', pr_url=None, repo_url=RepoUrl('https://huggingface.co/DataWizardd/finbert-sentiment-ko', endpoint='https://huggingface.co', repo_type='model', repo_id='DataWizardd/finbert-sentiment-ko'), pr_revision=None, pr_num=None)"
      ]
     },
     "execution_count": 11,
     "metadata": {},
     "output_type": "execute_result"
    }
   ],
   "source": [
    "# hugging face upload\n",
    "load_dotenv(dotenv_path=\".env\")\n",
    "token = os.getenv(\"HF_TOKEN\")\n",
    "\n",
    "model.push_to_hub(\"DataWizardd/finbert-sentiment-ko\", token=token)\n",
    "tokenizer.push_to_hub(\"DataWizardd/finbert-sentiment-ko\", token=token)"
   ]
  },
  {
   "cell_type": "markdown",
   "id": "d727cbb1-7fae-47d9-a3fb-614a76ded713",
   "metadata": {},
   "source": [
    "# Classification Report"
   ]
  },
  {
   "cell_type": "code",
   "execution_count": 17,
   "id": "708b30f2-4c7b-4048-8bd7-0c1465e591fb",
   "metadata": {},
   "outputs": [],
   "source": [
    "data_path = r\"C:\\Users\\james\\J_Data_Lab\\Project-FXCast\\crawler\\data\\labeled_2020_s1.csv\"\n",
    "df = pd.read_csv(data_path)\n",
    "\n",
    "# 라벨 매핑\n",
    "label_map = {\"부정\": 0, \"중립\": 1, \"긍정\": 2}\n",
    "df[\"label\"] = df[\"label\"].map(label_map)\n",
    "\n",
    "df_clean = df[df[\"label\"].isin([0, 1, 2])].copy()\n",
    "df_clean[\"label\"] = df_clean[\"label\"].astype(int)"
   ]
  },
  {
   "cell_type": "code",
   "execution_count": 18,
   "id": "fc8c8b55-098a-4569-b207-0078c3affe14",
   "metadata": {},
   "outputs": [],
   "source": [
    "train_df, test_df = train_test_split(\n",
    "    df_clean,\n",
    "    test_size=0.2,\n",
    "    stratify=df_clean[\"label\"],\n",
    "    random_state=42\n",
    ")"
   ]
  },
  {
   "cell_type": "code",
   "execution_count": 19,
   "id": "31977ccd-6151-402f-ab2b-dc655bc0b301",
   "metadata": {},
   "outputs": [
    {
     "data": {
      "application/vnd.jupyter.widget-view+json": {
       "model_id": "a6913c2aa5b4435ea50e280544debe4a",
       "version_major": 2,
       "version_minor": 0
      },
      "text/plain": [
       "Map:   0%|          | 0/165 [00:00<?, ? examples/s]"
      ]
     },
     "metadata": {},
     "output_type": "display_data"
    },
    {
     "data": {
      "application/vnd.jupyter.widget-view+json": {
       "model_id": "550de11ac0674fda8d9e1db129b3e6c4",
       "version_major": 2,
       "version_minor": 0
      },
      "text/plain": [
       "Map:   0%|          | 0/42 [00:00<?, ? examples/s]"
      ]
     },
     "metadata": {},
     "output_type": "display_data"
    }
   ],
   "source": [
    "# 데이터셋 변환\n",
    "train_dataset = Dataset.from_pandas(train_df.reset_index(drop=True))\n",
    "test_dataset = Dataset.from_pandas(test_df.reset_index(drop=True))\n",
    "\n",
    "# 토크나이저 로드 (KR-FinBERT-SC)\n",
    "tokenizer = AutoTokenizer.from_pretrained(\"snunlp/KR-FinBERT-SC\")\n",
    "\n",
    "# 토크나이징 함수\n",
    "def tokenize(batch):\n",
    "    return tokenizer(batch[\"summary\"], padding=\"max_length\", truncation=True, max_length=128)\n",
    "\n",
    "train_dataset = train_dataset.map(tokenize, batched=True)\n",
    "test_dataset = test_dataset.map(tokenize, batched=True)\n",
    "\n",
    "# 필요한 컬럼만 학습용으로 설정\n",
    "train_dataset.set_format(type=\"torch\", columns=[\"input_ids\", \"attention_mask\", \"label\"])\n",
    "test_dataset.set_format(type=\"torch\", columns=[\"input_ids\", \"attention_mask\", \"label\"])"
   ]
  },
  {
   "cell_type": "code",
   "execution_count": 22,
   "id": "d6a7d099-ee3b-4ec3-91ea-ff43b459e040",
   "metadata": {},
   "outputs": [
    {
     "data": {
      "text/html": [],
      "text/plain": [
       "<IPython.core.display.HTML object>"
      ]
     },
     "metadata": {},
     "output_type": "display_data"
    },
    {
     "name": "stdout",
     "output_type": "stream",
     "text": [
      "              precision    recall  f1-score   support\n",
      "\n",
      "          부정       0.89      1.00      0.94        17\n",
      "          중립       1.00      0.82      0.90        11\n",
      "          긍정       0.93      0.93      0.93        14\n",
      "\n",
      "    accuracy                           0.93        42\n",
      "   macro avg       0.94      0.92      0.92        42\n",
      "weighted avg       0.93      0.93      0.93        42\n",
      "\n"
     ]
    }
   ],
   "source": [
    "# 예측\n",
    "preds = trainer.predict(test_dataset)\n",
    "\n",
    "# 결과 분석\n",
    "y_true = preds.label_ids\n",
    "y_pred = np.argmax(preds.predictions, axis=1)\n",
    "\n",
    "print(classification_report(y_true, y_pred, target_names=[\"부정\", \"중립\", \"긍정\"]))"
   ]
  },
  {
   "cell_type": "code",
   "execution_count": null,
   "id": "5fa38164-240f-43b1-80bd-9cbe46cd8e3a",
   "metadata": {},
   "outputs": [],
   "source": []
  },
  {
   "cell_type": "code",
   "execution_count": null,
   "id": "5f1ee53c-5ce5-47ba-9aa3-6a24d8fd22a8",
   "metadata": {},
   "outputs": [],
   "source": []
  }
 ],
 "metadata": {
  "kernelspec": {
   "display_name": "Python (my_new_env)",
   "language": "python",
   "name": "my_new_env"
  },
  "language_info": {
   "codemirror_mode": {
    "name": "ipython",
    "version": 3
   },
   "file_extension": ".py",
   "mimetype": "text/x-python",
   "name": "python",
   "nbconvert_exporter": "python",
   "pygments_lexer": "ipython3",
   "version": "3.9.20"
  }
 },
 "nbformat": 4,
 "nbformat_minor": 5
}
