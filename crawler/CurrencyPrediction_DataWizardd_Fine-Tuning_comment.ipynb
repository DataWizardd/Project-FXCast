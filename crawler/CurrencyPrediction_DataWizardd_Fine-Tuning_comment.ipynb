{
 "cells": [
  {
   "cell_type": "markdown",
   "id": "011bf65e-7824-4a35-a8af-6fc3f21cf0d7",
   "metadata": {},
   "source": [
    "# Library"
   ]
  },
  {
   "cell_type": "code",
   "execution_count": 1,
   "id": "7fe58e5a-3a22-4257-a826-699c22ee8424",
   "metadata": {},
   "outputs": [
    {
     "name": "stdout",
     "output_type": "stream",
     "text": [
      "WARNING:tensorflow:From C:\\Users\\james\\anaconda3\\envs\\my_new_env\\lib\\site-packages\\tf_keras\\src\\losses.py:2976: The name tf.losses.sparse_softmax_cross_entropy is deprecated. Please use tf.compat.v1.losses.sparse_softmax_cross_entropy instead.\n",
      "\n"
     ]
    }
   ],
   "source": [
    "import os\n",
    "import pandas as pd\n",
    "import numpy as np\n",
    "\n",
    "from datasets import Dataset\n",
    "from dotenv import load_dotenv\n",
    "from sklearn.model_selection import train_test_split\n",
    "from sklearn.metrics import classification_report\n",
    "from transformers import AutoTokenizer, AutoModelForSequenceClassification, TrainingArguments, Trainer, pipeline"
   ]
  },
  {
   "cell_type": "markdown",
   "id": "5ab9a1a2-b247-4a23-bb7a-ab44fe11233f",
   "metadata": {
    "jp-MarkdownHeadingCollapsed": true
   },
   "source": [
    "# Labeling"
   ]
  },
  {
   "cell_type": "code",
   "execution_count": 5,
   "id": "a6d17255-7808-4740-8a13-006f9ce7a1f0",
   "metadata": {},
   "outputs": [
    {
     "name": "stdout",
     "output_type": "stream",
     "text": [
      "279466개 문장 저장 완료: C:\\Users\\james\\J_Data_Lab\\Project-FXCast\\crawler\\data\\investing_comments_final_labeling.csv\n"
     ]
    }
   ],
   "source": [
    "data_path = r\"C:\\Users\\james\\J_Data_Lab\\Project-FXCast\\crawler\\data\\investing_comments_cleaned_final.csv\"\n",
    "df = pd.read_csv(data_path)\n",
    "\n",
    "# summary 컬럼만 추출 + 중복 제거, 공백 제거\n",
    "df_labeled = df[[\"content\"]].dropna().drop_duplicates()\n",
    "df_labeled[\"content\"] = df_labeled[\"content\"].str.strip()\n",
    "\n",
    "# 감정 라벨 컬럼\n",
    "df_labeled[\"label\"] = \"\"\n",
    "\n",
    "# 저장\n",
    "save_path = r\"C:\\Users\\james\\J_Data_Lab\\Project-FXCast\\crawler\\data\\investing_comments_final_labeling.csv\"\n",
    "df_labeled.to_csv(save_path, index=False, encoding=\"utf-8-sig\")\n",
    "print(f\"{len(df_labeled)}개 문장 저장 완료: {save_path}\")"
   ]
  },
  {
   "cell_type": "markdown",
   "id": "1e9d86b6-4b00-4e5f-a839-b861207d662f",
   "metadata": {},
   "source": [
    "# Fine Tuning"
   ]
  },
  {
   "cell_type": "markdown",
   "id": "0cbf2a33-cf9e-49e9-afe0-0d5d43bd7ae5",
   "metadata": {},
   "source": [
    "* 환율 댓글 튜닝\n",
    "* 0 : 공포\n",
    "* 1 : 탐욕"
   ]
  },
  {
   "cell_type": "code",
   "execution_count": 24,
   "id": "afe556b3-70e1-45cf-9f15-eb5197a7984a",
   "metadata": {},
   "outputs": [],
   "source": [
    "data_path = r\"C:\\Users\\james\\J_Data_Lab\\Project-FXCast\\crawler\\data\\investing_comments_final_labeling_v3.csv\"\n",
    "df = pd.read_csv(data_path)\n",
    "# 라벨 정리\n",
    "df[\"label\"] = df[\"label\"].astype(str).str.strip()\n",
    "label_map = {\"0\": 0, \"1\": 1} # 0은 공포 1은 욕심\n",
    "df[\"label\"] = df[\"label\"].map(label_map)\n",
    "df_clean = df[df[\"label\"].isin([0, 1])].copy()\n",
    "df_clean[\"label\"] = df_clean[\"label\"].astype(int)\n",
    "dataset = Dataset.from_pandas(df[[\"content\", \"label\"]])"
   ]
  },
  {
   "cell_type": "code",
   "execution_count": 26,
   "id": "24676272-12d8-418a-b073-c9a04ebfb6cd",
   "metadata": {},
   "outputs": [
    {
     "name": "stderr",
     "output_type": "stream",
     "text": [
      "Some weights of BertForSequenceClassification were not initialized from the model checkpoint at snunlp/KR-FinBERT-SC and are newly initialized because the shapes did not match:\n",
      "- classifier.weight: found shape torch.Size([3, 768]) in the checkpoint and torch.Size([2, 768]) in the model instantiated\n",
      "- classifier.bias: found shape torch.Size([3]) in the checkpoint and torch.Size([2]) in the model instantiated\n",
      "You should probably TRAIN this model on a down-stream task to be able to use it for predictions and inference.\n"
     ]
    }
   ],
   "source": [
    "# https://huggingface.co/snunlp/KR-FinBert-SC \n",
    "model_name = \"snunlp/KR-FinBERT-SC\"\n",
    "tokenizer = AutoTokenizer.from_pretrained(model_name)\n",
    "model = AutoModelForSequenceClassification.from_pretrained(model_name, num_labels=2, ignore_mismatched_sizes=True)"
   ]
  },
  {
   "cell_type": "code",
   "execution_count": 27,
   "id": "384704d7-2a43-4b52-ac80-b6f1ad3d60d5",
   "metadata": {},
   "outputs": [
    {
     "data": {
      "application/vnd.jupyter.widget-view+json": {
       "model_id": "393ca38ecfc64183a7e22cab5e0bd3f3",
       "version_major": 2,
       "version_minor": 0
      },
      "text/plain": [
       "Map:   0%|          | 0/237 [00:00<?, ? examples/s]"
      ]
     },
     "metadata": {},
     "output_type": "display_data"
    }
   ],
   "source": [
    "def tokenize(batch):\n",
    "    return tokenizer(batch[\"content\"], padding=\"max_length\", truncation=True, max_length=512)\n",
    "\n",
    "dataset = dataset.map(tokenize, batched=True)\n",
    "dataset = dataset.train_test_split(test_size=0.1)"
   ]
  },
  {
   "cell_type": "code",
   "execution_count": 28,
   "id": "e9457bb5-b524-43b3-9c06-fa57702f9d51",
   "metadata": {},
   "outputs": [
    {
     "name": "stderr",
     "output_type": "stream",
     "text": [
      "C:\\Users\\james\\anaconda3\\envs\\my_new_env\\lib\\site-packages\\transformers\\training_args.py:1575: FutureWarning: `evaluation_strategy` is deprecated and will be removed in version 4.46 of 🤗 Transformers. Use `eval_strategy` instead\n",
      "  warnings.warn(\n"
     ]
    },
    {
     "data": {
      "text/html": [
       "\n",
       "    <div>\n",
       "      \n",
       "      <progress value='108' max='108' style='width:300px; height:20px; vertical-align: middle;'></progress>\n",
       "      [108/108 00:22, Epoch 4/4]\n",
       "    </div>\n",
       "    <table border=\"1\" class=\"dataframe\">\n",
       "  <thead>\n",
       " <tr style=\"text-align: left;\">\n",
       "      <th>Epoch</th>\n",
       "      <th>Training Loss</th>\n",
       "      <th>Validation Loss</th>\n",
       "    </tr>\n",
       "  </thead>\n",
       "  <tbody>\n",
       "    <tr>\n",
       "      <td>1</td>\n",
       "      <td>0.582000</td>\n",
       "      <td>0.492887</td>\n",
       "    </tr>\n",
       "    <tr>\n",
       "      <td>2</td>\n",
       "      <td>0.178400</td>\n",
       "      <td>0.756978</td>\n",
       "    </tr>\n",
       "    <tr>\n",
       "      <td>3</td>\n",
       "      <td>0.158800</td>\n",
       "      <td>0.707856</td>\n",
       "    </tr>\n",
       "    <tr>\n",
       "      <td>4</td>\n",
       "      <td>0.008000</td>\n",
       "      <td>0.760682</td>\n",
       "    </tr>\n",
       "  </tbody>\n",
       "</table><p>"
      ],
      "text/plain": [
       "<IPython.core.display.HTML object>"
      ]
     },
     "metadata": {},
     "output_type": "display_data"
    },
    {
     "data": {
      "text/plain": [
       "TrainOutput(global_step=108, training_loss=0.2580258820067953, metrics={'train_runtime': 22.8621, 'train_samples_per_second': 37.267, 'train_steps_per_second': 4.724, 'total_flos': 56042654791680.0, 'train_loss': 0.2580258820067953, 'epoch': 4.0})"
      ]
     },
     "execution_count": 28,
     "metadata": {},
     "output_type": "execute_result"
    }
   ],
   "source": [
    "training_args = TrainingArguments(\n",
    "    output_dir=\"./finbert-finetuned\",\n",
    "    per_device_train_batch_size=8,\n",
    "    num_train_epochs=4,\n",
    "    evaluation_strategy=\"epoch\",\n",
    "    save_strategy=\"epoch\",\n",
    "    logging_dir=\"./logs\",\n",
    "    logging_steps=10,\n",
    "    load_best_model_at_end=True,\n",
    ")\n",
    "\n",
    "trainer = Trainer(\n",
    "    model=model,\n",
    "    args=training_args,\n",
    "    train_dataset=dataset[\"train\"],\n",
    "    eval_dataset=dataset[\"test\"],\n",
    ")\n",
    "\n",
    "trainer.train()"
   ]
  },
  {
   "cell_type": "code",
   "execution_count": 29,
   "id": "bc8d5b48-d6db-4e33-89af-d2aa340d5877",
   "metadata": {},
   "outputs": [
    {
     "name": "stderr",
     "output_type": "stream",
     "text": [
      "Device set to use cuda:0\n"
     ]
    },
    {
     "data": {
      "text/plain": [
       "[{'label': 'LABEL_1', 'score': 0.7681488990783691}]"
      ]
     },
     "execution_count": 29,
     "metadata": {},
     "output_type": "execute_result"
    }
   ],
   "source": [
    "trainer.save_model(\"./finbert-finetuned\")\n",
    "\n",
    "# test\n",
    "pipe = pipeline(\"text-classification\", model=\"./finbert-finetuned\", tokenizer=tokenizer)\n",
    "pipe(\"심상치 않네요 중동전쟁 발발하고 1월8일에 김정은이 미사일 실험하고 그러면 1170은 기본이고 1190원도 순식간일듯.\")"
   ]
  },
  {
   "cell_type": "code",
   "execution_count": 30,
   "id": "404ff0d8-8455-4d4e-8094-39e08b90446d",
   "metadata": {},
   "outputs": [
    {
     "name": "stderr",
     "output_type": "stream",
     "text": [
      "Device set to use cuda:0\n"
     ]
    },
    {
     "data": {
      "text/plain": [
       "[{'label': 'LABEL_1', 'score': 0.8322440385818481}]"
      ]
     },
     "execution_count": 30,
     "metadata": {},
     "output_type": "execute_result"
    }
   ],
   "source": [
    "pipe = pipeline(\"text-classification\", model=\"./finbert-finetuned\", tokenizer=tokenizer)\n",
    "pipe(\"매수잡아보자ㅎ\")"
   ]
  },
  {
   "cell_type": "code",
   "execution_count": 31,
   "id": "f4d49261-16dc-4975-954d-2ac28321d765",
   "metadata": {},
   "outputs": [
    {
     "name": "stderr",
     "output_type": "stream",
     "text": [
      "Device set to use cuda:0\n"
     ]
    },
    {
     "data": {
      "text/plain": [
       "[{'label': 'LABEL_0', 'score': 0.9057745337486267}]"
      ]
     },
     "execution_count": 31,
     "metadata": {},
     "output_type": "execute_result"
    }
   ],
   "source": [
    "pipe = pipeline(\"text-classification\", model=\"./finbert-finetuned\", tokenizer=tokenizer)\n",
    "pipe(\"내가 작년여름부터 장기하방이라했자나\")"
   ]
  },
  {
   "cell_type": "code",
   "execution_count": 32,
   "id": "854616a0-a598-4bb7-84c7-4a40d7f8996c",
   "metadata": {},
   "outputs": [
    {
     "data": {
      "application/vnd.jupyter.widget-view+json": {
       "model_id": "8f772e811c9a430c988abd45a5510ede",
       "version_major": 2,
       "version_minor": 0
      },
      "text/plain": [
       "model.safetensors:   0%|          | 0.00/406M [00:00<?, ?B/s]"
      ]
     },
     "metadata": {},
     "output_type": "display_data"
    },
    {
     "data": {
      "application/vnd.jupyter.widget-view+json": {
       "model_id": "a631e3167019408599a6f83e44e3f42d",
       "version_major": 2,
       "version_minor": 0
      },
      "text/plain": [
       "README.md:   0%|          | 0.00/5.17k [00:00<?, ?B/s]"
      ]
     },
     "metadata": {},
     "output_type": "display_data"
    },
    {
     "data": {
      "text/plain": [
       "CommitInfo(commit_url='https://huggingface.co/DataWizardd/finbert-sentiment-krw-comment-v3/commit/90f46f18696e9ca4257e66b8805d7261fca66c8a', commit_message='Upload tokenizer', commit_description='', oid='90f46f18696e9ca4257e66b8805d7261fca66c8a', pr_url=None, repo_url=RepoUrl('https://huggingface.co/DataWizardd/finbert-sentiment-krw-comment-v3', endpoint='https://huggingface.co', repo_type='model', repo_id='DataWizardd/finbert-sentiment-krw-comment-v3'), pr_revision=None, pr_num=None)"
      ]
     },
     "execution_count": 32,
     "metadata": {},
     "output_type": "execute_result"
    }
   ],
   "source": [
    "# hugging face upload\n",
    "load_dotenv(dotenv_path=\".env\")\n",
    "token = os.getenv(\"HF_TOKEN\")\n",
    "\n",
    "model.push_to_hub(\"DataWizardd/finbert-sentiment-krw-comment-v3\", token=token)\n",
    "tokenizer.push_to_hub(\"DataWizardd/finbert-sentiment-krw-comment-v3\", token=token)"
   ]
  },
  {
   "cell_type": "markdown",
   "id": "d727cbb1-7fae-47d9-a3fb-614a76ded713",
   "metadata": {},
   "source": [
    "# Classification Report"
   ]
  },
  {
   "cell_type": "code",
   "execution_count": 33,
   "id": "708b30f2-4c7b-4048-8bd7-0c1465e591fb",
   "metadata": {},
   "outputs": [],
   "source": [
    "data_path = r\"C:\\Users\\james\\J_Data_Lab\\Project-FXCast\\crawler\\data\\investing_comments_final_labeling_v3.csv\"\n",
    "df = pd.read_csv(data_path)\n",
    "\n",
    "# 라벨 매핑\n",
    "df[\"label\"] = df[\"label\"].astype(str).str.strip()\n",
    "label_map = {\"0\": 0, \"1\": 1}\n",
    "df[\"label\"] = df[\"label\"].map(label_map)\n",
    "\n",
    "df_clean = df[df[\"label\"].isin([0, 1])].copy()\n",
    "df_clean[\"label\"] = df_clean[\"label\"].astype(int)"
   ]
  },
  {
   "cell_type": "code",
   "execution_count": 34,
   "id": "fc8c8b55-098a-4569-b207-0078c3affe14",
   "metadata": {},
   "outputs": [],
   "source": [
    "train_df, test_df = train_test_split(\n",
    "    df_clean,\n",
    "    test_size=0.2,\n",
    "    stratify=df_clean[\"label\"],\n",
    "    random_state=42\n",
    ")"
   ]
  },
  {
   "cell_type": "code",
   "execution_count": 35,
   "id": "31977ccd-6151-402f-ab2b-dc655bc0b301",
   "metadata": {},
   "outputs": [
    {
     "data": {
      "application/vnd.jupyter.widget-view+json": {
       "model_id": "b3c57ce1f0bf42289ae2d788ff42296b",
       "version_major": 2,
       "version_minor": 0
      },
      "text/plain": [
       "Map:   0%|          | 0/189 [00:00<?, ? examples/s]"
      ]
     },
     "metadata": {},
     "output_type": "display_data"
    },
    {
     "data": {
      "application/vnd.jupyter.widget-view+json": {
       "model_id": "df585af4ddce41b28f04c6d605cf4845",
       "version_major": 2,
       "version_minor": 0
      },
      "text/plain": [
       "Map:   0%|          | 0/48 [00:00<?, ? examples/s]"
      ]
     },
     "metadata": {},
     "output_type": "display_data"
    }
   ],
   "source": [
    "# 데이터셋 변환\n",
    "train_dataset = Dataset.from_pandas(train_df.reset_index(drop=True))\n",
    "test_dataset = Dataset.from_pandas(test_df.reset_index(drop=True))\n",
    "\n",
    "# 토크나이저 로드 (KR-FinBERT-SC)\n",
    "tokenizer = AutoTokenizer.from_pretrained(\"snunlp/KR-FinBERT-SC\")\n",
    "\n",
    "# 토크나이징 함수\n",
    "def tokenize(batch):\n",
    "    return tokenizer(batch[\"content\"], padding=\"max_length\", truncation=True, max_length=128)\n",
    "\n",
    "train_dataset = train_dataset.map(tokenize, batched=True)\n",
    "test_dataset = test_dataset.map(tokenize, batched=True)\n",
    "\n",
    "# 필요한 컬럼만 학습용으로 설정\n",
    "train_dataset.set_format(type=\"torch\", columns=[\"input_ids\", \"attention_mask\", \"label\"])\n",
    "test_dataset.set_format(type=\"torch\", columns=[\"input_ids\", \"attention_mask\", \"label\"])"
   ]
  },
  {
   "cell_type": "code",
   "execution_count": 36,
   "id": "d6a7d099-ee3b-4ec3-91ea-ff43b459e040",
   "metadata": {},
   "outputs": [
    {
     "data": {
      "text/html": [],
      "text/plain": [
       "<IPython.core.display.HTML object>"
      ]
     },
     "metadata": {},
     "output_type": "display_data"
    },
    {
     "name": "stdout",
     "output_type": "stream",
     "text": [
      "              precision    recall  f1-score   support\n",
      "\n",
      "           0       0.95      0.91      0.93        22\n",
      "           1       0.93      0.96      0.94        26\n",
      "\n",
      "    accuracy                           0.94        48\n",
      "   macro avg       0.94      0.94      0.94        48\n",
      "weighted avg       0.94      0.94      0.94        48\n",
      "\n"
     ]
    }
   ],
   "source": [
    "# 예측\n",
    "preds = trainer.predict(test_dataset)\n",
    "\n",
    "# 결과 분석\n",
    "y_true = preds.label_ids\n",
    "y_pred = np.argmax(preds.predictions, axis=1)\n",
    "\n",
    "print(classification_report(y_true, y_pred, target_names=[\"0\", \"1\"]))"
   ]
  },
  {
   "cell_type": "code",
   "execution_count": null,
   "id": "092d79ab-919e-4925-a5eb-a469696f792e",
   "metadata": {},
   "outputs": [],
   "source": []
  }
 ],
 "metadata": {
  "kernelspec": {
   "display_name": "Python (my_new_env)",
   "language": "python",
   "name": "my_new_env"
  },
  "language_info": {
   "codemirror_mode": {
    "name": "ipython",
    "version": 3
   },
   "file_extension": ".py",
   "mimetype": "text/x-python",
   "name": "python",
   "nbconvert_exporter": "python",
   "pygments_lexer": "ipython3",
   "version": "3.9.20"
  }
 },
 "nbformat": 4,
 "nbformat_minor": 5
}
