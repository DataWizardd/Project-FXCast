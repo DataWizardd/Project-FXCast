{
 "cells": [
  {
   "cell_type": "markdown",
   "id": "6f061470-95d0-4520-87ca-f1c24f528298",
   "metadata": {},
   "source": [
    "# Library"
   ]
  },
  {
   "cell_type": "code",
   "execution_count": 1,
   "id": "46638eca-b9d5-4a80-97c0-d218bd44d5ff",
   "metadata": {},
   "outputs": [],
   "source": [
    "import os\n",
    "import random\n",
    "import math\n",
    "import pandas as pd\n",
    "import numpy as np\n",
    "import tensorflow as tf\n",
    "import matplotlib.pyplot as plt\n",
    "import seaborn as sns\n",
    "\n",
    "from sklearn.decomposition import PCA\n",
    "from statsmodels.stats.outliers_influence import variance_inflation_factor\n",
    "from sklearn.ensemble import RandomForestRegressor\n",
    "from sklearn.model_selection import train_test_split\n",
    "from sklearn.metrics import mean_squared_error, mean_absolute_percentage_error\n",
    "from sklearn.preprocessing import MinMaxScaler, StandardScaler\n",
    "from tensorflow.keras.models import Sequential\n",
    "from tensorflow.keras.layers import LSTM, GRU, Dense, Conv1D, MaxPooling1D, Flatten, TimeDistributed, Dropout\n",
    "from tensorflow.keras.callbacks import EarlyStopping\n",
    "\n",
    "#os.environ['TF_DETERMINISTIC_OPS'] = '1'\n",
    "plt.rcParams[\"font.family\"] = \"Malgun Gothic\"  "
   ]
  },
  {
   "cell_type": "code",
   "execution_count": 2,
   "id": "d9330d96-4ee2-445b-959b-0fba835d3803",
   "metadata": {},
   "outputs": [],
   "source": [
    "# 시드 고정\n",
    "seed_value = 42\n",
    "os.environ['PYTHONHASHSEED'] = str(seed_value)\n",
    "random.seed(seed_value)\n",
    "np.random.seed(seed_value)\n",
    "tf.random.set_seed(seed_value)"
   ]
  },
  {
   "cell_type": "markdown",
   "id": "85be482a-33a5-447e-8357-1415a2f17609",
   "metadata": {},
   "source": [
    "# Prep"
   ]
  },
  {
   "cell_type": "markdown",
   "id": "2256ff11-95c6-42dc-9075-8505083c6e15",
   "metadata": {},
   "source": [
    "### 긍정 부정 중립"
   ]
  },
  {
   "cell_type": "code",
   "execution_count": 3,
   "id": "01ad387c-eadc-4c33-805f-0fc4dac28859",
   "metadata": {},
   "outputs": [],
   "source": [
    "## 감성분석 x\n",
    "df0 = pd.read_csv(r\"C:\\Users\\james\\J_Data_Lab\\Project-FXCast\\data\\df_investing2.csv\")\n",
    "\n",
    "## 감성분석 o \n",
    "\n",
    "# 뉴스 감정 분석(긍정 부정 중립, 전체, 95, 90)\n",
    "df1= pd.read_csv(r\"C:\\Users\\james\\J_Data_Lab\\Project-FXCast\\modeling_data\\news_3class_all.csv\")\n",
    "df2= pd.read_csv(r\"C:\\Users\\james\\J_Data_Lab\\Project-FXCast\\modeling_data\\news_3class_95_score.csv\")\n",
    "df3= pd.read_csv(r\"C:\\Users\\james\\J_Data_Lab\\Project-FXCast\\modeling_data\\news_3class_90_score.csv\")\n",
    "\n",
    "# 뉴스 감정 분석(긍정 부정 , 전체, 95, 90)\n",
    "df4= pd.read_csv(r\"C:\\Users\\james\\J_Data_Lab\\Project-FXCast\\modeling_data\\news_2class_all.csv\")\n",
    "df5= pd.read_csv(r\"C:\\Users\\james\\J_Data_Lab\\Project-FXCast\\modeling_data\\news_2class_95_score.csv\")\n",
    "df6= pd.read_csv(r\"C:\\Users\\james\\J_Data_Lab\\Project-FXCast\\modeling_data\\news_2class_90_score.csv\")\n",
    "\n",
    "# 댓글 감정 분석(긍정 부정 , 전체, 90)\n",
    "df7= pd.read_csv(r\"C:\\Users\\james\\J_Data_Lab\\Project-FXCast\\modeling_data\\comment_score.csv\")\n",
    "df8= pd.read_csv(r\"C:\\Users\\james\\J_Data_Lab\\Project-FXCast\\modeling_data\\comment_score_0.9.csv\")\n",
    "\n",
    "# 댓글 감정 분석(긍정 부정 , 전체, 90) + 댓글 갯수\n",
    "df9= pd.read_csv(r\"C:\\Users\\james\\J_Data_Lab\\Project-FXCast\\modeling_data\\comment_score_with_count.csv\")\n",
    "df10= pd.read_csv(r\"C:\\Users\\james\\J_Data_Lab\\Project-FXCast\\modeling_data\\comment_score_0.9_with_count.csv\")"
   ]
  },
  {
   "cell_type": "code",
   "execution_count": 4,
   "id": "ff2f69b6-fa08-42bb-b75e-ae8cf589a2d8",
   "metadata": {},
   "outputs": [],
   "source": [
    "def eda_basic_info(df, df_name=\"DataFrame\"):\n",
    "    print(f\"\\n===== {df_name} =====\")\n",
    "    print(\"Head (5 rows):\")\n",
    "    display(df.head())\n",
    "    \n",
    "    print(\"\\nInfo:\")\n",
    "    print(df.info())\n",
    "    \n",
    "    print(\"\\nDescribe (numeric):\")\n",
    "    display(df.describe())\n",
    "    \n",
    "    print(\"\\nNull counts:\")\n",
    "    print(df.isnull().sum())\n",
    "    \n",
    "    print(\"=\"*40)"
   ]
  },
  {
   "cell_type": "code",
   "execution_count": 17,
   "id": "3ae2775b-544b-4b82-bb08-57c8ed67cf48",
   "metadata": {},
   "outputs": [
    {
     "name": "stdout",
     "output_type": "stream",
     "text": [
      "\n",
      "===== check =====\n",
      "Head (5 rows):\n"
     ]
    },
    {
     "data": {
      "text/html": [
       "<div>\n",
       "<style scoped>\n",
       "    .dataframe tbody tr th:only-of-type {\n",
       "        vertical-align: middle;\n",
       "    }\n",
       "\n",
       "    .dataframe tbody tr th {\n",
       "        vertical-align: top;\n",
       "    }\n",
       "\n",
       "    .dataframe thead th {\n",
       "        text-align: right;\n",
       "    }\n",
       "</style>\n",
       "<table border=\"1\" class=\"dataframe\">\n",
       "  <thead>\n",
       "    <tr style=\"text-align: right;\">\n",
       "      <th></th>\n",
       "      <th>date</th>\n",
       "      <th>USD_KRW 종가</th>\n",
       "      <th>USD_KRW 시가</th>\n",
       "      <th>KOSPI 종가</th>\n",
       "      <th>KOSPI 거래량</th>\n",
       "      <th>KOSDAQ 종가</th>\n",
       "      <th>KOSDAQ 거래량</th>\n",
       "      <th>WTI Price</th>\n",
       "      <th>XAU Price</th>\n",
       "      <th>DJI 종가</th>\n",
       "      <th>...</th>\n",
       "      <th>SP500 종가</th>\n",
       "      <th>M1</th>\n",
       "      <th>M2</th>\n",
       "      <th>한국 정책금리</th>\n",
       "      <th>미국 정책금리</th>\n",
       "      <th>CPI</th>\n",
       "      <th>PPI</th>\n",
       "      <th>경상수지</th>\n",
       "      <th>comment_score_0.9</th>\n",
       "      <th>total_comments</th>\n",
       "    </tr>\n",
       "  </thead>\n",
       "  <tbody>\n",
       "    <tr>\n",
       "      <th>0</th>\n",
       "      <td>2024-12-30</td>\n",
       "      <td>1469.25</td>\n",
       "      <td>1471.10</td>\n",
       "      <td>2399.49</td>\n",
       "      <td>303960000.0</td>\n",
       "      <td>678.19</td>\n",
       "      <td>644550000.0</td>\n",
       "      <td>70.99</td>\n",
       "      <td>2605.39</td>\n",
       "      <td>42573.73</td>\n",
       "      <td>...</td>\n",
       "      <td>5906.94</td>\n",
       "      <td>1274.2903</td>\n",
       "      <td>4183.5354</td>\n",
       "      <td>3.0</td>\n",
       "      <td>4.645161</td>\n",
       "      <td>1.9</td>\n",
       "      <td>119.52</td>\n",
       "      <td>12368.0</td>\n",
       "      <td>-0.666344</td>\n",
       "      <td>17.0</td>\n",
       "    </tr>\n",
       "    <tr>\n",
       "      <th>1</th>\n",
       "      <td>2024-12-27</td>\n",
       "      <td>1472.50</td>\n",
       "      <td>1468.40</td>\n",
       "      <td>2404.77</td>\n",
       "      <td>311290000.0</td>\n",
       "      <td>665.97</td>\n",
       "      <td>814130000.0</td>\n",
       "      <td>70.08</td>\n",
       "      <td>2620.00</td>\n",
       "      <td>42992.21</td>\n",
       "      <td>...</td>\n",
       "      <td>5970.84</td>\n",
       "      <td>1274.2903</td>\n",
       "      <td>4183.5354</td>\n",
       "      <td>3.0</td>\n",
       "      <td>4.645161</td>\n",
       "      <td>1.9</td>\n",
       "      <td>119.52</td>\n",
       "      <td>12368.0</td>\n",
       "      <td>-1.456628</td>\n",
       "      <td>53.0</td>\n",
       "    </tr>\n",
       "    <tr>\n",
       "      <th>2</th>\n",
       "      <td>2024-12-26</td>\n",
       "      <td>1467.08</td>\n",
       "      <td>1457.21</td>\n",
       "      <td>2429.67</td>\n",
       "      <td>322800000.0</td>\n",
       "      <td>675.64</td>\n",
       "      <td>829290000.0</td>\n",
       "      <td>69.53</td>\n",
       "      <td>2634.43</td>\n",
       "      <td>43325.80</td>\n",
       "      <td>...</td>\n",
       "      <td>6037.59</td>\n",
       "      <td>1274.2903</td>\n",
       "      <td>4183.5354</td>\n",
       "      <td>3.0</td>\n",
       "      <td>4.645161</td>\n",
       "      <td>1.9</td>\n",
       "      <td>119.52</td>\n",
       "      <td>12368.0</td>\n",
       "      <td>0.094914</td>\n",
       "      <td>38.0</td>\n",
       "    </tr>\n",
       "    <tr>\n",
       "      <th>3</th>\n",
       "      <td>2024-12-24</td>\n",
       "      <td>1458.93</td>\n",
       "      <td>1453.28</td>\n",
       "      <td>2440.52</td>\n",
       "      <td>386780000.0</td>\n",
       "      <td>680.11</td>\n",
       "      <td>645100000.0</td>\n",
       "      <td>69.92</td>\n",
       "      <td>2613.20</td>\n",
       "      <td>43297.03</td>\n",
       "      <td>...</td>\n",
       "      <td>6040.04</td>\n",
       "      <td>1274.2903</td>\n",
       "      <td>4183.5354</td>\n",
       "      <td>3.0</td>\n",
       "      <td>4.645161</td>\n",
       "      <td>1.9</td>\n",
       "      <td>119.52</td>\n",
       "      <td>12368.0</td>\n",
       "      <td>-0.338810</td>\n",
       "      <td>23.0</td>\n",
       "    </tr>\n",
       "    <tr>\n",
       "      <th>4</th>\n",
       "      <td>2024-12-23</td>\n",
       "      <td>1451.28</td>\n",
       "      <td>1446.05</td>\n",
       "      <td>2442.01</td>\n",
       "      <td>428170000.0</td>\n",
       "      <td>679.24</td>\n",
       "      <td>657710000.0</td>\n",
       "      <td>69.34</td>\n",
       "      <td>2612.93</td>\n",
       "      <td>42906.95</td>\n",
       "      <td>...</td>\n",
       "      <td>5974.07</td>\n",
       "      <td>1274.2903</td>\n",
       "      <td>4183.5354</td>\n",
       "      <td>3.0</td>\n",
       "      <td>4.645161</td>\n",
       "      <td>1.9</td>\n",
       "      <td>119.52</td>\n",
       "      <td>12368.0</td>\n",
       "      <td>-0.752439</td>\n",
       "      <td>14.0</td>\n",
       "    </tr>\n",
       "  </tbody>\n",
       "</table>\n",
       "<p>5 rows × 21 columns</p>\n",
       "</div>"
      ],
      "text/plain": [
       "         date  USD_KRW 종가  USD_KRW 시가  KOSPI 종가    KOSPI 거래량  KOSDAQ 종가  \\\n",
       "0  2024-12-30     1469.25     1471.10   2399.49  303960000.0     678.19   \n",
       "1  2024-12-27     1472.50     1468.40   2404.77  311290000.0     665.97   \n",
       "2  2024-12-26     1467.08     1457.21   2429.67  322800000.0     675.64   \n",
       "3  2024-12-24     1458.93     1453.28   2440.52  386780000.0     680.11   \n",
       "4  2024-12-23     1451.28     1446.05   2442.01  428170000.0     679.24   \n",
       "\n",
       "    KOSDAQ 거래량  WTI Price  XAU Price    DJI 종가  ...  SP500 종가         M1  \\\n",
       "0  644550000.0      70.99    2605.39  42573.73  ...   5906.94  1274.2903   \n",
       "1  814130000.0      70.08    2620.00  42992.21  ...   5970.84  1274.2903   \n",
       "2  829290000.0      69.53    2634.43  43325.80  ...   6037.59  1274.2903   \n",
       "3  645100000.0      69.92    2613.20  43297.03  ...   6040.04  1274.2903   \n",
       "4  657710000.0      69.34    2612.93  42906.95  ...   5974.07  1274.2903   \n",
       "\n",
       "          M2  한국 정책금리   미국 정책금리  CPI     PPI     경상수지  comment_score_0.9  \\\n",
       "0  4183.5354      3.0  4.645161  1.9  119.52  12368.0          -0.666344   \n",
       "1  4183.5354      3.0  4.645161  1.9  119.52  12368.0          -1.456628   \n",
       "2  4183.5354      3.0  4.645161  1.9  119.52  12368.0           0.094914   \n",
       "3  4183.5354      3.0  4.645161  1.9  119.52  12368.0          -0.338810   \n",
       "4  4183.5354      3.0  4.645161  1.9  119.52  12368.0          -0.752439   \n",
       "\n",
       "   total_comments  \n",
       "0            17.0  \n",
       "1            53.0  \n",
       "2            38.0  \n",
       "3            23.0  \n",
       "4            14.0  \n",
       "\n",
       "[5 rows x 21 columns]"
      ]
     },
     "metadata": {},
     "output_type": "display_data"
    },
    {
     "name": "stdout",
     "output_type": "stream",
     "text": [
      "\n",
      "Info:\n",
      "<class 'pandas.core.frame.DataFrame'>\n",
      "RangeIndex: 1186 entries, 0 to 1185\n",
      "Data columns (total 21 columns):\n",
      " #   Column             Non-Null Count  Dtype  \n",
      "---  ------             --------------  -----  \n",
      " 0   date               1186 non-null   object \n",
      " 1   USD_KRW 종가         1186 non-null   float64\n",
      " 2   USD_KRW 시가         1186 non-null   float64\n",
      " 3   KOSPI 종가           1186 non-null   float64\n",
      " 4   KOSPI 거래량          1186 non-null   float64\n",
      " 5   KOSDAQ 종가          1186 non-null   float64\n",
      " 6   KOSDAQ 거래량         1186 non-null   float64\n",
      " 7   WTI Price          1186 non-null   float64\n",
      " 8   XAU Price          1186 non-null   float64\n",
      " 9   DJI 종가             1186 non-null   float64\n",
      " 10  DJI 거래량            1186 non-null   float64\n",
      " 11  SP500 종가           1186 non-null   float64\n",
      " 12  M1                 1186 non-null   float64\n",
      " 13  M2                 1186 non-null   float64\n",
      " 14  한국 정책금리            1186 non-null   float64\n",
      " 15  미국 정책금리            1186 non-null   float64\n",
      " 16  CPI                1186 non-null   float64\n",
      " 17  PPI                1186 non-null   float64\n",
      " 18  경상수지               1186 non-null   float64\n",
      " 19  comment_score_0.9  1186 non-null   float64\n",
      " 20  total_comments     1186 non-null   float64\n",
      "dtypes: float64(20), object(1)\n",
      "memory usage: 194.7+ KB\n",
      "None\n",
      "\n",
      "Describe (numeric):\n"
     ]
    },
    {
     "data": {
      "text/html": [
       "<div>\n",
       "<style scoped>\n",
       "    .dataframe tbody tr th:only-of-type {\n",
       "        vertical-align: middle;\n",
       "    }\n",
       "\n",
       "    .dataframe tbody tr th {\n",
       "        vertical-align: top;\n",
       "    }\n",
       "\n",
       "    .dataframe thead th {\n",
       "        text-align: right;\n",
       "    }\n",
       "</style>\n",
       "<table border=\"1\" class=\"dataframe\">\n",
       "  <thead>\n",
       "    <tr style=\"text-align: right;\">\n",
       "      <th></th>\n",
       "      <th>USD_KRW 종가</th>\n",
       "      <th>USD_KRW 시가</th>\n",
       "      <th>KOSPI 종가</th>\n",
       "      <th>KOSPI 거래량</th>\n",
       "      <th>KOSDAQ 종가</th>\n",
       "      <th>KOSDAQ 거래량</th>\n",
       "      <th>WTI Price</th>\n",
       "      <th>XAU Price</th>\n",
       "      <th>DJI 종가</th>\n",
       "      <th>DJI 거래량</th>\n",
       "      <th>SP500 종가</th>\n",
       "      <th>M1</th>\n",
       "      <th>M2</th>\n",
       "      <th>한국 정책금리</th>\n",
       "      <th>미국 정책금리</th>\n",
       "      <th>CPI</th>\n",
       "      <th>PPI</th>\n",
       "      <th>경상수지</th>\n",
       "      <th>comment_score_0.9</th>\n",
       "      <th>total_comments</th>\n",
       "    </tr>\n",
       "  </thead>\n",
       "  <tbody>\n",
       "    <tr>\n",
       "      <th>count</th>\n",
       "      <td>1186.000000</td>\n",
       "      <td>1186.000000</td>\n",
       "      <td>1186.000000</td>\n",
       "      <td>1.186000e+03</td>\n",
       "      <td>1186.000000</td>\n",
       "      <td>1.186000e+03</td>\n",
       "      <td>1186.000000</td>\n",
       "      <td>1186.000000</td>\n",
       "      <td>1186.000000</td>\n",
       "      <td>1.186000e+03</td>\n",
       "      <td>1186.000000</td>\n",
       "      <td>1186.000000</td>\n",
       "      <td>1186.000000</td>\n",
       "      <td>1186.000000</td>\n",
       "      <td>1186.00000</td>\n",
       "      <td>1186.000000</td>\n",
       "      <td>1186.000000</td>\n",
       "      <td>1186.000000</td>\n",
       "      <td>1186.000000</td>\n",
       "      <td>1186.000000</td>\n",
       "    </tr>\n",
       "    <tr>\n",
       "      <th>mean</th>\n",
       "      <td>1256.282968</td>\n",
       "      <td>1256.633221</td>\n",
       "      <td>2596.073440</td>\n",
       "      <td>7.131867e+08</td>\n",
       "      <td>841.160118</td>\n",
       "      <td>1.306049e+09</td>\n",
       "      <td>69.533440</td>\n",
       "      <td>1937.514081</td>\n",
       "      <td>33603.138786</td>\n",
       "      <td>3.687432e+08</td>\n",
       "      <td>4250.179671</td>\n",
       "      <td>1219.394587</td>\n",
       "      <td>3616.388458</td>\n",
       "      <td>2.037789</td>\n",
       "      <td>2.60763</td>\n",
       "      <td>2.811298</td>\n",
       "      <td>111.501433</td>\n",
       "      <td>5333.790894</td>\n",
       "      <td>0.000000</td>\n",
       "      <td>15.913153</td>\n",
       "    </tr>\n",
       "    <tr>\n",
       "      <th>std</th>\n",
       "      <td>93.743223</td>\n",
       "      <td>93.787299</td>\n",
       "      <td>339.282251</td>\n",
       "      <td>3.554851e+08</td>\n",
       "      <td>114.428855</td>\n",
       "      <td>5.210409e+08</td>\n",
       "      <td>23.291945</td>\n",
       "      <td>263.590609</td>\n",
       "      <td>4657.788950</td>\n",
       "      <td>1.128756e+08</td>\n",
       "      <td>764.021938</td>\n",
       "      <td>103.680673</td>\n",
       "      <td>347.336672</td>\n",
       "      <td>1.303587</td>\n",
       "      <td>2.31595</td>\n",
       "      <td>1.658261</td>\n",
       "      <td>7.401748</td>\n",
       "      <td>4255.906435</td>\n",
       "      <td>1.000422</td>\n",
       "      <td>14.792348</td>\n",
       "    </tr>\n",
       "    <tr>\n",
       "      <th>min</th>\n",
       "      <td>1083.530000</td>\n",
       "      <td>1083.870000</td>\n",
       "      <td>1457.640000</td>\n",
       "      <td>8.245100e+05</td>\n",
       "      <td>428.350000</td>\n",
       "      <td>6.196200e+08</td>\n",
       "      <td>7.790000</td>\n",
       "      <td>1471.000000</td>\n",
       "      <td>18591.930000</td>\n",
       "      <td>1.170400e+08</td>\n",
       "      <td>2237.400000</td>\n",
       "      <td>944.306400</td>\n",
       "      <td>2935.640300</td>\n",
       "      <td>0.500000</td>\n",
       "      <td>0.25000</td>\n",
       "      <td>-0.200000</td>\n",
       "      <td>98.930000</td>\n",
       "      <td>-4205.000000</td>\n",
       "      <td>-3.679656</td>\n",
       "      <td>0.000000</td>\n",
       "    </tr>\n",
       "    <tr>\n",
       "      <th>25%</th>\n",
       "      <td>1181.822500</td>\n",
       "      <td>1182.460000</td>\n",
       "      <td>2399.310000</td>\n",
       "      <td>4.629025e+08</td>\n",
       "      <td>762.185000</td>\n",
       "      <td>9.524700e+08</td>\n",
       "      <td>62.090000</td>\n",
       "      <td>1778.307500</td>\n",
       "      <td>31022.087500</td>\n",
       "      <td>3.016050e+08</td>\n",
       "      <td>3810.150000</td>\n",
       "      <td>1184.088000</td>\n",
       "      <td>3309.121000</td>\n",
       "      <td>0.548387</td>\n",
       "      <td>0.25000</td>\n",
       "      <td>1.425000</td>\n",
       "      <td>103.890000</td>\n",
       "      <td>1862.000000</td>\n",
       "      <td>-0.606078</td>\n",
       "      <td>7.000000</td>\n",
       "    </tr>\n",
       "    <tr>\n",
       "      <th>50%</th>\n",
       "      <td>1265.610000</td>\n",
       "      <td>1266.325000</td>\n",
       "      <td>2568.480000</td>\n",
       "      <td>6.137650e+08</td>\n",
       "      <td>847.505000</td>\n",
       "      <td>1.170000e+09</td>\n",
       "      <td>73.735000</td>\n",
       "      <td>1870.390000</td>\n",
       "      <td>33913.620000</td>\n",
       "      <td>3.433250e+08</td>\n",
       "      <td>4200.010000</td>\n",
       "      <td>1221.110000</td>\n",
       "      <td>3718.332800</td>\n",
       "      <td>1.750000</td>\n",
       "      <td>1.75000</td>\n",
       "      <td>2.700000</td>\n",
       "      <td>116.270000</td>\n",
       "      <td>6365.000000</td>\n",
       "      <td>0.074954</td>\n",
       "      <td>11.000000</td>\n",
       "    </tr>\n",
       "    <tr>\n",
       "      <th>75%</th>\n",
       "      <td>1333.020000</td>\n",
       "      <td>1333.395000</td>\n",
       "      <td>2758.637500</td>\n",
       "      <td>8.662025e+08</td>\n",
       "      <td>919.412500</td>\n",
       "      <td>1.500000e+09</td>\n",
       "      <td>82.030000</td>\n",
       "      <td>1985.455000</td>\n",
       "      <td>35627.822500</td>\n",
       "      <td>4.021650e+08</td>\n",
       "      <td>4591.015000</td>\n",
       "      <td>1287.187300</td>\n",
       "      <td>3843.786700</td>\n",
       "      <td>3.500000</td>\n",
       "      <td>5.25000</td>\n",
       "      <td>3.800000</td>\n",
       "      <td>117.500000</td>\n",
       "      <td>7438.000000</td>\n",
       "      <td>0.711170</td>\n",
       "      <td>21.000000</td>\n",
       "    </tr>\n",
       "    <tr>\n",
       "      <th>max</th>\n",
       "      <td>1472.500000</td>\n",
       "      <td>1471.100000</td>\n",
       "      <td>3305.210000</td>\n",
       "      <td>3.460000e+09</td>\n",
       "      <td>1060.000000</td>\n",
       "      <td>5.070000e+09</td>\n",
       "      <td>126.470000</td>\n",
       "      <td>2786.190000</td>\n",
       "      <td>45014.040000</td>\n",
       "      <td>1.220000e+09</td>\n",
       "      <td>6090.270000</td>\n",
       "      <td>1371.920900</td>\n",
       "      <td>4183.535400</td>\n",
       "      <td>3.500000</td>\n",
       "      <td>5.50000</td>\n",
       "      <td>6.300000</td>\n",
       "      <td>119.560000</td>\n",
       "      <td>13096.000000</td>\n",
       "      <td>1.442974</td>\n",
       "      <td>112.000000</td>\n",
       "    </tr>\n",
       "  </tbody>\n",
       "</table>\n",
       "</div>"
      ],
      "text/plain": [
       "        USD_KRW 종가   USD_KRW 시가     KOSPI 종가     KOSPI 거래량    KOSDAQ 종가  \\\n",
       "count  1186.000000  1186.000000  1186.000000  1.186000e+03  1186.000000   \n",
       "mean   1256.282968  1256.633221  2596.073440  7.131867e+08   841.160118   \n",
       "std      93.743223    93.787299   339.282251  3.554851e+08   114.428855   \n",
       "min    1083.530000  1083.870000  1457.640000  8.245100e+05   428.350000   \n",
       "25%    1181.822500  1182.460000  2399.310000  4.629025e+08   762.185000   \n",
       "50%    1265.610000  1266.325000  2568.480000  6.137650e+08   847.505000   \n",
       "75%    1333.020000  1333.395000  2758.637500  8.662025e+08   919.412500   \n",
       "max    1472.500000  1471.100000  3305.210000  3.460000e+09  1060.000000   \n",
       "\n",
       "         KOSDAQ 거래량    WTI Price    XAU Price        DJI 종가       DJI 거래량  \\\n",
       "count  1.186000e+03  1186.000000  1186.000000   1186.000000  1.186000e+03   \n",
       "mean   1.306049e+09    69.533440  1937.514081  33603.138786  3.687432e+08   \n",
       "std    5.210409e+08    23.291945   263.590609   4657.788950  1.128756e+08   \n",
       "min    6.196200e+08     7.790000  1471.000000  18591.930000  1.170400e+08   \n",
       "25%    9.524700e+08    62.090000  1778.307500  31022.087500  3.016050e+08   \n",
       "50%    1.170000e+09    73.735000  1870.390000  33913.620000  3.433250e+08   \n",
       "75%    1.500000e+09    82.030000  1985.455000  35627.822500  4.021650e+08   \n",
       "max    5.070000e+09   126.470000  2786.190000  45014.040000  1.220000e+09   \n",
       "\n",
       "          SP500 종가           M1           M2      한국 정책금리     미국 정책금리  \\\n",
       "count  1186.000000  1186.000000  1186.000000  1186.000000  1186.00000   \n",
       "mean   4250.179671  1219.394587  3616.388458     2.037789     2.60763   \n",
       "std     764.021938   103.680673   347.336672     1.303587     2.31595   \n",
       "min    2237.400000   944.306400  2935.640300     0.500000     0.25000   \n",
       "25%    3810.150000  1184.088000  3309.121000     0.548387     0.25000   \n",
       "50%    4200.010000  1221.110000  3718.332800     1.750000     1.75000   \n",
       "75%    4591.015000  1287.187300  3843.786700     3.500000     5.25000   \n",
       "max    6090.270000  1371.920900  4183.535400     3.500000     5.50000   \n",
       "\n",
       "               CPI          PPI          경상수지  comment_score_0.9  \\\n",
       "count  1186.000000  1186.000000   1186.000000        1186.000000   \n",
       "mean      2.811298   111.501433   5333.790894           0.000000   \n",
       "std       1.658261     7.401748   4255.906435           1.000422   \n",
       "min      -0.200000    98.930000  -4205.000000          -3.679656   \n",
       "25%       1.425000   103.890000   1862.000000          -0.606078   \n",
       "50%       2.700000   116.270000   6365.000000           0.074954   \n",
       "75%       3.800000   117.500000   7438.000000           0.711170   \n",
       "max       6.300000   119.560000  13096.000000           1.442974   \n",
       "\n",
       "       total_comments  \n",
       "count     1186.000000  \n",
       "mean        15.913153  \n",
       "std         14.792348  \n",
       "min          0.000000  \n",
       "25%          7.000000  \n",
       "50%         11.000000  \n",
       "75%         21.000000  \n",
       "max        112.000000  "
      ]
     },
     "metadata": {},
     "output_type": "display_data"
    },
    {
     "name": "stdout",
     "output_type": "stream",
     "text": [
      "\n",
      "Null counts:\n",
      "date                 0\n",
      "USD_KRW 종가           0\n",
      "USD_KRW 시가           0\n",
      "KOSPI 종가             0\n",
      "KOSPI 거래량            0\n",
      "KOSDAQ 종가            0\n",
      "KOSDAQ 거래량           0\n",
      "WTI Price            0\n",
      "XAU Price            0\n",
      "DJI 종가               0\n",
      "DJI 거래량              0\n",
      "SP500 종가             0\n",
      "M1                   0\n",
      "M2                   0\n",
      "한국 정책금리              0\n",
      "미국 정책금리              0\n",
      "CPI                  0\n",
      "PPI                  0\n",
      "경상수지                 0\n",
      "comment_score_0.9    0\n",
      "total_comments       0\n",
      "dtype: int64\n",
      "========================================\n"
     ]
    }
   ],
   "source": [
    "eda_basic_info(df10, \"check\")"
   ]
  },
  {
   "cell_type": "markdown",
   "id": "09c35288-b512-41cb-b9a2-d5273b4a71fa",
   "metadata": {},
   "source": [
    "# Prep 2(VIF, PCA, NONE)"
   ]
  },
  {
   "cell_type": "code",
   "execution_count": 18,
   "id": "ce897888-57ad-4f19-85f5-0bb9181a1321",
   "metadata": {},
   "outputs": [],
   "source": [
    "# VIF\n",
    "def reduce_vif(df, thresh=10.0):\n",
    "    variables = df.columns.tolist()\n",
    "    dropped = True\n",
    "    while dropped:\n",
    "        dropped = False\n",
    "        vif_data = pd.DataFrame()\n",
    "        vif_data[\"feature\"] = variables\n",
    "        vif_data[\"VIF\"] = [variance_inflation_factor(df[variables].values, i) for i in range(len(variables))]\n",
    "        max_vif = vif_data[\"VIF\"].max()\n",
    "        if max_vif > thresh:\n",
    "            max_feature = vif_data.sort_values(\"VIF\", ascending=False)[\"feature\"].iloc[0]\n",
    "            print(f\"Dropping {max_feature} with VIF = {max_vif:.2f}\")\n",
    "            variables.remove(max_feature)\n",
    "            dropped = True\n",
    "    return df[variables]"
   ]
  },
  {
   "cell_type": "code",
   "execution_count": 19,
   "id": "09dd1885-c8ff-4258-8f79-54f551602ff2",
   "metadata": {},
   "outputs": [],
   "source": [
    "# ===== 시퀀스 데이터 생성 함수 =====\n",
    "def create_sequences(features, target, window_size):\n",
    "    X, y = [], []\n",
    "    for i in range(len(features) - window_size):\n",
    "        X.append(features[i : i + window_size])\n",
    "        y.append(target[i + window_size])\n",
    "    return np.array(X), np.array(y)"
   ]
  },
  {
   "cell_type": "code",
   "execution_count": 20,
   "id": "3da066cd-6bcb-4a4e-ac98-ff7fa2e713bf",
   "metadata": {},
   "outputs": [],
   "source": [
    "# 데이터 전처리 - PCA, pca_n_components 몇으로 설정? / VIF, vif_threshold 몇으로 설정? / NONE 버전\n",
    "def prepare_data(df, method=\"none\", window_size=5, vif_threshold=10, pca_n_components=0.99):\n",
    "    target_column = 'USD_KRW 종가'\n",
    "    columns_to_drop = ['date', target_column]\n",
    "    \n",
    "    # 독립변수와 종속변수 분리\n",
    "    features = df.drop(columns=columns_to_drop)\n",
    "    # 원래 변수 이름 저장 \n",
    "    feature_names = list(features.columns)\n",
    "    target = df[target_column].values\n",
    "    \n",
    "    # VIF 버전: 다중공선성이 높은 변수 제거 후 변수 이름 업데이트\n",
    "    if method == \"vif\":\n",
    "        features = reduce_vif(features, thresh=vif_threshold)\n",
    "        feature_names = list(features.columns)\n",
    "    \n",
    "    # numpy array로 변환\n",
    "    features_array = features.values\n",
    "    \n",
    "    # 스케일링\n",
    "    scaler_x = MinMaxScaler()\n",
    "    scaler_y = MinMaxScaler()\n",
    "    features_scaled = scaler_x.fit_transform(features_array)\n",
    "    target_scaled = scaler_y.fit_transform(target.reshape(-1, 1))\n",
    "    \n",
    "    # PCA 버전: 차원 축소\n",
    "    if method == \"pca\":\n",
    "        pca = PCA(n_components=pca_n_components)\n",
    "        features_scaled = pca.fit_transform(features_scaled)\n",
    "        # print(\"PCA 적용:\")\n",
    "        # print(f\"  원래 변수 개수: {len(feature_names)} -> 주성분 개수: {pca.n_components_}\")\n",
    "        # print(\"  각 주성분에 대한 변수 기여도 (loadings):\")\n",
    "        # for i, component in enumerate(pca.components_):\n",
    "        #     loadings = {feature_names[j]: component[j] for j in range(len(feature_names))}\n",
    "        #     sorted_loadings = sorted(loadings.items(), key=lambda x: abs(x[1]), reverse=True)\n",
    "        #     print(f\"  주성분 {i+1} (설명분산: {pca.explained_variance_ratio_[i]*100:.2f}%):\")\n",
    "        #     for feat, loading in sorted_loadings:\n",
    "        #         print(f\"    {feat}: {loading:.4f}\")\n",
    "    \n",
    "    X, y = create_sequences(features_scaled, target_scaled, window_size)\n",
    "    \n",
    "    # 시간 순서대로 학습/테스트 분할 (80:20)\n",
    "    train_size = int(len(X) * 0.8)\n",
    "    X_train, X_test = X[:train_size], X[train_size:]\n",
    "    y_train, y_test = y[:train_size], y[train_size:]\n",
    "    \n",
    "    return X_train, X_test, y_train, y_test, scaler_y"
   ]
  },
  {
   "cell_type": "code",
   "execution_count": 22,
   "id": "fa7dac63-ebf4-4132-8db1-5a2b0227592f",
   "metadata": {},
   "outputs": [],
   "source": [
    "# target_column = 'USD_KRW 종가'\n",
    "# columns_to_drop = ['date', target_column]\n",
    "# features = df.drop(columns=columns_to_drop)\n",
    "\n",
    "# # 스케일링\n",
    "# scaler = MinMaxScaler()\n",
    "# features_scaled = scaler.fit_transform(features.values)\n",
    "\n",
    "# # PCA 수행\n",
    "# pca = PCA().fit(features_scaled)\n",
    "# cumulative_variance = np.cumsum(pca.explained_variance_ratio_)\n",
    "\n",
    "# # 누적 설명 분산 그래프 그리기\n",
    "# plt.figure(figsize=(8, 5))\n",
    "# plt.plot(cumulative_variance, marker='o')\n",
    "# plt.xlabel(\"주성분 수\")\n",
    "# plt.ylabel(\"누적 설명 분산\")\n",
    "# plt.axhline(y=0.95, color='r', linestyle='--', label='95% 기준')\n",
    "# plt.axhline(y=0.99, color='g', linestyle='--', label='99% 기준')\n",
    "# plt.title(\"PCA 누적 설명 분산\")\n",
    "# plt.legend()\n",
    "# plt.show()\n",
    "\n",
    "# # 주성분 수 확인\n",
    "# # n_components_95 = np.argmax(cumulative_variance >= 0.95) + 1\n",
    "# # print(f\"95% 설명 분산을 위해 필요한 주성분 수: {n_components_95}\\n\")\n",
    "\n",
    "# # # 각 주성분에 대한 변수 기여도 출력\n",
    "# # print(\"각 주성분의 변수 기여도 (Loadings):\")\n",
    "# # for i in range(n_components_95):\n",
    "    \n",
    "# #     loadings = pd.Series(pca.components_[i], index=features.columns)\n",
    "# #     loadings_sorted = loadings.reindex(loadings.abs().sort_values(ascending=False).index)\n",
    "# #     print(f\"\\n주성분 {i+1} (설명 분산: {pca.explained_variance_ratio_[i]*100:.2f}%):\")\n",
    "# #     print(loadings_sorted)"
   ]
  },
  {
   "cell_type": "code",
   "execution_count": 23,
   "id": "86d8b7b5-3320-47a6-a183-923250d7a9d0",
   "metadata": {},
   "outputs": [],
   "source": [
    "# target_column = 'USD_KRW 종가'\n",
    "# columns_to_drop = ['date', target_column]\n",
    "# features = df.drop(columns=columns_to_drop)\n",
    "\n",
    "# # VIF 계산 함수 정의\n",
    "# def calculate_vif(df):\n",
    "#     vif_data = pd.DataFrame()\n",
    "#     vif_data[\"변수\"] = df.columns\n",
    "#     vif_data[\"VIF\"] = [variance_inflation_factor(df.values, i) for i in range(len(df.columns))]\n",
    "#     return vif_data\n",
    "\n",
    "# # VIF 계산\n",
    "# vif_df = calculate_vif(features)\n",
    "\n",
    "# # 내림차순 정렬\n",
    "# vif_sorted = vif_df.sort_values(\"VIF\", ascending=False)\n",
    "# print(\"각 변수의 VIF 값:\")\n",
    "# print(vif_sorted)\n",
    "\n",
    "# # 시각화\n",
    "# plt.figure(figsize=(10, 6))\n",
    "# plt.bar(vif_sorted[\"변수\"], vif_sorted[\"VIF\"], color='skyblue')\n",
    "# plt.xlabel(\"변수\")\n",
    "# plt.ylabel(\"VIF\")\n",
    "# plt.title(\"각 변수의 VIF\")\n",
    "# plt.xticks(rotation=45)\n",
    "# plt.tight_layout()\n",
    "# plt.show()"
   ]
  },
  {
   "cell_type": "markdown",
   "id": "753d93b4-251f-48ab-8589-4729187be8cd",
   "metadata": {},
   "source": [
    "# Modeling"
   ]
  },
  {
   "cell_type": "code",
   "execution_count": 24,
   "id": "2240037b-6b0b-4407-a41b-ade327efc061",
   "metadata": {},
   "outputs": [],
   "source": [
    "def build_lstm(input_shape):\n",
    "    model = Sequential([\n",
    "        LSTM(50, activation='tanh', input_shape=input_shape),\n",
    "        Dropout(0.2),\n",
    "        Dense(1)\n",
    "    ])\n",
    "    model.compile(optimizer='adam', loss='mse')\n",
    "    return model\n",
    "\n",
    "def build_gru(input_shape):\n",
    "    model = Sequential([\n",
    "        GRU(50, activation='tanh', input_shape=input_shape),\n",
    "        Dropout(0.2),\n",
    "        Dense(1)\n",
    "    ])\n",
    "    model.compile(optimizer='adam', loss='mse')\n",
    "    return model\n",
    "\n",
    "def build_cnn_lstm(input_shape):\n",
    "    model = Sequential([\n",
    "        Conv1D(filters=256, kernel_size=3, activation='relu', input_shape=input_shape),\n",
    "        MaxPooling1D(pool_size=2),\n",
    "        LSTM(50, activation='tanh'),\n",
    "        Dropout(0.2),\n",
    "        Dense(1)\n",
    "    ])\n",
    "    model.compile(optimizer='adam', loss='mse')\n",
    "    return model\n",
    "\n",
    "def build_cnn_gru(input_shape):\n",
    "    model = Sequential([\n",
    "        Conv1D(filters=256, kernel_size=3, activation='relu', input_shape=input_shape),\n",
    "        MaxPooling1D(pool_size=2),\n",
    "        GRU(50, activation='tanh'),\n",
    "        Dropout(0.2),\n",
    "        Dense(1)\n",
    "    ])\n",
    "    model.compile(optimizer='adam', loss='mse')\n",
    "    return model"
   ]
  },
  {
   "cell_type": "code",
   "execution_count": 25,
   "id": "9124324f-95e1-4718-87fb-8f8ed3be4880",
   "metadata": {},
   "outputs": [],
   "source": [
    "# 모델 학습 및 예측 결과 \n",
    "def train_models_for_method(df, method=\"none\", window_size=5, epochs=50, batch_size=16):\n",
    "    # 데이터 전처리\n",
    "    X_train, X_test, y_train, y_test, scaler_y = prepare_data(df, method=method, window_size=window_size)\n",
    "    input_shape = (X_train.shape[1], X_train.shape[2])\n",
    "    y_test_inv = scaler_y.inverse_transform(y_test)\n",
    "    early_stop = EarlyStopping(monitor='loss', patience=5, restore_best_weights=True)\n",
    "    \n",
    "    results = {}  # 모델별 평가 지표와 예측값 저장\n",
    "    # LSTM 모델\n",
    "    model = build_lstm(input_shape)\n",
    "    model.fit(X_train, y_train, epochs=epochs, batch_size=batch_size, verbose=0, callbacks=[early_stop])\n",
    "    pred = scaler_y.inverse_transform(model.predict(X_test))\n",
    "    mse_val = mean_squared_error(y_test_inv, pred)\n",
    "    mape_val = mean_absolute_percentage_error(y_test_inv, pred) * 100\n",
    "    results['LSTM'] = {'metrics': {'mse': mse_val, 'mape': mape_val}, 'predictions': pred}\n",
    "    \n",
    "    # GRU 모델\n",
    "    model = build_gru(input_shape)\n",
    "    model.fit(X_train, y_train, epochs=epochs, batch_size=batch_size, verbose=0, callbacks=[early_stop])\n",
    "    pred = scaler_y.inverse_transform(model.predict(X_test))\n",
    "    mse_val = mean_squared_error(y_test_inv, pred)\n",
    "    mape_val = mean_absolute_percentage_error(y_test_inv, pred) * 100\n",
    "    results['GRU'] = {'metrics': {'mse': mse_val, 'mape': mape_val}, 'predictions': pred}\n",
    "    \n",
    "    # CNN-LSTM 모델\n",
    "    model = build_cnn_lstm(input_shape)\n",
    "    model.fit(X_train, y_train, epochs=epochs, batch_size=batch_size, verbose=0, callbacks=[early_stop])\n",
    "    pred = scaler_y.inverse_transform(model.predict(X_test))\n",
    "    mse_val = mean_squared_error(y_test_inv, pred)\n",
    "    mape_val = mean_absolute_percentage_error(y_test_inv, pred) * 100\n",
    "    results['CNN-LSTM'] = {'metrics': {'mse': mse_val, 'mape': mape_val}, 'predictions': pred}\n",
    "    \n",
    "    # CNN-GRU 모델\n",
    "    model = build_cnn_gru(input_shape)\n",
    "    model.fit(X_train, y_train, epochs=epochs, batch_size=batch_size, verbose=0, callbacks=[early_stop])\n",
    "    pred = scaler_y.inverse_transform(model.predict(X_test))\n",
    "    mse_val = mean_squared_error(y_test_inv, pred)\n",
    "    mape_val = mean_absolute_percentage_error(y_test_inv, pred) * 100\n",
    "    results['CNN-GRU'] = {'metrics': {'mse': mse_val, 'mape': mape_val}, 'predictions': pred}\n",
    "    \n",
    "    return results, y_test_inv"
   ]
  },
  {
   "cell_type": "code",
   "execution_count": 26,
   "id": "a7bacdf5-7390-4d83-94c6-89ee654a3952",
   "metadata": {},
   "outputs": [],
   "source": [
    "# 전체 실험 실행\n",
    "def run_experiments(df, window_size=5, epochs=50, batch_size=16):\n",
    "    methods = ['none', 'vif', 'pca']\n",
    "    final_results = {}  # 각 전처리 방식별 결과 저장\n",
    "    for method in methods:\n",
    "        print(f\"\\n==== Processing method: {method.upper()} ====\")\n",
    "        model_results, y_test_inv = train_models_for_method(df, method=method, window_size=window_size, epochs=epochs, batch_size=batch_size)\n",
    "        final_results[method] = {'models': model_results, 'y_test_inv': y_test_inv}\n",
    "    return final_results"
   ]
  },
  {
   "cell_type": "code",
   "execution_count": 27,
   "id": "f9a2c81f-f0c2-454c-a32f-acc3a477593a",
   "metadata": {},
   "outputs": [],
   "source": [
    "# 그래프 출력 \n",
    "def plot_time_series_predictions(y_test_inv, predictions, method):\n",
    "    plt.figure(figsize=(12,6))\n",
    "    plt.plot(y_test_inv, label='Actual')\n",
    "    for model_name, data in predictions.items():\n",
    "        plt.plot(data['predictions'], label=model_name)\n",
    "    plt.title(f'USD_KRW 종가 예측 결과 비교 ({method.upper()} 전처리)')\n",
    "    plt.xlabel('Time Step')\n",
    "    plt.ylabel('USD_KRW 종가')\n",
    "    plt.legend()\n",
    "    plt.show()"
   ]
  },
  {
   "cell_type": "markdown",
   "id": "336009da-5c3e-4207-8861-c45b90c944da",
   "metadata": {},
   "source": [
    "# Result"
   ]
  },
  {
   "cell_type": "code",
   "execution_count": 28,
   "id": "6d03884e-07d8-4732-acfc-ea641b3c9df8",
   "metadata": {},
   "outputs": [],
   "source": [
    "df0['date'] = pd.to_datetime(df0['date'])\n",
    "df1['date'] = pd.to_datetime(df1['date'])\n",
    "df2['date'] = pd.to_datetime(df2['date'])\n",
    "df3['date'] = pd.to_datetime(df3['date'])\n",
    "df4['date'] = pd.to_datetime(df4['date'])\n",
    "df5['date'] = pd.to_datetime(df5['date'])\n",
    "df6['date'] = pd.to_datetime(df6['date'])\n",
    "df7['date'] = pd.to_datetime(df7['date'])\n",
    "df8['date'] = pd.to_datetime(df8['date'])\n",
    "df9['date'] = pd.to_datetime(df9['date'])\n",
    "df10['date'] = pd.to_datetime(df10['date'])"
   ]
  },
  {
   "cell_type": "code",
   "execution_count": 29,
   "id": "2d3674f8-511a-476f-8144-cd87f4d447a2",
   "metadata": {},
   "outputs": [
    {
     "name": "stdout",
     "output_type": "stream",
     "text": [
      "\n",
      "==== Processing method: NONE ====\n"
     ]
    },
    {
     "name": "stderr",
     "output_type": "stream",
     "text": [
      "C:\\Users\\james\\anaconda3\\envs\\my_new_env\\lib\\site-packages\\keras\\src\\layers\\rnn\\rnn.py:200: UserWarning: Do not pass an `input_shape`/`input_dim` argument to a layer. When using Sequential models, prefer using an `Input(shape)` object as the first layer in the model instead.\n",
      "  super().__init__(**kwargs)\n"
     ]
    },
    {
     "name": "stdout",
     "output_type": "stream",
     "text": [
      "\u001b[1m8/8\u001b[0m \u001b[32m━━━━━━━━━━━━━━━━━━━━\u001b[0m\u001b[37m\u001b[0m \u001b[1m0s\u001b[0m 14ms/step\n"
     ]
    },
    {
     "name": "stderr",
     "output_type": "stream",
     "text": [
      "C:\\Users\\james\\anaconda3\\envs\\my_new_env\\lib\\site-packages\\keras\\src\\layers\\rnn\\rnn.py:200: UserWarning: Do not pass an `input_shape`/`input_dim` argument to a layer. When using Sequential models, prefer using an `Input(shape)` object as the first layer in the model instead.\n",
      "  super().__init__(**kwargs)\n"
     ]
    },
    {
     "name": "stdout",
     "output_type": "stream",
     "text": [
      "\u001b[1m8/8\u001b[0m \u001b[32m━━━━━━━━━━━━━━━━━━━━\u001b[0m\u001b[37m\u001b[0m \u001b[1m0s\u001b[0m 15ms/step\n"
     ]
    },
    {
     "name": "stderr",
     "output_type": "stream",
     "text": [
      "C:\\Users\\james\\anaconda3\\envs\\my_new_env\\lib\\site-packages\\keras\\src\\layers\\convolutional\\base_conv.py:107: UserWarning: Do not pass an `input_shape`/`input_dim` argument to a layer. When using Sequential models, prefer using an `Input(shape)` object as the first layer in the model instead.\n",
      "  super().__init__(activity_regularizer=activity_regularizer, **kwargs)\n"
     ]
    },
    {
     "name": "stdout",
     "output_type": "stream",
     "text": [
      "WARNING:tensorflow:5 out of the last 17 calls to <function TensorFlowTrainer.make_predict_function.<locals>.one_step_on_data_distributed at 0x00000272F4B2C3A0> triggered tf.function retracing. Tracing is expensive and the excessive number of tracings could be due to (1) creating @tf.function repeatedly in a loop, (2) passing tensors with different shapes, (3) passing Python objects instead of tensors. For (1), please define your @tf.function outside of the loop. For (2), @tf.function has reduce_retracing=True option that can avoid unnecessary retracing. For (3), please refer to https://www.tensorflow.org/guide/function#controlling_retracing and https://www.tensorflow.org/api_docs/python/tf/function for  more details.\n",
      "\u001b[1m8/8\u001b[0m \u001b[32m━━━━━━━━━━━━━━━━━━━━\u001b[0m\u001b[37m\u001b[0m \u001b[1m0s\u001b[0m 15ms/step\n"
     ]
    },
    {
     "name": "stderr",
     "output_type": "stream",
     "text": [
      "C:\\Users\\james\\anaconda3\\envs\\my_new_env\\lib\\site-packages\\keras\\src\\layers\\convolutional\\base_conv.py:107: UserWarning: Do not pass an `input_shape`/`input_dim` argument to a layer. When using Sequential models, prefer using an `Input(shape)` object as the first layer in the model instead.\n",
      "  super().__init__(activity_regularizer=activity_regularizer, **kwargs)\n"
     ]
    },
    {
     "name": "stdout",
     "output_type": "stream",
     "text": [
      "WARNING:tensorflow:5 out of the last 17 calls to <function TensorFlowTrainer.make_predict_function.<locals>.one_step_on_data_distributed at 0x00000272F7EEA0D0> triggered tf.function retracing. Tracing is expensive and the excessive number of tracings could be due to (1) creating @tf.function repeatedly in a loop, (2) passing tensors with different shapes, (3) passing Python objects instead of tensors. For (1), please define your @tf.function outside of the loop. For (2), @tf.function has reduce_retracing=True option that can avoid unnecessary retracing. For (3), please refer to https://www.tensorflow.org/guide/function#controlling_retracing and https://www.tensorflow.org/api_docs/python/tf/function for  more details.\n",
      "\u001b[1m8/8\u001b[0m \u001b[32m━━━━━━━━━━━━━━━━━━━━\u001b[0m\u001b[37m\u001b[0m \u001b[1m0s\u001b[0m 16ms/step\n",
      "\n",
      "==== Processing method: VIF ====\n",
      "Dropping M2 with VIF = 43563.43\n",
      "Dropping PPI with VIF = 8287.29\n",
      "Dropping M1 with VIF = 2995.95\n",
      "Dropping DJI 종가 with VIF = 2395.88\n",
      "Dropping KOSPI 종가 with VIF = 707.48\n",
      "Dropping 한국 정책금리 with VIF = 518.85\n",
      "Dropping XAU Price with VIF = 388.21\n",
      "Dropping SP500 종가 with VIF = 130.56\n",
      "Dropping USD_KRW 시가 with VIF = 97.60\n",
      "Dropping WTI Price with VIF = 58.17\n",
      "Dropping KOSDAQ 종가 with VIF = 42.20\n",
      "Dropping KOSDAQ 거래량 with VIF = 14.68\n"
     ]
    },
    {
     "name": "stderr",
     "output_type": "stream",
     "text": [
      "C:\\Users\\james\\anaconda3\\envs\\my_new_env\\lib\\site-packages\\keras\\src\\layers\\rnn\\rnn.py:200: UserWarning: Do not pass an `input_shape`/`input_dim` argument to a layer. When using Sequential models, prefer using an `Input(shape)` object as the first layer in the model instead.\n",
      "  super().__init__(**kwargs)\n"
     ]
    },
    {
     "name": "stdout",
     "output_type": "stream",
     "text": [
      "\u001b[1m8/8\u001b[0m \u001b[32m━━━━━━━━━━━━━━━━━━━━\u001b[0m\u001b[37m\u001b[0m \u001b[1m0s\u001b[0m 14ms/step\n"
     ]
    },
    {
     "name": "stderr",
     "output_type": "stream",
     "text": [
      "C:\\Users\\james\\anaconda3\\envs\\my_new_env\\lib\\site-packages\\keras\\src\\layers\\rnn\\rnn.py:200: UserWarning: Do not pass an `input_shape`/`input_dim` argument to a layer. When using Sequential models, prefer using an `Input(shape)` object as the first layer in the model instead.\n",
      "  super().__init__(**kwargs)\n"
     ]
    },
    {
     "name": "stdout",
     "output_type": "stream",
     "text": [
      "\u001b[1m8/8\u001b[0m \u001b[32m━━━━━━━━━━━━━━━━━━━━\u001b[0m\u001b[37m\u001b[0m \u001b[1m0s\u001b[0m 15ms/step\n"
     ]
    },
    {
     "name": "stderr",
     "output_type": "stream",
     "text": [
      "C:\\Users\\james\\anaconda3\\envs\\my_new_env\\lib\\site-packages\\keras\\src\\layers\\convolutional\\base_conv.py:107: UserWarning: Do not pass an `input_shape`/`input_dim` argument to a layer. When using Sequential models, prefer using an `Input(shape)` object as the first layer in the model instead.\n",
      "  super().__init__(activity_regularizer=activity_regularizer, **kwargs)\n"
     ]
    },
    {
     "name": "stdout",
     "output_type": "stream",
     "text": [
      "\u001b[1m8/8\u001b[0m \u001b[32m━━━━━━━━━━━━━━━━━━━━\u001b[0m\u001b[37m\u001b[0m \u001b[1m0s\u001b[0m 14ms/step\n"
     ]
    },
    {
     "name": "stderr",
     "output_type": "stream",
     "text": [
      "C:\\Users\\james\\anaconda3\\envs\\my_new_env\\lib\\site-packages\\keras\\src\\layers\\convolutional\\base_conv.py:107: UserWarning: Do not pass an `input_shape`/`input_dim` argument to a layer. When using Sequential models, prefer using an `Input(shape)` object as the first layer in the model instead.\n",
      "  super().__init__(activity_regularizer=activity_regularizer, **kwargs)\n"
     ]
    },
    {
     "name": "stdout",
     "output_type": "stream",
     "text": [
      "\u001b[1m8/8\u001b[0m \u001b[32m━━━━━━━━━━━━━━━━━━━━\u001b[0m\u001b[37m\u001b[0m \u001b[1m0s\u001b[0m 16ms/step\n",
      "\n",
      "==== Processing method: PCA ====\n"
     ]
    },
    {
     "name": "stderr",
     "output_type": "stream",
     "text": [
      "C:\\Users\\james\\anaconda3\\envs\\my_new_env\\lib\\site-packages\\keras\\src\\layers\\rnn\\rnn.py:200: UserWarning: Do not pass an `input_shape`/`input_dim` argument to a layer. When using Sequential models, prefer using an `Input(shape)` object as the first layer in the model instead.\n",
      "  super().__init__(**kwargs)\n"
     ]
    },
    {
     "name": "stdout",
     "output_type": "stream",
     "text": [
      "\u001b[1m8/8\u001b[0m \u001b[32m━━━━━━━━━━━━━━━━━━━━\u001b[0m\u001b[37m\u001b[0m \u001b[1m0s\u001b[0m 14ms/step\n"
     ]
    },
    {
     "name": "stderr",
     "output_type": "stream",
     "text": [
      "C:\\Users\\james\\anaconda3\\envs\\my_new_env\\lib\\site-packages\\keras\\src\\layers\\rnn\\rnn.py:200: UserWarning: Do not pass an `input_shape`/`input_dim` argument to a layer. When using Sequential models, prefer using an `Input(shape)` object as the first layer in the model instead.\n",
      "  super().__init__(**kwargs)\n"
     ]
    },
    {
     "name": "stdout",
     "output_type": "stream",
     "text": [
      "\u001b[1m8/8\u001b[0m \u001b[32m━━━━━━━━━━━━━━━━━━━━\u001b[0m\u001b[37m\u001b[0m \u001b[1m0s\u001b[0m 15ms/step\n"
     ]
    },
    {
     "name": "stderr",
     "output_type": "stream",
     "text": [
      "C:\\Users\\james\\anaconda3\\envs\\my_new_env\\lib\\site-packages\\keras\\src\\layers\\convolutional\\base_conv.py:107: UserWarning: Do not pass an `input_shape`/`input_dim` argument to a layer. When using Sequential models, prefer using an `Input(shape)` object as the first layer in the model instead.\n",
      "  super().__init__(activity_regularizer=activity_regularizer, **kwargs)\n"
     ]
    },
    {
     "name": "stdout",
     "output_type": "stream",
     "text": [
      "\u001b[1m8/8\u001b[0m \u001b[32m━━━━━━━━━━━━━━━━━━━━\u001b[0m\u001b[37m\u001b[0m \u001b[1m0s\u001b[0m 15ms/step\n"
     ]
    },
    {
     "name": "stderr",
     "output_type": "stream",
     "text": [
      "C:\\Users\\james\\anaconda3\\envs\\my_new_env\\lib\\site-packages\\keras\\src\\layers\\convolutional\\base_conv.py:107: UserWarning: Do not pass an `input_shape`/`input_dim` argument to a layer. When using Sequential models, prefer using an `Input(shape)` object as the first layer in the model instead.\n",
      "  super().__init__(activity_regularizer=activity_regularizer, **kwargs)\n"
     ]
    },
    {
     "name": "stdout",
     "output_type": "stream",
     "text": [
      "\u001b[1m8/8\u001b[0m \u001b[32m━━━━━━━━━━━━━━━━━━━━\u001b[0m\u001b[37m\u001b[0m \u001b[1m0s\u001b[0m 40ms/step\n",
      "\n",
      "==== Processing method: NONE ====\n"
     ]
    },
    {
     "name": "stderr",
     "output_type": "stream",
     "text": [
      "C:\\Users\\james\\anaconda3\\envs\\my_new_env\\lib\\site-packages\\keras\\src\\layers\\rnn\\rnn.py:200: UserWarning: Do not pass an `input_shape`/`input_dim` argument to a layer. When using Sequential models, prefer using an `Input(shape)` object as the first layer in the model instead.\n",
      "  super().__init__(**kwargs)\n"
     ]
    },
    {
     "name": "stdout",
     "output_type": "stream",
     "text": [
      "\u001b[1m8/8\u001b[0m \u001b[32m━━━━━━━━━━━━━━━━━━━━\u001b[0m\u001b[37m\u001b[0m \u001b[1m0s\u001b[0m 13ms/step\n"
     ]
    },
    {
     "name": "stderr",
     "output_type": "stream",
     "text": [
      "C:\\Users\\james\\anaconda3\\envs\\my_new_env\\lib\\site-packages\\keras\\src\\layers\\rnn\\rnn.py:200: UserWarning: Do not pass an `input_shape`/`input_dim` argument to a layer. When using Sequential models, prefer using an `Input(shape)` object as the first layer in the model instead.\n",
      "  super().__init__(**kwargs)\n"
     ]
    },
    {
     "name": "stdout",
     "output_type": "stream",
     "text": [
      "\u001b[1m8/8\u001b[0m \u001b[32m━━━━━━━━━━━━━━━━━━━━\u001b[0m\u001b[37m\u001b[0m \u001b[1m0s\u001b[0m 14ms/step\n"
     ]
    },
    {
     "name": "stderr",
     "output_type": "stream",
     "text": [
      "C:\\Users\\james\\anaconda3\\envs\\my_new_env\\lib\\site-packages\\keras\\src\\layers\\convolutional\\base_conv.py:107: UserWarning: Do not pass an `input_shape`/`input_dim` argument to a layer. When using Sequential models, prefer using an `Input(shape)` object as the first layer in the model instead.\n",
      "  super().__init__(activity_regularizer=activity_regularizer, **kwargs)\n"
     ]
    },
    {
     "name": "stdout",
     "output_type": "stream",
     "text": [
      "\u001b[1m8/8\u001b[0m \u001b[32m━━━━━━━━━━━━━━━━━━━━\u001b[0m\u001b[37m\u001b[0m \u001b[1m0s\u001b[0m 15ms/step\n"
     ]
    },
    {
     "name": "stderr",
     "output_type": "stream",
     "text": [
      "C:\\Users\\james\\anaconda3\\envs\\my_new_env\\lib\\site-packages\\keras\\src\\layers\\convolutional\\base_conv.py:107: UserWarning: Do not pass an `input_shape`/`input_dim` argument to a layer. When using Sequential models, prefer using an `Input(shape)` object as the first layer in the model instead.\n",
      "  super().__init__(activity_regularizer=activity_regularizer, **kwargs)\n"
     ]
    },
    {
     "name": "stdout",
     "output_type": "stream",
     "text": [
      "\u001b[1m8/8\u001b[0m \u001b[32m━━━━━━━━━━━━━━━━━━━━\u001b[0m\u001b[37m\u001b[0m \u001b[1m0s\u001b[0m 17ms/step\n",
      "\n",
      "==== Processing method: VIF ====\n",
      "Dropping M2 with VIF = 43563.45\n",
      "Dropping PPI with VIF = 8287.74\n",
      "Dropping M1 with VIF = 2995.95\n",
      "Dropping DJI 종가 with VIF = 2395.89\n",
      "Dropping KOSPI 종가 with VIF = 708.73\n",
      "Dropping 한국 정책금리 with VIF = 518.93\n",
      "Dropping XAU Price with VIF = 389.56\n",
      "Dropping SP500 종가 with VIF = 130.69\n",
      "Dropping USD_KRW 시가 with VIF = 97.60\n",
      "Dropping WTI Price with VIF = 58.55\n",
      "Dropping KOSDAQ 종가 with VIF = 42.23\n",
      "Dropping KOSDAQ 거래량 with VIF = 14.70\n"
     ]
    },
    {
     "name": "stderr",
     "output_type": "stream",
     "text": [
      "C:\\Users\\james\\anaconda3\\envs\\my_new_env\\lib\\site-packages\\keras\\src\\layers\\rnn\\rnn.py:200: UserWarning: Do not pass an `input_shape`/`input_dim` argument to a layer. When using Sequential models, prefer using an `Input(shape)` object as the first layer in the model instead.\n",
      "  super().__init__(**kwargs)\n"
     ]
    },
    {
     "name": "stdout",
     "output_type": "stream",
     "text": [
      "\u001b[1m8/8\u001b[0m \u001b[32m━━━━━━━━━━━━━━━━━━━━\u001b[0m\u001b[37m\u001b[0m \u001b[1m0s\u001b[0m 13ms/step\n"
     ]
    },
    {
     "name": "stderr",
     "output_type": "stream",
     "text": [
      "C:\\Users\\james\\anaconda3\\envs\\my_new_env\\lib\\site-packages\\keras\\src\\layers\\rnn\\rnn.py:200: UserWarning: Do not pass an `input_shape`/`input_dim` argument to a layer. When using Sequential models, prefer using an `Input(shape)` object as the first layer in the model instead.\n",
      "  super().__init__(**kwargs)\n"
     ]
    },
    {
     "name": "stdout",
     "output_type": "stream",
     "text": [
      "\u001b[1m8/8\u001b[0m \u001b[32m━━━━━━━━━━━━━━━━━━━━\u001b[0m\u001b[37m\u001b[0m \u001b[1m0s\u001b[0m 14ms/step\n"
     ]
    },
    {
     "name": "stderr",
     "output_type": "stream",
     "text": [
      "C:\\Users\\james\\anaconda3\\envs\\my_new_env\\lib\\site-packages\\keras\\src\\layers\\convolutional\\base_conv.py:107: UserWarning: Do not pass an `input_shape`/`input_dim` argument to a layer. When using Sequential models, prefer using an `Input(shape)` object as the first layer in the model instead.\n",
      "  super().__init__(activity_regularizer=activity_regularizer, **kwargs)\n"
     ]
    },
    {
     "name": "stdout",
     "output_type": "stream",
     "text": [
      "\u001b[1m8/8\u001b[0m \u001b[32m━━━━━━━━━━━━━━━━━━━━\u001b[0m\u001b[37m\u001b[0m \u001b[1m0s\u001b[0m 14ms/step\n"
     ]
    },
    {
     "name": "stderr",
     "output_type": "stream",
     "text": [
      "C:\\Users\\james\\anaconda3\\envs\\my_new_env\\lib\\site-packages\\keras\\src\\layers\\convolutional\\base_conv.py:107: UserWarning: Do not pass an `input_shape`/`input_dim` argument to a layer. When using Sequential models, prefer using an `Input(shape)` object as the first layer in the model instead.\n",
      "  super().__init__(activity_regularizer=activity_regularizer, **kwargs)\n"
     ]
    },
    {
     "name": "stdout",
     "output_type": "stream",
     "text": [
      "\u001b[1m8/8\u001b[0m \u001b[32m━━━━━━━━━━━━━━━━━━━━\u001b[0m\u001b[37m\u001b[0m \u001b[1m0s\u001b[0m 16ms/step\n",
      "\n",
      "==== Processing method: PCA ====\n"
     ]
    },
    {
     "name": "stderr",
     "output_type": "stream",
     "text": [
      "C:\\Users\\james\\anaconda3\\envs\\my_new_env\\lib\\site-packages\\keras\\src\\layers\\rnn\\rnn.py:200: UserWarning: Do not pass an `input_shape`/`input_dim` argument to a layer. When using Sequential models, prefer using an `Input(shape)` object as the first layer in the model instead.\n",
      "  super().__init__(**kwargs)\n"
     ]
    },
    {
     "name": "stdout",
     "output_type": "stream",
     "text": [
      "\u001b[1m8/8\u001b[0m \u001b[32m━━━━━━━━━━━━━━━━━━━━\u001b[0m\u001b[37m\u001b[0m \u001b[1m0s\u001b[0m 12ms/step\n"
     ]
    },
    {
     "name": "stderr",
     "output_type": "stream",
     "text": [
      "C:\\Users\\james\\anaconda3\\envs\\my_new_env\\lib\\site-packages\\keras\\src\\layers\\rnn\\rnn.py:200: UserWarning: Do not pass an `input_shape`/`input_dim` argument to a layer. When using Sequential models, prefer using an `Input(shape)` object as the first layer in the model instead.\n",
      "  super().__init__(**kwargs)\n"
     ]
    },
    {
     "name": "stdout",
     "output_type": "stream",
     "text": [
      "\u001b[1m8/8\u001b[0m \u001b[32m━━━━━━━━━━━━━━━━━━━━\u001b[0m\u001b[37m\u001b[0m \u001b[1m0s\u001b[0m 15ms/step\n"
     ]
    },
    {
     "name": "stderr",
     "output_type": "stream",
     "text": [
      "C:\\Users\\james\\anaconda3\\envs\\my_new_env\\lib\\site-packages\\keras\\src\\layers\\convolutional\\base_conv.py:107: UserWarning: Do not pass an `input_shape`/`input_dim` argument to a layer. When using Sequential models, prefer using an `Input(shape)` object as the first layer in the model instead.\n",
      "  super().__init__(activity_regularizer=activity_regularizer, **kwargs)\n"
     ]
    },
    {
     "name": "stdout",
     "output_type": "stream",
     "text": [
      "\u001b[1m8/8\u001b[0m \u001b[32m━━━━━━━━━━━━━━━━━━━━\u001b[0m\u001b[37m\u001b[0m \u001b[1m0s\u001b[0m 14ms/step\n"
     ]
    },
    {
     "name": "stderr",
     "output_type": "stream",
     "text": [
      "C:\\Users\\james\\anaconda3\\envs\\my_new_env\\lib\\site-packages\\keras\\src\\layers\\convolutional\\base_conv.py:107: UserWarning: Do not pass an `input_shape`/`input_dim` argument to a layer. When using Sequential models, prefer using an `Input(shape)` object as the first layer in the model instead.\n",
      "  super().__init__(activity_regularizer=activity_regularizer, **kwargs)\n"
     ]
    },
    {
     "name": "stdout",
     "output_type": "stream",
     "text": [
      "\u001b[1m8/8\u001b[0m \u001b[32m━━━━━━━━━━━━━━━━━━━━\u001b[0m\u001b[37m\u001b[0m \u001b[1m0s\u001b[0m 16ms/step\n",
      "\n",
      "==== Processing method: NONE ====\n"
     ]
    },
    {
     "name": "stderr",
     "output_type": "stream",
     "text": [
      "C:\\Users\\james\\anaconda3\\envs\\my_new_env\\lib\\site-packages\\keras\\src\\layers\\rnn\\rnn.py:200: UserWarning: Do not pass an `input_shape`/`input_dim` argument to a layer. When using Sequential models, prefer using an `Input(shape)` object as the first layer in the model instead.\n",
      "  super().__init__(**kwargs)\n"
     ]
    },
    {
     "name": "stdout",
     "output_type": "stream",
     "text": [
      "\u001b[1m8/8\u001b[0m \u001b[32m━━━━━━━━━━━━━━━━━━━━\u001b[0m\u001b[37m\u001b[0m \u001b[1m0s\u001b[0m 12ms/step\n"
     ]
    },
    {
     "name": "stderr",
     "output_type": "stream",
     "text": [
      "C:\\Users\\james\\anaconda3\\envs\\my_new_env\\lib\\site-packages\\keras\\src\\layers\\rnn\\rnn.py:200: UserWarning: Do not pass an `input_shape`/`input_dim` argument to a layer. When using Sequential models, prefer using an `Input(shape)` object as the first layer in the model instead.\n",
      "  super().__init__(**kwargs)\n"
     ]
    },
    {
     "name": "stdout",
     "output_type": "stream",
     "text": [
      "\u001b[1m8/8\u001b[0m \u001b[32m━━━━━━━━━━━━━━━━━━━━\u001b[0m\u001b[37m\u001b[0m \u001b[1m0s\u001b[0m 13ms/step\n"
     ]
    },
    {
     "name": "stderr",
     "output_type": "stream",
     "text": [
      "C:\\Users\\james\\anaconda3\\envs\\my_new_env\\lib\\site-packages\\keras\\src\\layers\\convolutional\\base_conv.py:107: UserWarning: Do not pass an `input_shape`/`input_dim` argument to a layer. When using Sequential models, prefer using an `Input(shape)` object as the first layer in the model instead.\n",
      "  super().__init__(activity_regularizer=activity_regularizer, **kwargs)\n"
     ]
    },
    {
     "name": "stdout",
     "output_type": "stream",
     "text": [
      "\u001b[1m8/8\u001b[0m \u001b[32m━━━━━━━━━━━━━━━━━━━━\u001b[0m\u001b[37m\u001b[0m \u001b[1m0s\u001b[0m 16ms/step\n"
     ]
    },
    {
     "name": "stderr",
     "output_type": "stream",
     "text": [
      "C:\\Users\\james\\anaconda3\\envs\\my_new_env\\lib\\site-packages\\keras\\src\\layers\\convolutional\\base_conv.py:107: UserWarning: Do not pass an `input_shape`/`input_dim` argument to a layer. When using Sequential models, prefer using an `Input(shape)` object as the first layer in the model instead.\n",
      "  super().__init__(activity_regularizer=activity_regularizer, **kwargs)\n"
     ]
    },
    {
     "name": "stdout",
     "output_type": "stream",
     "text": [
      "\u001b[1m8/8\u001b[0m \u001b[32m━━━━━━━━━━━━━━━━━━━━\u001b[0m\u001b[37m\u001b[0m \u001b[1m0s\u001b[0m 17ms/step\n",
      "\n",
      "==== Processing method: VIF ====\n",
      "Dropping M2 with VIF = 43563.61\n",
      "Dropping PPI with VIF = 8287.58\n",
      "Dropping M1 with VIF = 2996.51\n",
      "Dropping DJI 종가 with VIF = 2395.89\n",
      "Dropping KOSPI 종가 with VIF = 708.50\n",
      "Dropping 한국 정책금리 with VIF = 518.99\n",
      "Dropping XAU Price with VIF = 389.48\n",
      "Dropping SP500 종가 with VIF = 130.76\n",
      "Dropping USD_KRW 시가 with VIF = 97.63\n",
      "Dropping WTI Price with VIF = 58.42\n",
      "Dropping KOSDAQ 종가 with VIF = 42.22\n",
      "Dropping KOSDAQ 거래량 with VIF = 14.70\n"
     ]
    },
    {
     "name": "stderr",
     "output_type": "stream",
     "text": [
      "C:\\Users\\james\\anaconda3\\envs\\my_new_env\\lib\\site-packages\\keras\\src\\layers\\rnn\\rnn.py:200: UserWarning: Do not pass an `input_shape`/`input_dim` argument to a layer. When using Sequential models, prefer using an `Input(shape)` object as the first layer in the model instead.\n",
      "  super().__init__(**kwargs)\n"
     ]
    },
    {
     "name": "stdout",
     "output_type": "stream",
     "text": [
      "\u001b[1m8/8\u001b[0m \u001b[32m━━━━━━━━━━━━━━━━━━━━\u001b[0m\u001b[37m\u001b[0m \u001b[1m0s\u001b[0m 12ms/step\n"
     ]
    },
    {
     "name": "stderr",
     "output_type": "stream",
     "text": [
      "C:\\Users\\james\\anaconda3\\envs\\my_new_env\\lib\\site-packages\\keras\\src\\layers\\rnn\\rnn.py:200: UserWarning: Do not pass an `input_shape`/`input_dim` argument to a layer. When using Sequential models, prefer using an `Input(shape)` object as the first layer in the model instead.\n",
      "  super().__init__(**kwargs)\n"
     ]
    },
    {
     "name": "stdout",
     "output_type": "stream",
     "text": [
      "\u001b[1m8/8\u001b[0m \u001b[32m━━━━━━━━━━━━━━━━━━━━\u001b[0m\u001b[37m\u001b[0m \u001b[1m0s\u001b[0m 15ms/step\n"
     ]
    },
    {
     "name": "stderr",
     "output_type": "stream",
     "text": [
      "C:\\Users\\james\\anaconda3\\envs\\my_new_env\\lib\\site-packages\\keras\\src\\layers\\convolutional\\base_conv.py:107: UserWarning: Do not pass an `input_shape`/`input_dim` argument to a layer. When using Sequential models, prefer using an `Input(shape)` object as the first layer in the model instead.\n",
      "  super().__init__(activity_regularizer=activity_regularizer, **kwargs)\n"
     ]
    },
    {
     "name": "stdout",
     "output_type": "stream",
     "text": [
      "\u001b[1m8/8\u001b[0m \u001b[32m━━━━━━━━━━━━━━━━━━━━\u001b[0m\u001b[37m\u001b[0m \u001b[1m0s\u001b[0m 14ms/step\n"
     ]
    },
    {
     "name": "stderr",
     "output_type": "stream",
     "text": [
      "C:\\Users\\james\\anaconda3\\envs\\my_new_env\\lib\\site-packages\\keras\\src\\layers\\convolutional\\base_conv.py:107: UserWarning: Do not pass an `input_shape`/`input_dim` argument to a layer. When using Sequential models, prefer using an `Input(shape)` object as the first layer in the model instead.\n",
      "  super().__init__(activity_regularizer=activity_regularizer, **kwargs)\n"
     ]
    },
    {
     "name": "stdout",
     "output_type": "stream",
     "text": [
      "\u001b[1m8/8\u001b[0m \u001b[32m━━━━━━━━━━━━━━━━━━━━\u001b[0m\u001b[37m\u001b[0m \u001b[1m0s\u001b[0m 16ms/step\n",
      "\n",
      "==== Processing method: PCA ====\n"
     ]
    },
    {
     "name": "stderr",
     "output_type": "stream",
     "text": [
      "C:\\Users\\james\\anaconda3\\envs\\my_new_env\\lib\\site-packages\\keras\\src\\layers\\rnn\\rnn.py:200: UserWarning: Do not pass an `input_shape`/`input_dim` argument to a layer. When using Sequential models, prefer using an `Input(shape)` object as the first layer in the model instead.\n",
      "  super().__init__(**kwargs)\n"
     ]
    },
    {
     "name": "stdout",
     "output_type": "stream",
     "text": [
      "\u001b[1m8/8\u001b[0m \u001b[32m━━━━━━━━━━━━━━━━━━━━\u001b[0m\u001b[37m\u001b[0m \u001b[1m0s\u001b[0m 13ms/step\n"
     ]
    },
    {
     "name": "stderr",
     "output_type": "stream",
     "text": [
      "C:\\Users\\james\\anaconda3\\envs\\my_new_env\\lib\\site-packages\\keras\\src\\layers\\rnn\\rnn.py:200: UserWarning: Do not pass an `input_shape`/`input_dim` argument to a layer. When using Sequential models, prefer using an `Input(shape)` object as the first layer in the model instead.\n",
      "  super().__init__(**kwargs)\n"
     ]
    },
    {
     "name": "stdout",
     "output_type": "stream",
     "text": [
      "\u001b[1m8/8\u001b[0m \u001b[32m━━━━━━━━━━━━━━━━━━━━\u001b[0m\u001b[37m\u001b[0m \u001b[1m0s\u001b[0m 15ms/step\n"
     ]
    },
    {
     "name": "stderr",
     "output_type": "stream",
     "text": [
      "C:\\Users\\james\\anaconda3\\envs\\my_new_env\\lib\\site-packages\\keras\\src\\layers\\convolutional\\base_conv.py:107: UserWarning: Do not pass an `input_shape`/`input_dim` argument to a layer. When using Sequential models, prefer using an `Input(shape)` object as the first layer in the model instead.\n",
      "  super().__init__(activity_regularizer=activity_regularizer, **kwargs)\n"
     ]
    },
    {
     "name": "stdout",
     "output_type": "stream",
     "text": [
      "\u001b[1m8/8\u001b[0m \u001b[32m━━━━━━━━━━━━━━━━━━━━\u001b[0m\u001b[37m\u001b[0m \u001b[1m0s\u001b[0m 21ms/step\n"
     ]
    },
    {
     "name": "stderr",
     "output_type": "stream",
     "text": [
      "C:\\Users\\james\\anaconda3\\envs\\my_new_env\\lib\\site-packages\\keras\\src\\layers\\convolutional\\base_conv.py:107: UserWarning: Do not pass an `input_shape`/`input_dim` argument to a layer. When using Sequential models, prefer using an `Input(shape)` object as the first layer in the model instead.\n",
      "  super().__init__(activity_regularizer=activity_regularizer, **kwargs)\n"
     ]
    },
    {
     "name": "stdout",
     "output_type": "stream",
     "text": [
      "\u001b[1m8/8\u001b[0m \u001b[32m━━━━━━━━━━━━━━━━━━━━\u001b[0m\u001b[37m\u001b[0m \u001b[1m0s\u001b[0m 15ms/step\n",
      "\n",
      "==== Processing method: NONE ====\n"
     ]
    },
    {
     "name": "stderr",
     "output_type": "stream",
     "text": [
      "C:\\Users\\james\\anaconda3\\envs\\my_new_env\\lib\\site-packages\\keras\\src\\layers\\rnn\\rnn.py:200: UserWarning: Do not pass an `input_shape`/`input_dim` argument to a layer. When using Sequential models, prefer using an `Input(shape)` object as the first layer in the model instead.\n",
      "  super().__init__(**kwargs)\n"
     ]
    },
    {
     "name": "stdout",
     "output_type": "stream",
     "text": [
      "\u001b[1m8/8\u001b[0m \u001b[32m━━━━━━━━━━━━━━━━━━━━\u001b[0m\u001b[37m\u001b[0m \u001b[1m0s\u001b[0m 14ms/step\n"
     ]
    },
    {
     "name": "stderr",
     "output_type": "stream",
     "text": [
      "C:\\Users\\james\\anaconda3\\envs\\my_new_env\\lib\\site-packages\\keras\\src\\layers\\rnn\\rnn.py:200: UserWarning: Do not pass an `input_shape`/`input_dim` argument to a layer. When using Sequential models, prefer using an `Input(shape)` object as the first layer in the model instead.\n",
      "  super().__init__(**kwargs)\n"
     ]
    },
    {
     "name": "stdout",
     "output_type": "stream",
     "text": [
      "\u001b[1m8/8\u001b[0m \u001b[32m━━━━━━━━━━━━━━━━━━━━\u001b[0m\u001b[37m\u001b[0m \u001b[1m1s\u001b[0m 13ms/step\n"
     ]
    },
    {
     "name": "stderr",
     "output_type": "stream",
     "text": [
      "C:\\Users\\james\\anaconda3\\envs\\my_new_env\\lib\\site-packages\\keras\\src\\layers\\convolutional\\base_conv.py:107: UserWarning: Do not pass an `input_shape`/`input_dim` argument to a layer. When using Sequential models, prefer using an `Input(shape)` object as the first layer in the model instead.\n",
      "  super().__init__(activity_regularizer=activity_regularizer, **kwargs)\n"
     ]
    },
    {
     "name": "stdout",
     "output_type": "stream",
     "text": [
      "\u001b[1m8/8\u001b[0m \u001b[32m━━━━━━━━━━━━━━━━━━━━\u001b[0m\u001b[37m\u001b[0m \u001b[1m0s\u001b[0m 14ms/step\n"
     ]
    },
    {
     "name": "stderr",
     "output_type": "stream",
     "text": [
      "C:\\Users\\james\\anaconda3\\envs\\my_new_env\\lib\\site-packages\\keras\\src\\layers\\convolutional\\base_conv.py:107: UserWarning: Do not pass an `input_shape`/`input_dim` argument to a layer. When using Sequential models, prefer using an `Input(shape)` object as the first layer in the model instead.\n",
      "  super().__init__(activity_regularizer=activity_regularizer, **kwargs)\n"
     ]
    },
    {
     "name": "stdout",
     "output_type": "stream",
     "text": [
      "\u001b[1m8/8\u001b[0m \u001b[32m━━━━━━━━━━━━━━━━━━━━\u001b[0m\u001b[37m\u001b[0m \u001b[1m0s\u001b[0m 15ms/step\n",
      "\n",
      "==== Processing method: VIF ====\n",
      "Dropping M2 with VIF = 43570.02\n",
      "Dropping PPI with VIF = 8287.29\n",
      "Dropping M1 with VIF = 2996.30\n",
      "Dropping DJI 종가 with VIF = 2396.18\n",
      "Dropping KOSPI 종가 with VIF = 709.05\n",
      "Dropping 한국 정책금리 with VIF = 518.95\n",
      "Dropping XAU Price with VIF = 389.50\n",
      "Dropping SP500 종가 with VIF = 130.80\n",
      "Dropping USD_KRW 시가 with VIF = 97.61\n",
      "Dropping WTI Price with VIF = 58.35\n",
      "Dropping KOSDAQ 종가 with VIF = 42.22\n",
      "Dropping KOSDAQ 거래량 with VIF = 14.70\n"
     ]
    },
    {
     "name": "stderr",
     "output_type": "stream",
     "text": [
      "C:\\Users\\james\\anaconda3\\envs\\my_new_env\\lib\\site-packages\\keras\\src\\layers\\rnn\\rnn.py:200: UserWarning: Do not pass an `input_shape`/`input_dim` argument to a layer. When using Sequential models, prefer using an `Input(shape)` object as the first layer in the model instead.\n",
      "  super().__init__(**kwargs)\n"
     ]
    },
    {
     "name": "stdout",
     "output_type": "stream",
     "text": [
      "\u001b[1m8/8\u001b[0m \u001b[32m━━━━━━━━━━━━━━━━━━━━\u001b[0m\u001b[37m\u001b[0m \u001b[1m0s\u001b[0m 14ms/step\n"
     ]
    },
    {
     "name": "stderr",
     "output_type": "stream",
     "text": [
      "C:\\Users\\james\\anaconda3\\envs\\my_new_env\\lib\\site-packages\\keras\\src\\layers\\rnn\\rnn.py:200: UserWarning: Do not pass an `input_shape`/`input_dim` argument to a layer. When using Sequential models, prefer using an `Input(shape)` object as the first layer in the model instead.\n",
      "  super().__init__(**kwargs)\n"
     ]
    },
    {
     "name": "stdout",
     "output_type": "stream",
     "text": [
      "\u001b[1m8/8\u001b[0m \u001b[32m━━━━━━━━━━━━━━━━━━━━\u001b[0m\u001b[37m\u001b[0m \u001b[1m0s\u001b[0m 16ms/step\n"
     ]
    },
    {
     "name": "stderr",
     "output_type": "stream",
     "text": [
      "C:\\Users\\james\\anaconda3\\envs\\my_new_env\\lib\\site-packages\\keras\\src\\layers\\convolutional\\base_conv.py:107: UserWarning: Do not pass an `input_shape`/`input_dim` argument to a layer. When using Sequential models, prefer using an `Input(shape)` object as the first layer in the model instead.\n",
      "  super().__init__(activity_regularizer=activity_regularizer, **kwargs)\n"
     ]
    },
    {
     "name": "stdout",
     "output_type": "stream",
     "text": [
      "\u001b[1m8/8\u001b[0m \u001b[32m━━━━━━━━━━━━━━━━━━━━\u001b[0m\u001b[37m\u001b[0m \u001b[1m0s\u001b[0m 13ms/step\n"
     ]
    },
    {
     "name": "stderr",
     "output_type": "stream",
     "text": [
      "C:\\Users\\james\\anaconda3\\envs\\my_new_env\\lib\\site-packages\\keras\\src\\layers\\convolutional\\base_conv.py:107: UserWarning: Do not pass an `input_shape`/`input_dim` argument to a layer. When using Sequential models, prefer using an `Input(shape)` object as the first layer in the model instead.\n",
      "  super().__init__(activity_regularizer=activity_regularizer, **kwargs)\n"
     ]
    },
    {
     "name": "stdout",
     "output_type": "stream",
     "text": [
      "\u001b[1m8/8\u001b[0m \u001b[32m━━━━━━━━━━━━━━━━━━━━\u001b[0m\u001b[37m\u001b[0m \u001b[1m0s\u001b[0m 16ms/step\n",
      "\n",
      "==== Processing method: PCA ====\n"
     ]
    },
    {
     "name": "stderr",
     "output_type": "stream",
     "text": [
      "C:\\Users\\james\\anaconda3\\envs\\my_new_env\\lib\\site-packages\\keras\\src\\layers\\rnn\\rnn.py:200: UserWarning: Do not pass an `input_shape`/`input_dim` argument to a layer. When using Sequential models, prefer using an `Input(shape)` object as the first layer in the model instead.\n",
      "  super().__init__(**kwargs)\n"
     ]
    },
    {
     "name": "stdout",
     "output_type": "stream",
     "text": [
      "\u001b[1m8/8\u001b[0m \u001b[32m━━━━━━━━━━━━━━━━━━━━\u001b[0m\u001b[37m\u001b[0m \u001b[1m0s\u001b[0m 13ms/step\n"
     ]
    },
    {
     "name": "stderr",
     "output_type": "stream",
     "text": [
      "C:\\Users\\james\\anaconda3\\envs\\my_new_env\\lib\\site-packages\\keras\\src\\layers\\rnn\\rnn.py:200: UserWarning: Do not pass an `input_shape`/`input_dim` argument to a layer. When using Sequential models, prefer using an `Input(shape)` object as the first layer in the model instead.\n",
      "  super().__init__(**kwargs)\n"
     ]
    },
    {
     "name": "stdout",
     "output_type": "stream",
     "text": [
      "\u001b[1m8/8\u001b[0m \u001b[32m━━━━━━━━━━━━━━━━━━━━\u001b[0m\u001b[37m\u001b[0m \u001b[1m0s\u001b[0m 14ms/step\n"
     ]
    },
    {
     "name": "stderr",
     "output_type": "stream",
     "text": [
      "C:\\Users\\james\\anaconda3\\envs\\my_new_env\\lib\\site-packages\\keras\\src\\layers\\convolutional\\base_conv.py:107: UserWarning: Do not pass an `input_shape`/`input_dim` argument to a layer. When using Sequential models, prefer using an `Input(shape)` object as the first layer in the model instead.\n",
      "  super().__init__(activity_regularizer=activity_regularizer, **kwargs)\n"
     ]
    },
    {
     "name": "stdout",
     "output_type": "stream",
     "text": [
      "\u001b[1m8/8\u001b[0m \u001b[32m━━━━━━━━━━━━━━━━━━━━\u001b[0m\u001b[37m\u001b[0m \u001b[1m0s\u001b[0m 14ms/step\n"
     ]
    },
    {
     "name": "stderr",
     "output_type": "stream",
     "text": [
      "C:\\Users\\james\\anaconda3\\envs\\my_new_env\\lib\\site-packages\\keras\\src\\layers\\convolutional\\base_conv.py:107: UserWarning: Do not pass an `input_shape`/`input_dim` argument to a layer. When using Sequential models, prefer using an `Input(shape)` object as the first layer in the model instead.\n",
      "  super().__init__(activity_regularizer=activity_regularizer, **kwargs)\n"
     ]
    },
    {
     "name": "stdout",
     "output_type": "stream",
     "text": [
      "\u001b[1m8/8\u001b[0m \u001b[32m━━━━━━━━━━━━━━━━━━━━\u001b[0m\u001b[37m\u001b[0m \u001b[1m0s\u001b[0m 18ms/step\n",
      "\n",
      "==== Processing method: NONE ====\n"
     ]
    },
    {
     "name": "stderr",
     "output_type": "stream",
     "text": [
      "C:\\Users\\james\\anaconda3\\envs\\my_new_env\\lib\\site-packages\\keras\\src\\layers\\rnn\\rnn.py:200: UserWarning: Do not pass an `input_shape`/`input_dim` argument to a layer. When using Sequential models, prefer using an `Input(shape)` object as the first layer in the model instead.\n",
      "  super().__init__(**kwargs)\n"
     ]
    },
    {
     "name": "stdout",
     "output_type": "stream",
     "text": [
      "\u001b[1m8/8\u001b[0m \u001b[32m━━━━━━━━━━━━━━━━━━━━\u001b[0m\u001b[37m\u001b[0m \u001b[1m0s\u001b[0m 12ms/step\n"
     ]
    },
    {
     "name": "stderr",
     "output_type": "stream",
     "text": [
      "C:\\Users\\james\\anaconda3\\envs\\my_new_env\\lib\\site-packages\\keras\\src\\layers\\rnn\\rnn.py:200: UserWarning: Do not pass an `input_shape`/`input_dim` argument to a layer. When using Sequential models, prefer using an `Input(shape)` object as the first layer in the model instead.\n",
      "  super().__init__(**kwargs)\n"
     ]
    },
    {
     "name": "stdout",
     "output_type": "stream",
     "text": [
      "\u001b[1m8/8\u001b[0m \u001b[32m━━━━━━━━━━━━━━━━━━━━\u001b[0m\u001b[37m\u001b[0m \u001b[1m0s\u001b[0m 14ms/step\n"
     ]
    },
    {
     "name": "stderr",
     "output_type": "stream",
     "text": [
      "C:\\Users\\james\\anaconda3\\envs\\my_new_env\\lib\\site-packages\\keras\\src\\layers\\convolutional\\base_conv.py:107: UserWarning: Do not pass an `input_shape`/`input_dim` argument to a layer. When using Sequential models, prefer using an `Input(shape)` object as the first layer in the model instead.\n",
      "  super().__init__(activity_regularizer=activity_regularizer, **kwargs)\n"
     ]
    },
    {
     "name": "stdout",
     "output_type": "stream",
     "text": [
      "\u001b[1m8/8\u001b[0m \u001b[32m━━━━━━━━━━━━━━━━━━━━\u001b[0m\u001b[37m\u001b[0m \u001b[1m0s\u001b[0m 14ms/step\n"
     ]
    },
    {
     "name": "stderr",
     "output_type": "stream",
     "text": [
      "C:\\Users\\james\\anaconda3\\envs\\my_new_env\\lib\\site-packages\\keras\\src\\layers\\convolutional\\base_conv.py:107: UserWarning: Do not pass an `input_shape`/`input_dim` argument to a layer. When using Sequential models, prefer using an `Input(shape)` object as the first layer in the model instead.\n",
      "  super().__init__(activity_regularizer=activity_regularizer, **kwargs)\n"
     ]
    },
    {
     "name": "stdout",
     "output_type": "stream",
     "text": [
      "\u001b[1m8/8\u001b[0m \u001b[32m━━━━━━━━━━━━━━━━━━━━\u001b[0m\u001b[37m\u001b[0m \u001b[1m0s\u001b[0m 18ms/step\n",
      "\n",
      "==== Processing method: VIF ====\n",
      "Dropping M2 with VIF = 43563.62\n",
      "Dropping PPI with VIF = 8288.89\n",
      "Dropping M1 with VIF = 2997.38\n",
      "Dropping DJI 종가 with VIF = 2395.97\n",
      "Dropping KOSPI 종가 with VIF = 708.84\n",
      "Dropping 한국 정책금리 with VIF = 519.06\n",
      "Dropping XAU Price with VIF = 389.40\n",
      "Dropping SP500 종가 with VIF = 130.64\n",
      "Dropping USD_KRW 시가 with VIF = 97.61\n",
      "Dropping WTI Price with VIF = 58.48\n",
      "Dropping KOSDAQ 종가 with VIF = 42.21\n",
      "Dropping KOSDAQ 거래량 with VIF = 14.69\n"
     ]
    },
    {
     "name": "stderr",
     "output_type": "stream",
     "text": [
      "C:\\Users\\james\\anaconda3\\envs\\my_new_env\\lib\\site-packages\\keras\\src\\layers\\rnn\\rnn.py:200: UserWarning: Do not pass an `input_shape`/`input_dim` argument to a layer. When using Sequential models, prefer using an `Input(shape)` object as the first layer in the model instead.\n",
      "  super().__init__(**kwargs)\n"
     ]
    },
    {
     "name": "stdout",
     "output_type": "stream",
     "text": [
      "\u001b[1m8/8\u001b[0m \u001b[32m━━━━━━━━━━━━━━━━━━━━\u001b[0m\u001b[37m\u001b[0m \u001b[1m0s\u001b[0m 13ms/step\n"
     ]
    },
    {
     "name": "stderr",
     "output_type": "stream",
     "text": [
      "C:\\Users\\james\\anaconda3\\envs\\my_new_env\\lib\\site-packages\\keras\\src\\layers\\rnn\\rnn.py:200: UserWarning: Do not pass an `input_shape`/`input_dim` argument to a layer. When using Sequential models, prefer using an `Input(shape)` object as the first layer in the model instead.\n",
      "  super().__init__(**kwargs)\n"
     ]
    },
    {
     "name": "stdout",
     "output_type": "stream",
     "text": [
      "\u001b[1m8/8\u001b[0m \u001b[32m━━━━━━━━━━━━━━━━━━━━\u001b[0m\u001b[37m\u001b[0m \u001b[1m0s\u001b[0m 13ms/step\n"
     ]
    },
    {
     "name": "stderr",
     "output_type": "stream",
     "text": [
      "C:\\Users\\james\\anaconda3\\envs\\my_new_env\\lib\\site-packages\\keras\\src\\layers\\convolutional\\base_conv.py:107: UserWarning: Do not pass an `input_shape`/`input_dim` argument to a layer. When using Sequential models, prefer using an `Input(shape)` object as the first layer in the model instead.\n",
      "  super().__init__(activity_regularizer=activity_regularizer, **kwargs)\n"
     ]
    },
    {
     "name": "stdout",
     "output_type": "stream",
     "text": [
      "\u001b[1m8/8\u001b[0m \u001b[32m━━━━━━━━━━━━━━━━━━━━\u001b[0m\u001b[37m\u001b[0m \u001b[1m0s\u001b[0m 15ms/step\n"
     ]
    },
    {
     "name": "stderr",
     "output_type": "stream",
     "text": [
      "C:\\Users\\james\\anaconda3\\envs\\my_new_env\\lib\\site-packages\\keras\\src\\layers\\convolutional\\base_conv.py:107: UserWarning: Do not pass an `input_shape`/`input_dim` argument to a layer. When using Sequential models, prefer using an `Input(shape)` object as the first layer in the model instead.\n",
      "  super().__init__(activity_regularizer=activity_regularizer, **kwargs)\n"
     ]
    },
    {
     "name": "stdout",
     "output_type": "stream",
     "text": [
      "\u001b[1m8/8\u001b[0m \u001b[32m━━━━━━━━━━━━━━━━━━━━\u001b[0m\u001b[37m\u001b[0m \u001b[1m0s\u001b[0m 15ms/step\n",
      "\n",
      "==== Processing method: PCA ====\n"
     ]
    },
    {
     "name": "stderr",
     "output_type": "stream",
     "text": [
      "C:\\Users\\james\\anaconda3\\envs\\my_new_env\\lib\\site-packages\\keras\\src\\layers\\rnn\\rnn.py:200: UserWarning: Do not pass an `input_shape`/`input_dim` argument to a layer. When using Sequential models, prefer using an `Input(shape)` object as the first layer in the model instead.\n",
      "  super().__init__(**kwargs)\n"
     ]
    },
    {
     "name": "stdout",
     "output_type": "stream",
     "text": [
      "\u001b[1m8/8\u001b[0m \u001b[32m━━━━━━━━━━━━━━━━━━━━\u001b[0m\u001b[37m\u001b[0m \u001b[1m0s\u001b[0m 13ms/step\n"
     ]
    },
    {
     "name": "stderr",
     "output_type": "stream",
     "text": [
      "C:\\Users\\james\\anaconda3\\envs\\my_new_env\\lib\\site-packages\\keras\\src\\layers\\rnn\\rnn.py:200: UserWarning: Do not pass an `input_shape`/`input_dim` argument to a layer. When using Sequential models, prefer using an `Input(shape)` object as the first layer in the model instead.\n",
      "  super().__init__(**kwargs)\n"
     ]
    },
    {
     "name": "stdout",
     "output_type": "stream",
     "text": [
      "\u001b[1m8/8\u001b[0m \u001b[32m━━━━━━━━━━━━━━━━━━━━\u001b[0m\u001b[37m\u001b[0m \u001b[1m0s\u001b[0m 14ms/step\n"
     ]
    },
    {
     "name": "stderr",
     "output_type": "stream",
     "text": [
      "C:\\Users\\james\\anaconda3\\envs\\my_new_env\\lib\\site-packages\\keras\\src\\layers\\convolutional\\base_conv.py:107: UserWarning: Do not pass an `input_shape`/`input_dim` argument to a layer. When using Sequential models, prefer using an `Input(shape)` object as the first layer in the model instead.\n",
      "  super().__init__(activity_regularizer=activity_regularizer, **kwargs)\n"
     ]
    },
    {
     "name": "stdout",
     "output_type": "stream",
     "text": [
      "\u001b[1m8/8\u001b[0m \u001b[32m━━━━━━━━━━━━━━━━━━━━\u001b[0m\u001b[37m\u001b[0m \u001b[1m0s\u001b[0m 14ms/step\n"
     ]
    },
    {
     "name": "stderr",
     "output_type": "stream",
     "text": [
      "C:\\Users\\james\\anaconda3\\envs\\my_new_env\\lib\\site-packages\\keras\\src\\layers\\convolutional\\base_conv.py:107: UserWarning: Do not pass an `input_shape`/`input_dim` argument to a layer. When using Sequential models, prefer using an `Input(shape)` object as the first layer in the model instead.\n",
      "  super().__init__(activity_regularizer=activity_regularizer, **kwargs)\n"
     ]
    },
    {
     "name": "stdout",
     "output_type": "stream",
     "text": [
      "\u001b[1m8/8\u001b[0m \u001b[32m━━━━━━━━━━━━━━━━━━━━\u001b[0m\u001b[37m\u001b[0m \u001b[1m0s\u001b[0m 19ms/step\n",
      "\n",
      "==== Processing method: NONE ====\n"
     ]
    },
    {
     "name": "stderr",
     "output_type": "stream",
     "text": [
      "C:\\Users\\james\\anaconda3\\envs\\my_new_env\\lib\\site-packages\\keras\\src\\layers\\rnn\\rnn.py:200: UserWarning: Do not pass an `input_shape`/`input_dim` argument to a layer. When using Sequential models, prefer using an `Input(shape)` object as the first layer in the model instead.\n",
      "  super().__init__(**kwargs)\n"
     ]
    },
    {
     "name": "stdout",
     "output_type": "stream",
     "text": [
      "\u001b[1m8/8\u001b[0m \u001b[32m━━━━━━━━━━━━━━━━━━━━\u001b[0m\u001b[37m\u001b[0m \u001b[1m0s\u001b[0m 12ms/step\n"
     ]
    },
    {
     "name": "stderr",
     "output_type": "stream",
     "text": [
      "C:\\Users\\james\\anaconda3\\envs\\my_new_env\\lib\\site-packages\\keras\\src\\layers\\rnn\\rnn.py:200: UserWarning: Do not pass an `input_shape`/`input_dim` argument to a layer. When using Sequential models, prefer using an `Input(shape)` object as the first layer in the model instead.\n",
      "  super().__init__(**kwargs)\n"
     ]
    },
    {
     "name": "stdout",
     "output_type": "stream",
     "text": [
      "\u001b[1m8/8\u001b[0m \u001b[32m━━━━━━━━━━━━━━━━━━━━\u001b[0m\u001b[37m\u001b[0m \u001b[1m0s\u001b[0m 13ms/step\n"
     ]
    },
    {
     "name": "stderr",
     "output_type": "stream",
     "text": [
      "C:\\Users\\james\\anaconda3\\envs\\my_new_env\\lib\\site-packages\\keras\\src\\layers\\convolutional\\base_conv.py:107: UserWarning: Do not pass an `input_shape`/`input_dim` argument to a layer. When using Sequential models, prefer using an `Input(shape)` object as the first layer in the model instead.\n",
      "  super().__init__(activity_regularizer=activity_regularizer, **kwargs)\n"
     ]
    },
    {
     "name": "stdout",
     "output_type": "stream",
     "text": [
      "\u001b[1m8/8\u001b[0m \u001b[32m━━━━━━━━━━━━━━━━━━━━\u001b[0m\u001b[37m\u001b[0m \u001b[1m0s\u001b[0m 13ms/step\n"
     ]
    },
    {
     "name": "stderr",
     "output_type": "stream",
     "text": [
      "C:\\Users\\james\\anaconda3\\envs\\my_new_env\\lib\\site-packages\\keras\\src\\layers\\convolutional\\base_conv.py:107: UserWarning: Do not pass an `input_shape`/`input_dim` argument to a layer. When using Sequential models, prefer using an `Input(shape)` object as the first layer in the model instead.\n",
      "  super().__init__(activity_regularizer=activity_regularizer, **kwargs)\n"
     ]
    },
    {
     "name": "stdout",
     "output_type": "stream",
     "text": [
      "\u001b[1m8/8\u001b[0m \u001b[32m━━━━━━━━━━━━━━━━━━━━\u001b[0m\u001b[37m\u001b[0m \u001b[1m0s\u001b[0m 17ms/step\n",
      "\n",
      "==== Processing method: VIF ====\n",
      "Dropping M2 with VIF = 43594.53\n",
      "Dropping PPI with VIF = 8288.84\n",
      "Dropping M1 with VIF = 3003.82\n",
      "Dropping DJI 종가 with VIF = 2395.93\n",
      "Dropping KOSPI 종가 with VIF = 708.44\n",
      "Dropping 한국 정책금리 with VIF = 520.31\n",
      "Dropping XAU Price with VIF = 388.35\n",
      "Dropping SP500 종가 with VIF = 130.91\n",
      "Dropping USD_KRW 시가 with VIF = 97.60\n",
      "Dropping WTI Price with VIF = 58.20\n",
      "Dropping KOSDAQ 종가 with VIF = 42.21\n",
      "Dropping KOSDAQ 거래량 with VIF = 14.68\n"
     ]
    },
    {
     "name": "stderr",
     "output_type": "stream",
     "text": [
      "C:\\Users\\james\\anaconda3\\envs\\my_new_env\\lib\\site-packages\\keras\\src\\layers\\rnn\\rnn.py:200: UserWarning: Do not pass an `input_shape`/`input_dim` argument to a layer. When using Sequential models, prefer using an `Input(shape)` object as the first layer in the model instead.\n",
      "  super().__init__(**kwargs)\n"
     ]
    },
    {
     "name": "stdout",
     "output_type": "stream",
     "text": [
      "\u001b[1m8/8\u001b[0m \u001b[32m━━━━━━━━━━━━━━━━━━━━\u001b[0m\u001b[37m\u001b[0m \u001b[1m0s\u001b[0m 13ms/step\n"
     ]
    },
    {
     "name": "stderr",
     "output_type": "stream",
     "text": [
      "C:\\Users\\james\\anaconda3\\envs\\my_new_env\\lib\\site-packages\\keras\\src\\layers\\rnn\\rnn.py:200: UserWarning: Do not pass an `input_shape`/`input_dim` argument to a layer. When using Sequential models, prefer using an `Input(shape)` object as the first layer in the model instead.\n",
      "  super().__init__(**kwargs)\n"
     ]
    },
    {
     "name": "stdout",
     "output_type": "stream",
     "text": [
      "\u001b[1m8/8\u001b[0m \u001b[32m━━━━━━━━━━━━━━━━━━━━\u001b[0m\u001b[37m\u001b[0m \u001b[1m0s\u001b[0m 14ms/step\n"
     ]
    },
    {
     "name": "stderr",
     "output_type": "stream",
     "text": [
      "C:\\Users\\james\\anaconda3\\envs\\my_new_env\\lib\\site-packages\\keras\\src\\layers\\convolutional\\base_conv.py:107: UserWarning: Do not pass an `input_shape`/`input_dim` argument to a layer. When using Sequential models, prefer using an `Input(shape)` object as the first layer in the model instead.\n",
      "  super().__init__(activity_regularizer=activity_regularizer, **kwargs)\n"
     ]
    },
    {
     "name": "stdout",
     "output_type": "stream",
     "text": [
      "\u001b[1m8/8\u001b[0m \u001b[32m━━━━━━━━━━━━━━━━━━━━\u001b[0m\u001b[37m\u001b[0m \u001b[1m0s\u001b[0m 16ms/step\n"
     ]
    },
    {
     "name": "stderr",
     "output_type": "stream",
     "text": [
      "C:\\Users\\james\\anaconda3\\envs\\my_new_env\\lib\\site-packages\\keras\\src\\layers\\convolutional\\base_conv.py:107: UserWarning: Do not pass an `input_shape`/`input_dim` argument to a layer. When using Sequential models, prefer using an `Input(shape)` object as the first layer in the model instead.\n",
      "  super().__init__(activity_regularizer=activity_regularizer, **kwargs)\n"
     ]
    },
    {
     "name": "stdout",
     "output_type": "stream",
     "text": [
      "\u001b[1m8/8\u001b[0m \u001b[32m━━━━━━━━━━━━━━━━━━━━\u001b[0m\u001b[37m\u001b[0m \u001b[1m0s\u001b[0m 16ms/step\n",
      "\n",
      "==== Processing method: PCA ====\n"
     ]
    },
    {
     "name": "stderr",
     "output_type": "stream",
     "text": [
      "C:\\Users\\james\\anaconda3\\envs\\my_new_env\\lib\\site-packages\\keras\\src\\layers\\rnn\\rnn.py:200: UserWarning: Do not pass an `input_shape`/`input_dim` argument to a layer. When using Sequential models, prefer using an `Input(shape)` object as the first layer in the model instead.\n",
      "  super().__init__(**kwargs)\n"
     ]
    },
    {
     "name": "stdout",
     "output_type": "stream",
     "text": [
      "\u001b[1m8/8\u001b[0m \u001b[32m━━━━━━━━━━━━━━━━━━━━\u001b[0m\u001b[37m\u001b[0m \u001b[1m0s\u001b[0m 13ms/step\n"
     ]
    },
    {
     "name": "stderr",
     "output_type": "stream",
     "text": [
      "C:\\Users\\james\\anaconda3\\envs\\my_new_env\\lib\\site-packages\\keras\\src\\layers\\rnn\\rnn.py:200: UserWarning: Do not pass an `input_shape`/`input_dim` argument to a layer. When using Sequential models, prefer using an `Input(shape)` object as the first layer in the model instead.\n",
      "  super().__init__(**kwargs)\n"
     ]
    },
    {
     "name": "stdout",
     "output_type": "stream",
     "text": [
      "\u001b[1m8/8\u001b[0m \u001b[32m━━━━━━━━━━━━━━━━━━━━\u001b[0m\u001b[37m\u001b[0m \u001b[1m0s\u001b[0m 15ms/step\n"
     ]
    },
    {
     "name": "stderr",
     "output_type": "stream",
     "text": [
      "C:\\Users\\james\\anaconda3\\envs\\my_new_env\\lib\\site-packages\\keras\\src\\layers\\convolutional\\base_conv.py:107: UserWarning: Do not pass an `input_shape`/`input_dim` argument to a layer. When using Sequential models, prefer using an `Input(shape)` object as the first layer in the model instead.\n",
      "  super().__init__(activity_regularizer=activity_regularizer, **kwargs)\n"
     ]
    },
    {
     "name": "stdout",
     "output_type": "stream",
     "text": [
      "\u001b[1m8/8\u001b[0m \u001b[32m━━━━━━━━━━━━━━━━━━━━\u001b[0m\u001b[37m\u001b[0m \u001b[1m0s\u001b[0m 14ms/step\n"
     ]
    },
    {
     "name": "stderr",
     "output_type": "stream",
     "text": [
      "C:\\Users\\james\\anaconda3\\envs\\my_new_env\\lib\\site-packages\\keras\\src\\layers\\convolutional\\base_conv.py:107: UserWarning: Do not pass an `input_shape`/`input_dim` argument to a layer. When using Sequential models, prefer using an `Input(shape)` object as the first layer in the model instead.\n",
      "  super().__init__(activity_regularizer=activity_regularizer, **kwargs)\n"
     ]
    },
    {
     "name": "stdout",
     "output_type": "stream",
     "text": [
      "\u001b[1m8/8\u001b[0m \u001b[32m━━━━━━━━━━━━━━━━━━━━\u001b[0m\u001b[37m\u001b[0m \u001b[1m0s\u001b[0m 16ms/step\n",
      "\n",
      "==== Processing method: NONE ====\n"
     ]
    },
    {
     "name": "stderr",
     "output_type": "stream",
     "text": [
      "C:\\Users\\james\\anaconda3\\envs\\my_new_env\\lib\\site-packages\\keras\\src\\layers\\rnn\\rnn.py:200: UserWarning: Do not pass an `input_shape`/`input_dim` argument to a layer. When using Sequential models, prefer using an `Input(shape)` object as the first layer in the model instead.\n",
      "  super().__init__(**kwargs)\n"
     ]
    },
    {
     "name": "stdout",
     "output_type": "stream",
     "text": [
      "\u001b[1m8/8\u001b[0m \u001b[32m━━━━━━━━━━━━━━━━━━━━\u001b[0m\u001b[37m\u001b[0m \u001b[1m0s\u001b[0m 13ms/step\n"
     ]
    },
    {
     "name": "stderr",
     "output_type": "stream",
     "text": [
      "C:\\Users\\james\\anaconda3\\envs\\my_new_env\\lib\\site-packages\\keras\\src\\layers\\rnn\\rnn.py:200: UserWarning: Do not pass an `input_shape`/`input_dim` argument to a layer. When using Sequential models, prefer using an `Input(shape)` object as the first layer in the model instead.\n",
      "  super().__init__(**kwargs)\n"
     ]
    },
    {
     "name": "stdout",
     "output_type": "stream",
     "text": [
      "\u001b[1m8/8\u001b[0m \u001b[32m━━━━━━━━━━━━━━━━━━━━\u001b[0m\u001b[37m\u001b[0m \u001b[1m0s\u001b[0m 14ms/step\n"
     ]
    },
    {
     "name": "stderr",
     "output_type": "stream",
     "text": [
      "C:\\Users\\james\\anaconda3\\envs\\my_new_env\\lib\\site-packages\\keras\\src\\layers\\convolutional\\base_conv.py:107: UserWarning: Do not pass an `input_shape`/`input_dim` argument to a layer. When using Sequential models, prefer using an `Input(shape)` object as the first layer in the model instead.\n",
      "  super().__init__(activity_regularizer=activity_regularizer, **kwargs)\n"
     ]
    },
    {
     "name": "stdout",
     "output_type": "stream",
     "text": [
      "\u001b[1m8/8\u001b[0m \u001b[32m━━━━━━━━━━━━━━━━━━━━\u001b[0m\u001b[37m\u001b[0m \u001b[1m0s\u001b[0m 14ms/step\n"
     ]
    },
    {
     "name": "stderr",
     "output_type": "stream",
     "text": [
      "C:\\Users\\james\\anaconda3\\envs\\my_new_env\\lib\\site-packages\\keras\\src\\layers\\convolutional\\base_conv.py:107: UserWarning: Do not pass an `input_shape`/`input_dim` argument to a layer. When using Sequential models, prefer using an `Input(shape)` object as the first layer in the model instead.\n",
      "  super().__init__(activity_regularizer=activity_regularizer, **kwargs)\n"
     ]
    },
    {
     "name": "stdout",
     "output_type": "stream",
     "text": [
      "\u001b[1m8/8\u001b[0m \u001b[32m━━━━━━━━━━━━━━━━━━━━\u001b[0m\u001b[37m\u001b[0m \u001b[1m0s\u001b[0m 15ms/step\n",
      "\n",
      "==== Processing method: VIF ====\n",
      "Dropping M2 with VIF = 43568.57\n",
      "Dropping PPI with VIF = 8301.12\n",
      "Dropping M1 with VIF = 2996.79\n",
      "Dropping DJI 종가 with VIF = 2396.80\n",
      "Dropping KOSPI 종가 with VIF = 708.98\n",
      "Dropping 한국 정책금리 with VIF = 519.93\n",
      "Dropping XAU Price with VIF = 389.40\n",
      "Dropping SP500 종가 with VIF = 131.40\n",
      "Dropping USD_KRW 시가 with VIF = 97.62\n",
      "Dropping WTI Price with VIF = 58.79\n",
      "Dropping KOSDAQ 종가 with VIF = 42.22\n",
      "Dropping KOSDAQ 거래량 with VIF = 14.73\n"
     ]
    },
    {
     "name": "stderr",
     "output_type": "stream",
     "text": [
      "C:\\Users\\james\\anaconda3\\envs\\my_new_env\\lib\\site-packages\\keras\\src\\layers\\rnn\\rnn.py:200: UserWarning: Do not pass an `input_shape`/`input_dim` argument to a layer. When using Sequential models, prefer using an `Input(shape)` object as the first layer in the model instead.\n",
      "  super().__init__(**kwargs)\n"
     ]
    },
    {
     "name": "stdout",
     "output_type": "stream",
     "text": [
      "\u001b[1m8/8\u001b[0m \u001b[32m━━━━━━━━━━━━━━━━━━━━\u001b[0m\u001b[37m\u001b[0m \u001b[1m0s\u001b[0m 12ms/step\n"
     ]
    },
    {
     "name": "stderr",
     "output_type": "stream",
     "text": [
      "C:\\Users\\james\\anaconda3\\envs\\my_new_env\\lib\\site-packages\\keras\\src\\layers\\rnn\\rnn.py:200: UserWarning: Do not pass an `input_shape`/`input_dim` argument to a layer. When using Sequential models, prefer using an `Input(shape)` object as the first layer in the model instead.\n",
      "  super().__init__(**kwargs)\n"
     ]
    },
    {
     "name": "stdout",
     "output_type": "stream",
     "text": [
      "\u001b[1m8/8\u001b[0m \u001b[32m━━━━━━━━━━━━━━━━━━━━\u001b[0m\u001b[37m\u001b[0m \u001b[1m0s\u001b[0m 14ms/step\n"
     ]
    },
    {
     "name": "stderr",
     "output_type": "stream",
     "text": [
      "C:\\Users\\james\\anaconda3\\envs\\my_new_env\\lib\\site-packages\\keras\\src\\layers\\convolutional\\base_conv.py:107: UserWarning: Do not pass an `input_shape`/`input_dim` argument to a layer. When using Sequential models, prefer using an `Input(shape)` object as the first layer in the model instead.\n",
      "  super().__init__(activity_regularizer=activity_regularizer, **kwargs)\n"
     ]
    },
    {
     "name": "stdout",
     "output_type": "stream",
     "text": [
      "\u001b[1m8/8\u001b[0m \u001b[32m━━━━━━━━━━━━━━━━━━━━\u001b[0m\u001b[37m\u001b[0m \u001b[1m0s\u001b[0m 18ms/step\n"
     ]
    },
    {
     "name": "stderr",
     "output_type": "stream",
     "text": [
      "C:\\Users\\james\\anaconda3\\envs\\my_new_env\\lib\\site-packages\\keras\\src\\layers\\convolutional\\base_conv.py:107: UserWarning: Do not pass an `input_shape`/`input_dim` argument to a layer. When using Sequential models, prefer using an `Input(shape)` object as the first layer in the model instead.\n",
      "  super().__init__(activity_regularizer=activity_regularizer, **kwargs)\n"
     ]
    },
    {
     "name": "stdout",
     "output_type": "stream",
     "text": [
      "\u001b[1m8/8\u001b[0m \u001b[32m━━━━━━━━━━━━━━━━━━━━\u001b[0m\u001b[37m\u001b[0m \u001b[1m0s\u001b[0m 15ms/step\n",
      "\n",
      "==== Processing method: PCA ====\n"
     ]
    },
    {
     "name": "stderr",
     "output_type": "stream",
     "text": [
      "C:\\Users\\james\\anaconda3\\envs\\my_new_env\\lib\\site-packages\\keras\\src\\layers\\rnn\\rnn.py:200: UserWarning: Do not pass an `input_shape`/`input_dim` argument to a layer. When using Sequential models, prefer using an `Input(shape)` object as the first layer in the model instead.\n",
      "  super().__init__(**kwargs)\n"
     ]
    },
    {
     "name": "stdout",
     "output_type": "stream",
     "text": [
      "\u001b[1m8/8\u001b[0m \u001b[32m━━━━━━━━━━━━━━━━━━━━\u001b[0m\u001b[37m\u001b[0m \u001b[1m0s\u001b[0m 12ms/step\n"
     ]
    },
    {
     "name": "stderr",
     "output_type": "stream",
     "text": [
      "C:\\Users\\james\\anaconda3\\envs\\my_new_env\\lib\\site-packages\\keras\\src\\layers\\rnn\\rnn.py:200: UserWarning: Do not pass an `input_shape`/`input_dim` argument to a layer. When using Sequential models, prefer using an `Input(shape)` object as the first layer in the model instead.\n",
      "  super().__init__(**kwargs)\n"
     ]
    },
    {
     "name": "stdout",
     "output_type": "stream",
     "text": [
      "\u001b[1m8/8\u001b[0m \u001b[32m━━━━━━━━━━━━━━━━━━━━\u001b[0m\u001b[37m\u001b[0m \u001b[1m0s\u001b[0m 14ms/step\n"
     ]
    },
    {
     "name": "stderr",
     "output_type": "stream",
     "text": [
      "C:\\Users\\james\\anaconda3\\envs\\my_new_env\\lib\\site-packages\\keras\\src\\layers\\convolutional\\base_conv.py:107: UserWarning: Do not pass an `input_shape`/`input_dim` argument to a layer. When using Sequential models, prefer using an `Input(shape)` object as the first layer in the model instead.\n",
      "  super().__init__(activity_regularizer=activity_regularizer, **kwargs)\n"
     ]
    },
    {
     "name": "stdout",
     "output_type": "stream",
     "text": [
      "\u001b[1m8/8\u001b[0m \u001b[32m━━━━━━━━━━━━━━━━━━━━\u001b[0m\u001b[37m\u001b[0m \u001b[1m0s\u001b[0m 14ms/step\n"
     ]
    },
    {
     "name": "stderr",
     "output_type": "stream",
     "text": [
      "C:\\Users\\james\\anaconda3\\envs\\my_new_env\\lib\\site-packages\\keras\\src\\layers\\convolutional\\base_conv.py:107: UserWarning: Do not pass an `input_shape`/`input_dim` argument to a layer. When using Sequential models, prefer using an `Input(shape)` object as the first layer in the model instead.\n",
      "  super().__init__(activity_regularizer=activity_regularizer, **kwargs)\n"
     ]
    },
    {
     "name": "stdout",
     "output_type": "stream",
     "text": [
      "\u001b[1m8/8\u001b[0m \u001b[32m━━━━━━━━━━━━━━━━━━━━\u001b[0m\u001b[37m\u001b[0m \u001b[1m0s\u001b[0m 15ms/step\n",
      "\n",
      "==== Processing method: NONE ====\n"
     ]
    },
    {
     "name": "stderr",
     "output_type": "stream",
     "text": [
      "C:\\Users\\james\\anaconda3\\envs\\my_new_env\\lib\\site-packages\\keras\\src\\layers\\rnn\\rnn.py:200: UserWarning: Do not pass an `input_shape`/`input_dim` argument to a layer. When using Sequential models, prefer using an `Input(shape)` object as the first layer in the model instead.\n",
      "  super().__init__(**kwargs)\n"
     ]
    },
    {
     "name": "stdout",
     "output_type": "stream",
     "text": [
      "\u001b[1m8/8\u001b[0m \u001b[32m━━━━━━━━━━━━━━━━━━━━\u001b[0m\u001b[37m\u001b[0m \u001b[1m0s\u001b[0m 13ms/step\n"
     ]
    },
    {
     "name": "stderr",
     "output_type": "stream",
     "text": [
      "C:\\Users\\james\\anaconda3\\envs\\my_new_env\\lib\\site-packages\\keras\\src\\layers\\rnn\\rnn.py:200: UserWarning: Do not pass an `input_shape`/`input_dim` argument to a layer. When using Sequential models, prefer using an `Input(shape)` object as the first layer in the model instead.\n",
      "  super().__init__(**kwargs)\n"
     ]
    },
    {
     "name": "stdout",
     "output_type": "stream",
     "text": [
      "\u001b[1m8/8\u001b[0m \u001b[32m━━━━━━━━━━━━━━━━━━━━\u001b[0m\u001b[37m\u001b[0m \u001b[1m0s\u001b[0m 14ms/step\n"
     ]
    },
    {
     "name": "stderr",
     "output_type": "stream",
     "text": [
      "C:\\Users\\james\\anaconda3\\envs\\my_new_env\\lib\\site-packages\\keras\\src\\layers\\convolutional\\base_conv.py:107: UserWarning: Do not pass an `input_shape`/`input_dim` argument to a layer. When using Sequential models, prefer using an `Input(shape)` object as the first layer in the model instead.\n",
      "  super().__init__(activity_regularizer=activity_regularizer, **kwargs)\n"
     ]
    },
    {
     "name": "stdout",
     "output_type": "stream",
     "text": [
      "\u001b[1m8/8\u001b[0m \u001b[32m━━━━━━━━━━━━━━━━━━━━\u001b[0m\u001b[37m\u001b[0m \u001b[1m0s\u001b[0m 14ms/step\n"
     ]
    },
    {
     "name": "stderr",
     "output_type": "stream",
     "text": [
      "C:\\Users\\james\\anaconda3\\envs\\my_new_env\\lib\\site-packages\\keras\\src\\layers\\convolutional\\base_conv.py:107: UserWarning: Do not pass an `input_shape`/`input_dim` argument to a layer. When using Sequential models, prefer using an `Input(shape)` object as the first layer in the model instead.\n",
      "  super().__init__(activity_regularizer=activity_regularizer, **kwargs)\n"
     ]
    },
    {
     "name": "stdout",
     "output_type": "stream",
     "text": [
      "\u001b[1m8/8\u001b[0m \u001b[32m━━━━━━━━━━━━━━━━━━━━\u001b[0m\u001b[37m\u001b[0m \u001b[1m0s\u001b[0m 16ms/step\n",
      "\n",
      "==== Processing method: VIF ====\n",
      "Dropping M2 with VIF = 43645.49\n",
      "Dropping PPI with VIF = 8301.57\n",
      "Dropping M1 with VIF = 3006.47\n",
      "Dropping DJI 종가 with VIF = 2408.26\n",
      "Dropping KOSPI 종가 with VIF = 710.90\n",
      "Dropping 한국 정책금리 with VIF = 522.22\n",
      "Dropping XAU Price with VIF = 390.58\n",
      "Dropping SP500 종가 with VIF = 132.12\n",
      "Dropping USD_KRW 시가 with VIF = 97.73\n",
      "Dropping WTI Price with VIF = 58.44\n",
      "Dropping KOSDAQ 종가 with VIF = 42.34\n",
      "Dropping KOSDAQ 거래량 with VIF = 14.70\n"
     ]
    },
    {
     "name": "stderr",
     "output_type": "stream",
     "text": [
      "C:\\Users\\james\\anaconda3\\envs\\my_new_env\\lib\\site-packages\\keras\\src\\layers\\rnn\\rnn.py:200: UserWarning: Do not pass an `input_shape`/`input_dim` argument to a layer. When using Sequential models, prefer using an `Input(shape)` object as the first layer in the model instead.\n",
      "  super().__init__(**kwargs)\n"
     ]
    },
    {
     "name": "stdout",
     "output_type": "stream",
     "text": [
      "\u001b[1m8/8\u001b[0m \u001b[32m━━━━━━━━━━━━━━━━━━━━\u001b[0m\u001b[37m\u001b[0m \u001b[1m0s\u001b[0m 12ms/step\n"
     ]
    },
    {
     "name": "stderr",
     "output_type": "stream",
     "text": [
      "C:\\Users\\james\\anaconda3\\envs\\my_new_env\\lib\\site-packages\\keras\\src\\layers\\rnn\\rnn.py:200: UserWarning: Do not pass an `input_shape`/`input_dim` argument to a layer. When using Sequential models, prefer using an `Input(shape)` object as the first layer in the model instead.\n",
      "  super().__init__(**kwargs)\n"
     ]
    },
    {
     "name": "stdout",
     "output_type": "stream",
     "text": [
      "\u001b[1m8/8\u001b[0m \u001b[32m━━━━━━━━━━━━━━━━━━━━\u001b[0m\u001b[37m\u001b[0m \u001b[1m0s\u001b[0m 14ms/step\n"
     ]
    },
    {
     "name": "stderr",
     "output_type": "stream",
     "text": [
      "C:\\Users\\james\\anaconda3\\envs\\my_new_env\\lib\\site-packages\\keras\\src\\layers\\convolutional\\base_conv.py:107: UserWarning: Do not pass an `input_shape`/`input_dim` argument to a layer. When using Sequential models, prefer using an `Input(shape)` object as the first layer in the model instead.\n",
      "  super().__init__(activity_regularizer=activity_regularizer, **kwargs)\n"
     ]
    },
    {
     "name": "stdout",
     "output_type": "stream",
     "text": [
      "\u001b[1m8/8\u001b[0m \u001b[32m━━━━━━━━━━━━━━━━━━━━\u001b[0m\u001b[37m\u001b[0m \u001b[1m0s\u001b[0m 14ms/step\n"
     ]
    },
    {
     "name": "stderr",
     "output_type": "stream",
     "text": [
      "C:\\Users\\james\\anaconda3\\envs\\my_new_env\\lib\\site-packages\\keras\\src\\layers\\convolutional\\base_conv.py:107: UserWarning: Do not pass an `input_shape`/`input_dim` argument to a layer. When using Sequential models, prefer using an `Input(shape)` object as the first layer in the model instead.\n",
      "  super().__init__(activity_regularizer=activity_regularizer, **kwargs)\n"
     ]
    },
    {
     "name": "stdout",
     "output_type": "stream",
     "text": [
      "\u001b[1m8/8\u001b[0m \u001b[32m━━━━━━━━━━━━━━━━━━━━\u001b[0m\u001b[37m\u001b[0m \u001b[1m0s\u001b[0m 15ms/step\n",
      "\n",
      "==== Processing method: PCA ====\n"
     ]
    },
    {
     "name": "stderr",
     "output_type": "stream",
     "text": [
      "C:\\Users\\james\\anaconda3\\envs\\my_new_env\\lib\\site-packages\\keras\\src\\layers\\rnn\\rnn.py:200: UserWarning: Do not pass an `input_shape`/`input_dim` argument to a layer. When using Sequential models, prefer using an `Input(shape)` object as the first layer in the model instead.\n",
      "  super().__init__(**kwargs)\n"
     ]
    },
    {
     "name": "stdout",
     "output_type": "stream",
     "text": [
      "\u001b[1m8/8\u001b[0m \u001b[32m━━━━━━━━━━━━━━━━━━━━\u001b[0m\u001b[37m\u001b[0m \u001b[1m0s\u001b[0m 12ms/step\n"
     ]
    },
    {
     "name": "stderr",
     "output_type": "stream",
     "text": [
      "C:\\Users\\james\\anaconda3\\envs\\my_new_env\\lib\\site-packages\\keras\\src\\layers\\rnn\\rnn.py:200: UserWarning: Do not pass an `input_shape`/`input_dim` argument to a layer. When using Sequential models, prefer using an `Input(shape)` object as the first layer in the model instead.\n",
      "  super().__init__(**kwargs)\n"
     ]
    },
    {
     "name": "stdout",
     "output_type": "stream",
     "text": [
      "\u001b[1m8/8\u001b[0m \u001b[32m━━━━━━━━━━━━━━━━━━━━\u001b[0m\u001b[37m\u001b[0m \u001b[1m0s\u001b[0m 16ms/step\n"
     ]
    },
    {
     "name": "stderr",
     "output_type": "stream",
     "text": [
      "C:\\Users\\james\\anaconda3\\envs\\my_new_env\\lib\\site-packages\\keras\\src\\layers\\convolutional\\base_conv.py:107: UserWarning: Do not pass an `input_shape`/`input_dim` argument to a layer. When using Sequential models, prefer using an `Input(shape)` object as the first layer in the model instead.\n",
      "  super().__init__(activity_regularizer=activity_regularizer, **kwargs)\n"
     ]
    },
    {
     "name": "stdout",
     "output_type": "stream",
     "text": [
      "\u001b[1m8/8\u001b[0m \u001b[32m━━━━━━━━━━━━━━━━━━━━\u001b[0m\u001b[37m\u001b[0m \u001b[1m0s\u001b[0m 14ms/step\n"
     ]
    },
    {
     "name": "stderr",
     "output_type": "stream",
     "text": [
      "C:\\Users\\james\\anaconda3\\envs\\my_new_env\\lib\\site-packages\\keras\\src\\layers\\convolutional\\base_conv.py:107: UserWarning: Do not pass an `input_shape`/`input_dim` argument to a layer. When using Sequential models, prefer using an `Input(shape)` object as the first layer in the model instead.\n",
      "  super().__init__(activity_regularizer=activity_regularizer, **kwargs)\n"
     ]
    },
    {
     "name": "stdout",
     "output_type": "stream",
     "text": [
      "\u001b[1m8/8\u001b[0m \u001b[32m━━━━━━━━━━━━━━━━━━━━\u001b[0m\u001b[37m\u001b[0m \u001b[1m0s\u001b[0m 17ms/step\n",
      "\n",
      "==== Processing method: NONE ====\n"
     ]
    },
    {
     "name": "stderr",
     "output_type": "stream",
     "text": [
      "C:\\Users\\james\\anaconda3\\envs\\my_new_env\\lib\\site-packages\\keras\\src\\layers\\rnn\\rnn.py:200: UserWarning: Do not pass an `input_shape`/`input_dim` argument to a layer. When using Sequential models, prefer using an `Input(shape)` object as the first layer in the model instead.\n",
      "  super().__init__(**kwargs)\n"
     ]
    },
    {
     "name": "stdout",
     "output_type": "stream",
     "text": [
      "\u001b[1m8/8\u001b[0m \u001b[32m━━━━━━━━━━━━━━━━━━━━\u001b[0m\u001b[37m\u001b[0m \u001b[1m0s\u001b[0m 13ms/step\n"
     ]
    },
    {
     "name": "stderr",
     "output_type": "stream",
     "text": [
      "C:\\Users\\james\\anaconda3\\envs\\my_new_env\\lib\\site-packages\\keras\\src\\layers\\rnn\\rnn.py:200: UserWarning: Do not pass an `input_shape`/`input_dim` argument to a layer. When using Sequential models, prefer using an `Input(shape)` object as the first layer in the model instead.\n",
      "  super().__init__(**kwargs)\n"
     ]
    },
    {
     "name": "stdout",
     "output_type": "stream",
     "text": [
      "\u001b[1m8/8\u001b[0m \u001b[32m━━━━━━━━━━━━━━━━━━━━\u001b[0m\u001b[37m\u001b[0m \u001b[1m0s\u001b[0m 14ms/step\n"
     ]
    },
    {
     "name": "stderr",
     "output_type": "stream",
     "text": [
      "C:\\Users\\james\\anaconda3\\envs\\my_new_env\\lib\\site-packages\\keras\\src\\layers\\convolutional\\base_conv.py:107: UserWarning: Do not pass an `input_shape`/`input_dim` argument to a layer. When using Sequential models, prefer using an `Input(shape)` object as the first layer in the model instead.\n",
      "  super().__init__(activity_regularizer=activity_regularizer, **kwargs)\n"
     ]
    },
    {
     "name": "stdout",
     "output_type": "stream",
     "text": [
      "\u001b[1m8/8\u001b[0m \u001b[32m━━━━━━━━━━━━━━━━━━━━\u001b[0m\u001b[37m\u001b[0m \u001b[1m0s\u001b[0m 13ms/step\n"
     ]
    },
    {
     "name": "stderr",
     "output_type": "stream",
     "text": [
      "C:\\Users\\james\\anaconda3\\envs\\my_new_env\\lib\\site-packages\\keras\\src\\layers\\convolutional\\base_conv.py:107: UserWarning: Do not pass an `input_shape`/`input_dim` argument to a layer. When using Sequential models, prefer using an `Input(shape)` object as the first layer in the model instead.\n",
      "  super().__init__(activity_regularizer=activity_regularizer, **kwargs)\n"
     ]
    },
    {
     "name": "stdout",
     "output_type": "stream",
     "text": [
      "\u001b[1m8/8\u001b[0m \u001b[32m━━━━━━━━━━━━━━━━━━━━\u001b[0m\u001b[37m\u001b[0m \u001b[1m0s\u001b[0m 15ms/step\n",
      "\n",
      "==== Processing method: VIF ====\n",
      "Dropping M2 with VIF = 43587.14\n",
      "Dropping PPI with VIF = 8291.77\n",
      "Dropping M1 with VIF = 2997.50\n",
      "Dropping DJI 종가 with VIF = 2395.92\n",
      "Dropping KOSPI 종가 with VIF = 708.96\n",
      "Dropping 한국 정책금리 with VIF = 520.18\n",
      "Dropping XAU Price with VIF = 388.73\n",
      "Dropping SP500 종가 with VIF = 135.75\n",
      "Dropping USD_KRW 시가 with VIF = 97.72\n",
      "Dropping WTI Price with VIF = 58.64\n",
      "Dropping KOSDAQ 종가 with VIF = 42.31\n",
      "Dropping KOSDAQ 거래량 with VIF = 14.70\n"
     ]
    },
    {
     "name": "stderr",
     "output_type": "stream",
     "text": [
      "C:\\Users\\james\\anaconda3\\envs\\my_new_env\\lib\\site-packages\\keras\\src\\layers\\rnn\\rnn.py:200: UserWarning: Do not pass an `input_shape`/`input_dim` argument to a layer. When using Sequential models, prefer using an `Input(shape)` object as the first layer in the model instead.\n",
      "  super().__init__(**kwargs)\n"
     ]
    },
    {
     "name": "stdout",
     "output_type": "stream",
     "text": [
      "\u001b[1m8/8\u001b[0m \u001b[32m━━━━━━━━━━━━━━━━━━━━\u001b[0m\u001b[37m\u001b[0m \u001b[1m0s\u001b[0m 12ms/step\n"
     ]
    },
    {
     "name": "stderr",
     "output_type": "stream",
     "text": [
      "C:\\Users\\james\\anaconda3\\envs\\my_new_env\\lib\\site-packages\\keras\\src\\layers\\rnn\\rnn.py:200: UserWarning: Do not pass an `input_shape`/`input_dim` argument to a layer. When using Sequential models, prefer using an `Input(shape)` object as the first layer in the model instead.\n",
      "  super().__init__(**kwargs)\n"
     ]
    },
    {
     "name": "stdout",
     "output_type": "stream",
     "text": [
      "\u001b[1m8/8\u001b[0m \u001b[32m━━━━━━━━━━━━━━━━━━━━\u001b[0m\u001b[37m\u001b[0m \u001b[1m0s\u001b[0m 15ms/step\n"
     ]
    },
    {
     "name": "stderr",
     "output_type": "stream",
     "text": [
      "C:\\Users\\james\\anaconda3\\envs\\my_new_env\\lib\\site-packages\\keras\\src\\layers\\convolutional\\base_conv.py:107: UserWarning: Do not pass an `input_shape`/`input_dim` argument to a layer. When using Sequential models, prefer using an `Input(shape)` object as the first layer in the model instead.\n",
      "  super().__init__(activity_regularizer=activity_regularizer, **kwargs)\n"
     ]
    },
    {
     "name": "stdout",
     "output_type": "stream",
     "text": [
      "\u001b[1m8/8\u001b[0m \u001b[32m━━━━━━━━━━━━━━━━━━━━\u001b[0m\u001b[37m\u001b[0m \u001b[1m0s\u001b[0m 17ms/step\n"
     ]
    },
    {
     "name": "stderr",
     "output_type": "stream",
     "text": [
      "C:\\Users\\james\\anaconda3\\envs\\my_new_env\\lib\\site-packages\\keras\\src\\layers\\convolutional\\base_conv.py:107: UserWarning: Do not pass an `input_shape`/`input_dim` argument to a layer. When using Sequential models, prefer using an `Input(shape)` object as the first layer in the model instead.\n",
      "  super().__init__(activity_regularizer=activity_regularizer, **kwargs)\n"
     ]
    },
    {
     "name": "stdout",
     "output_type": "stream",
     "text": [
      "\u001b[1m8/8\u001b[0m \u001b[32m━━━━━━━━━━━━━━━━━━━━\u001b[0m\u001b[37m\u001b[0m \u001b[1m0s\u001b[0m 15ms/step\n",
      "\n",
      "==== Processing method: PCA ====\n"
     ]
    },
    {
     "name": "stderr",
     "output_type": "stream",
     "text": [
      "C:\\Users\\james\\anaconda3\\envs\\my_new_env\\lib\\site-packages\\keras\\src\\layers\\rnn\\rnn.py:200: UserWarning: Do not pass an `input_shape`/`input_dim` argument to a layer. When using Sequential models, prefer using an `Input(shape)` object as the first layer in the model instead.\n",
      "  super().__init__(**kwargs)\n"
     ]
    },
    {
     "name": "stdout",
     "output_type": "stream",
     "text": [
      "\u001b[1m8/8\u001b[0m \u001b[32m━━━━━━━━━━━━━━━━━━━━\u001b[0m\u001b[37m\u001b[0m \u001b[1m0s\u001b[0m 14ms/step\n"
     ]
    },
    {
     "name": "stderr",
     "output_type": "stream",
     "text": [
      "C:\\Users\\james\\anaconda3\\envs\\my_new_env\\lib\\site-packages\\keras\\src\\layers\\rnn\\rnn.py:200: UserWarning: Do not pass an `input_shape`/`input_dim` argument to a layer. When using Sequential models, prefer using an `Input(shape)` object as the first layer in the model instead.\n",
      "  super().__init__(**kwargs)\n"
     ]
    },
    {
     "name": "stdout",
     "output_type": "stream",
     "text": [
      "\u001b[1m8/8\u001b[0m \u001b[32m━━━━━━━━━━━━━━━━━━━━\u001b[0m\u001b[37m\u001b[0m \u001b[1m0s\u001b[0m 13ms/step\n"
     ]
    },
    {
     "name": "stderr",
     "output_type": "stream",
     "text": [
      "C:\\Users\\james\\anaconda3\\envs\\my_new_env\\lib\\site-packages\\keras\\src\\layers\\convolutional\\base_conv.py:107: UserWarning: Do not pass an `input_shape`/`input_dim` argument to a layer. When using Sequential models, prefer using an `Input(shape)` object as the first layer in the model instead.\n",
      "  super().__init__(activity_regularizer=activity_regularizer, **kwargs)\n"
     ]
    },
    {
     "name": "stdout",
     "output_type": "stream",
     "text": [
      "\u001b[1m8/8\u001b[0m \u001b[32m━━━━━━━━━━━━━━━━━━━━\u001b[0m\u001b[37m\u001b[0m \u001b[1m0s\u001b[0m 13ms/step\n"
     ]
    },
    {
     "name": "stderr",
     "output_type": "stream",
     "text": [
      "C:\\Users\\james\\anaconda3\\envs\\my_new_env\\lib\\site-packages\\keras\\src\\layers\\convolutional\\base_conv.py:107: UserWarning: Do not pass an `input_shape`/`input_dim` argument to a layer. When using Sequential models, prefer using an `Input(shape)` object as the first layer in the model instead.\n",
      "  super().__init__(activity_regularizer=activity_regularizer, **kwargs)\n"
     ]
    },
    {
     "name": "stdout",
     "output_type": "stream",
     "text": [
      "\u001b[1m8/8\u001b[0m \u001b[32m━━━━━━━━━━━━━━━━━━━━\u001b[0m\u001b[37m\u001b[0m \u001b[1m0s\u001b[0m 15ms/step\n",
      "\n",
      "==== Processing method: NONE ====\n"
     ]
    },
    {
     "name": "stderr",
     "output_type": "stream",
     "text": [
      "C:\\Users\\james\\anaconda3\\envs\\my_new_env\\lib\\site-packages\\keras\\src\\layers\\rnn\\rnn.py:200: UserWarning: Do not pass an `input_shape`/`input_dim` argument to a layer. When using Sequential models, prefer using an `Input(shape)` object as the first layer in the model instead.\n",
      "  super().__init__(**kwargs)\n"
     ]
    },
    {
     "name": "stdout",
     "output_type": "stream",
     "text": [
      "\u001b[1m8/8\u001b[0m \u001b[32m━━━━━━━━━━━━━━━━━━━━\u001b[0m\u001b[37m\u001b[0m \u001b[1m0s\u001b[0m 12ms/step\n"
     ]
    },
    {
     "name": "stderr",
     "output_type": "stream",
     "text": [
      "C:\\Users\\james\\anaconda3\\envs\\my_new_env\\lib\\site-packages\\keras\\src\\layers\\rnn\\rnn.py:200: UserWarning: Do not pass an `input_shape`/`input_dim` argument to a layer. When using Sequential models, prefer using an `Input(shape)` object as the first layer in the model instead.\n",
      "  super().__init__(**kwargs)\n"
     ]
    },
    {
     "name": "stdout",
     "output_type": "stream",
     "text": [
      "\u001b[1m8/8\u001b[0m \u001b[32m━━━━━━━━━━━━━━━━━━━━\u001b[0m\u001b[37m\u001b[0m \u001b[1m0s\u001b[0m 13ms/step\n"
     ]
    },
    {
     "name": "stderr",
     "output_type": "stream",
     "text": [
      "C:\\Users\\james\\anaconda3\\envs\\my_new_env\\lib\\site-packages\\keras\\src\\layers\\convolutional\\base_conv.py:107: UserWarning: Do not pass an `input_shape`/`input_dim` argument to a layer. When using Sequential models, prefer using an `Input(shape)` object as the first layer in the model instead.\n",
      "  super().__init__(activity_regularizer=activity_regularizer, **kwargs)\n"
     ]
    },
    {
     "name": "stdout",
     "output_type": "stream",
     "text": [
      "\u001b[1m8/8\u001b[0m \u001b[32m━━━━━━━━━━━━━━━━━━━━\u001b[0m\u001b[37m\u001b[0m \u001b[1m0s\u001b[0m 13ms/step\n"
     ]
    },
    {
     "name": "stderr",
     "output_type": "stream",
     "text": [
      "C:\\Users\\james\\anaconda3\\envs\\my_new_env\\lib\\site-packages\\keras\\src\\layers\\convolutional\\base_conv.py:107: UserWarning: Do not pass an `input_shape`/`input_dim` argument to a layer. When using Sequential models, prefer using an `Input(shape)` object as the first layer in the model instead.\n",
      "  super().__init__(activity_regularizer=activity_regularizer, **kwargs)\n"
     ]
    },
    {
     "name": "stdout",
     "output_type": "stream",
     "text": [
      "\u001b[1m8/8\u001b[0m \u001b[32m━━━━━━━━━━━━━━━━━━━━\u001b[0m\u001b[37m\u001b[0m \u001b[1m0s\u001b[0m 15ms/step\n",
      "\n",
      "==== Processing method: VIF ====\n",
      "Dropping M2 with VIF = 43706.90\n",
      "Dropping PPI with VIF = 8964.73\n",
      "Dropping M1 with VIF = 3061.43\n",
      "Dropping DJI 종가 with VIF = 2475.64\n",
      "Dropping KOSPI 종가 with VIF = 717.44\n",
      "Dropping 한국 정책금리 with VIF = 522.64\n",
      "Dropping XAU Price with VIF = 392.82\n",
      "Dropping SP500 종가 with VIF = 132.42\n",
      "Dropping USD_KRW 시가 with VIF = 106.49\n",
      "Dropping WTI Price with VIF = 59.73\n",
      "Dropping KOSDAQ 종가 with VIF = 43.62\n",
      "Dropping KOSDAQ 거래량 with VIF = 14.76\n"
     ]
    },
    {
     "name": "stderr",
     "output_type": "stream",
     "text": [
      "C:\\Users\\james\\anaconda3\\envs\\my_new_env\\lib\\site-packages\\keras\\src\\layers\\rnn\\rnn.py:200: UserWarning: Do not pass an `input_shape`/`input_dim` argument to a layer. When using Sequential models, prefer using an `Input(shape)` object as the first layer in the model instead.\n",
      "  super().__init__(**kwargs)\n"
     ]
    },
    {
     "name": "stdout",
     "output_type": "stream",
     "text": [
      "\u001b[1m8/8\u001b[0m \u001b[32m━━━━━━━━━━━━━━━━━━━━\u001b[0m\u001b[37m\u001b[0m \u001b[1m0s\u001b[0m 13ms/step\n"
     ]
    },
    {
     "name": "stderr",
     "output_type": "stream",
     "text": [
      "C:\\Users\\james\\anaconda3\\envs\\my_new_env\\lib\\site-packages\\keras\\src\\layers\\rnn\\rnn.py:200: UserWarning: Do not pass an `input_shape`/`input_dim` argument to a layer. When using Sequential models, prefer using an `Input(shape)` object as the first layer in the model instead.\n",
      "  super().__init__(**kwargs)\n"
     ]
    },
    {
     "name": "stdout",
     "output_type": "stream",
     "text": [
      "\u001b[1m8/8\u001b[0m \u001b[32m━━━━━━━━━━━━━━━━━━━━\u001b[0m\u001b[37m\u001b[0m \u001b[1m0s\u001b[0m 14ms/step\n"
     ]
    },
    {
     "name": "stderr",
     "output_type": "stream",
     "text": [
      "C:\\Users\\james\\anaconda3\\envs\\my_new_env\\lib\\site-packages\\keras\\src\\layers\\convolutional\\base_conv.py:107: UserWarning: Do not pass an `input_shape`/`input_dim` argument to a layer. When using Sequential models, prefer using an `Input(shape)` object as the first layer in the model instead.\n",
      "  super().__init__(activity_regularizer=activity_regularizer, **kwargs)\n"
     ]
    },
    {
     "name": "stdout",
     "output_type": "stream",
     "text": [
      "\u001b[1m8/8\u001b[0m \u001b[32m━━━━━━━━━━━━━━━━━━━━\u001b[0m\u001b[37m\u001b[0m \u001b[1m0s\u001b[0m 14ms/step\n"
     ]
    },
    {
     "name": "stderr",
     "output_type": "stream",
     "text": [
      "C:\\Users\\james\\anaconda3\\envs\\my_new_env\\lib\\site-packages\\keras\\src\\layers\\convolutional\\base_conv.py:107: UserWarning: Do not pass an `input_shape`/`input_dim` argument to a layer. When using Sequential models, prefer using an `Input(shape)` object as the first layer in the model instead.\n",
      "  super().__init__(activity_regularizer=activity_regularizer, **kwargs)\n"
     ]
    },
    {
     "name": "stdout",
     "output_type": "stream",
     "text": [
      "\u001b[1m8/8\u001b[0m \u001b[32m━━━━━━━━━━━━━━━━━━━━\u001b[0m\u001b[37m\u001b[0m \u001b[1m0s\u001b[0m 16ms/step\n",
      "\n",
      "==== Processing method: PCA ====\n"
     ]
    },
    {
     "name": "stderr",
     "output_type": "stream",
     "text": [
      "C:\\Users\\james\\anaconda3\\envs\\my_new_env\\lib\\site-packages\\keras\\src\\layers\\rnn\\rnn.py:200: UserWarning: Do not pass an `input_shape`/`input_dim` argument to a layer. When using Sequential models, prefer using an `Input(shape)` object as the first layer in the model instead.\n",
      "  super().__init__(**kwargs)\n"
     ]
    },
    {
     "name": "stdout",
     "output_type": "stream",
     "text": [
      "\u001b[1m8/8\u001b[0m \u001b[32m━━━━━━━━━━━━━━━━━━━━\u001b[0m\u001b[37m\u001b[0m \u001b[1m0s\u001b[0m 13ms/step\n"
     ]
    },
    {
     "name": "stderr",
     "output_type": "stream",
     "text": [
      "C:\\Users\\james\\anaconda3\\envs\\my_new_env\\lib\\site-packages\\keras\\src\\layers\\rnn\\rnn.py:200: UserWarning: Do not pass an `input_shape`/`input_dim` argument to a layer. When using Sequential models, prefer using an `Input(shape)` object as the first layer in the model instead.\n",
      "  super().__init__(**kwargs)\n"
     ]
    },
    {
     "name": "stdout",
     "output_type": "stream",
     "text": [
      "\u001b[1m8/8\u001b[0m \u001b[32m━━━━━━━━━━━━━━━━━━━━\u001b[0m\u001b[37m\u001b[0m \u001b[1m0s\u001b[0m 14ms/step\n"
     ]
    },
    {
     "name": "stderr",
     "output_type": "stream",
     "text": [
      "C:\\Users\\james\\anaconda3\\envs\\my_new_env\\lib\\site-packages\\keras\\src\\layers\\convolutional\\base_conv.py:107: UserWarning: Do not pass an `input_shape`/`input_dim` argument to a layer. When using Sequential models, prefer using an `Input(shape)` object as the first layer in the model instead.\n",
      "  super().__init__(activity_regularizer=activity_regularizer, **kwargs)\n"
     ]
    },
    {
     "name": "stdout",
     "output_type": "stream",
     "text": [
      "\u001b[1m8/8\u001b[0m \u001b[32m━━━━━━━━━━━━━━━━━━━━\u001b[0m\u001b[37m\u001b[0m \u001b[1m0s\u001b[0m 14ms/step\n"
     ]
    },
    {
     "name": "stderr",
     "output_type": "stream",
     "text": [
      "C:\\Users\\james\\anaconda3\\envs\\my_new_env\\lib\\site-packages\\keras\\src\\layers\\convolutional\\base_conv.py:107: UserWarning: Do not pass an `input_shape`/`input_dim` argument to a layer. When using Sequential models, prefer using an `Input(shape)` object as the first layer in the model instead.\n",
      "  super().__init__(activity_regularizer=activity_regularizer, **kwargs)\n"
     ]
    },
    {
     "name": "stdout",
     "output_type": "stream",
     "text": [
      "\u001b[1m8/8\u001b[0m \u001b[32m━━━━━━━━━━━━━━━━━━━━\u001b[0m\u001b[37m\u001b[0m \u001b[1m0s\u001b[0m 15ms/step\n",
      "\n",
      "==== Processing method: NONE ====\n"
     ]
    },
    {
     "name": "stderr",
     "output_type": "stream",
     "text": [
      "C:\\Users\\james\\anaconda3\\envs\\my_new_env\\lib\\site-packages\\keras\\src\\layers\\rnn\\rnn.py:200: UserWarning: Do not pass an `input_shape`/`input_dim` argument to a layer. When using Sequential models, prefer using an `Input(shape)` object as the first layer in the model instead.\n",
      "  super().__init__(**kwargs)\n"
     ]
    },
    {
     "name": "stdout",
     "output_type": "stream",
     "text": [
      "\u001b[1m8/8\u001b[0m \u001b[32m━━━━━━━━━━━━━━━━━━━━\u001b[0m\u001b[37m\u001b[0m \u001b[1m0s\u001b[0m 12ms/step\n"
     ]
    },
    {
     "name": "stderr",
     "output_type": "stream",
     "text": [
      "C:\\Users\\james\\anaconda3\\envs\\my_new_env\\lib\\site-packages\\keras\\src\\layers\\rnn\\rnn.py:200: UserWarning: Do not pass an `input_shape`/`input_dim` argument to a layer. When using Sequential models, prefer using an `Input(shape)` object as the first layer in the model instead.\n",
      "  super().__init__(**kwargs)\n"
     ]
    },
    {
     "name": "stdout",
     "output_type": "stream",
     "text": [
      "\u001b[1m8/8\u001b[0m \u001b[32m━━━━━━━━━━━━━━━━━━━━\u001b[0m\u001b[37m\u001b[0m \u001b[1m0s\u001b[0m 14ms/step\n"
     ]
    },
    {
     "name": "stderr",
     "output_type": "stream",
     "text": [
      "C:\\Users\\james\\anaconda3\\envs\\my_new_env\\lib\\site-packages\\keras\\src\\layers\\convolutional\\base_conv.py:107: UserWarning: Do not pass an `input_shape`/`input_dim` argument to a layer. When using Sequential models, prefer using an `Input(shape)` object as the first layer in the model instead.\n",
      "  super().__init__(activity_regularizer=activity_regularizer, **kwargs)\n"
     ]
    },
    {
     "name": "stdout",
     "output_type": "stream",
     "text": [
      "\u001b[1m8/8\u001b[0m \u001b[32m━━━━━━━━━━━━━━━━━━━━\u001b[0m\u001b[37m\u001b[0m \u001b[1m0s\u001b[0m 14ms/step\n"
     ]
    },
    {
     "name": "stderr",
     "output_type": "stream",
     "text": [
      "C:\\Users\\james\\anaconda3\\envs\\my_new_env\\lib\\site-packages\\keras\\src\\layers\\convolutional\\base_conv.py:107: UserWarning: Do not pass an `input_shape`/`input_dim` argument to a layer. When using Sequential models, prefer using an `Input(shape)` object as the first layer in the model instead.\n",
      "  super().__init__(activity_regularizer=activity_regularizer, **kwargs)\n"
     ]
    },
    {
     "name": "stdout",
     "output_type": "stream",
     "text": [
      "\u001b[1m8/8\u001b[0m \u001b[32m━━━━━━━━━━━━━━━━━━━━\u001b[0m\u001b[37m\u001b[0m \u001b[1m0s\u001b[0m 15ms/step\n",
      "\n",
      "==== Processing method: VIF ====\n",
      "Dropping M2 with VIF = 43622.93\n",
      "Dropping PPI with VIF = 8818.75\n",
      "Dropping M1 with VIF = 3076.82\n",
      "Dropping DJI 종가 with VIF = 2435.67\n",
      "Dropping KOSPI 종가 with VIF = 721.19\n",
      "Dropping 한국 정책금리 with VIF = 520.62\n",
      "Dropping XAU Price with VIF = 392.65\n",
      "Dropping SP500 종가 with VIF = 136.24\n",
      "Dropping USD_KRW 시가 with VIF = 106.93\n",
      "Dropping WTI Price with VIF = 60.08\n",
      "Dropping KOSDAQ 종가 with VIF = 43.33\n",
      "Dropping KOSDAQ 거래량 with VIF = 14.73\n"
     ]
    },
    {
     "name": "stderr",
     "output_type": "stream",
     "text": [
      "C:\\Users\\james\\anaconda3\\envs\\my_new_env\\lib\\site-packages\\keras\\src\\layers\\rnn\\rnn.py:200: UserWarning: Do not pass an `input_shape`/`input_dim` argument to a layer. When using Sequential models, prefer using an `Input(shape)` object as the first layer in the model instead.\n",
      "  super().__init__(**kwargs)\n"
     ]
    },
    {
     "name": "stdout",
     "output_type": "stream",
     "text": [
      "\u001b[1m8/8\u001b[0m \u001b[32m━━━━━━━━━━━━━━━━━━━━\u001b[0m\u001b[37m\u001b[0m \u001b[1m0s\u001b[0m 12ms/step\n"
     ]
    },
    {
     "name": "stderr",
     "output_type": "stream",
     "text": [
      "C:\\Users\\james\\anaconda3\\envs\\my_new_env\\lib\\site-packages\\keras\\src\\layers\\rnn\\rnn.py:200: UserWarning: Do not pass an `input_shape`/`input_dim` argument to a layer. When using Sequential models, prefer using an `Input(shape)` object as the first layer in the model instead.\n",
      "  super().__init__(**kwargs)\n"
     ]
    },
    {
     "name": "stdout",
     "output_type": "stream",
     "text": [
      "\u001b[1m8/8\u001b[0m \u001b[32m━━━━━━━━━━━━━━━━━━━━\u001b[0m\u001b[37m\u001b[0m \u001b[1m0s\u001b[0m 16ms/step\n"
     ]
    },
    {
     "name": "stderr",
     "output_type": "stream",
     "text": [
      "C:\\Users\\james\\anaconda3\\envs\\my_new_env\\lib\\site-packages\\keras\\src\\layers\\convolutional\\base_conv.py:107: UserWarning: Do not pass an `input_shape`/`input_dim` argument to a layer. When using Sequential models, prefer using an `Input(shape)` object as the first layer in the model instead.\n",
      "  super().__init__(activity_regularizer=activity_regularizer, **kwargs)\n"
     ]
    },
    {
     "name": "stdout",
     "output_type": "stream",
     "text": [
      "\u001b[1m8/8\u001b[0m \u001b[32m━━━━━━━━━━━━━━━━━━━━\u001b[0m\u001b[37m\u001b[0m \u001b[1m0s\u001b[0m 14ms/step\n"
     ]
    },
    {
     "name": "stderr",
     "output_type": "stream",
     "text": [
      "C:\\Users\\james\\anaconda3\\envs\\my_new_env\\lib\\site-packages\\keras\\src\\layers\\convolutional\\base_conv.py:107: UserWarning: Do not pass an `input_shape`/`input_dim` argument to a layer. When using Sequential models, prefer using an `Input(shape)` object as the first layer in the model instead.\n",
      "  super().__init__(activity_regularizer=activity_regularizer, **kwargs)\n"
     ]
    },
    {
     "name": "stdout",
     "output_type": "stream",
     "text": [
      "\u001b[1m8/8\u001b[0m \u001b[32m━━━━━━━━━━━━━━━━━━━━\u001b[0m\u001b[37m\u001b[0m \u001b[1m0s\u001b[0m 17ms/step\n",
      "\n",
      "==== Processing method: PCA ====\n"
     ]
    },
    {
     "name": "stderr",
     "output_type": "stream",
     "text": [
      "C:\\Users\\james\\anaconda3\\envs\\my_new_env\\lib\\site-packages\\keras\\src\\layers\\rnn\\rnn.py:200: UserWarning: Do not pass an `input_shape`/`input_dim` argument to a layer. When using Sequential models, prefer using an `Input(shape)` object as the first layer in the model instead.\n",
      "  super().__init__(**kwargs)\n"
     ]
    },
    {
     "name": "stdout",
     "output_type": "stream",
     "text": [
      "\u001b[1m8/8\u001b[0m \u001b[32m━━━━━━━━━━━━━━━━━━━━\u001b[0m\u001b[37m\u001b[0m \u001b[1m0s\u001b[0m 12ms/step\n"
     ]
    },
    {
     "name": "stderr",
     "output_type": "stream",
     "text": [
      "C:\\Users\\james\\anaconda3\\envs\\my_new_env\\lib\\site-packages\\keras\\src\\layers\\rnn\\rnn.py:200: UserWarning: Do not pass an `input_shape`/`input_dim` argument to a layer. When using Sequential models, prefer using an `Input(shape)` object as the first layer in the model instead.\n",
      "  super().__init__(**kwargs)\n"
     ]
    },
    {
     "name": "stdout",
     "output_type": "stream",
     "text": [
      "\u001b[1m8/8\u001b[0m \u001b[32m━━━━━━━━━━━━━━━━━━━━\u001b[0m\u001b[37m\u001b[0m \u001b[1m0s\u001b[0m 14ms/step\n"
     ]
    },
    {
     "name": "stderr",
     "output_type": "stream",
     "text": [
      "C:\\Users\\james\\anaconda3\\envs\\my_new_env\\lib\\site-packages\\keras\\src\\layers\\convolutional\\base_conv.py:107: UserWarning: Do not pass an `input_shape`/`input_dim` argument to a layer. When using Sequential models, prefer using an `Input(shape)` object as the first layer in the model instead.\n",
      "  super().__init__(activity_regularizer=activity_regularizer, **kwargs)\n"
     ]
    },
    {
     "name": "stdout",
     "output_type": "stream",
     "text": [
      "\u001b[1m8/8\u001b[0m \u001b[32m━━━━━━━━━━━━━━━━━━━━\u001b[0m\u001b[37m\u001b[0m \u001b[1m0s\u001b[0m 14ms/step\n"
     ]
    },
    {
     "name": "stderr",
     "output_type": "stream",
     "text": [
      "C:\\Users\\james\\anaconda3\\envs\\my_new_env\\lib\\site-packages\\keras\\src\\layers\\convolutional\\base_conv.py:107: UserWarning: Do not pass an `input_shape`/`input_dim` argument to a layer. When using Sequential models, prefer using an `Input(shape)` object as the first layer in the model instead.\n",
      "  super().__init__(activity_regularizer=activity_regularizer, **kwargs)\n"
     ]
    },
    {
     "name": "stdout",
     "output_type": "stream",
     "text": [
      "\u001b[1m8/8\u001b[0m \u001b[32m━━━━━━━━━━━━━━━━━━━━\u001b[0m\u001b[37m\u001b[0m \u001b[1m0s\u001b[0m 15ms/step\n"
     ]
    }
   ],
   "source": [
    "experiment_results_df0 = run_experiments(df0, window_size=5, epochs=50, batch_size=16)\n",
    "experiment_results_df1 = run_experiments(df1, window_size=5, epochs=50, batch_size=16)\n",
    "experiment_results_df2 = run_experiments(df2, window_size=5, epochs=50, batch_size=16)\n",
    "experiment_results_df3 = run_experiments(df3, window_size=5, epochs=50, batch_size=16)\n",
    "experiment_results_df4 = run_experiments(df4, window_size=5, epochs=50, batch_size=16)\n",
    "experiment_results_df5 = run_experiments(df5, window_size=5, epochs=50, batch_size=16)\n",
    "experiment_results_df6 = run_experiments(df6, window_size=5, epochs=50, batch_size=16)\n",
    "experiment_results_df7 = run_experiments(df7, window_size=5, epochs=50, batch_size=16)\n",
    "experiment_results_df8 = run_experiments(df8, window_size=5, epochs=50, batch_size=16)\n",
    "experiment_results_df9 = run_experiments(df9, window_size=5, epochs=50, batch_size=16)\n",
    "experiment_results_df10 = run_experiments(df10, window_size=5, epochs=50, batch_size=16)"
   ]
  },
  {
   "cell_type": "code",
   "execution_count": 31,
   "id": "b632058a-996a-4b47-aa54-a18aa41239c6",
   "metadata": {},
   "outputs": [
    {
     "name": "stdout",
     "output_type": "stream",
     "text": [
      "===== 모델 평가 결과 비교 =====\n"
     ]
    },
    {
     "data": {
      "text/html": [
       "<div>\n",
       "<style scoped>\n",
       "    .dataframe tbody tr th:only-of-type {\n",
       "        vertical-align: middle;\n",
       "    }\n",
       "\n",
       "    .dataframe tbody tr th {\n",
       "        vertical-align: top;\n",
       "    }\n",
       "\n",
       "    .dataframe thead th {\n",
       "        text-align: right;\n",
       "    }\n",
       "</style>\n",
       "<table border=\"1\" class=\"dataframe\">\n",
       "  <thead>\n",
       "    <tr style=\"text-align: right;\">\n",
       "      <th></th>\n",
       "      <th>데이터셋</th>\n",
       "      <th>방식</th>\n",
       "      <th>모델명</th>\n",
       "      <th>MSE</th>\n",
       "      <th>MAPE (%)</th>\n",
       "    </tr>\n",
       "  </thead>\n",
       "  <tbody>\n",
       "    <tr>\n",
       "      <th>0</th>\n",
       "      <td>df0</td>\n",
       "      <td>none</td>\n",
       "      <td>LSTM</td>\n",
       "      <td>171.050009</td>\n",
       "      <td>0.919400</td>\n",
       "    </tr>\n",
       "    <tr>\n",
       "      <th>1</th>\n",
       "      <td>df0</td>\n",
       "      <td>none</td>\n",
       "      <td>GRU</td>\n",
       "      <td>391.894161</td>\n",
       "      <td>1.414386</td>\n",
       "    </tr>\n",
       "    <tr>\n",
       "      <th>2</th>\n",
       "      <td>df0</td>\n",
       "      <td>none</td>\n",
       "      <td>CNN-LSTM</td>\n",
       "      <td>1231.639387</td>\n",
       "      <td>2.515150</td>\n",
       "    </tr>\n",
       "    <tr>\n",
       "      <th>3</th>\n",
       "      <td>df0</td>\n",
       "      <td>none</td>\n",
       "      <td>CNN-GRU</td>\n",
       "      <td>732.918743</td>\n",
       "      <td>1.890148</td>\n",
       "    </tr>\n",
       "    <tr>\n",
       "      <th>4</th>\n",
       "      <td>df0</td>\n",
       "      <td>vif</td>\n",
       "      <td>LSTM</td>\n",
       "      <td>5811.922864</td>\n",
       "      <td>5.467949</td>\n",
       "    </tr>\n",
       "    <tr>\n",
       "      <th>5</th>\n",
       "      <td>df0</td>\n",
       "      <td>vif</td>\n",
       "      <td>GRU</td>\n",
       "      <td>5587.782809</td>\n",
       "      <td>5.378412</td>\n",
       "    </tr>\n",
       "    <tr>\n",
       "      <th>6</th>\n",
       "      <td>df0</td>\n",
       "      <td>vif</td>\n",
       "      <td>CNN-LSTM</td>\n",
       "      <td>7586.708882</td>\n",
       "      <td>6.109544</td>\n",
       "    </tr>\n",
       "    <tr>\n",
       "      <th>7</th>\n",
       "      <td>df0</td>\n",
       "      <td>vif</td>\n",
       "      <td>CNN-GRU</td>\n",
       "      <td>8057.765599</td>\n",
       "      <td>6.294687</td>\n",
       "    </tr>\n",
       "    <tr>\n",
       "      <th>8</th>\n",
       "      <td>df0</td>\n",
       "      <td>pca</td>\n",
       "      <td>LSTM</td>\n",
       "      <td>767.386837</td>\n",
       "      <td>2.057931</td>\n",
       "    </tr>\n",
       "    <tr>\n",
       "      <th>9</th>\n",
       "      <td>df0</td>\n",
       "      <td>pca</td>\n",
       "      <td>GRU</td>\n",
       "      <td>163.786329</td>\n",
       "      <td>0.891455</td>\n",
       "    </tr>\n",
       "    <tr>\n",
       "      <th>10</th>\n",
       "      <td>df0</td>\n",
       "      <td>pca</td>\n",
       "      <td>CNN-LSTM</td>\n",
       "      <td>980.578898</td>\n",
       "      <td>2.320715</td>\n",
       "    </tr>\n",
       "    <tr>\n",
       "      <th>11</th>\n",
       "      <td>df0</td>\n",
       "      <td>pca</td>\n",
       "      <td>CNN-GRU</td>\n",
       "      <td>1320.843301</td>\n",
       "      <td>2.737731</td>\n",
       "    </tr>\n",
       "    <tr>\n",
       "      <th>12</th>\n",
       "      <td>df1</td>\n",
       "      <td>none</td>\n",
       "      <td>LSTM</td>\n",
       "      <td>621.010584</td>\n",
       "      <td>1.842517</td>\n",
       "    </tr>\n",
       "    <tr>\n",
       "      <th>13</th>\n",
       "      <td>df1</td>\n",
       "      <td>none</td>\n",
       "      <td>GRU</td>\n",
       "      <td>162.262649</td>\n",
       "      <td>0.910703</td>\n",
       "    </tr>\n",
       "    <tr>\n",
       "      <th>14</th>\n",
       "      <td>df1</td>\n",
       "      <td>none</td>\n",
       "      <td>CNN-LSTM</td>\n",
       "      <td>1658.676179</td>\n",
       "      <td>2.983353</td>\n",
       "    </tr>\n",
       "    <tr>\n",
       "      <th>15</th>\n",
       "      <td>df1</td>\n",
       "      <td>none</td>\n",
       "      <td>CNN-GRU</td>\n",
       "      <td>775.925019</td>\n",
       "      <td>2.028248</td>\n",
       "    </tr>\n",
       "    <tr>\n",
       "      <th>16</th>\n",
       "      <td>df1</td>\n",
       "      <td>vif</td>\n",
       "      <td>LSTM</td>\n",
       "      <td>5461.017571</td>\n",
       "      <td>5.249630</td>\n",
       "    </tr>\n",
       "    <tr>\n",
       "      <th>17</th>\n",
       "      <td>df1</td>\n",
       "      <td>vif</td>\n",
       "      <td>GRU</td>\n",
       "      <td>5065.675961</td>\n",
       "      <td>5.044386</td>\n",
       "    </tr>\n",
       "    <tr>\n",
       "      <th>18</th>\n",
       "      <td>df1</td>\n",
       "      <td>vif</td>\n",
       "      <td>CNN-LSTM</td>\n",
       "      <td>6971.656039</td>\n",
       "      <td>5.828614</td>\n",
       "    </tr>\n",
       "    <tr>\n",
       "      <th>19</th>\n",
       "      <td>df1</td>\n",
       "      <td>vif</td>\n",
       "      <td>CNN-GRU</td>\n",
       "      <td>6671.446366</td>\n",
       "      <td>5.616523</td>\n",
       "    </tr>\n",
       "    <tr>\n",
       "      <th>20</th>\n",
       "      <td>df1</td>\n",
       "      <td>pca</td>\n",
       "      <td>LSTM</td>\n",
       "      <td>212.700735</td>\n",
       "      <td>0.902042</td>\n",
       "    </tr>\n",
       "    <tr>\n",
       "      <th>21</th>\n",
       "      <td>df1</td>\n",
       "      <td>pca</td>\n",
       "      <td>GRU</td>\n",
       "      <td>134.276064</td>\n",
       "      <td>0.753483</td>\n",
       "    </tr>\n",
       "    <tr>\n",
       "      <th>22</th>\n",
       "      <td>df1</td>\n",
       "      <td>pca</td>\n",
       "      <td>CNN-LSTM</td>\n",
       "      <td>450.549464</td>\n",
       "      <td>1.473949</td>\n",
       "    </tr>\n",
       "    <tr>\n",
       "      <th>23</th>\n",
       "      <td>df1</td>\n",
       "      <td>pca</td>\n",
       "      <td>CNN-GRU</td>\n",
       "      <td>905.116438</td>\n",
       "      <td>2.182728</td>\n",
       "    </tr>\n",
       "    <tr>\n",
       "      <th>24</th>\n",
       "      <td>df2</td>\n",
       "      <td>none</td>\n",
       "      <td>LSTM</td>\n",
       "      <td>206.699972</td>\n",
       "      <td>1.057031</td>\n",
       "    </tr>\n",
       "    <tr>\n",
       "      <th>25</th>\n",
       "      <td>df2</td>\n",
       "      <td>none</td>\n",
       "      <td>GRU</td>\n",
       "      <td>119.186857</td>\n",
       "      <td>0.682769</td>\n",
       "    </tr>\n",
       "    <tr>\n",
       "      <th>26</th>\n",
       "      <td>df2</td>\n",
       "      <td>none</td>\n",
       "      <td>CNN-LSTM</td>\n",
       "      <td>565.121549</td>\n",
       "      <td>1.717470</td>\n",
       "    </tr>\n",
       "    <tr>\n",
       "      <th>27</th>\n",
       "      <td>df2</td>\n",
       "      <td>none</td>\n",
       "      <td>CNN-GRU</td>\n",
       "      <td>1165.251091</td>\n",
       "      <td>2.551289</td>\n",
       "    </tr>\n",
       "    <tr>\n",
       "      <th>28</th>\n",
       "      <td>df2</td>\n",
       "      <td>vif</td>\n",
       "      <td>LSTM</td>\n",
       "      <td>5767.830316</td>\n",
       "      <td>5.400055</td>\n",
       "    </tr>\n",
       "    <tr>\n",
       "      <th>29</th>\n",
       "      <td>df2</td>\n",
       "      <td>vif</td>\n",
       "      <td>GRU</td>\n",
       "      <td>5914.925138</td>\n",
       "      <td>5.549479</td>\n",
       "    </tr>\n",
       "    <tr>\n",
       "      <th>30</th>\n",
       "      <td>df2</td>\n",
       "      <td>vif</td>\n",
       "      <td>CNN-LSTM</td>\n",
       "      <td>7177.563263</td>\n",
       "      <td>5.861663</td>\n",
       "    </tr>\n",
       "    <tr>\n",
       "      <th>31</th>\n",
       "      <td>df2</td>\n",
       "      <td>vif</td>\n",
       "      <td>CNN-GRU</td>\n",
       "      <td>8403.653121</td>\n",
       "      <td>6.369648</td>\n",
       "    </tr>\n",
       "    <tr>\n",
       "      <th>32</th>\n",
       "      <td>df2</td>\n",
       "      <td>pca</td>\n",
       "      <td>LSTM</td>\n",
       "      <td>1218.135086</td>\n",
       "      <td>2.752454</td>\n",
       "    </tr>\n",
       "    <tr>\n",
       "      <th>33</th>\n",
       "      <td>df2</td>\n",
       "      <td>pca</td>\n",
       "      <td>GRU</td>\n",
       "      <td>324.324365</td>\n",
       "      <td>1.316306</td>\n",
       "    </tr>\n",
       "    <tr>\n",
       "      <th>34</th>\n",
       "      <td>df2</td>\n",
       "      <td>pca</td>\n",
       "      <td>CNN-LSTM</td>\n",
       "      <td>928.571926</td>\n",
       "      <td>2.228397</td>\n",
       "    </tr>\n",
       "    <tr>\n",
       "      <th>35</th>\n",
       "      <td>df2</td>\n",
       "      <td>pca</td>\n",
       "      <td>CNN-GRU</td>\n",
       "      <td>642.429834</td>\n",
       "      <td>1.857762</td>\n",
       "    </tr>\n",
       "    <tr>\n",
       "      <th>36</th>\n",
       "      <td>df3</td>\n",
       "      <td>none</td>\n",
       "      <td>LSTM</td>\n",
       "      <td>166.175132</td>\n",
       "      <td>0.927959</td>\n",
       "    </tr>\n",
       "    <tr>\n",
       "      <th>37</th>\n",
       "      <td>df3</td>\n",
       "      <td>none</td>\n",
       "      <td>GRU</td>\n",
       "      <td>120.490992</td>\n",
       "      <td>0.777672</td>\n",
       "    </tr>\n",
       "    <tr>\n",
       "      <th>38</th>\n",
       "      <td>df3</td>\n",
       "      <td>none</td>\n",
       "      <td>CNN-LSTM</td>\n",
       "      <td>1542.844734</td>\n",
       "      <td>2.922803</td>\n",
       "    </tr>\n",
       "    <tr>\n",
       "      <th>39</th>\n",
       "      <td>df3</td>\n",
       "      <td>none</td>\n",
       "      <td>CNN-GRU</td>\n",
       "      <td>361.065906</td>\n",
       "      <td>1.349739</td>\n",
       "    </tr>\n",
       "    <tr>\n",
       "      <th>40</th>\n",
       "      <td>df3</td>\n",
       "      <td>vif</td>\n",
       "      <td>LSTM</td>\n",
       "      <td>5782.796624</td>\n",
       "      <td>5.473387</td>\n",
       "    </tr>\n",
       "    <tr>\n",
       "      <th>41</th>\n",
       "      <td>df3</td>\n",
       "      <td>vif</td>\n",
       "      <td>GRU</td>\n",
       "      <td>4567.299412</td>\n",
       "      <td>4.808135</td>\n",
       "    </tr>\n",
       "    <tr>\n",
       "      <th>42</th>\n",
       "      <td>df3</td>\n",
       "      <td>vif</td>\n",
       "      <td>CNN-LSTM</td>\n",
       "      <td>7517.637363</td>\n",
       "      <td>6.074611</td>\n",
       "    </tr>\n",
       "    <tr>\n",
       "      <th>43</th>\n",
       "      <td>df3</td>\n",
       "      <td>vif</td>\n",
       "      <td>CNN-GRU</td>\n",
       "      <td>8952.671732</td>\n",
       "      <td>6.591937</td>\n",
       "    </tr>\n",
       "    <tr>\n",
       "      <th>44</th>\n",
       "      <td>df3</td>\n",
       "      <td>pca</td>\n",
       "      <td>LSTM</td>\n",
       "      <td>187.570625</td>\n",
       "      <td>0.900586</td>\n",
       "    </tr>\n",
       "    <tr>\n",
       "      <th>45</th>\n",
       "      <td>df3</td>\n",
       "      <td>pca</td>\n",
       "      <td>GRU</td>\n",
       "      <td>439.260032</td>\n",
       "      <td>1.544126</td>\n",
       "    </tr>\n",
       "    <tr>\n",
       "      <th>46</th>\n",
       "      <td>df3</td>\n",
       "      <td>pca</td>\n",
       "      <td>CNN-LSTM</td>\n",
       "      <td>310.623482</td>\n",
       "      <td>1.224991</td>\n",
       "    </tr>\n",
       "    <tr>\n",
       "      <th>47</th>\n",
       "      <td>df3</td>\n",
       "      <td>pca</td>\n",
       "      <td>CNN-GRU</td>\n",
       "      <td>696.148456</td>\n",
       "      <td>1.838327</td>\n",
       "    </tr>\n",
       "    <tr>\n",
       "      <th>48</th>\n",
       "      <td>df4</td>\n",
       "      <td>none</td>\n",
       "      <td>LSTM</td>\n",
       "      <td>315.981002</td>\n",
       "      <td>1.268531</td>\n",
       "    </tr>\n",
       "    <tr>\n",
       "      <th>49</th>\n",
       "      <td>df4</td>\n",
       "      <td>none</td>\n",
       "      <td>GRU</td>\n",
       "      <td>65.008927</td>\n",
       "      <td>0.570848</td>\n",
       "    </tr>\n",
       "    <tr>\n",
       "      <th>50</th>\n",
       "      <td>df4</td>\n",
       "      <td>none</td>\n",
       "      <td>CNN-LSTM</td>\n",
       "      <td>1296.840788</td>\n",
       "      <td>2.597632</td>\n",
       "    </tr>\n",
       "    <tr>\n",
       "      <th>51</th>\n",
       "      <td>df4</td>\n",
       "      <td>none</td>\n",
       "      <td>CNN-GRU</td>\n",
       "      <td>522.659887</td>\n",
       "      <td>1.602517</td>\n",
       "    </tr>\n",
       "    <tr>\n",
       "      <th>52</th>\n",
       "      <td>df4</td>\n",
       "      <td>vif</td>\n",
       "      <td>LSTM</td>\n",
       "      <td>6463.353893</td>\n",
       "      <td>5.771982</td>\n",
       "    </tr>\n",
       "    <tr>\n",
       "      <th>53</th>\n",
       "      <td>df4</td>\n",
       "      <td>vif</td>\n",
       "      <td>GRU</td>\n",
       "      <td>5077.894354</td>\n",
       "      <td>5.029524</td>\n",
       "    </tr>\n",
       "    <tr>\n",
       "      <th>54</th>\n",
       "      <td>df4</td>\n",
       "      <td>vif</td>\n",
       "      <td>CNN-LSTM</td>\n",
       "      <td>7616.423321</td>\n",
       "      <td>6.232949</td>\n",
       "    </tr>\n",
       "    <tr>\n",
       "      <th>55</th>\n",
       "      <td>df4</td>\n",
       "      <td>vif</td>\n",
       "      <td>CNN-GRU</td>\n",
       "      <td>7579.663053</td>\n",
       "      <td>6.101705</td>\n",
       "    </tr>\n",
       "    <tr>\n",
       "      <th>56</th>\n",
       "      <td>df4</td>\n",
       "      <td>pca</td>\n",
       "      <td>LSTM</td>\n",
       "      <td>223.278828</td>\n",
       "      <td>1.034394</td>\n",
       "    </tr>\n",
       "    <tr>\n",
       "      <th>57</th>\n",
       "      <td>df4</td>\n",
       "      <td>pca</td>\n",
       "      <td>GRU</td>\n",
       "      <td>348.063166</td>\n",
       "      <td>1.348823</td>\n",
       "    </tr>\n",
       "    <tr>\n",
       "      <th>58</th>\n",
       "      <td>df4</td>\n",
       "      <td>pca</td>\n",
       "      <td>CNN-LSTM</td>\n",
       "      <td>1172.925150</td>\n",
       "      <td>2.595989</td>\n",
       "    </tr>\n",
       "    <tr>\n",
       "      <th>59</th>\n",
       "      <td>df4</td>\n",
       "      <td>pca</td>\n",
       "      <td>CNN-GRU</td>\n",
       "      <td>1220.444022</td>\n",
       "      <td>2.529707</td>\n",
       "    </tr>\n",
       "    <tr>\n",
       "      <th>60</th>\n",
       "      <td>df5</td>\n",
       "      <td>none</td>\n",
       "      <td>LSTM</td>\n",
       "      <td>551.624913</td>\n",
       "      <td>1.630757</td>\n",
       "    </tr>\n",
       "    <tr>\n",
       "      <th>61</th>\n",
       "      <td>df5</td>\n",
       "      <td>none</td>\n",
       "      <td>GRU</td>\n",
       "      <td>115.552784</td>\n",
       "      <td>0.761870</td>\n",
       "    </tr>\n",
       "    <tr>\n",
       "      <th>62</th>\n",
       "      <td>df5</td>\n",
       "      <td>none</td>\n",
       "      <td>CNN-LSTM</td>\n",
       "      <td>629.146156</td>\n",
       "      <td>1.799070</td>\n",
       "    </tr>\n",
       "    <tr>\n",
       "      <th>63</th>\n",
       "      <td>df5</td>\n",
       "      <td>none</td>\n",
       "      <td>CNN-GRU</td>\n",
       "      <td>765.936885</td>\n",
       "      <td>1.925087</td>\n",
       "    </tr>\n",
       "    <tr>\n",
       "      <th>64</th>\n",
       "      <td>df5</td>\n",
       "      <td>vif</td>\n",
       "      <td>LSTM</td>\n",
       "      <td>5526.991191</td>\n",
       "      <td>5.318130</td>\n",
       "    </tr>\n",
       "    <tr>\n",
       "      <th>65</th>\n",
       "      <td>df5</td>\n",
       "      <td>vif</td>\n",
       "      <td>GRU</td>\n",
       "      <td>5642.994553</td>\n",
       "      <td>5.372743</td>\n",
       "    </tr>\n",
       "    <tr>\n",
       "      <th>66</th>\n",
       "      <td>df5</td>\n",
       "      <td>vif</td>\n",
       "      <td>CNN-LSTM</td>\n",
       "      <td>6830.015336</td>\n",
       "      <td>5.768191</td>\n",
       "    </tr>\n",
       "    <tr>\n",
       "      <th>67</th>\n",
       "      <td>df5</td>\n",
       "      <td>vif</td>\n",
       "      <td>CNN-GRU</td>\n",
       "      <td>7968.993468</td>\n",
       "      <td>6.302381</td>\n",
       "    </tr>\n",
       "    <tr>\n",
       "      <th>68</th>\n",
       "      <td>df5</td>\n",
       "      <td>pca</td>\n",
       "      <td>LSTM</td>\n",
       "      <td>324.892844</td>\n",
       "      <td>1.178599</td>\n",
       "    </tr>\n",
       "    <tr>\n",
       "      <th>69</th>\n",
       "      <td>df5</td>\n",
       "      <td>pca</td>\n",
       "      <td>GRU</td>\n",
       "      <td>407.010255</td>\n",
       "      <td>1.421290</td>\n",
       "    </tr>\n",
       "    <tr>\n",
       "      <th>70</th>\n",
       "      <td>df5</td>\n",
       "      <td>pca</td>\n",
       "      <td>CNN-LSTM</td>\n",
       "      <td>270.292379</td>\n",
       "      <td>1.101008</td>\n",
       "    </tr>\n",
       "    <tr>\n",
       "      <th>71</th>\n",
       "      <td>df5</td>\n",
       "      <td>pca</td>\n",
       "      <td>CNN-GRU</td>\n",
       "      <td>816.008706</td>\n",
       "      <td>2.116027</td>\n",
       "    </tr>\n",
       "    <tr>\n",
       "      <th>72</th>\n",
       "      <td>df6</td>\n",
       "      <td>none</td>\n",
       "      <td>LSTM</td>\n",
       "      <td>650.976048</td>\n",
       "      <td>1.885201</td>\n",
       "    </tr>\n",
       "    <tr>\n",
       "      <th>73</th>\n",
       "      <td>df6</td>\n",
       "      <td>none</td>\n",
       "      <td>GRU</td>\n",
       "      <td>265.796445</td>\n",
       "      <td>0.945140</td>\n",
       "    </tr>\n",
       "    <tr>\n",
       "      <th>74</th>\n",
       "      <td>df6</td>\n",
       "      <td>none</td>\n",
       "      <td>CNN-LSTM</td>\n",
       "      <td>532.592156</td>\n",
       "      <td>1.645894</td>\n",
       "    </tr>\n",
       "    <tr>\n",
       "      <th>75</th>\n",
       "      <td>df6</td>\n",
       "      <td>none</td>\n",
       "      <td>CNN-GRU</td>\n",
       "      <td>1000.519310</td>\n",
       "      <td>2.249238</td>\n",
       "    </tr>\n",
       "    <tr>\n",
       "      <th>76</th>\n",
       "      <td>df6</td>\n",
       "      <td>vif</td>\n",
       "      <td>LSTM</td>\n",
       "      <td>5386.353099</td>\n",
       "      <td>5.253878</td>\n",
       "    </tr>\n",
       "    <tr>\n",
       "      <th>77</th>\n",
       "      <td>df6</td>\n",
       "      <td>vif</td>\n",
       "      <td>GRU</td>\n",
       "      <td>5608.393835</td>\n",
       "      <td>5.399861</td>\n",
       "    </tr>\n",
       "    <tr>\n",
       "      <th>78</th>\n",
       "      <td>df6</td>\n",
       "      <td>vif</td>\n",
       "      <td>CNN-LSTM</td>\n",
       "      <td>6145.990528</td>\n",
       "      <td>5.487915</td>\n",
       "    </tr>\n",
       "    <tr>\n",
       "      <th>79</th>\n",
       "      <td>df6</td>\n",
       "      <td>vif</td>\n",
       "      <td>CNN-GRU</td>\n",
       "      <td>7522.129373</td>\n",
       "      <td>5.931978</td>\n",
       "    </tr>\n",
       "    <tr>\n",
       "      <th>80</th>\n",
       "      <td>df6</td>\n",
       "      <td>pca</td>\n",
       "      <td>LSTM</td>\n",
       "      <td>962.255518</td>\n",
       "      <td>2.249696</td>\n",
       "    </tr>\n",
       "    <tr>\n",
       "      <th>81</th>\n",
       "      <td>df6</td>\n",
       "      <td>pca</td>\n",
       "      <td>GRU</td>\n",
       "      <td>535.780962</td>\n",
       "      <td>1.659330</td>\n",
       "    </tr>\n",
       "    <tr>\n",
       "      <th>82</th>\n",
       "      <td>df6</td>\n",
       "      <td>pca</td>\n",
       "      <td>CNN-LSTM</td>\n",
       "      <td>949.809057</td>\n",
       "      <td>2.296316</td>\n",
       "    </tr>\n",
       "    <tr>\n",
       "      <th>83</th>\n",
       "      <td>df6</td>\n",
       "      <td>pca</td>\n",
       "      <td>CNN-GRU</td>\n",
       "      <td>756.050853</td>\n",
       "      <td>1.983017</td>\n",
       "    </tr>\n",
       "    <tr>\n",
       "      <th>84</th>\n",
       "      <td>df7</td>\n",
       "      <td>none</td>\n",
       "      <td>LSTM</td>\n",
       "      <td>108.038255</td>\n",
       "      <td>0.695156</td>\n",
       "    </tr>\n",
       "    <tr>\n",
       "      <th>85</th>\n",
       "      <td>df7</td>\n",
       "      <td>none</td>\n",
       "      <td>GRU</td>\n",
       "      <td>92.059044</td>\n",
       "      <td>0.625569</td>\n",
       "    </tr>\n",
       "    <tr>\n",
       "      <th>86</th>\n",
       "      <td>df7</td>\n",
       "      <td>none</td>\n",
       "      <td>CNN-LSTM</td>\n",
       "      <td>1611.645268</td>\n",
       "      <td>2.960735</td>\n",
       "    </tr>\n",
       "    <tr>\n",
       "      <th>87</th>\n",
       "      <td>df7</td>\n",
       "      <td>none</td>\n",
       "      <td>CNN-GRU</td>\n",
       "      <td>1202.960430</td>\n",
       "      <td>2.527155</td>\n",
       "    </tr>\n",
       "    <tr>\n",
       "      <th>88</th>\n",
       "      <td>df7</td>\n",
       "      <td>vif</td>\n",
       "      <td>LSTM</td>\n",
       "      <td>5142.794551</td>\n",
       "      <td>5.076647</td>\n",
       "    </tr>\n",
       "    <tr>\n",
       "      <th>89</th>\n",
       "      <td>df7</td>\n",
       "      <td>vif</td>\n",
       "      <td>GRU</td>\n",
       "      <td>5741.121256</td>\n",
       "      <td>5.390490</td>\n",
       "    </tr>\n",
       "    <tr>\n",
       "      <th>90</th>\n",
       "      <td>df7</td>\n",
       "      <td>vif</td>\n",
       "      <td>CNN-LSTM</td>\n",
       "      <td>8021.606501</td>\n",
       "      <td>6.239857</td>\n",
       "    </tr>\n",
       "    <tr>\n",
       "      <th>91</th>\n",
       "      <td>df7</td>\n",
       "      <td>vif</td>\n",
       "      <td>CNN-GRU</td>\n",
       "      <td>8664.488361</td>\n",
       "      <td>6.661866</td>\n",
       "    </tr>\n",
       "    <tr>\n",
       "      <th>92</th>\n",
       "      <td>df7</td>\n",
       "      <td>pca</td>\n",
       "      <td>LSTM</td>\n",
       "      <td>192.529331</td>\n",
       "      <td>0.851917</td>\n",
       "    </tr>\n",
       "    <tr>\n",
       "      <th>93</th>\n",
       "      <td>df7</td>\n",
       "      <td>pca</td>\n",
       "      <td>GRU</td>\n",
       "      <td>144.521684</td>\n",
       "      <td>0.772527</td>\n",
       "    </tr>\n",
       "    <tr>\n",
       "      <th>94</th>\n",
       "      <td>df7</td>\n",
       "      <td>pca</td>\n",
       "      <td>CNN-LSTM</td>\n",
       "      <td>2001.872240</td>\n",
       "      <td>3.400316</td>\n",
       "    </tr>\n",
       "    <tr>\n",
       "      <th>95</th>\n",
       "      <td>df7</td>\n",
       "      <td>pca</td>\n",
       "      <td>CNN-GRU</td>\n",
       "      <td>1279.219069</td>\n",
       "      <td>2.644281</td>\n",
       "    </tr>\n",
       "    <tr>\n",
       "      <th>96</th>\n",
       "      <td>df8</td>\n",
       "      <td>none</td>\n",
       "      <td>LSTM</td>\n",
       "      <td>211.475292</td>\n",
       "      <td>1.006951</td>\n",
       "    </tr>\n",
       "    <tr>\n",
       "      <th>97</th>\n",
       "      <td>df8</td>\n",
       "      <td>none</td>\n",
       "      <td>GRU</td>\n",
       "      <td>70.984250</td>\n",
       "      <td>0.557374</td>\n",
       "    </tr>\n",
       "    <tr>\n",
       "      <th>98</th>\n",
       "      <td>df8</td>\n",
       "      <td>none</td>\n",
       "      <td>CNN-LSTM</td>\n",
       "      <td>1632.039987</td>\n",
       "      <td>3.033023</td>\n",
       "    </tr>\n",
       "    <tr>\n",
       "      <th>99</th>\n",
       "      <td>df8</td>\n",
       "      <td>none</td>\n",
       "      <td>CNN-GRU</td>\n",
       "      <td>930.799198</td>\n",
       "      <td>2.207859</td>\n",
       "    </tr>\n",
       "    <tr>\n",
       "      <th>100</th>\n",
       "      <td>df8</td>\n",
       "      <td>vif</td>\n",
       "      <td>LSTM</td>\n",
       "      <td>5487.133943</td>\n",
       "      <td>4.932082</td>\n",
       "    </tr>\n",
       "    <tr>\n",
       "      <th>101</th>\n",
       "      <td>df8</td>\n",
       "      <td>vif</td>\n",
       "      <td>GRU</td>\n",
       "      <td>6535.349095</td>\n",
       "      <td>5.861793</td>\n",
       "    </tr>\n",
       "    <tr>\n",
       "      <th>102</th>\n",
       "      <td>df8</td>\n",
       "      <td>vif</td>\n",
       "      <td>CNN-LSTM</td>\n",
       "      <td>7736.263308</td>\n",
       "      <td>6.143592</td>\n",
       "    </tr>\n",
       "    <tr>\n",
       "      <th>103</th>\n",
       "      <td>df8</td>\n",
       "      <td>vif</td>\n",
       "      <td>CNN-GRU</td>\n",
       "      <td>7324.402051</td>\n",
       "      <td>6.004409</td>\n",
       "    </tr>\n",
       "    <tr>\n",
       "      <th>104</th>\n",
       "      <td>df8</td>\n",
       "      <td>pca</td>\n",
       "      <td>LSTM</td>\n",
       "      <td>684.645583</td>\n",
       "      <td>1.806105</td>\n",
       "    </tr>\n",
       "    <tr>\n",
       "      <th>105</th>\n",
       "      <td>df8</td>\n",
       "      <td>pca</td>\n",
       "      <td>GRU</td>\n",
       "      <td>194.732595</td>\n",
       "      <td>0.926132</td>\n",
       "    </tr>\n",
       "    <tr>\n",
       "      <th>106</th>\n",
       "      <td>df8</td>\n",
       "      <td>pca</td>\n",
       "      <td>CNN-LSTM</td>\n",
       "      <td>914.299784</td>\n",
       "      <td>2.269909</td>\n",
       "    </tr>\n",
       "    <tr>\n",
       "      <th>107</th>\n",
       "      <td>df8</td>\n",
       "      <td>pca</td>\n",
       "      <td>CNN-GRU</td>\n",
       "      <td>418.169310</td>\n",
       "      <td>1.448737</td>\n",
       "    </tr>\n",
       "    <tr>\n",
       "      <th>108</th>\n",
       "      <td>df9</td>\n",
       "      <td>none</td>\n",
       "      <td>LSTM</td>\n",
       "      <td>1069.773975</td>\n",
       "      <td>2.356161</td>\n",
       "    </tr>\n",
       "    <tr>\n",
       "      <th>109</th>\n",
       "      <td>df9</td>\n",
       "      <td>none</td>\n",
       "      <td>GRU</td>\n",
       "      <td>152.939448</td>\n",
       "      <td>0.890141</td>\n",
       "    </tr>\n",
       "    <tr>\n",
       "      <th>110</th>\n",
       "      <td>df9</td>\n",
       "      <td>none</td>\n",
       "      <td>CNN-LSTM</td>\n",
       "      <td>991.433580</td>\n",
       "      <td>2.241234</td>\n",
       "    </tr>\n",
       "    <tr>\n",
       "      <th>111</th>\n",
       "      <td>df9</td>\n",
       "      <td>none</td>\n",
       "      <td>CNN-GRU</td>\n",
       "      <td>508.743382</td>\n",
       "      <td>1.615723</td>\n",
       "    </tr>\n",
       "    <tr>\n",
       "      <th>112</th>\n",
       "      <td>df9</td>\n",
       "      <td>vif</td>\n",
       "      <td>LSTM</td>\n",
       "      <td>4937.460916</td>\n",
       "      <td>4.757279</td>\n",
       "    </tr>\n",
       "    <tr>\n",
       "      <th>113</th>\n",
       "      <td>df9</td>\n",
       "      <td>vif</td>\n",
       "      <td>GRU</td>\n",
       "      <td>5109.175756</td>\n",
       "      <td>4.998160</td>\n",
       "    </tr>\n",
       "    <tr>\n",
       "      <th>114</th>\n",
       "      <td>df9</td>\n",
       "      <td>vif</td>\n",
       "      <td>CNN-LSTM</td>\n",
       "      <td>5967.975926</td>\n",
       "      <td>5.370791</td>\n",
       "    </tr>\n",
       "    <tr>\n",
       "      <th>115</th>\n",
       "      <td>df9</td>\n",
       "      <td>vif</td>\n",
       "      <td>CNN-GRU</td>\n",
       "      <td>5903.799724</td>\n",
       "      <td>5.277629</td>\n",
       "    </tr>\n",
       "    <tr>\n",
       "      <th>116</th>\n",
       "      <td>df9</td>\n",
       "      <td>pca</td>\n",
       "      <td>LSTM</td>\n",
       "      <td>410.652279</td>\n",
       "      <td>1.372119</td>\n",
       "    </tr>\n",
       "    <tr>\n",
       "      <th>117</th>\n",
       "      <td>df9</td>\n",
       "      <td>pca</td>\n",
       "      <td>GRU</td>\n",
       "      <td>75.800309</td>\n",
       "      <td>0.588409</td>\n",
       "    </tr>\n",
       "    <tr>\n",
       "      <th>118</th>\n",
       "      <td>df9</td>\n",
       "      <td>pca</td>\n",
       "      <td>CNN-LSTM</td>\n",
       "      <td>885.479176</td>\n",
       "      <td>2.190351</td>\n",
       "    </tr>\n",
       "    <tr>\n",
       "      <th>119</th>\n",
       "      <td>df9</td>\n",
       "      <td>pca</td>\n",
       "      <td>CNN-GRU</td>\n",
       "      <td>970.667958</td>\n",
       "      <td>2.280619</td>\n",
       "    </tr>\n",
       "    <tr>\n",
       "      <th>120</th>\n",
       "      <td>df10</td>\n",
       "      <td>none</td>\n",
       "      <td>LSTM</td>\n",
       "      <td>313.050374</td>\n",
       "      <td>1.300204</td>\n",
       "    </tr>\n",
       "    <tr>\n",
       "      <th>121</th>\n",
       "      <td>df10</td>\n",
       "      <td>none</td>\n",
       "      <td>GRU</td>\n",
       "      <td>103.675716</td>\n",
       "      <td>0.709543</td>\n",
       "    </tr>\n",
       "    <tr>\n",
       "      <th>122</th>\n",
       "      <td>df10</td>\n",
       "      <td>none</td>\n",
       "      <td>CNN-LSTM</td>\n",
       "      <td>681.363633</td>\n",
       "      <td>1.840862</td>\n",
       "    </tr>\n",
       "    <tr>\n",
       "      <th>123</th>\n",
       "      <td>df10</td>\n",
       "      <td>none</td>\n",
       "      <td>CNN-GRU</td>\n",
       "      <td>729.463639</td>\n",
       "      <td>1.937297</td>\n",
       "    </tr>\n",
       "    <tr>\n",
       "      <th>124</th>\n",
       "      <td>df10</td>\n",
       "      <td>vif</td>\n",
       "      <td>LSTM</td>\n",
       "      <td>6060.127633</td>\n",
       "      <td>5.571958</td>\n",
       "    </tr>\n",
       "    <tr>\n",
       "      <th>125</th>\n",
       "      <td>df10</td>\n",
       "      <td>vif</td>\n",
       "      <td>GRU</td>\n",
       "      <td>6162.937836</td>\n",
       "      <td>5.482629</td>\n",
       "    </tr>\n",
       "    <tr>\n",
       "      <th>126</th>\n",
       "      <td>df10</td>\n",
       "      <td>vif</td>\n",
       "      <td>CNN-LSTM</td>\n",
       "      <td>6451.040319</td>\n",
       "      <td>5.512480</td>\n",
       "    </tr>\n",
       "    <tr>\n",
       "      <th>127</th>\n",
       "      <td>df10</td>\n",
       "      <td>vif</td>\n",
       "      <td>CNN-GRU</td>\n",
       "      <td>7176.728896</td>\n",
       "      <td>5.816646</td>\n",
       "    </tr>\n",
       "    <tr>\n",
       "      <th>128</th>\n",
       "      <td>df10</td>\n",
       "      <td>pca</td>\n",
       "      <td>LSTM</td>\n",
       "      <td>847.863305</td>\n",
       "      <td>2.184022</td>\n",
       "    </tr>\n",
       "    <tr>\n",
       "      <th>129</th>\n",
       "      <td>df10</td>\n",
       "      <td>pca</td>\n",
       "      <td>GRU</td>\n",
       "      <td>77.690261</td>\n",
       "      <td>0.606338</td>\n",
       "    </tr>\n",
       "    <tr>\n",
       "      <th>130</th>\n",
       "      <td>df10</td>\n",
       "      <td>pca</td>\n",
       "      <td>CNN-LSTM</td>\n",
       "      <td>523.820358</td>\n",
       "      <td>1.550043</td>\n",
       "    </tr>\n",
       "    <tr>\n",
       "      <th>131</th>\n",
       "      <td>df10</td>\n",
       "      <td>pca</td>\n",
       "      <td>CNN-GRU</td>\n",
       "      <td>1071.119405</td>\n",
       "      <td>2.429248</td>\n",
       "    </tr>\n",
       "  </tbody>\n",
       "</table>\n",
       "</div>"
      ],
      "text/plain": [
       "     데이터셋    방식       모델명          MSE  MAPE (%)\n",
       "0     df0  none      LSTM   171.050009  0.919400\n",
       "1     df0  none       GRU   391.894161  1.414386\n",
       "2     df0  none  CNN-LSTM  1231.639387  2.515150\n",
       "3     df0  none   CNN-GRU   732.918743  1.890148\n",
       "4     df0   vif      LSTM  5811.922864  5.467949\n",
       "5     df0   vif       GRU  5587.782809  5.378412\n",
       "6     df0   vif  CNN-LSTM  7586.708882  6.109544\n",
       "7     df0   vif   CNN-GRU  8057.765599  6.294687\n",
       "8     df0   pca      LSTM   767.386837  2.057931\n",
       "9     df0   pca       GRU   163.786329  0.891455\n",
       "10    df0   pca  CNN-LSTM   980.578898  2.320715\n",
       "11    df0   pca   CNN-GRU  1320.843301  2.737731\n",
       "12    df1  none      LSTM   621.010584  1.842517\n",
       "13    df1  none       GRU   162.262649  0.910703\n",
       "14    df1  none  CNN-LSTM  1658.676179  2.983353\n",
       "15    df1  none   CNN-GRU   775.925019  2.028248\n",
       "16    df1   vif      LSTM  5461.017571  5.249630\n",
       "17    df1   vif       GRU  5065.675961  5.044386\n",
       "18    df1   vif  CNN-LSTM  6971.656039  5.828614\n",
       "19    df1   vif   CNN-GRU  6671.446366  5.616523\n",
       "20    df1   pca      LSTM   212.700735  0.902042\n",
       "21    df1   pca       GRU   134.276064  0.753483\n",
       "22    df1   pca  CNN-LSTM   450.549464  1.473949\n",
       "23    df1   pca   CNN-GRU   905.116438  2.182728\n",
       "24    df2  none      LSTM   206.699972  1.057031\n",
       "25    df2  none       GRU   119.186857  0.682769\n",
       "26    df2  none  CNN-LSTM   565.121549  1.717470\n",
       "27    df2  none   CNN-GRU  1165.251091  2.551289\n",
       "28    df2   vif      LSTM  5767.830316  5.400055\n",
       "29    df2   vif       GRU  5914.925138  5.549479\n",
       "30    df2   vif  CNN-LSTM  7177.563263  5.861663\n",
       "31    df2   vif   CNN-GRU  8403.653121  6.369648\n",
       "32    df2   pca      LSTM  1218.135086  2.752454\n",
       "33    df2   pca       GRU   324.324365  1.316306\n",
       "34    df2   pca  CNN-LSTM   928.571926  2.228397\n",
       "35    df2   pca   CNN-GRU   642.429834  1.857762\n",
       "36    df3  none      LSTM   166.175132  0.927959\n",
       "37    df3  none       GRU   120.490992  0.777672\n",
       "38    df3  none  CNN-LSTM  1542.844734  2.922803\n",
       "39    df3  none   CNN-GRU   361.065906  1.349739\n",
       "40    df3   vif      LSTM  5782.796624  5.473387\n",
       "41    df3   vif       GRU  4567.299412  4.808135\n",
       "42    df3   vif  CNN-LSTM  7517.637363  6.074611\n",
       "43    df3   vif   CNN-GRU  8952.671732  6.591937\n",
       "44    df3   pca      LSTM   187.570625  0.900586\n",
       "45    df3   pca       GRU   439.260032  1.544126\n",
       "46    df3   pca  CNN-LSTM   310.623482  1.224991\n",
       "47    df3   pca   CNN-GRU   696.148456  1.838327\n",
       "48    df4  none      LSTM   315.981002  1.268531\n",
       "49    df4  none       GRU    65.008927  0.570848\n",
       "50    df4  none  CNN-LSTM  1296.840788  2.597632\n",
       "51    df4  none   CNN-GRU   522.659887  1.602517\n",
       "52    df4   vif      LSTM  6463.353893  5.771982\n",
       "53    df4   vif       GRU  5077.894354  5.029524\n",
       "54    df4   vif  CNN-LSTM  7616.423321  6.232949\n",
       "55    df4   vif   CNN-GRU  7579.663053  6.101705\n",
       "56    df4   pca      LSTM   223.278828  1.034394\n",
       "57    df4   pca       GRU   348.063166  1.348823\n",
       "58    df4   pca  CNN-LSTM  1172.925150  2.595989\n",
       "59    df4   pca   CNN-GRU  1220.444022  2.529707\n",
       "60    df5  none      LSTM   551.624913  1.630757\n",
       "61    df5  none       GRU   115.552784  0.761870\n",
       "62    df5  none  CNN-LSTM   629.146156  1.799070\n",
       "63    df5  none   CNN-GRU   765.936885  1.925087\n",
       "64    df5   vif      LSTM  5526.991191  5.318130\n",
       "65    df5   vif       GRU  5642.994553  5.372743\n",
       "66    df5   vif  CNN-LSTM  6830.015336  5.768191\n",
       "67    df5   vif   CNN-GRU  7968.993468  6.302381\n",
       "68    df5   pca      LSTM   324.892844  1.178599\n",
       "69    df5   pca       GRU   407.010255  1.421290\n",
       "70    df5   pca  CNN-LSTM   270.292379  1.101008\n",
       "71    df5   pca   CNN-GRU   816.008706  2.116027\n",
       "72    df6  none      LSTM   650.976048  1.885201\n",
       "73    df6  none       GRU   265.796445  0.945140\n",
       "74    df6  none  CNN-LSTM   532.592156  1.645894\n",
       "75    df6  none   CNN-GRU  1000.519310  2.249238\n",
       "76    df6   vif      LSTM  5386.353099  5.253878\n",
       "77    df6   vif       GRU  5608.393835  5.399861\n",
       "78    df6   vif  CNN-LSTM  6145.990528  5.487915\n",
       "79    df6   vif   CNN-GRU  7522.129373  5.931978\n",
       "80    df6   pca      LSTM   962.255518  2.249696\n",
       "81    df6   pca       GRU   535.780962  1.659330\n",
       "82    df6   pca  CNN-LSTM   949.809057  2.296316\n",
       "83    df6   pca   CNN-GRU   756.050853  1.983017\n",
       "84    df7  none      LSTM   108.038255  0.695156\n",
       "85    df7  none       GRU    92.059044  0.625569\n",
       "86    df7  none  CNN-LSTM  1611.645268  2.960735\n",
       "87    df7  none   CNN-GRU  1202.960430  2.527155\n",
       "88    df7   vif      LSTM  5142.794551  5.076647\n",
       "89    df7   vif       GRU  5741.121256  5.390490\n",
       "90    df7   vif  CNN-LSTM  8021.606501  6.239857\n",
       "91    df7   vif   CNN-GRU  8664.488361  6.661866\n",
       "92    df7   pca      LSTM   192.529331  0.851917\n",
       "93    df7   pca       GRU   144.521684  0.772527\n",
       "94    df7   pca  CNN-LSTM  2001.872240  3.400316\n",
       "95    df7   pca   CNN-GRU  1279.219069  2.644281\n",
       "96    df8  none      LSTM   211.475292  1.006951\n",
       "97    df8  none       GRU    70.984250  0.557374\n",
       "98    df8  none  CNN-LSTM  1632.039987  3.033023\n",
       "99    df8  none   CNN-GRU   930.799198  2.207859\n",
       "100   df8   vif      LSTM  5487.133943  4.932082\n",
       "101   df8   vif       GRU  6535.349095  5.861793\n",
       "102   df8   vif  CNN-LSTM  7736.263308  6.143592\n",
       "103   df8   vif   CNN-GRU  7324.402051  6.004409\n",
       "104   df8   pca      LSTM   684.645583  1.806105\n",
       "105   df8   pca       GRU   194.732595  0.926132\n",
       "106   df8   pca  CNN-LSTM   914.299784  2.269909\n",
       "107   df8   pca   CNN-GRU   418.169310  1.448737\n",
       "108   df9  none      LSTM  1069.773975  2.356161\n",
       "109   df9  none       GRU   152.939448  0.890141\n",
       "110   df9  none  CNN-LSTM   991.433580  2.241234\n",
       "111   df9  none   CNN-GRU   508.743382  1.615723\n",
       "112   df9   vif      LSTM  4937.460916  4.757279\n",
       "113   df9   vif       GRU  5109.175756  4.998160\n",
       "114   df9   vif  CNN-LSTM  5967.975926  5.370791\n",
       "115   df9   vif   CNN-GRU  5903.799724  5.277629\n",
       "116   df9   pca      LSTM   410.652279  1.372119\n",
       "117   df9   pca       GRU    75.800309  0.588409\n",
       "118   df9   pca  CNN-LSTM   885.479176  2.190351\n",
       "119   df9   pca   CNN-GRU   970.667958  2.280619\n",
       "120  df10  none      LSTM   313.050374  1.300204\n",
       "121  df10  none       GRU   103.675716  0.709543\n",
       "122  df10  none  CNN-LSTM   681.363633  1.840862\n",
       "123  df10  none   CNN-GRU   729.463639  1.937297\n",
       "124  df10   vif      LSTM  6060.127633  5.571958\n",
       "125  df10   vif       GRU  6162.937836  5.482629\n",
       "126  df10   vif  CNN-LSTM  6451.040319  5.512480\n",
       "127  df10   vif   CNN-GRU  7176.728896  5.816646\n",
       "128  df10   pca      LSTM   847.863305  2.184022\n",
       "129  df10   pca       GRU    77.690261  0.606338\n",
       "130  df10   pca  CNN-LSTM   523.820358  1.550043\n",
       "131  df10   pca   CNN-GRU  1071.119405  2.429248"
      ]
     },
     "execution_count": 31,
     "metadata": {},
     "output_type": "execute_result"
    }
   ],
   "source": [
    "print(\"===== 모델 평가 결과 비교 =====\")\n",
    "rows = []\n",
    "for dataset_name, experiment_results in zip(['df0', 'df1','df2','df3','df4',\n",
    "                                            'df5', 'df6','df7','df8','df9','df10'\n",
    "                                            ], \n",
    "                                            \n",
    "                                            [experiment_results_df0, experiment_results_df1, experiment_results_df2,\n",
    "                                             experiment_results_df3, experiment_results_df4, experiment_results_df5,\n",
    "                                             experiment_results_df6, experiment_results_df7, experiment_results_df8,\n",
    "                                             experiment_results_df9, experiment_results_df10\n",
    "                                            ]):\n",
    "    \n",
    "    for method, result in experiment_results.items():\n",
    "        for model_name, model_data in result['models'].items():\n",
    "            mse_val = model_data['metrics']['mse']\n",
    "            mape_val = model_data['metrics']['mape']\n",
    "            rows.append({\n",
    "                '데이터셋': dataset_name,\n",
    "                '방식': method,\n",
    "                '모델명': model_name,\n",
    "                'MSE': mse_val,\n",
    "                'MAPE (%)': mape_val\n",
    "            })\n",
    "\n",
    "# 모든 행 출력 설\n",
    "pd.set_option('display.max_rows', None)\n",
    "\n",
    "# 모든 열 출력 \n",
    "pd.set_option('display.max_columns', None)\n",
    "\n",
    "results_compare_df = pd.DataFrame(rows)\n",
    "results_compare_df"
   ]
  },
  {
   "cell_type": "code",
   "execution_count": 32,
   "id": "297f55e6-514e-4c5d-bfcd-b151f41fdc62",
   "metadata": {},
   "outputs": [
    {
     "name": "stdout",
     "output_type": "stream",
     "text": [
      "===== 시각화 =====\n"
     ]
    },
    {
     "data": {
      "image/png": "[encoded data removed]",
      "text/plain": [
       "<Figure size 1200x600 with 1 Axes>"
      ]
     },
     "metadata": {},
     "output_type": "display_data"
    }
   ],
   "source": [
    "print(\"===== 시각화 =====\")\n",
    "raw_results = experiment_results_df9['pca']\n",
    "plot_time_series_predictions(raw_results['y_test_inv'], raw_results['models'], method=\"none\")"
   ]
  },
  {
   "cell_type": "code",
   "execution_count": null,
   "id": "1ccf772e-6302-474e-b228-8152c6f6b9eb",
   "metadata": {},
   "outputs": [],
   "source": []
  }
 ],
 "metadata": {
  "kernelspec": {
   "display_name": "Python (my_new_env)",
   "language": "python",
   "name": "my_new_env"
  },
  "language_info": {
   "codemirror_mode": {
    "name": "ipython",
    "version": 3
   },
   "file_extension": ".py",
   "mimetype": "text/x-python",
   "name": "python",
   "nbconvert_exporter": "python",
   "pygments_lexer": "ipython3",
   "version": "3.9.20"
  }
 },
 "nbformat": 4,
 "nbformat_minor": 5
}
