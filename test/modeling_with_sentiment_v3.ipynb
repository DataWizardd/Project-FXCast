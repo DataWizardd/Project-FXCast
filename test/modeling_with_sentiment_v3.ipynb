{
 "cells": [
  {
   "cell_type": "markdown",
   "id": "6f061470-95d0-4520-87ca-f1c24f528298",
   "metadata": {},
   "source": [
    "# Library"
   ]
  },
  {
   "cell_type": "code",
   "execution_count": 1,
   "id": "46638eca-b9d5-4a80-97c0-d218bd44d5ff",
   "metadata": {},
   "outputs": [],
   "source": [
    "import os\n",
    "import random\n",
    "import math\n",
    "import pandas as pd\n",
    "import numpy as np\n",
    "import tensorflow as tf\n",
    "import matplotlib.pyplot as plt\n",
    "import seaborn as sns\n",
    "\n",
    "from sklearn.decomposition import PCA\n",
    "from statsmodels.stats.outliers_influence import variance_inflation_factor\n",
    "from sklearn.ensemble import RandomForestRegressor\n",
    "from sklearn.model_selection import train_test_split\n",
    "from sklearn.metrics import mean_squared_error, mean_absolute_percentage_error\n",
    "from sklearn.preprocessing import MinMaxScaler, StandardScaler\n",
    "from tensorflow.keras.models import Sequential\n",
    "from tensorflow.keras.layers import LSTM, GRU, Dense, Conv1D, MaxPooling1D, Flatten, TimeDistributed, Dropout\n",
    "from tensorflow.keras.callbacks import EarlyStopping\n",
    "\n",
    "#os.environ['TF_DETERMINISTIC_OPS'] = '1'\n",
    "plt.rcParams[\"font.family\"] = \"Malgun Gothic\"  "
   ]
  },
  {
   "cell_type": "code",
   "execution_count": 2,
   "id": "d9330d96-4ee2-445b-959b-0fba835d3803",
   "metadata": {},
   "outputs": [],
   "source": [
    "# 시드 고정\n",
    "seed_value = 42\n",
    "os.environ['PYTHONHASHSEED'] = str(seed_value)\n",
    "random.seed(seed_value)\n",
    "np.random.seed(seed_value)\n",
    "tf.random.set_seed(seed_value)"
   ]
  },
  {
   "cell_type": "markdown",
   "id": "85be482a-33a5-447e-8357-1415a2f17609",
   "metadata": {},
   "source": [
    "# Prep"
   ]
  },
  {
   "cell_type": "markdown",
   "id": "2256ff11-95c6-42dc-9075-8505083c6e15",
   "metadata": {},
   "source": [
    "### 긍정 부정 중립"
   ]
  },
  {
   "cell_type": "code",
   "execution_count": 3,
   "id": "01ad387c-eadc-4c33-805f-0fc4dac28859",
   "metadata": {},
   "outputs": [],
   "source": [
    "df_fx = pd.read_csv(r\"C:\\Users\\james\\J_Data_Lab\\Project-FXCast\\data\\df_investing2.csv\")\n",
    "\n",
    "df_sentiment = pd.read_csv(r\"C:\\Users\\james\\J_Data_Lab\\Project-FXCast\\crawler\\data\\naver_finance_news_sentiment_score.csv\")\n",
    "\n",
    "df_fx[\"date\"] = pd.to_datetime(df_fx[\"date\"]).dt.date\n",
    "df_sentiment[\"date\"] = pd.to_datetime(df_sentiment[\"date\"]).dt.date\n",
    "\n",
    "# 병합 \n",
    "df= pd.merge(df_fx, df_sentiment[[\"date\", \"sentiment score\"]], on=\"date\", how=\"left\")"
   ]
  },
  {
   "cell_type": "code",
   "execution_count": 4,
   "id": "2a7beeb8-4a43-4d4a-82ff-e7277b01216e",
   "metadata": {},
   "outputs": [],
   "source": [
    "# 결측치 0으로 채움\n",
    "df[\"sentiment score\"] = df[\"sentiment score\"].fillna(0)"
   ]
  },
  {
   "cell_type": "code",
   "execution_count": 5,
   "id": "49895848-8b18-4f91-b5b6-8ef517f9905e",
   "metadata": {},
   "outputs": [],
   "source": [
    "# scaler 객체 생성\n",
    "scaler = StandardScaler()\n",
    "\n",
    "# 'Z-score 정규화 \n",
    "df['sentiment score'] = scaler.fit_transform(df[['sentiment score']])"
   ]
  },
  {
   "cell_type": "markdown",
   "id": "3f910c1b-d011-4c7e-83e4-ffe7ac0a3fdf",
   "metadata": {},
   "source": [
    "### 긍정 부정"
   ]
  },
  {
   "cell_type": "code",
   "execution_count": 6,
   "id": "a3d3850d-a829-479f-ae13-865894ec6349",
   "metadata": {},
   "outputs": [],
   "source": [
    "df_binary =  pd.read_csv(r\"C:\\Users\\james\\J_Data_Lab\\Project-FXCast\\crawler\\data\\naver_finance_news_binary_sentiment_score.csv\")"
   ]
  },
  {
   "cell_type": "code",
   "execution_count": 7,
   "id": "a0de57c6-3376-44e7-a4ec-ce7219129c47",
   "metadata": {},
   "outputs": [],
   "source": [
    "df_binary['date'] = pd.to_datetime(df_binary['date'].astype(int).astype(str), format=\"%Y%m%d\")\n",
    "#df_binary[\"date\"] = pd.to_datetime(df_binary[\"date\"]).dt.date"
   ]
  },
  {
   "cell_type": "code",
   "execution_count": 8,
   "id": "44685a10-c007-4f40-b0c4-d62c1f32a484",
   "metadata": {},
   "outputs": [],
   "source": [
    "df_fx[\"date\"] = pd.to_datetime(df_fx[\"date\"])"
   ]
  },
  {
   "cell_type": "code",
   "execution_count": 9,
   "id": "9f1c3518-e5ae-45e7-a7e9-34c810f23ae4",
   "metadata": {},
   "outputs": [],
   "source": [
    "df2= pd.merge(df_fx, df_binary[[\"date\", \"sentiment score\"]], on=\"date\", how=\"left\")"
   ]
  },
  {
   "cell_type": "code",
   "execution_count": 10,
   "id": "3bde333a-002c-44fc-b5b6-88729acfc315",
   "metadata": {},
   "outputs": [],
   "source": [
    "df2[\"sentiment score\"] = df2[\"sentiment score\"].fillna(0)"
   ]
  },
  {
   "cell_type": "code",
   "execution_count": 11,
   "id": "45e29e14-fbf2-4f1b-bed1-5316421812ad",
   "metadata": {},
   "outputs": [],
   "source": [
    "scaler = StandardScaler()\n",
    "df2['sentiment score'] = scaler.fit_transform(df2[['sentiment score']])"
   ]
  },
  {
   "cell_type": "markdown",
   "id": "d811e66c-18d7-4ea8-a373-d888df5fe958",
   "metadata": {},
   "source": [
    "### score 0.95 >"
   ]
  },
  {
   "cell_type": "code",
   "execution_count": null,
   "id": "6bc2db8e-f30f-4425-ad9c-7e5a1fc50ebd",
   "metadata": {},
   "outputs": [],
   "source": [
    "# 긍정 부정 중립"
   ]
  },
  {
   "cell_type": "code",
   "execution_count": 33,
   "id": "5e884e2f-246c-4c76-bda3-0c767acd494b",
   "metadata": {},
   "outputs": [],
   "source": [
    "df_filterd =  pd.read_csv(r\"C:\\Users\\james\\J_Data_Lab\\Project-FXCast\\crawler\\data\\naver_finance_news_sentiment_score_filtered.csv\")"
   ]
  },
  {
   "cell_type": "code",
   "execution_count": 34,
   "id": "47dbf984-c999-4136-a534-1ac3ae4dfd1a",
   "metadata": {},
   "outputs": [],
   "source": [
    "df_filterd[\"date\"] = pd.to_datetime(df_filterd[\"date\"]).dt.date"
   ]
  },
  {
   "cell_type": "code",
   "execution_count": 37,
   "id": "e7e3dd06-f1f0-44b4-97ab-3ea1f993851e",
   "metadata": {},
   "outputs": [],
   "source": [
    "df_fx[\"date\"] = pd.to_datetime(df_fx[\"date\"]).dt.date"
   ]
  },
  {
   "cell_type": "code",
   "execution_count": 38,
   "id": "2350de83-adbb-4118-91a5-c27dcf8b6146",
   "metadata": {},
   "outputs": [],
   "source": [
    "df3= pd.merge(df_fx, df_filterd[[\"date\", \"sentiment score\"]], on=\"date\", how=\"left\")"
   ]
  },
  {
   "cell_type": "code",
   "execution_count": 40,
   "id": "b943313a-7442-4e6d-9468-af8fa052ecb6",
   "metadata": {},
   "outputs": [],
   "source": [
    "df3[\"sentiment score\"] = df3[\"sentiment score\"].fillna(0)"
   ]
  },
  {
   "cell_type": "code",
   "execution_count": 44,
   "id": "71ae4446-754d-4112-9bb7-92f249c5c5f5",
   "metadata": {},
   "outputs": [],
   "source": [
    "scaler = StandardScaler()\n",
    "df3['sentiment score'] = scaler.fit_transform(df3[['sentiment score']])"
   ]
  },
  {
   "cell_type": "code",
   "execution_count": null,
   "id": "fdbdc509-d8fb-4122-8c2d-d704bf346153",
   "metadata": {},
   "outputs": [],
   "source": [
    "# 긍정 부정"
   ]
  },
  {
   "cell_type": "code",
   "execution_count": 46,
   "id": "46bb1fd1-7009-4de7-9a26-8838c10bd26a",
   "metadata": {},
   "outputs": [],
   "source": [
    "df_filterd2 =  pd.read_csv(r\"C:\\Users\\james\\J_Data_Lab\\Project-FXCast\\crawler\\data\\naver_finance_news_binary_sentiment_score_filtered.csv\")"
   ]
  },
  {
   "cell_type": "code",
   "execution_count": 48,
   "id": "24186928-45e1-4e17-a533-456fc4963479",
   "metadata": {},
   "outputs": [],
   "source": [
    "df_filterd2[\"date\"] = pd.to_datetime(df_filterd2[\"date\"]).dt.date\n",
    "df_fx[\"date\"] = pd.to_datetime(df_fx[\"date\"]).dt.date"
   ]
  },
  {
   "cell_type": "code",
   "execution_count": 49,
   "id": "608c9165-6e1e-4a27-9ed5-a052a28965bc",
   "metadata": {},
   "outputs": [],
   "source": [
    "df4= pd.merge(df_fx, df_filterd2[[\"date\", \"sentiment score\"]], on=\"date\", how=\"left\")"
   ]
  },
  {
   "cell_type": "code",
   "execution_count": 51,
   "id": "687569e6-8d1d-4095-9236-62dd6a1263cb",
   "metadata": {},
   "outputs": [],
   "source": [
    "df4[\"sentiment score\"] = df4[\"sentiment score\"].fillna(0)"
   ]
  },
  {
   "cell_type": "code",
   "execution_count": 52,
   "id": "2a78a336-0706-466a-8ead-952a8eff3378",
   "metadata": {},
   "outputs": [],
   "source": [
    "scaler = StandardScaler()\n",
    "df4['sentiment score'] = scaler.fit_transform(df4[['sentiment score']])"
   ]
  },
  {
   "cell_type": "code",
   "execution_count": null,
   "id": "e3807aa9-a02f-419b-b331-25733ecbf87e",
   "metadata": {},
   "outputs": [],
   "source": []
  },
  {
   "cell_type": "code",
   "execution_count": 12,
   "id": "ff2f69b6-fa08-42bb-b75e-ae8cf589a2d8",
   "metadata": {},
   "outputs": [],
   "source": [
    "def eda_basic_info(df, df_name=\"DataFrame\"):\n",
    "    print(f\"\\n===== {df_name} =====\")\n",
    "    print(\"Head (5 rows):\")\n",
    "    display(df.head())\n",
    "    \n",
    "    print(\"\\nInfo:\")\n",
    "    print(df.info())\n",
    "    \n",
    "    print(\"\\nDescribe (numeric):\")\n",
    "    display(df.describe())\n",
    "    \n",
    "    print(\"\\nNull counts:\")\n",
    "    print(df.isnull().sum())\n",
    "    \n",
    "    print(\"=\"*40)"
   ]
  },
  {
   "cell_type": "code",
   "execution_count": 13,
   "id": "3ae2775b-544b-4b82-bb08-57c8ed67cf48",
   "metadata": {},
   "outputs": [
    {
     "name": "stdout",
     "output_type": "stream",
     "text": [
      "\n",
      "===== df =====\n",
      "Head (5 rows):\n"
     ]
    },
    {
     "data": {
      "text/html": [
       "<div>\n",
       "<style scoped>\n",
       "    .dataframe tbody tr th:only-of-type {\n",
       "        vertical-align: middle;\n",
       "    }\n",
       "\n",
       "    .dataframe tbody tr th {\n",
       "        vertical-align: top;\n",
       "    }\n",
       "\n",
       "    .dataframe thead th {\n",
       "        text-align: right;\n",
       "    }\n",
       "</style>\n",
       "<table border=\"1\" class=\"dataframe\">\n",
       "  <thead>\n",
       "    <tr style=\"text-align: right;\">\n",
       "      <th></th>\n",
       "      <th>date</th>\n",
       "      <th>USD_KRW 종가</th>\n",
       "      <th>USD_KRW 시가</th>\n",
       "      <th>KOSPI 종가</th>\n",
       "      <th>KOSPI 거래량</th>\n",
       "      <th>KOSDAQ 종가</th>\n",
       "      <th>KOSDAQ 거래량</th>\n",
       "      <th>WTI Price</th>\n",
       "      <th>XAU Price</th>\n",
       "      <th>DJI 종가</th>\n",
       "      <th>DJI 거래량</th>\n",
       "      <th>SP500 종가</th>\n",
       "      <th>M1</th>\n",
       "      <th>M2</th>\n",
       "      <th>한국 정책금리</th>\n",
       "      <th>미국 정책금리</th>\n",
       "      <th>CPI</th>\n",
       "      <th>PPI</th>\n",
       "      <th>경상수지</th>\n",
       "      <th>sentiment score</th>\n",
       "    </tr>\n",
       "  </thead>\n",
       "  <tbody>\n",
       "    <tr>\n",
       "      <th>0</th>\n",
       "      <td>2024-12-30</td>\n",
       "      <td>1469.25</td>\n",
       "      <td>1471.10</td>\n",
       "      <td>2399.49</td>\n",
       "      <td>303960000.0</td>\n",
       "      <td>678.19</td>\n",
       "      <td>644550000.0</td>\n",
       "      <td>70.99</td>\n",
       "      <td>2605.39</td>\n",
       "      <td>42573.73</td>\n",
       "      <td>383300000.0</td>\n",
       "      <td>5906.94</td>\n",
       "      <td>1274.2903</td>\n",
       "      <td>4183.5354</td>\n",
       "      <td>3.0</td>\n",
       "      <td>4.645161</td>\n",
       "      <td>1.9</td>\n",
       "      <td>119.52</td>\n",
       "      <td>12368.0</td>\n",
       "      <td>-1.283978</td>\n",
       "    </tr>\n",
       "    <tr>\n",
       "      <th>1</th>\n",
       "      <td>2024-12-27</td>\n",
       "      <td>1472.50</td>\n",
       "      <td>1468.40</td>\n",
       "      <td>2404.77</td>\n",
       "      <td>311290000.0</td>\n",
       "      <td>665.97</td>\n",
       "      <td>814130000.0</td>\n",
       "      <td>70.08</td>\n",
       "      <td>2620.00</td>\n",
       "      <td>42992.21</td>\n",
       "      <td>376960000.0</td>\n",
       "      <td>5970.84</td>\n",
       "      <td>1274.2903</td>\n",
       "      <td>4183.5354</td>\n",
       "      <td>3.0</td>\n",
       "      <td>4.645161</td>\n",
       "      <td>1.9</td>\n",
       "      <td>119.52</td>\n",
       "      <td>12368.0</td>\n",
       "      <td>-1.283978</td>\n",
       "    </tr>\n",
       "    <tr>\n",
       "      <th>2</th>\n",
       "      <td>2024-12-26</td>\n",
       "      <td>1467.08</td>\n",
       "      <td>1457.21</td>\n",
       "      <td>2429.67</td>\n",
       "      <td>322800000.0</td>\n",
       "      <td>675.64</td>\n",
       "      <td>829290000.0</td>\n",
       "      <td>69.53</td>\n",
       "      <td>2634.43</td>\n",
       "      <td>43325.80</td>\n",
       "      <td>270360000.0</td>\n",
       "      <td>6037.59</td>\n",
       "      <td>1274.2903</td>\n",
       "      <td>4183.5354</td>\n",
       "      <td>3.0</td>\n",
       "      <td>4.645161</td>\n",
       "      <td>1.9</td>\n",
       "      <td>119.52</td>\n",
       "      <td>12368.0</td>\n",
       "      <td>-1.283978</td>\n",
       "    </tr>\n",
       "    <tr>\n",
       "      <th>3</th>\n",
       "      <td>2024-12-24</td>\n",
       "      <td>1458.93</td>\n",
       "      <td>1453.28</td>\n",
       "      <td>2440.52</td>\n",
       "      <td>386780000.0</td>\n",
       "      <td>680.11</td>\n",
       "      <td>645100000.0</td>\n",
       "      <td>69.92</td>\n",
       "      <td>2613.20</td>\n",
       "      <td>43297.03</td>\n",
       "      <td>230410000.0</td>\n",
       "      <td>6040.04</td>\n",
       "      <td>1274.2903</td>\n",
       "      <td>4183.5354</td>\n",
       "      <td>3.0</td>\n",
       "      <td>4.645161</td>\n",
       "      <td>1.9</td>\n",
       "      <td>119.52</td>\n",
       "      <td>12368.0</td>\n",
       "      <td>-0.843971</td>\n",
       "    </tr>\n",
       "    <tr>\n",
       "      <th>4</th>\n",
       "      <td>2024-12-23</td>\n",
       "      <td>1451.28</td>\n",
       "      <td>1446.05</td>\n",
       "      <td>2442.01</td>\n",
       "      <td>428170000.0</td>\n",
       "      <td>679.24</td>\n",
       "      <td>657710000.0</td>\n",
       "      <td>69.34</td>\n",
       "      <td>2612.93</td>\n",
       "      <td>42906.95</td>\n",
       "      <td>449400000.0</td>\n",
       "      <td>5974.07</td>\n",
       "      <td>1274.2903</td>\n",
       "      <td>4183.5354</td>\n",
       "      <td>3.0</td>\n",
       "      <td>4.645161</td>\n",
       "      <td>1.9</td>\n",
       "      <td>119.52</td>\n",
       "      <td>12368.0</td>\n",
       "      <td>0.036043</td>\n",
       "    </tr>\n",
       "  </tbody>\n",
       "</table>\n",
       "</div>"
      ],
      "text/plain": [
       "         date  USD_KRW 종가  USD_KRW 시가  KOSPI 종가    KOSPI 거래량  KOSDAQ 종가  \\\n",
       "0  2024-12-30     1469.25     1471.10   2399.49  303960000.0     678.19   \n",
       "1  2024-12-27     1472.50     1468.40   2404.77  311290000.0     665.97   \n",
       "2  2024-12-26     1467.08     1457.21   2429.67  322800000.0     675.64   \n",
       "3  2024-12-24     1458.93     1453.28   2440.52  386780000.0     680.11   \n",
       "4  2024-12-23     1451.28     1446.05   2442.01  428170000.0     679.24   \n",
       "\n",
       "    KOSDAQ 거래량  WTI Price  XAU Price    DJI 종가      DJI 거래량  SP500 종가  \\\n",
       "0  644550000.0      70.99    2605.39  42573.73  383300000.0   5906.94   \n",
       "1  814130000.0      70.08    2620.00  42992.21  376960000.0   5970.84   \n",
       "2  829290000.0      69.53    2634.43  43325.80  270360000.0   6037.59   \n",
       "3  645100000.0      69.92    2613.20  43297.03  230410000.0   6040.04   \n",
       "4  657710000.0      69.34    2612.93  42906.95  449400000.0   5974.07   \n",
       "\n",
       "          M1         M2  한국 정책금리   미국 정책금리  CPI     PPI     경상수지  \\\n",
       "0  1274.2903  4183.5354      3.0  4.645161  1.9  119.52  12368.0   \n",
       "1  1274.2903  4183.5354      3.0  4.645161  1.9  119.52  12368.0   \n",
       "2  1274.2903  4183.5354      3.0  4.645161  1.9  119.52  12368.0   \n",
       "3  1274.2903  4183.5354      3.0  4.645161  1.9  119.52  12368.0   \n",
       "4  1274.2903  4183.5354      3.0  4.645161  1.9  119.52  12368.0   \n",
       "\n",
       "   sentiment score  \n",
       "0        -1.283978  \n",
       "1        -1.283978  \n",
       "2        -1.283978  \n",
       "3        -0.843971  \n",
       "4         0.036043  "
      ]
     },
     "metadata": {},
     "output_type": "display_data"
    },
    {
     "name": "stdout",
     "output_type": "stream",
     "text": [
      "\n",
      "Info:\n",
      "<class 'pandas.core.frame.DataFrame'>\n",
      "RangeIndex: 1186 entries, 0 to 1185\n",
      "Data columns (total 20 columns):\n",
      " #   Column           Non-Null Count  Dtype  \n",
      "---  ------           --------------  -----  \n",
      " 0   date             1186 non-null   object \n",
      " 1   USD_KRW 종가       1186 non-null   float64\n",
      " 2   USD_KRW 시가       1186 non-null   float64\n",
      " 3   KOSPI 종가         1186 non-null   float64\n",
      " 4   KOSPI 거래량        1186 non-null   float64\n",
      " 5   KOSDAQ 종가        1186 non-null   float64\n",
      " 6   KOSDAQ 거래량       1186 non-null   float64\n",
      " 7   WTI Price        1186 non-null   float64\n",
      " 8   XAU Price        1186 non-null   float64\n",
      " 9   DJI 종가           1186 non-null   float64\n",
      " 10  DJI 거래량          1186 non-null   float64\n",
      " 11  SP500 종가         1186 non-null   float64\n",
      " 12  M1               1186 non-null   float64\n",
      " 13  M2               1186 non-null   float64\n",
      " 14  한국 정책금리          1186 non-null   float64\n",
      " 15  미국 정책금리          1186 non-null   float64\n",
      " 16  CPI              1186 non-null   float64\n",
      " 17  PPI              1186 non-null   float64\n",
      " 18  경상수지             1186 non-null   float64\n",
      " 19  sentiment score  1186 non-null   float64\n",
      "dtypes: float64(19), object(1)\n",
      "memory usage: 185.4+ KB\n",
      "None\n",
      "\n",
      "Describe (numeric):\n"
     ]
    },
    {
     "data": {
      "text/html": [
       "<div>\n",
       "<style scoped>\n",
       "    .dataframe tbody tr th:only-of-type {\n",
       "        vertical-align: middle;\n",
       "    }\n",
       "\n",
       "    .dataframe tbody tr th {\n",
       "        vertical-align: top;\n",
       "    }\n",
       "\n",
       "    .dataframe thead th {\n",
       "        text-align: right;\n",
       "    }\n",
       "</style>\n",
       "<table border=\"1\" class=\"dataframe\">\n",
       "  <thead>\n",
       "    <tr style=\"text-align: right;\">\n",
       "      <th></th>\n",
       "      <th>USD_KRW 종가</th>\n",
       "      <th>USD_KRW 시가</th>\n",
       "      <th>KOSPI 종가</th>\n",
       "      <th>KOSPI 거래량</th>\n",
       "      <th>KOSDAQ 종가</th>\n",
       "      <th>KOSDAQ 거래량</th>\n",
       "      <th>WTI Price</th>\n",
       "      <th>XAU Price</th>\n",
       "      <th>DJI 종가</th>\n",
       "      <th>DJI 거래량</th>\n",
       "      <th>SP500 종가</th>\n",
       "      <th>M1</th>\n",
       "      <th>M2</th>\n",
       "      <th>한국 정책금리</th>\n",
       "      <th>미국 정책금리</th>\n",
       "      <th>CPI</th>\n",
       "      <th>PPI</th>\n",
       "      <th>경상수지</th>\n",
       "      <th>sentiment score</th>\n",
       "    </tr>\n",
       "  </thead>\n",
       "  <tbody>\n",
       "    <tr>\n",
       "      <th>count</th>\n",
       "      <td>1186.000000</td>\n",
       "      <td>1186.000000</td>\n",
       "      <td>1186.000000</td>\n",
       "      <td>1.186000e+03</td>\n",
       "      <td>1186.000000</td>\n",
       "      <td>1.186000e+03</td>\n",
       "      <td>1186.000000</td>\n",
       "      <td>1186.000000</td>\n",
       "      <td>1186.000000</td>\n",
       "      <td>1.186000e+03</td>\n",
       "      <td>1186.000000</td>\n",
       "      <td>1186.000000</td>\n",
       "      <td>1186.000000</td>\n",
       "      <td>1186.000000</td>\n",
       "      <td>1186.00000</td>\n",
       "      <td>1186.000000</td>\n",
       "      <td>1186.000000</td>\n",
       "      <td>1186.000000</td>\n",
       "      <td>1.186000e+03</td>\n",
       "    </tr>\n",
       "    <tr>\n",
       "      <th>mean</th>\n",
       "      <td>1256.282968</td>\n",
       "      <td>1256.633221</td>\n",
       "      <td>2596.073440</td>\n",
       "      <td>7.131867e+08</td>\n",
       "      <td>841.160118</td>\n",
       "      <td>1.306049e+09</td>\n",
       "      <td>69.533440</td>\n",
       "      <td>1937.514081</td>\n",
       "      <td>33603.138786</td>\n",
       "      <td>3.687432e+08</td>\n",
       "      <td>4250.179671</td>\n",
       "      <td>1219.394587</td>\n",
       "      <td>3616.388458</td>\n",
       "      <td>2.037789</td>\n",
       "      <td>2.60763</td>\n",
       "      <td>2.811298</td>\n",
       "      <td>111.501433</td>\n",
       "      <td>5333.790894</td>\n",
       "      <td>1.347994e-17</td>\n",
       "    </tr>\n",
       "    <tr>\n",
       "      <th>std</th>\n",
       "      <td>93.743223</td>\n",
       "      <td>93.787299</td>\n",
       "      <td>339.282251</td>\n",
       "      <td>3.554851e+08</td>\n",
       "      <td>114.428855</td>\n",
       "      <td>5.210409e+08</td>\n",
       "      <td>23.291945</td>\n",
       "      <td>263.590609</td>\n",
       "      <td>4657.788950</td>\n",
       "      <td>1.128756e+08</td>\n",
       "      <td>764.021938</td>\n",
       "      <td>103.680673</td>\n",
       "      <td>347.336672</td>\n",
       "      <td>1.303587</td>\n",
       "      <td>2.31595</td>\n",
       "      <td>1.658261</td>\n",
       "      <td>7.401748</td>\n",
       "      <td>4255.906435</td>\n",
       "      <td>1.000422e+00</td>\n",
       "    </tr>\n",
       "    <tr>\n",
       "      <th>min</th>\n",
       "      <td>1083.530000</td>\n",
       "      <td>1083.870000</td>\n",
       "      <td>1457.640000</td>\n",
       "      <td>8.245100e+05</td>\n",
       "      <td>428.350000</td>\n",
       "      <td>6.196200e+08</td>\n",
       "      <td>7.790000</td>\n",
       "      <td>1471.000000</td>\n",
       "      <td>18591.930000</td>\n",
       "      <td>1.170400e+08</td>\n",
       "      <td>2237.400000</td>\n",
       "      <td>944.306400</td>\n",
       "      <td>2935.640300</td>\n",
       "      <td>0.500000</td>\n",
       "      <td>0.25000</td>\n",
       "      <td>-0.200000</td>\n",
       "      <td>98.930000</td>\n",
       "      <td>-4205.000000</td>\n",
       "      <td>-1.283978e+00</td>\n",
       "    </tr>\n",
       "    <tr>\n",
       "      <th>25%</th>\n",
       "      <td>1181.822500</td>\n",
       "      <td>1182.460000</td>\n",
       "      <td>2399.310000</td>\n",
       "      <td>4.629025e+08</td>\n",
       "      <td>762.185000</td>\n",
       "      <td>9.524700e+08</td>\n",
       "      <td>62.090000</td>\n",
       "      <td>1778.307500</td>\n",
       "      <td>31022.087500</td>\n",
       "      <td>3.016050e+08</td>\n",
       "      <td>3810.150000</td>\n",
       "      <td>1184.088000</td>\n",
       "      <td>3309.121000</td>\n",
       "      <td>0.548387</td>\n",
       "      <td>0.25000</td>\n",
       "      <td>1.425000</td>\n",
       "      <td>103.890000</td>\n",
       "      <td>1862.000000</td>\n",
       "      <td>-1.283978e+00</td>\n",
       "    </tr>\n",
       "    <tr>\n",
       "      <th>50%</th>\n",
       "      <td>1265.610000</td>\n",
       "      <td>1266.325000</td>\n",
       "      <td>2568.480000</td>\n",
       "      <td>6.137650e+08</td>\n",
       "      <td>847.505000</td>\n",
       "      <td>1.170000e+09</td>\n",
       "      <td>73.735000</td>\n",
       "      <td>1870.390000</td>\n",
       "      <td>33913.620000</td>\n",
       "      <td>3.433250e+08</td>\n",
       "      <td>4200.010000</td>\n",
       "      <td>1221.110000</td>\n",
       "      <td>3718.332800</td>\n",
       "      <td>1.750000</td>\n",
       "      <td>1.75000</td>\n",
       "      <td>2.700000</td>\n",
       "      <td>116.270000</td>\n",
       "      <td>6365.000000</td>\n",
       "      <td>3.604271e-02</td>\n",
       "    </tr>\n",
       "    <tr>\n",
       "      <th>75%</th>\n",
       "      <td>1333.020000</td>\n",
       "      <td>1333.395000</td>\n",
       "      <td>2758.637500</td>\n",
       "      <td>8.662025e+08</td>\n",
       "      <td>919.412500</td>\n",
       "      <td>1.500000e+09</td>\n",
       "      <td>82.030000</td>\n",
       "      <td>1985.455000</td>\n",
       "      <td>35627.822500</td>\n",
       "      <td>4.021650e+08</td>\n",
       "      <td>4591.015000</td>\n",
       "      <td>1287.187300</td>\n",
       "      <td>3843.786700</td>\n",
       "      <td>3.500000</td>\n",
       "      <td>5.25000</td>\n",
       "      <td>3.800000</td>\n",
       "      <td>117.500000</td>\n",
       "      <td>7438.000000</td>\n",
       "      <td>1.356063e+00</td>\n",
       "    </tr>\n",
       "    <tr>\n",
       "      <th>max</th>\n",
       "      <td>1472.500000</td>\n",
       "      <td>1471.100000</td>\n",
       "      <td>3305.210000</td>\n",
       "      <td>3.460000e+09</td>\n",
       "      <td>1060.000000</td>\n",
       "      <td>5.070000e+09</td>\n",
       "      <td>126.470000</td>\n",
       "      <td>2786.190000</td>\n",
       "      <td>45014.040000</td>\n",
       "      <td>1.220000e+09</td>\n",
       "      <td>6090.270000</td>\n",
       "      <td>1371.920900</td>\n",
       "      <td>4183.535400</td>\n",
       "      <td>3.500000</td>\n",
       "      <td>5.50000</td>\n",
       "      <td>6.300000</td>\n",
       "      <td>119.560000</td>\n",
       "      <td>13096.000000</td>\n",
       "      <td>1.356063e+00</td>\n",
       "    </tr>\n",
       "  </tbody>\n",
       "</table>\n",
       "</div>"
      ],
      "text/plain": [
       "        USD_KRW 종가   USD_KRW 시가     KOSPI 종가     KOSPI 거래량    KOSDAQ 종가  \\\n",
       "count  1186.000000  1186.000000  1186.000000  1.186000e+03  1186.000000   \n",
       "mean   1256.282968  1256.633221  2596.073440  7.131867e+08   841.160118   \n",
       "std      93.743223    93.787299   339.282251  3.554851e+08   114.428855   \n",
       "min    1083.530000  1083.870000  1457.640000  8.245100e+05   428.350000   \n",
       "25%    1181.822500  1182.460000  2399.310000  4.629025e+08   762.185000   \n",
       "50%    1265.610000  1266.325000  2568.480000  6.137650e+08   847.505000   \n",
       "75%    1333.020000  1333.395000  2758.637500  8.662025e+08   919.412500   \n",
       "max    1472.500000  1471.100000  3305.210000  3.460000e+09  1060.000000   \n",
       "\n",
       "         KOSDAQ 거래량    WTI Price    XAU Price        DJI 종가       DJI 거래량  \\\n",
       "count  1.186000e+03  1186.000000  1186.000000   1186.000000  1.186000e+03   \n",
       "mean   1.306049e+09    69.533440  1937.514081  33603.138786  3.687432e+08   \n",
       "std    5.210409e+08    23.291945   263.590609   4657.788950  1.128756e+08   \n",
       "min    6.196200e+08     7.790000  1471.000000  18591.930000  1.170400e+08   \n",
       "25%    9.524700e+08    62.090000  1778.307500  31022.087500  3.016050e+08   \n",
       "50%    1.170000e+09    73.735000  1870.390000  33913.620000  3.433250e+08   \n",
       "75%    1.500000e+09    82.030000  1985.455000  35627.822500  4.021650e+08   \n",
       "max    5.070000e+09   126.470000  2786.190000  45014.040000  1.220000e+09   \n",
       "\n",
       "          SP500 종가           M1           M2      한국 정책금리     미국 정책금리  \\\n",
       "count  1186.000000  1186.000000  1186.000000  1186.000000  1186.00000   \n",
       "mean   4250.179671  1219.394587  3616.388458     2.037789     2.60763   \n",
       "std     764.021938   103.680673   347.336672     1.303587     2.31595   \n",
       "min    2237.400000   944.306400  2935.640300     0.500000     0.25000   \n",
       "25%    3810.150000  1184.088000  3309.121000     0.548387     0.25000   \n",
       "50%    4200.010000  1221.110000  3718.332800     1.750000     1.75000   \n",
       "75%    4591.015000  1287.187300  3843.786700     3.500000     5.25000   \n",
       "max    6090.270000  1371.920900  4183.535400     3.500000     5.50000   \n",
       "\n",
       "               CPI          PPI          경상수지  sentiment score  \n",
       "count  1186.000000  1186.000000   1186.000000     1.186000e+03  \n",
       "mean      2.811298   111.501433   5333.790894     1.347994e-17  \n",
       "std       1.658261     7.401748   4255.906435     1.000422e+00  \n",
       "min      -0.200000    98.930000  -4205.000000    -1.283978e+00  \n",
       "25%       1.425000   103.890000   1862.000000    -1.283978e+00  \n",
       "50%       2.700000   116.270000   6365.000000     3.604271e-02  \n",
       "75%       3.800000   117.500000   7438.000000     1.356063e+00  \n",
       "max       6.300000   119.560000  13096.000000     1.356063e+00  "
      ]
     },
     "metadata": {},
     "output_type": "display_data"
    },
    {
     "name": "stdout",
     "output_type": "stream",
     "text": [
      "\n",
      "Null counts:\n",
      "date               0\n",
      "USD_KRW 종가         0\n",
      "USD_KRW 시가         0\n",
      "KOSPI 종가           0\n",
      "KOSPI 거래량          0\n",
      "KOSDAQ 종가          0\n",
      "KOSDAQ 거래량         0\n",
      "WTI Price          0\n",
      "XAU Price          0\n",
      "DJI 종가             0\n",
      "DJI 거래량            0\n",
      "SP500 종가           0\n",
      "M1                 0\n",
      "M2                 0\n",
      "한국 정책금리            0\n",
      "미국 정책금리            0\n",
      "CPI                0\n",
      "PPI                0\n",
      "경상수지               0\n",
      "sentiment score    0\n",
      "dtype: int64\n",
      "========================================\n"
     ]
    }
   ],
   "source": [
    "eda_basic_info(df, \"df\")"
   ]
  },
  {
   "cell_type": "code",
   "execution_count": 14,
   "id": "9c523b53-565b-46a5-8f32-c905e7f88a88",
   "metadata": {},
   "outputs": [
    {
     "name": "stdout",
     "output_type": "stream",
     "text": [
      "\n",
      "===== df2 =====\n",
      "Head (5 rows):\n"
     ]
    },
    {
     "data": {
      "text/html": [
       "<div>\n",
       "<style scoped>\n",
       "    .dataframe tbody tr th:only-of-type {\n",
       "        vertical-align: middle;\n",
       "    }\n",
       "\n",
       "    .dataframe tbody tr th {\n",
       "        vertical-align: top;\n",
       "    }\n",
       "\n",
       "    .dataframe thead th {\n",
       "        text-align: right;\n",
       "    }\n",
       "</style>\n",
       "<table border=\"1\" class=\"dataframe\">\n",
       "  <thead>\n",
       "    <tr style=\"text-align: right;\">\n",
       "      <th></th>\n",
       "      <th>date</th>\n",
       "      <th>USD_KRW 종가</th>\n",
       "      <th>USD_KRW 시가</th>\n",
       "      <th>KOSPI 종가</th>\n",
       "      <th>KOSPI 거래량</th>\n",
       "      <th>KOSDAQ 종가</th>\n",
       "      <th>KOSDAQ 거래량</th>\n",
       "      <th>WTI Price</th>\n",
       "      <th>XAU Price</th>\n",
       "      <th>DJI 종가</th>\n",
       "      <th>DJI 거래량</th>\n",
       "      <th>SP500 종가</th>\n",
       "      <th>M1</th>\n",
       "      <th>M2</th>\n",
       "      <th>한국 정책금리</th>\n",
       "      <th>미국 정책금리</th>\n",
       "      <th>CPI</th>\n",
       "      <th>PPI</th>\n",
       "      <th>경상수지</th>\n",
       "      <th>sentiment score</th>\n",
       "    </tr>\n",
       "  </thead>\n",
       "  <tbody>\n",
       "    <tr>\n",
       "      <th>0</th>\n",
       "      <td>2024-12-30</td>\n",
       "      <td>1469.25</td>\n",
       "      <td>1471.10</td>\n",
       "      <td>2399.49</td>\n",
       "      <td>303960000.0</td>\n",
       "      <td>678.19</td>\n",
       "      <td>644550000.0</td>\n",
       "      <td>70.99</td>\n",
       "      <td>2605.39</td>\n",
       "      <td>42573.73</td>\n",
       "      <td>383300000.0</td>\n",
       "      <td>5906.94</td>\n",
       "      <td>1274.2903</td>\n",
       "      <td>4183.5354</td>\n",
       "      <td>3.0</td>\n",
       "      <td>4.645161</td>\n",
       "      <td>1.9</td>\n",
       "      <td>119.52</td>\n",
       "      <td>12368.0</td>\n",
       "      <td>-1.180277</td>\n",
       "    </tr>\n",
       "    <tr>\n",
       "      <th>1</th>\n",
       "      <td>2024-12-27</td>\n",
       "      <td>1472.50</td>\n",
       "      <td>1468.40</td>\n",
       "      <td>2404.77</td>\n",
       "      <td>311290000.0</td>\n",
       "      <td>665.97</td>\n",
       "      <td>814130000.0</td>\n",
       "      <td>70.08</td>\n",
       "      <td>2620.00</td>\n",
       "      <td>42992.21</td>\n",
       "      <td>376960000.0</td>\n",
       "      <td>5970.84</td>\n",
       "      <td>1274.2903</td>\n",
       "      <td>4183.5354</td>\n",
       "      <td>3.0</td>\n",
       "      <td>4.645161</td>\n",
       "      <td>1.9</td>\n",
       "      <td>119.52</td>\n",
       "      <td>12368.0</td>\n",
       "      <td>-1.180277</td>\n",
       "    </tr>\n",
       "    <tr>\n",
       "      <th>2</th>\n",
       "      <td>2024-12-26</td>\n",
       "      <td>1467.08</td>\n",
       "      <td>1457.21</td>\n",
       "      <td>2429.67</td>\n",
       "      <td>322800000.0</td>\n",
       "      <td>675.64</td>\n",
       "      <td>829290000.0</td>\n",
       "      <td>69.53</td>\n",
       "      <td>2634.43</td>\n",
       "      <td>43325.80</td>\n",
       "      <td>270360000.0</td>\n",
       "      <td>6037.59</td>\n",
       "      <td>1274.2903</td>\n",
       "      <td>4183.5354</td>\n",
       "      <td>3.0</td>\n",
       "      <td>4.645161</td>\n",
       "      <td>1.9</td>\n",
       "      <td>119.52</td>\n",
       "      <td>12368.0</td>\n",
       "      <td>-1.180277</td>\n",
       "    </tr>\n",
       "    <tr>\n",
       "      <th>3</th>\n",
       "      <td>2024-12-24</td>\n",
       "      <td>1458.93</td>\n",
       "      <td>1453.28</td>\n",
       "      <td>2440.52</td>\n",
       "      <td>386780000.0</td>\n",
       "      <td>680.11</td>\n",
       "      <td>645100000.0</td>\n",
       "      <td>69.92</td>\n",
       "      <td>2613.20</td>\n",
       "      <td>43297.03</td>\n",
       "      <td>230410000.0</td>\n",
       "      <td>6040.04</td>\n",
       "      <td>1274.2903</td>\n",
       "      <td>4183.5354</td>\n",
       "      <td>3.0</td>\n",
       "      <td>4.645161</td>\n",
       "      <td>1.9</td>\n",
       "      <td>119.52</td>\n",
       "      <td>12368.0</td>\n",
       "      <td>-0.308882</td>\n",
       "    </tr>\n",
       "    <tr>\n",
       "      <th>4</th>\n",
       "      <td>2024-12-23</td>\n",
       "      <td>1451.28</td>\n",
       "      <td>1446.05</td>\n",
       "      <td>2442.01</td>\n",
       "      <td>428170000.0</td>\n",
       "      <td>679.24</td>\n",
       "      <td>657710000.0</td>\n",
       "      <td>69.34</td>\n",
       "      <td>2612.93</td>\n",
       "      <td>42906.95</td>\n",
       "      <td>449400000.0</td>\n",
       "      <td>5974.07</td>\n",
       "      <td>1274.2903</td>\n",
       "      <td>4183.5354</td>\n",
       "      <td>3.0</td>\n",
       "      <td>4.645161</td>\n",
       "      <td>1.9</td>\n",
       "      <td>119.52</td>\n",
       "      <td>12368.0</td>\n",
       "      <td>0.126815</td>\n",
       "    </tr>\n",
       "  </tbody>\n",
       "</table>\n",
       "</div>"
      ],
      "text/plain": [
       "        date  USD_KRW 종가  USD_KRW 시가  KOSPI 종가    KOSPI 거래량  KOSDAQ 종가  \\\n",
       "0 2024-12-30     1469.25     1471.10   2399.49  303960000.0     678.19   \n",
       "1 2024-12-27     1472.50     1468.40   2404.77  311290000.0     665.97   \n",
       "2 2024-12-26     1467.08     1457.21   2429.67  322800000.0     675.64   \n",
       "3 2024-12-24     1458.93     1453.28   2440.52  386780000.0     680.11   \n",
       "4 2024-12-23     1451.28     1446.05   2442.01  428170000.0     679.24   \n",
       "\n",
       "    KOSDAQ 거래량  WTI Price  XAU Price    DJI 종가      DJI 거래량  SP500 종가  \\\n",
       "0  644550000.0      70.99    2605.39  42573.73  383300000.0   5906.94   \n",
       "1  814130000.0      70.08    2620.00  42992.21  376960000.0   5970.84   \n",
       "2  829290000.0      69.53    2634.43  43325.80  270360000.0   6037.59   \n",
       "3  645100000.0      69.92    2613.20  43297.03  230410000.0   6040.04   \n",
       "4  657710000.0      69.34    2612.93  42906.95  449400000.0   5974.07   \n",
       "\n",
       "          M1         M2  한국 정책금리   미국 정책금리  CPI     PPI     경상수지  \\\n",
       "0  1274.2903  4183.5354      3.0  4.645161  1.9  119.52  12368.0   \n",
       "1  1274.2903  4183.5354      3.0  4.645161  1.9  119.52  12368.0   \n",
       "2  1274.2903  4183.5354      3.0  4.645161  1.9  119.52  12368.0   \n",
       "3  1274.2903  4183.5354      3.0  4.645161  1.9  119.52  12368.0   \n",
       "4  1274.2903  4183.5354      3.0  4.645161  1.9  119.52  12368.0   \n",
       "\n",
       "   sentiment score  \n",
       "0        -1.180277  \n",
       "1        -1.180277  \n",
       "2        -1.180277  \n",
       "3        -0.308882  \n",
       "4         0.126815  "
      ]
     },
     "metadata": {},
     "output_type": "display_data"
    },
    {
     "name": "stdout",
     "output_type": "stream",
     "text": [
      "\n",
      "Info:\n",
      "<class 'pandas.core.frame.DataFrame'>\n",
      "RangeIndex: 1186 entries, 0 to 1185\n",
      "Data columns (total 20 columns):\n",
      " #   Column           Non-Null Count  Dtype         \n",
      "---  ------           --------------  -----         \n",
      " 0   date             1186 non-null   datetime64[ns]\n",
      " 1   USD_KRW 종가       1186 non-null   float64       \n",
      " 2   USD_KRW 시가       1186 non-null   float64       \n",
      " 3   KOSPI 종가         1186 non-null   float64       \n",
      " 4   KOSPI 거래량        1186 non-null   float64       \n",
      " 5   KOSDAQ 종가        1186 non-null   float64       \n",
      " 6   KOSDAQ 거래량       1186 non-null   float64       \n",
      " 7   WTI Price        1186 non-null   float64       \n",
      " 8   XAU Price        1186 non-null   float64       \n",
      " 9   DJI 종가           1186 non-null   float64       \n",
      " 10  DJI 거래량          1186 non-null   float64       \n",
      " 11  SP500 종가         1186 non-null   float64       \n",
      " 12  M1               1186 non-null   float64       \n",
      " 13  M2               1186 non-null   float64       \n",
      " 14  한국 정책금리          1186 non-null   float64       \n",
      " 15  미국 정책금리          1186 non-null   float64       \n",
      " 16  CPI              1186 non-null   float64       \n",
      " 17  PPI              1186 non-null   float64       \n",
      " 18  경상수지             1186 non-null   float64       \n",
      " 19  sentiment score  1186 non-null   float64       \n",
      "dtypes: datetime64[ns](1), float64(19)\n",
      "memory usage: 185.4 KB\n",
      "None\n",
      "\n",
      "Describe (numeric):\n"
     ]
    },
    {
     "data": {
      "text/html": [
       "<div>\n",
       "<style scoped>\n",
       "    .dataframe tbody tr th:only-of-type {\n",
       "        vertical-align: middle;\n",
       "    }\n",
       "\n",
       "    .dataframe tbody tr th {\n",
       "        vertical-align: top;\n",
       "    }\n",
       "\n",
       "    .dataframe thead th {\n",
       "        text-align: right;\n",
       "    }\n",
       "</style>\n",
       "<table border=\"1\" class=\"dataframe\">\n",
       "  <thead>\n",
       "    <tr style=\"text-align: right;\">\n",
       "      <th></th>\n",
       "      <th>date</th>\n",
       "      <th>USD_KRW 종가</th>\n",
       "      <th>USD_KRW 시가</th>\n",
       "      <th>KOSPI 종가</th>\n",
       "      <th>KOSPI 거래량</th>\n",
       "      <th>KOSDAQ 종가</th>\n",
       "      <th>KOSDAQ 거래량</th>\n",
       "      <th>WTI Price</th>\n",
       "      <th>XAU Price</th>\n",
       "      <th>DJI 종가</th>\n",
       "      <th>DJI 거래량</th>\n",
       "      <th>SP500 종가</th>\n",
       "      <th>M1</th>\n",
       "      <th>M2</th>\n",
       "      <th>한국 정책금리</th>\n",
       "      <th>미국 정책금리</th>\n",
       "      <th>CPI</th>\n",
       "      <th>PPI</th>\n",
       "      <th>경상수지</th>\n",
       "      <th>sentiment score</th>\n",
       "    </tr>\n",
       "  </thead>\n",
       "  <tbody>\n",
       "    <tr>\n",
       "      <th>count</th>\n",
       "      <td>1186</td>\n",
       "      <td>1186.000000</td>\n",
       "      <td>1186.000000</td>\n",
       "      <td>1186.000000</td>\n",
       "      <td>1.186000e+03</td>\n",
       "      <td>1186.000000</td>\n",
       "      <td>1.186000e+03</td>\n",
       "      <td>1186.000000</td>\n",
       "      <td>1186.000000</td>\n",
       "      <td>1186.000000</td>\n",
       "      <td>1.186000e+03</td>\n",
       "      <td>1186.000000</td>\n",
       "      <td>1186.000000</td>\n",
       "      <td>1186.000000</td>\n",
       "      <td>1186.000000</td>\n",
       "      <td>1186.00000</td>\n",
       "      <td>1186.000000</td>\n",
       "      <td>1186.000000</td>\n",
       "      <td>1186.000000</td>\n",
       "      <td>1.186000e+03</td>\n",
       "    </tr>\n",
       "    <tr>\n",
       "      <th>mean</th>\n",
       "      <td>2022-06-25 11:34:30.151770624</td>\n",
       "      <td>1256.282968</td>\n",
       "      <td>1256.633221</td>\n",
       "      <td>2596.073440</td>\n",
       "      <td>7.131867e+08</td>\n",
       "      <td>841.160118</td>\n",
       "      <td>1.306049e+09</td>\n",
       "      <td>69.533440</td>\n",
       "      <td>1937.514081</td>\n",
       "      <td>33603.138786</td>\n",
       "      <td>3.687432e+08</td>\n",
       "      <td>4250.179671</td>\n",
       "      <td>1219.394587</td>\n",
       "      <td>3616.388458</td>\n",
       "      <td>2.037789</td>\n",
       "      <td>2.60763</td>\n",
       "      <td>2.811298</td>\n",
       "      <td>111.501433</td>\n",
       "      <td>5333.790894</td>\n",
       "      <td>-6.889748e-17</td>\n",
       "    </tr>\n",
       "    <tr>\n",
       "      <th>min</th>\n",
       "      <td>2020-01-02 00:00:00</td>\n",
       "      <td>1083.530000</td>\n",
       "      <td>1083.870000</td>\n",
       "      <td>1457.640000</td>\n",
       "      <td>8.245100e+05</td>\n",
       "      <td>428.350000</td>\n",
       "      <td>6.196200e+08</td>\n",
       "      <td>7.790000</td>\n",
       "      <td>1471.000000</td>\n",
       "      <td>18591.930000</td>\n",
       "      <td>1.170400e+08</td>\n",
       "      <td>2237.400000</td>\n",
       "      <td>944.306400</td>\n",
       "      <td>2935.640300</td>\n",
       "      <td>0.500000</td>\n",
       "      <td>0.25000</td>\n",
       "      <td>-0.200000</td>\n",
       "      <td>98.930000</td>\n",
       "      <td>-4205.000000</td>\n",
       "      <td>-1.180277e+00</td>\n",
       "    </tr>\n",
       "    <tr>\n",
       "      <th>25%</th>\n",
       "      <td>2021-03-29 06:00:00</td>\n",
       "      <td>1181.822500</td>\n",
       "      <td>1182.460000</td>\n",
       "      <td>2399.310000</td>\n",
       "      <td>4.629025e+08</td>\n",
       "      <td>762.185000</td>\n",
       "      <td>9.524700e+08</td>\n",
       "      <td>62.090000</td>\n",
       "      <td>1778.307500</td>\n",
       "      <td>31022.087500</td>\n",
       "      <td>3.016050e+08</td>\n",
       "      <td>3810.150000</td>\n",
       "      <td>1184.088000</td>\n",
       "      <td>3309.121000</td>\n",
       "      <td>0.548387</td>\n",
       "      <td>0.25000</td>\n",
       "      <td>1.425000</td>\n",
       "      <td>103.890000</td>\n",
       "      <td>1862.000000</td>\n",
       "      <td>-1.180277e+00</td>\n",
       "    </tr>\n",
       "    <tr>\n",
       "      <th>50%</th>\n",
       "      <td>2022-06-25 12:00:00</td>\n",
       "      <td>1265.610000</td>\n",
       "      <td>1266.325000</td>\n",
       "      <td>2568.480000</td>\n",
       "      <td>6.137650e+08</td>\n",
       "      <td>847.505000</td>\n",
       "      <td>1.170000e+09</td>\n",
       "      <td>73.735000</td>\n",
       "      <td>1870.390000</td>\n",
       "      <td>33913.620000</td>\n",
       "      <td>3.433250e+08</td>\n",
       "      <td>4200.010000</td>\n",
       "      <td>1221.110000</td>\n",
       "      <td>3718.332800</td>\n",
       "      <td>1.750000</td>\n",
       "      <td>1.75000</td>\n",
       "      <td>2.700000</td>\n",
       "      <td>116.270000</td>\n",
       "      <td>6365.000000</td>\n",
       "      <td>1.268151e-01</td>\n",
       "    </tr>\n",
       "    <tr>\n",
       "      <th>75%</th>\n",
       "      <td>2023-09-18 18:00:00</td>\n",
       "      <td>1333.020000</td>\n",
       "      <td>1333.395000</td>\n",
       "      <td>2758.637500</td>\n",
       "      <td>8.662025e+08</td>\n",
       "      <td>919.412500</td>\n",
       "      <td>1.500000e+09</td>\n",
       "      <td>82.030000</td>\n",
       "      <td>1985.455000</td>\n",
       "      <td>35627.822500</td>\n",
       "      <td>4.021650e+08</td>\n",
       "      <td>4591.015000</td>\n",
       "      <td>1287.187300</td>\n",
       "      <td>3843.786700</td>\n",
       "      <td>3.500000</td>\n",
       "      <td>5.25000</td>\n",
       "      <td>3.800000</td>\n",
       "      <td>117.500000</td>\n",
       "      <td>7438.000000</td>\n",
       "      <td>5.625124e-01</td>\n",
       "    </tr>\n",
       "    <tr>\n",
       "      <th>max</th>\n",
       "      <td>2024-12-30 00:00:00</td>\n",
       "      <td>1472.500000</td>\n",
       "      <td>1471.100000</td>\n",
       "      <td>3305.210000</td>\n",
       "      <td>3.460000e+09</td>\n",
       "      <td>1060.000000</td>\n",
       "      <td>5.070000e+09</td>\n",
       "      <td>126.470000</td>\n",
       "      <td>2786.190000</td>\n",
       "      <td>45014.040000</td>\n",
       "      <td>1.220000e+09</td>\n",
       "      <td>6090.270000</td>\n",
       "      <td>1371.920900</td>\n",
       "      <td>4183.535400</td>\n",
       "      <td>3.500000</td>\n",
       "      <td>5.50000</td>\n",
       "      <td>6.300000</td>\n",
       "      <td>119.560000</td>\n",
       "      <td>13096.000000</td>\n",
       "      <td>1.433907e+00</td>\n",
       "    </tr>\n",
       "    <tr>\n",
       "      <th>std</th>\n",
       "      <td>NaN</td>\n",
       "      <td>93.743223</td>\n",
       "      <td>93.787299</td>\n",
       "      <td>339.282251</td>\n",
       "      <td>3.554851e+08</td>\n",
       "      <td>114.428855</td>\n",
       "      <td>5.210409e+08</td>\n",
       "      <td>23.291945</td>\n",
       "      <td>263.590609</td>\n",
       "      <td>4657.788950</td>\n",
       "      <td>1.128756e+08</td>\n",
       "      <td>764.021938</td>\n",
       "      <td>103.680673</td>\n",
       "      <td>347.336672</td>\n",
       "      <td>1.303587</td>\n",
       "      <td>2.31595</td>\n",
       "      <td>1.658261</td>\n",
       "      <td>7.401748</td>\n",
       "      <td>4255.906435</td>\n",
       "      <td>1.000422e+00</td>\n",
       "    </tr>\n",
       "  </tbody>\n",
       "</table>\n",
       "</div>"
      ],
      "text/plain": [
       "                                date   USD_KRW 종가   USD_KRW 시가     KOSPI 종가  \\\n",
       "count                           1186  1186.000000  1186.000000  1186.000000   \n",
       "mean   2022-06-25 11:34:30.151770624  1256.282968  1256.633221  2596.073440   \n",
       "min              2020-01-02 00:00:00  1083.530000  1083.870000  1457.640000   \n",
       "25%              2021-03-29 06:00:00  1181.822500  1182.460000  2399.310000   \n",
       "50%              2022-06-25 12:00:00  1265.610000  1266.325000  2568.480000   \n",
       "75%              2023-09-18 18:00:00  1333.020000  1333.395000  2758.637500   \n",
       "max              2024-12-30 00:00:00  1472.500000  1471.100000  3305.210000   \n",
       "std                              NaN    93.743223    93.787299   339.282251   \n",
       "\n",
       "          KOSPI 거래량    KOSDAQ 종가    KOSDAQ 거래량    WTI Price    XAU Price  \\\n",
       "count  1.186000e+03  1186.000000  1.186000e+03  1186.000000  1186.000000   \n",
       "mean   7.131867e+08   841.160118  1.306049e+09    69.533440  1937.514081   \n",
       "min    8.245100e+05   428.350000  6.196200e+08     7.790000  1471.000000   \n",
       "25%    4.629025e+08   762.185000  9.524700e+08    62.090000  1778.307500   \n",
       "50%    6.137650e+08   847.505000  1.170000e+09    73.735000  1870.390000   \n",
       "75%    8.662025e+08   919.412500  1.500000e+09    82.030000  1985.455000   \n",
       "max    3.460000e+09  1060.000000  5.070000e+09   126.470000  2786.190000   \n",
       "std    3.554851e+08   114.428855  5.210409e+08    23.291945   263.590609   \n",
       "\n",
       "             DJI 종가       DJI 거래량     SP500 종가           M1           M2  \\\n",
       "count   1186.000000  1.186000e+03  1186.000000  1186.000000  1186.000000   \n",
       "mean   33603.138786  3.687432e+08  4250.179671  1219.394587  3616.388458   \n",
       "min    18591.930000  1.170400e+08  2237.400000   944.306400  2935.640300   \n",
       "25%    31022.087500  3.016050e+08  3810.150000  1184.088000  3309.121000   \n",
       "50%    33913.620000  3.433250e+08  4200.010000  1221.110000  3718.332800   \n",
       "75%    35627.822500  4.021650e+08  4591.015000  1287.187300  3843.786700   \n",
       "max    45014.040000  1.220000e+09  6090.270000  1371.920900  4183.535400   \n",
       "std     4657.788950  1.128756e+08   764.021938   103.680673   347.336672   \n",
       "\n",
       "           한국 정책금리     미국 정책금리          CPI          PPI          경상수지  \\\n",
       "count  1186.000000  1186.00000  1186.000000  1186.000000   1186.000000   \n",
       "mean      2.037789     2.60763     2.811298   111.501433   5333.790894   \n",
       "min       0.500000     0.25000    -0.200000    98.930000  -4205.000000   \n",
       "25%       0.548387     0.25000     1.425000   103.890000   1862.000000   \n",
       "50%       1.750000     1.75000     2.700000   116.270000   6365.000000   \n",
       "75%       3.500000     5.25000     3.800000   117.500000   7438.000000   \n",
       "max       3.500000     5.50000     6.300000   119.560000  13096.000000   \n",
       "std       1.303587     2.31595     1.658261     7.401748   4255.906435   \n",
       "\n",
       "       sentiment score  \n",
       "count     1.186000e+03  \n",
       "mean     -6.889748e-17  \n",
       "min      -1.180277e+00  \n",
       "25%      -1.180277e+00  \n",
       "50%       1.268151e-01  \n",
       "75%       5.625124e-01  \n",
       "max       1.433907e+00  \n",
       "std       1.000422e+00  "
      ]
     },
     "metadata": {},
     "output_type": "display_data"
    },
    {
     "name": "stdout",
     "output_type": "stream",
     "text": [
      "\n",
      "Null counts:\n",
      "date               0\n",
      "USD_KRW 종가         0\n",
      "USD_KRW 시가         0\n",
      "KOSPI 종가           0\n",
      "KOSPI 거래량          0\n",
      "KOSDAQ 종가          0\n",
      "KOSDAQ 거래량         0\n",
      "WTI Price          0\n",
      "XAU Price          0\n",
      "DJI 종가             0\n",
      "DJI 거래량            0\n",
      "SP500 종가           0\n",
      "M1                 0\n",
      "M2                 0\n",
      "한국 정책금리            0\n",
      "미국 정책금리            0\n",
      "CPI                0\n",
      "PPI                0\n",
      "경상수지               0\n",
      "sentiment score    0\n",
      "dtype: int64\n",
      "========================================\n"
     ]
    }
   ],
   "source": [
    "eda_basic_info(df2, \"df2\")"
   ]
  },
  {
   "cell_type": "code",
   "execution_count": 15,
   "id": "0c588420-14bf-4a40-b812-ed0ae8e4771c",
   "metadata": {},
   "outputs": [
    {
     "name": "stdout",
     "output_type": "stream",
     "text": [
      "\n",
      "===== df_fx =====\n",
      "Head (5 rows):\n"
     ]
    },
    {
     "data": {
      "text/html": [
       "<div>\n",
       "<style scoped>\n",
       "    .dataframe tbody tr th:only-of-type {\n",
       "        vertical-align: middle;\n",
       "    }\n",
       "\n",
       "    .dataframe tbody tr th {\n",
       "        vertical-align: top;\n",
       "    }\n",
       "\n",
       "    .dataframe thead th {\n",
       "        text-align: right;\n",
       "    }\n",
       "</style>\n",
       "<table border=\"1\" class=\"dataframe\">\n",
       "  <thead>\n",
       "    <tr style=\"text-align: right;\">\n",
       "      <th></th>\n",
       "      <th>date</th>\n",
       "      <th>USD_KRW 종가</th>\n",
       "      <th>USD_KRW 시가</th>\n",
       "      <th>KOSPI 종가</th>\n",
       "      <th>KOSPI 거래량</th>\n",
       "      <th>KOSDAQ 종가</th>\n",
       "      <th>KOSDAQ 거래량</th>\n",
       "      <th>WTI Price</th>\n",
       "      <th>XAU Price</th>\n",
       "      <th>DJI 종가</th>\n",
       "      <th>DJI 거래량</th>\n",
       "      <th>SP500 종가</th>\n",
       "      <th>M1</th>\n",
       "      <th>M2</th>\n",
       "      <th>한국 정책금리</th>\n",
       "      <th>미국 정책금리</th>\n",
       "      <th>CPI</th>\n",
       "      <th>PPI</th>\n",
       "      <th>경상수지</th>\n",
       "    </tr>\n",
       "  </thead>\n",
       "  <tbody>\n",
       "    <tr>\n",
       "      <th>0</th>\n",
       "      <td>2024-12-30</td>\n",
       "      <td>1469.25</td>\n",
       "      <td>1471.10</td>\n",
       "      <td>2399.49</td>\n",
       "      <td>303960000.0</td>\n",
       "      <td>678.19</td>\n",
       "      <td>644550000.0</td>\n",
       "      <td>70.99</td>\n",
       "      <td>2605.39</td>\n",
       "      <td>42573.73</td>\n",
       "      <td>383300000.0</td>\n",
       "      <td>5906.94</td>\n",
       "      <td>1274.2903</td>\n",
       "      <td>4183.5354</td>\n",
       "      <td>3.0</td>\n",
       "      <td>4.645161</td>\n",
       "      <td>1.9</td>\n",
       "      <td>119.52</td>\n",
       "      <td>12368.0</td>\n",
       "    </tr>\n",
       "    <tr>\n",
       "      <th>1</th>\n",
       "      <td>2024-12-27</td>\n",
       "      <td>1472.50</td>\n",
       "      <td>1468.40</td>\n",
       "      <td>2404.77</td>\n",
       "      <td>311290000.0</td>\n",
       "      <td>665.97</td>\n",
       "      <td>814130000.0</td>\n",
       "      <td>70.08</td>\n",
       "      <td>2620.00</td>\n",
       "      <td>42992.21</td>\n",
       "      <td>376960000.0</td>\n",
       "      <td>5970.84</td>\n",
       "      <td>1274.2903</td>\n",
       "      <td>4183.5354</td>\n",
       "      <td>3.0</td>\n",
       "      <td>4.645161</td>\n",
       "      <td>1.9</td>\n",
       "      <td>119.52</td>\n",
       "      <td>12368.0</td>\n",
       "    </tr>\n",
       "    <tr>\n",
       "      <th>2</th>\n",
       "      <td>2024-12-26</td>\n",
       "      <td>1467.08</td>\n",
       "      <td>1457.21</td>\n",
       "      <td>2429.67</td>\n",
       "      <td>322800000.0</td>\n",
       "      <td>675.64</td>\n",
       "      <td>829290000.0</td>\n",
       "      <td>69.53</td>\n",
       "      <td>2634.43</td>\n",
       "      <td>43325.80</td>\n",
       "      <td>270360000.0</td>\n",
       "      <td>6037.59</td>\n",
       "      <td>1274.2903</td>\n",
       "      <td>4183.5354</td>\n",
       "      <td>3.0</td>\n",
       "      <td>4.645161</td>\n",
       "      <td>1.9</td>\n",
       "      <td>119.52</td>\n",
       "      <td>12368.0</td>\n",
       "    </tr>\n",
       "    <tr>\n",
       "      <th>3</th>\n",
       "      <td>2024-12-24</td>\n",
       "      <td>1458.93</td>\n",
       "      <td>1453.28</td>\n",
       "      <td>2440.52</td>\n",
       "      <td>386780000.0</td>\n",
       "      <td>680.11</td>\n",
       "      <td>645100000.0</td>\n",
       "      <td>69.92</td>\n",
       "      <td>2613.20</td>\n",
       "      <td>43297.03</td>\n",
       "      <td>230410000.0</td>\n",
       "      <td>6040.04</td>\n",
       "      <td>1274.2903</td>\n",
       "      <td>4183.5354</td>\n",
       "      <td>3.0</td>\n",
       "      <td>4.645161</td>\n",
       "      <td>1.9</td>\n",
       "      <td>119.52</td>\n",
       "      <td>12368.0</td>\n",
       "    </tr>\n",
       "    <tr>\n",
       "      <th>4</th>\n",
       "      <td>2024-12-23</td>\n",
       "      <td>1451.28</td>\n",
       "      <td>1446.05</td>\n",
       "      <td>2442.01</td>\n",
       "      <td>428170000.0</td>\n",
       "      <td>679.24</td>\n",
       "      <td>657710000.0</td>\n",
       "      <td>69.34</td>\n",
       "      <td>2612.93</td>\n",
       "      <td>42906.95</td>\n",
       "      <td>449400000.0</td>\n",
       "      <td>5974.07</td>\n",
       "      <td>1274.2903</td>\n",
       "      <td>4183.5354</td>\n",
       "      <td>3.0</td>\n",
       "      <td>4.645161</td>\n",
       "      <td>1.9</td>\n",
       "      <td>119.52</td>\n",
       "      <td>12368.0</td>\n",
       "    </tr>\n",
       "  </tbody>\n",
       "</table>\n",
       "</div>"
      ],
      "text/plain": [
       "        date  USD_KRW 종가  USD_KRW 시가  KOSPI 종가    KOSPI 거래량  KOSDAQ 종가  \\\n",
       "0 2024-12-30     1469.25     1471.10   2399.49  303960000.0     678.19   \n",
       "1 2024-12-27     1472.50     1468.40   2404.77  311290000.0     665.97   \n",
       "2 2024-12-26     1467.08     1457.21   2429.67  322800000.0     675.64   \n",
       "3 2024-12-24     1458.93     1453.28   2440.52  386780000.0     680.11   \n",
       "4 2024-12-23     1451.28     1446.05   2442.01  428170000.0     679.24   \n",
       "\n",
       "    KOSDAQ 거래량  WTI Price  XAU Price    DJI 종가      DJI 거래량  SP500 종가  \\\n",
       "0  644550000.0      70.99    2605.39  42573.73  383300000.0   5906.94   \n",
       "1  814130000.0      70.08    2620.00  42992.21  376960000.0   5970.84   \n",
       "2  829290000.0      69.53    2634.43  43325.80  270360000.0   6037.59   \n",
       "3  645100000.0      69.92    2613.20  43297.03  230410000.0   6040.04   \n",
       "4  657710000.0      69.34    2612.93  42906.95  449400000.0   5974.07   \n",
       "\n",
       "          M1         M2  한국 정책금리   미국 정책금리  CPI     PPI     경상수지  \n",
       "0  1274.2903  4183.5354      3.0  4.645161  1.9  119.52  12368.0  \n",
       "1  1274.2903  4183.5354      3.0  4.645161  1.9  119.52  12368.0  \n",
       "2  1274.2903  4183.5354      3.0  4.645161  1.9  119.52  12368.0  \n",
       "3  1274.2903  4183.5354      3.0  4.645161  1.9  119.52  12368.0  \n",
       "4  1274.2903  4183.5354      3.0  4.645161  1.9  119.52  12368.0  "
      ]
     },
     "metadata": {},
     "output_type": "display_data"
    },
    {
     "name": "stdout",
     "output_type": "stream",
     "text": [
      "\n",
      "Info:\n",
      "<class 'pandas.core.frame.DataFrame'>\n",
      "RangeIndex: 1186 entries, 0 to 1185\n",
      "Data columns (total 19 columns):\n",
      " #   Column      Non-Null Count  Dtype         \n",
      "---  ------      --------------  -----         \n",
      " 0   date        1186 non-null   datetime64[ns]\n",
      " 1   USD_KRW 종가  1186 non-null   float64       \n",
      " 2   USD_KRW 시가  1186 non-null   float64       \n",
      " 3   KOSPI 종가    1186 non-null   float64       \n",
      " 4   KOSPI 거래량   1186 non-null   float64       \n",
      " 5   KOSDAQ 종가   1186 non-null   float64       \n",
      " 6   KOSDAQ 거래량  1186 non-null   float64       \n",
      " 7   WTI Price   1186 non-null   float64       \n",
      " 8   XAU Price   1186 non-null   float64       \n",
      " 9   DJI 종가      1186 non-null   float64       \n",
      " 10  DJI 거래량     1186 non-null   float64       \n",
      " 11  SP500 종가    1186 non-null   float64       \n",
      " 12  M1          1186 non-null   float64       \n",
      " 13  M2          1186 non-null   float64       \n",
      " 14  한국 정책금리     1186 non-null   float64       \n",
      " 15  미국 정책금리     1186 non-null   float64       \n",
      " 16  CPI         1186 non-null   float64       \n",
      " 17  PPI         1186 non-null   float64       \n",
      " 18  경상수지        1186 non-null   float64       \n",
      "dtypes: datetime64[ns](1), float64(18)\n",
      "memory usage: 176.2 KB\n",
      "None\n",
      "\n",
      "Describe (numeric):\n"
     ]
    },
    {
     "data": {
      "text/html": [
       "<div>\n",
       "<style scoped>\n",
       "    .dataframe tbody tr th:only-of-type {\n",
       "        vertical-align: middle;\n",
       "    }\n",
       "\n",
       "    .dataframe tbody tr th {\n",
       "        vertical-align: top;\n",
       "    }\n",
       "\n",
       "    .dataframe thead th {\n",
       "        text-align: right;\n",
       "    }\n",
       "</style>\n",
       "<table border=\"1\" class=\"dataframe\">\n",
       "  <thead>\n",
       "    <tr style=\"text-align: right;\">\n",
       "      <th></th>\n",
       "      <th>date</th>\n",
       "      <th>USD_KRW 종가</th>\n",
       "      <th>USD_KRW 시가</th>\n",
       "      <th>KOSPI 종가</th>\n",
       "      <th>KOSPI 거래량</th>\n",
       "      <th>KOSDAQ 종가</th>\n",
       "      <th>KOSDAQ 거래량</th>\n",
       "      <th>WTI Price</th>\n",
       "      <th>XAU Price</th>\n",
       "      <th>DJI 종가</th>\n",
       "      <th>DJI 거래량</th>\n",
       "      <th>SP500 종가</th>\n",
       "      <th>M1</th>\n",
       "      <th>M2</th>\n",
       "      <th>한국 정책금리</th>\n",
       "      <th>미국 정책금리</th>\n",
       "      <th>CPI</th>\n",
       "      <th>PPI</th>\n",
       "      <th>경상수지</th>\n",
       "    </tr>\n",
       "  </thead>\n",
       "  <tbody>\n",
       "    <tr>\n",
       "      <th>count</th>\n",
       "      <td>1186</td>\n",
       "      <td>1186.000000</td>\n",
       "      <td>1186.000000</td>\n",
       "      <td>1186.000000</td>\n",
       "      <td>1.186000e+03</td>\n",
       "      <td>1186.000000</td>\n",
       "      <td>1.186000e+03</td>\n",
       "      <td>1186.000000</td>\n",
       "      <td>1186.000000</td>\n",
       "      <td>1186.000000</td>\n",
       "      <td>1.186000e+03</td>\n",
       "      <td>1186.000000</td>\n",
       "      <td>1186.000000</td>\n",
       "      <td>1186.000000</td>\n",
       "      <td>1186.000000</td>\n",
       "      <td>1186.00000</td>\n",
       "      <td>1186.000000</td>\n",
       "      <td>1186.000000</td>\n",
       "      <td>1186.000000</td>\n",
       "    </tr>\n",
       "    <tr>\n",
       "      <th>mean</th>\n",
       "      <td>2022-06-25 11:34:30.151770624</td>\n",
       "      <td>1256.282968</td>\n",
       "      <td>1256.633221</td>\n",
       "      <td>2596.073440</td>\n",
       "      <td>7.131867e+08</td>\n",
       "      <td>841.160118</td>\n",
       "      <td>1.306049e+09</td>\n",
       "      <td>69.533440</td>\n",
       "      <td>1937.514081</td>\n",
       "      <td>33603.138786</td>\n",
       "      <td>3.687432e+08</td>\n",
       "      <td>4250.179671</td>\n",
       "      <td>1219.394587</td>\n",
       "      <td>3616.388458</td>\n",
       "      <td>2.037789</td>\n",
       "      <td>2.60763</td>\n",
       "      <td>2.811298</td>\n",
       "      <td>111.501433</td>\n",
       "      <td>5333.790894</td>\n",
       "    </tr>\n",
       "    <tr>\n",
       "      <th>min</th>\n",
       "      <td>2020-01-02 00:00:00</td>\n",
       "      <td>1083.530000</td>\n",
       "      <td>1083.870000</td>\n",
       "      <td>1457.640000</td>\n",
       "      <td>8.245100e+05</td>\n",
       "      <td>428.350000</td>\n",
       "      <td>6.196200e+08</td>\n",
       "      <td>7.790000</td>\n",
       "      <td>1471.000000</td>\n",
       "      <td>18591.930000</td>\n",
       "      <td>1.170400e+08</td>\n",
       "      <td>2237.400000</td>\n",
       "      <td>944.306400</td>\n",
       "      <td>2935.640300</td>\n",
       "      <td>0.500000</td>\n",
       "      <td>0.25000</td>\n",
       "      <td>-0.200000</td>\n",
       "      <td>98.930000</td>\n",
       "      <td>-4205.000000</td>\n",
       "    </tr>\n",
       "    <tr>\n",
       "      <th>25%</th>\n",
       "      <td>2021-03-29 06:00:00</td>\n",
       "      <td>1181.822500</td>\n",
       "      <td>1182.460000</td>\n",
       "      <td>2399.310000</td>\n",
       "      <td>4.629025e+08</td>\n",
       "      <td>762.185000</td>\n",
       "      <td>9.524700e+08</td>\n",
       "      <td>62.090000</td>\n",
       "      <td>1778.307500</td>\n",
       "      <td>31022.087500</td>\n",
       "      <td>3.016050e+08</td>\n",
       "      <td>3810.150000</td>\n",
       "      <td>1184.088000</td>\n",
       "      <td>3309.121000</td>\n",
       "      <td>0.548387</td>\n",
       "      <td>0.25000</td>\n",
       "      <td>1.425000</td>\n",
       "      <td>103.890000</td>\n",
       "      <td>1862.000000</td>\n",
       "    </tr>\n",
       "    <tr>\n",
       "      <th>50%</th>\n",
       "      <td>2022-06-25 12:00:00</td>\n",
       "      <td>1265.610000</td>\n",
       "      <td>1266.325000</td>\n",
       "      <td>2568.480000</td>\n",
       "      <td>6.137650e+08</td>\n",
       "      <td>847.505000</td>\n",
       "      <td>1.170000e+09</td>\n",
       "      <td>73.735000</td>\n",
       "      <td>1870.390000</td>\n",
       "      <td>33913.620000</td>\n",
       "      <td>3.433250e+08</td>\n",
       "      <td>4200.010000</td>\n",
       "      <td>1221.110000</td>\n",
       "      <td>3718.332800</td>\n",
       "      <td>1.750000</td>\n",
       "      <td>1.75000</td>\n",
       "      <td>2.700000</td>\n",
       "      <td>116.270000</td>\n",
       "      <td>6365.000000</td>\n",
       "    </tr>\n",
       "    <tr>\n",
       "      <th>75%</th>\n",
       "      <td>2023-09-18 18:00:00</td>\n",
       "      <td>1333.020000</td>\n",
       "      <td>1333.395000</td>\n",
       "      <td>2758.637500</td>\n",
       "      <td>8.662025e+08</td>\n",
       "      <td>919.412500</td>\n",
       "      <td>1.500000e+09</td>\n",
       "      <td>82.030000</td>\n",
       "      <td>1985.455000</td>\n",
       "      <td>35627.822500</td>\n",
       "      <td>4.021650e+08</td>\n",
       "      <td>4591.015000</td>\n",
       "      <td>1287.187300</td>\n",
       "      <td>3843.786700</td>\n",
       "      <td>3.500000</td>\n",
       "      <td>5.25000</td>\n",
       "      <td>3.800000</td>\n",
       "      <td>117.500000</td>\n",
       "      <td>7438.000000</td>\n",
       "    </tr>\n",
       "    <tr>\n",
       "      <th>max</th>\n",
       "      <td>2024-12-30 00:00:00</td>\n",
       "      <td>1472.500000</td>\n",
       "      <td>1471.100000</td>\n",
       "      <td>3305.210000</td>\n",
       "      <td>3.460000e+09</td>\n",
       "      <td>1060.000000</td>\n",
       "      <td>5.070000e+09</td>\n",
       "      <td>126.470000</td>\n",
       "      <td>2786.190000</td>\n",
       "      <td>45014.040000</td>\n",
       "      <td>1.220000e+09</td>\n",
       "      <td>6090.270000</td>\n",
       "      <td>1371.920900</td>\n",
       "      <td>4183.535400</td>\n",
       "      <td>3.500000</td>\n",
       "      <td>5.50000</td>\n",
       "      <td>6.300000</td>\n",
       "      <td>119.560000</td>\n",
       "      <td>13096.000000</td>\n",
       "    </tr>\n",
       "    <tr>\n",
       "      <th>std</th>\n",
       "      <td>NaN</td>\n",
       "      <td>93.743223</td>\n",
       "      <td>93.787299</td>\n",
       "      <td>339.282251</td>\n",
       "      <td>3.554851e+08</td>\n",
       "      <td>114.428855</td>\n",
       "      <td>5.210409e+08</td>\n",
       "      <td>23.291945</td>\n",
       "      <td>263.590609</td>\n",
       "      <td>4657.788950</td>\n",
       "      <td>1.128756e+08</td>\n",
       "      <td>764.021938</td>\n",
       "      <td>103.680673</td>\n",
       "      <td>347.336672</td>\n",
       "      <td>1.303587</td>\n",
       "      <td>2.31595</td>\n",
       "      <td>1.658261</td>\n",
       "      <td>7.401748</td>\n",
       "      <td>4255.906435</td>\n",
       "    </tr>\n",
       "  </tbody>\n",
       "</table>\n",
       "</div>"
      ],
      "text/plain": [
       "                                date   USD_KRW 종가   USD_KRW 시가     KOSPI 종가  \\\n",
       "count                           1186  1186.000000  1186.000000  1186.000000   \n",
       "mean   2022-06-25 11:34:30.151770624  1256.282968  1256.633221  2596.073440   \n",
       "min              2020-01-02 00:00:00  1083.530000  1083.870000  1457.640000   \n",
       "25%              2021-03-29 06:00:00  1181.822500  1182.460000  2399.310000   \n",
       "50%              2022-06-25 12:00:00  1265.610000  1266.325000  2568.480000   \n",
       "75%              2023-09-18 18:00:00  1333.020000  1333.395000  2758.637500   \n",
       "max              2024-12-30 00:00:00  1472.500000  1471.100000  3305.210000   \n",
       "std                              NaN    93.743223    93.787299   339.282251   \n",
       "\n",
       "          KOSPI 거래량    KOSDAQ 종가    KOSDAQ 거래량    WTI Price    XAU Price  \\\n",
       "count  1.186000e+03  1186.000000  1.186000e+03  1186.000000  1186.000000   \n",
       "mean   7.131867e+08   841.160118  1.306049e+09    69.533440  1937.514081   \n",
       "min    8.245100e+05   428.350000  6.196200e+08     7.790000  1471.000000   \n",
       "25%    4.629025e+08   762.185000  9.524700e+08    62.090000  1778.307500   \n",
       "50%    6.137650e+08   847.505000  1.170000e+09    73.735000  1870.390000   \n",
       "75%    8.662025e+08   919.412500  1.500000e+09    82.030000  1985.455000   \n",
       "max    3.460000e+09  1060.000000  5.070000e+09   126.470000  2786.190000   \n",
       "std    3.554851e+08   114.428855  5.210409e+08    23.291945   263.590609   \n",
       "\n",
       "             DJI 종가       DJI 거래량     SP500 종가           M1           M2  \\\n",
       "count   1186.000000  1.186000e+03  1186.000000  1186.000000  1186.000000   \n",
       "mean   33603.138786  3.687432e+08  4250.179671  1219.394587  3616.388458   \n",
       "min    18591.930000  1.170400e+08  2237.400000   944.306400  2935.640300   \n",
       "25%    31022.087500  3.016050e+08  3810.150000  1184.088000  3309.121000   \n",
       "50%    33913.620000  3.433250e+08  4200.010000  1221.110000  3718.332800   \n",
       "75%    35627.822500  4.021650e+08  4591.015000  1287.187300  3843.786700   \n",
       "max    45014.040000  1.220000e+09  6090.270000  1371.920900  4183.535400   \n",
       "std     4657.788950  1.128756e+08   764.021938   103.680673   347.336672   \n",
       "\n",
       "           한국 정책금리     미국 정책금리          CPI          PPI          경상수지  \n",
       "count  1186.000000  1186.00000  1186.000000  1186.000000   1186.000000  \n",
       "mean      2.037789     2.60763     2.811298   111.501433   5333.790894  \n",
       "min       0.500000     0.25000    -0.200000    98.930000  -4205.000000  \n",
       "25%       0.548387     0.25000     1.425000   103.890000   1862.000000  \n",
       "50%       1.750000     1.75000     2.700000   116.270000   6365.000000  \n",
       "75%       3.500000     5.25000     3.800000   117.500000   7438.000000  \n",
       "max       3.500000     5.50000     6.300000   119.560000  13096.000000  \n",
       "std       1.303587     2.31595     1.658261     7.401748   4255.906435  "
      ]
     },
     "metadata": {},
     "output_type": "display_data"
    },
    {
     "name": "stdout",
     "output_type": "stream",
     "text": [
      "\n",
      "Null counts:\n",
      "date          0\n",
      "USD_KRW 종가    0\n",
      "USD_KRW 시가    0\n",
      "KOSPI 종가      0\n",
      "KOSPI 거래량     0\n",
      "KOSDAQ 종가     0\n",
      "KOSDAQ 거래량    0\n",
      "WTI Price     0\n",
      "XAU Price     0\n",
      "DJI 종가        0\n",
      "DJI 거래량       0\n",
      "SP500 종가      0\n",
      "M1            0\n",
      "M2            0\n",
      "한국 정책금리       0\n",
      "미국 정책금리       0\n",
      "CPI           0\n",
      "PPI           0\n",
      "경상수지          0\n",
      "dtype: int64\n",
      "========================================\n"
     ]
    }
   ],
   "source": [
    "eda_basic_info(df_fx, \"df_fx\")"
   ]
  },
  {
   "cell_type": "markdown",
   "id": "09c35288-b512-41cb-b9a2-d5273b4a71fa",
   "metadata": {},
   "source": [
    "# Prep 2(VIF, PCA, NONE)"
   ]
  },
  {
   "cell_type": "code",
   "execution_count": 16,
   "id": "ce897888-57ad-4f19-85f5-0bb9181a1321",
   "metadata": {},
   "outputs": [],
   "source": [
    "# VIF\n",
    "def reduce_vif(df, thresh=10.0):\n",
    "    variables = df.columns.tolist()\n",
    "    dropped = True\n",
    "    while dropped:\n",
    "        dropped = False\n",
    "        vif_data = pd.DataFrame()\n",
    "        vif_data[\"feature\"] = variables\n",
    "        vif_data[\"VIF\"] = [variance_inflation_factor(df[variables].values, i) for i in range(len(variables))]\n",
    "        max_vif = vif_data[\"VIF\"].max()\n",
    "        if max_vif > thresh:\n",
    "            max_feature = vif_data.sort_values(\"VIF\", ascending=False)[\"feature\"].iloc[0]\n",
    "            print(f\"Dropping {max_feature} with VIF = {max_vif:.2f}\")\n",
    "            variables.remove(max_feature)\n",
    "            dropped = True\n",
    "    return df[variables]"
   ]
  },
  {
   "cell_type": "code",
   "execution_count": 17,
   "id": "09dd1885-c8ff-4258-8f79-54f551602ff2",
   "metadata": {},
   "outputs": [],
   "source": [
    "# ===== 시퀀스 데이터 생성 함수 =====\n",
    "def create_sequences(features, target, window_size):\n",
    "    X, y = [], []\n",
    "    for i in range(len(features) - window_size):\n",
    "        X.append(features[i : i + window_size])\n",
    "        y.append(target[i + window_size])\n",
    "    return np.array(X), np.array(y)"
   ]
  },
  {
   "cell_type": "code",
   "execution_count": 18,
   "id": "3da066cd-6bcb-4a4e-ac98-ff7fa2e713bf",
   "metadata": {},
   "outputs": [],
   "source": [
    "# 데이터 전처리 - PCA, pca_n_components 몇으로 설정? / VIF, vif_threshold 몇으로 설정? / NONE 버전\n",
    "def prepare_data(df, method=\"none\", window_size=5, vif_threshold=10, pca_n_components=0.99):\n",
    "    target_column = 'USD_KRW 종가'\n",
    "    columns_to_drop = ['date', target_column]\n",
    "    \n",
    "    # 독립변수와 종속변수 분리\n",
    "    features = df.drop(columns=columns_to_drop)\n",
    "    # 원래 변수 이름 저장 \n",
    "    feature_names = list(features.columns)\n",
    "    target = df[target_column].values\n",
    "    \n",
    "    # VIF 버전: 다중공선성이 높은 변수 제거 후 변수 이름 업데이트\n",
    "    if method == \"vif\":\n",
    "        features = reduce_vif(features, thresh=vif_threshold)\n",
    "        feature_names = list(features.columns)\n",
    "    \n",
    "    # numpy array로 변환\n",
    "    features_array = features.values\n",
    "    \n",
    "    # 스케일링\n",
    "    scaler_x = MinMaxScaler()\n",
    "    scaler_y = MinMaxScaler()\n",
    "    features_scaled = scaler_x.fit_transform(features_array)\n",
    "    target_scaled = scaler_y.fit_transform(target.reshape(-1, 1))\n",
    "    \n",
    "    # PCA 버전: 차원 축소\n",
    "    if method == \"pca\":\n",
    "        pca = PCA(n_components=pca_n_components)\n",
    "        features_scaled = pca.fit_transform(features_scaled)\n",
    "        # print(\"PCA 적용:\")\n",
    "        # print(f\"  원래 변수 개수: {len(feature_names)} -> 주성분 개수: {pca.n_components_}\")\n",
    "        # print(\"  각 주성분에 대한 변수 기여도 (loadings):\")\n",
    "        # for i, component in enumerate(pca.components_):\n",
    "        #     loadings = {feature_names[j]: component[j] for j in range(len(feature_names))}\n",
    "        #     sorted_loadings = sorted(loadings.items(), key=lambda x: abs(x[1]), reverse=True)\n",
    "        #     print(f\"  주성분 {i+1} (설명분산: {pca.explained_variance_ratio_[i]*100:.2f}%):\")\n",
    "        #     for feat, loading in sorted_loadings:\n",
    "        #         print(f\"    {feat}: {loading:.4f}\")\n",
    "    \n",
    "    X, y = create_sequences(features_scaled, target_scaled, window_size)\n",
    "    \n",
    "    # 시간 순서대로 학습/테스트 분할 (80:20)\n",
    "    train_size = int(len(X) * 0.8)\n",
    "    X_train, X_test = X[:train_size], X[train_size:]\n",
    "    y_train, y_test = y[:train_size], y[train_size:]\n",
    "    \n",
    "    return X_train, X_test, y_train, y_test, scaler_y"
   ]
  },
  {
   "cell_type": "code",
   "execution_count": 19,
   "id": "fa7dac63-ebf4-4132-8db1-5a2b0227592f",
   "metadata": {},
   "outputs": [
    {
     "data": {
      "image/png": "[encoded data removed]",
      "text/plain": [
       "<Figure size 800x500 with 1 Axes>"
      ]
     },
     "metadata": {},
     "output_type": "display_data"
    }
   ],
   "source": [
    "target_column = 'USD_KRW 종가'\n",
    "columns_to_drop = ['date', target_column]\n",
    "features = df.drop(columns=columns_to_drop)\n",
    "\n",
    "# 스케일링\n",
    "scaler = MinMaxScaler()\n",
    "features_scaled = scaler.fit_transform(features.values)\n",
    "\n",
    "# PCA 수행\n",
    "pca = PCA().fit(features_scaled)\n",
    "cumulative_variance = np.cumsum(pca.explained_variance_ratio_)\n",
    "\n",
    "# 누적 설명 분산 그래프 그리기\n",
    "plt.figure(figsize=(8, 5))\n",
    "plt.plot(cumulative_variance, marker='o')\n",
    "plt.xlabel(\"주성분 수\")\n",
    "plt.ylabel(\"누적 설명 분산\")\n",
    "plt.axhline(y=0.95, color='r', linestyle='--', label='95% 기준')\n",
    "plt.axhline(y=0.99, color='g', linestyle='--', label='99% 기준')\n",
    "plt.title(\"PCA 누적 설명 분산\")\n",
    "plt.legend()\n",
    "plt.show()\n",
    "\n",
    "# 주성분 수 확인\n",
    "# n_components_95 = np.argmax(cumulative_variance >= 0.95) + 1\n",
    "# print(f\"95% 설명 분산을 위해 필요한 주성분 수: {n_components_95}\\n\")\n",
    "\n",
    "# # 각 주성분에 대한 변수 기여도 출력\n",
    "# print(\"각 주성분의 변수 기여도 (Loadings):\")\n",
    "# for i in range(n_components_95):\n",
    "    \n",
    "#     loadings = pd.Series(pca.components_[i], index=features.columns)\n",
    "#     loadings_sorted = loadings.reindex(loadings.abs().sort_values(ascending=False).index)\n",
    "#     print(f\"\\n주성분 {i+1} (설명 분산: {pca.explained_variance_ratio_[i]*100:.2f}%):\")\n",
    "#     print(loadings_sorted)"
   ]
  },
  {
   "cell_type": "code",
   "execution_count": 20,
   "id": "86d8b7b5-3320-47a6-a183-923250d7a9d0",
   "metadata": {},
   "outputs": [
    {
     "name": "stdout",
     "output_type": "stream",
     "text": [
      "각 변수의 VIF 값:\n",
      "                 변수           VIF\n",
      "11               M2  43563.448379\n",
      "10               M1  14972.511724\n",
      "15              PPI  14760.705426\n",
      "7            DJI 종가   3572.427735\n",
      "9          SP500 종가   2851.158944\n",
      "0        USD_KRW 시가   2607.895420\n",
      "1          KOSPI 종가    997.052432\n",
      "12          한국 정책금리    896.056697\n",
      "3         KOSDAQ 종가    624.911027\n",
      "6         XAU Price    593.330475\n",
      "13          미국 정책금리    480.689949\n",
      "5         WTI Price    123.834920\n",
      "14              CPI     80.927768\n",
      "4        KOSDAQ 거래량     21.991830\n",
      "8           DJI 거래량     15.959666\n",
      "2         KOSPI 거래량     14.628675\n",
      "16             경상수지      7.450662\n",
      "17  sentiment score      1.017792\n"
     ]
    },
    {
     "data": {
      "image/png": "[encoded data removed]",
      "text/plain": [
       "<Figure size 1000x600 with 1 Axes>"
      ]
     },
     "metadata": {},
     "output_type": "display_data"
    }
   ],
   "source": [
    "target_column = 'USD_KRW 종가'\n",
    "columns_to_drop = ['date', target_column]\n",
    "features = df.drop(columns=columns_to_drop)\n",
    "\n",
    "# VIF 계산 함수 정의\n",
    "def calculate_vif(df):\n",
    "    vif_data = pd.DataFrame()\n",
    "    vif_data[\"변수\"] = df.columns\n",
    "    vif_data[\"VIF\"] = [variance_inflation_factor(df.values, i) for i in range(len(df.columns))]\n",
    "    return vif_data\n",
    "\n",
    "# VIF 계산\n",
    "vif_df = calculate_vif(features)\n",
    "\n",
    "# 내림차순 정렬\n",
    "vif_sorted = vif_df.sort_values(\"VIF\", ascending=False)\n",
    "print(\"각 변수의 VIF 값:\")\n",
    "print(vif_sorted)\n",
    "\n",
    "# 시각화\n",
    "plt.figure(figsize=(10, 6))\n",
    "plt.bar(vif_sorted[\"변수\"], vif_sorted[\"VIF\"], color='skyblue')\n",
    "plt.xlabel(\"변수\")\n",
    "plt.ylabel(\"VIF\")\n",
    "plt.title(\"각 변수의 VIF\")\n",
    "plt.xticks(rotation=45)\n",
    "plt.tight_layout()\n",
    "plt.show()"
   ]
  },
  {
   "cell_type": "markdown",
   "id": "753d93b4-251f-48ab-8589-4729187be8cd",
   "metadata": {},
   "source": [
    "# Modeling"
   ]
  },
  {
   "cell_type": "code",
   "execution_count": 21,
   "id": "2240037b-6b0b-4407-a41b-ade327efc061",
   "metadata": {},
   "outputs": [],
   "source": [
    "def build_lstm(input_shape):\n",
    "    model = Sequential([\n",
    "        LSTM(50, activation='tanh', input_shape=input_shape),\n",
    "        Dropout(0.2),\n",
    "        Dense(1)\n",
    "    ])\n",
    "    model.compile(optimizer='adam', loss='mse')\n",
    "    return model\n",
    "\n",
    "def build_gru(input_shape):\n",
    "    model = Sequential([\n",
    "        GRU(50, activation='tanh', input_shape=input_shape),\n",
    "        Dropout(0.2),\n",
    "        Dense(1)\n",
    "    ])\n",
    "    model.compile(optimizer='adam', loss='mse')\n",
    "    return model\n",
    "\n",
    "def build_cnn_lstm(input_shape):\n",
    "    model = Sequential([\n",
    "        Conv1D(filters=256, kernel_size=3, activation='relu', input_shape=input_shape),\n",
    "        MaxPooling1D(pool_size=2),\n",
    "        LSTM(50, activation='tanh'),\n",
    "        Dropout(0.2),\n",
    "        Dense(1)\n",
    "    ])\n",
    "    model.compile(optimizer='adam', loss='mse')\n",
    "    return model\n",
    "\n",
    "def build_cnn_gru(input_shape):\n",
    "    model = Sequential([\n",
    "        Conv1D(filters=256, kernel_size=3, activation='relu', input_shape=input_shape),\n",
    "        MaxPooling1D(pool_size=2),\n",
    "        GRU(50, activation='tanh'),\n",
    "        Dropout(0.2),\n",
    "        Dense(1)\n",
    "    ])\n",
    "    model.compile(optimizer='adam', loss='mse')\n",
    "    return model"
   ]
  },
  {
   "cell_type": "code",
   "execution_count": 22,
   "id": "9124324f-95e1-4718-87fb-8f8ed3be4880",
   "metadata": {},
   "outputs": [],
   "source": [
    "# 모델 학습 및 예측 결과 \n",
    "def train_models_for_method(df, method=\"none\", window_size=5, epochs=50, batch_size=16):\n",
    "    # 데이터 전처리\n",
    "    X_train, X_test, y_train, y_test, scaler_y = prepare_data(df, method=method, window_size=window_size)\n",
    "    input_shape = (X_train.shape[1], X_train.shape[2])\n",
    "    y_test_inv = scaler_y.inverse_transform(y_test)\n",
    "    early_stop = EarlyStopping(monitor='loss', patience=5, restore_best_weights=True)\n",
    "    \n",
    "    results = {}  # 모델별 평가 지표와 예측값 저장\n",
    "    # LSTM 모델\n",
    "    model = build_lstm(input_shape)\n",
    "    model.fit(X_train, y_train, epochs=epochs, batch_size=batch_size, verbose=0, callbacks=[early_stop])\n",
    "    pred = scaler_y.inverse_transform(model.predict(X_test))\n",
    "    mse_val = mean_squared_error(y_test_inv, pred)\n",
    "    mape_val = mean_absolute_percentage_error(y_test_inv, pred) * 100\n",
    "    results['LSTM'] = {'metrics': {'mse': mse_val, 'mape': mape_val}, 'predictions': pred}\n",
    "    \n",
    "    # GRU 모델\n",
    "    model = build_gru(input_shape)\n",
    "    model.fit(X_train, y_train, epochs=epochs, batch_size=batch_size, verbose=0, callbacks=[early_stop])\n",
    "    pred = scaler_y.inverse_transform(model.predict(X_test))\n",
    "    mse_val = mean_squared_error(y_test_inv, pred)\n",
    "    mape_val = mean_absolute_percentage_error(y_test_inv, pred) * 100\n",
    "    results['GRU'] = {'metrics': {'mse': mse_val, 'mape': mape_val}, 'predictions': pred}\n",
    "    \n",
    "    # CNN-LSTM 모델\n",
    "    model = build_cnn_lstm(input_shape)\n",
    "    model.fit(X_train, y_train, epochs=epochs, batch_size=batch_size, verbose=0, callbacks=[early_stop])\n",
    "    pred = scaler_y.inverse_transform(model.predict(X_test))\n",
    "    mse_val = mean_squared_error(y_test_inv, pred)\n",
    "    mape_val = mean_absolute_percentage_error(y_test_inv, pred) * 100\n",
    "    results['CNN-LSTM'] = {'metrics': {'mse': mse_val, 'mape': mape_val}, 'predictions': pred}\n",
    "    \n",
    "    # CNN-GRU 모델\n",
    "    model = build_cnn_gru(input_shape)\n",
    "    model.fit(X_train, y_train, epochs=epochs, batch_size=batch_size, verbose=0, callbacks=[early_stop])\n",
    "    pred = scaler_y.inverse_transform(model.predict(X_test))\n",
    "    mse_val = mean_squared_error(y_test_inv, pred)\n",
    "    mape_val = mean_absolute_percentage_error(y_test_inv, pred) * 100\n",
    "    results['CNN-GRU'] = {'metrics': {'mse': mse_val, 'mape': mape_val}, 'predictions': pred}\n",
    "    \n",
    "    return results, y_test_inv"
   ]
  },
  {
   "cell_type": "code",
   "execution_count": 23,
   "id": "a7bacdf5-7390-4d83-94c6-89ee654a3952",
   "metadata": {},
   "outputs": [],
   "source": [
    "# 전체 실험 실행\n",
    "def run_experiments(df, window_size=5, epochs=50, batch_size=16):\n",
    "    methods = ['none', 'vif', 'pca']\n",
    "    final_results = {}  # 각 전처리 방식별 결과 저장\n",
    "    for method in methods:\n",
    "        print(f\"\\n==== Processing method: {method.upper()} ====\")\n",
    "        model_results, y_test_inv = train_models_for_method(df, method=method, window_size=window_size, epochs=epochs, batch_size=batch_size)\n",
    "        final_results[method] = {'models': model_results, 'y_test_inv': y_test_inv}\n",
    "    return final_results"
   ]
  },
  {
   "cell_type": "code",
   "execution_count": 24,
   "id": "f9a2c81f-f0c2-454c-a32f-acc3a477593a",
   "metadata": {},
   "outputs": [],
   "source": [
    "# 그래프 출력 \n",
    "def plot_time_series_predictions(y_test_inv, predictions, method):\n",
    "    plt.figure(figsize=(12,6))\n",
    "    plt.plot(y_test_inv, label='Actual')\n",
    "    for model_name, data in predictions.items():\n",
    "        plt.plot(data['predictions'], label=model_name)\n",
    "    plt.title(f'USD_KRW 종가 예측 결과 비교 ({method.upper()} 전처리)')\n",
    "    plt.xlabel('Time Step')\n",
    "    plt.ylabel('USD_KRW 종가')\n",
    "    plt.legend()\n",
    "    plt.show()"
   ]
  },
  {
   "cell_type": "markdown",
   "id": "336009da-5c3e-4207-8861-c45b90c944da",
   "metadata": {},
   "source": [
    "# Result"
   ]
  },
  {
   "cell_type": "code",
   "execution_count": 25,
   "id": "6d03884e-07d8-4732-acfc-ea641b3c9df8",
   "metadata": {},
   "outputs": [],
   "source": [
    "df['date'] = pd.to_datetime(df['date'])\n",
    "df2['date'] = pd.to_datetime(df2['date'])\n",
    "df_fx['date'] = pd.to_datetime(df_fx['date'])"
   ]
  },
  {
   "cell_type": "code",
   "execution_count": 55,
   "id": "2d3674f8-511a-476f-8144-cd87f4d447a2",
   "metadata": {},
   "outputs": [
    {
     "name": "stdout",
     "output_type": "stream",
     "text": [
      "\n",
      "==== Processing method: NONE ====\n"
     ]
    },
    {
     "name": "stderr",
     "output_type": "stream",
     "text": [
      "C:\\Users\\james\\anaconda3\\envs\\my_new_env\\lib\\site-packages\\keras\\src\\layers\\rnn\\rnn.py:200: UserWarning: Do not pass an `input_shape`/`input_dim` argument to a layer. When using Sequential models, prefer using an `Input(shape)` object as the first layer in the model instead.\n",
      "  super().__init__(**kwargs)\n"
     ]
    },
    {
     "name": "stdout",
     "output_type": "stream",
     "text": [
      "\u001b[1m8/8\u001b[0m \u001b[32m━━━━━━━━━━━━━━━━━━━━\u001b[0m\u001b[37m\u001b[0m \u001b[1m0s\u001b[0m 16ms/step\n"
     ]
    },
    {
     "name": "stderr",
     "output_type": "stream",
     "text": [
      "C:\\Users\\james\\anaconda3\\envs\\my_new_env\\lib\\site-packages\\keras\\src\\layers\\rnn\\rnn.py:200: UserWarning: Do not pass an `input_shape`/`input_dim` argument to a layer. When using Sequential models, prefer using an `Input(shape)` object as the first layer in the model instead.\n",
      "  super().__init__(**kwargs)\n"
     ]
    },
    {
     "name": "stdout",
     "output_type": "stream",
     "text": [
      "\u001b[1m8/8\u001b[0m \u001b[32m━━━━━━━━━━━━━━━━━━━━\u001b[0m\u001b[37m\u001b[0m \u001b[1m0s\u001b[0m 16ms/step\n"
     ]
    },
    {
     "name": "stderr",
     "output_type": "stream",
     "text": [
      "C:\\Users\\james\\anaconda3\\envs\\my_new_env\\lib\\site-packages\\keras\\src\\layers\\convolutional\\base_conv.py:107: UserWarning: Do not pass an `input_shape`/`input_dim` argument to a layer. When using Sequential models, prefer using an `Input(shape)` object as the first layer in the model instead.\n",
      "  super().__init__(activity_regularizer=activity_regularizer, **kwargs)\n"
     ]
    },
    {
     "name": "stdout",
     "output_type": "stream",
     "text": [
      "\u001b[1m8/8\u001b[0m \u001b[32m━━━━━━━━━━━━━━━━━━━━\u001b[0m\u001b[37m\u001b[0m \u001b[1m0s\u001b[0m 15ms/step\n"
     ]
    },
    {
     "name": "stderr",
     "output_type": "stream",
     "text": [
      "C:\\Users\\james\\anaconda3\\envs\\my_new_env\\lib\\site-packages\\keras\\src\\layers\\convolutional\\base_conv.py:107: UserWarning: Do not pass an `input_shape`/`input_dim` argument to a layer. When using Sequential models, prefer using an `Input(shape)` object as the first layer in the model instead.\n",
      "  super().__init__(activity_regularizer=activity_regularizer, **kwargs)\n"
     ]
    },
    {
     "name": "stdout",
     "output_type": "stream",
     "text": [
      "\u001b[1m8/8\u001b[0m \u001b[32m━━━━━━━━━━━━━━━━━━━━\u001b[0m\u001b[37m\u001b[0m \u001b[1m0s\u001b[0m 16ms/step\n",
      "\n",
      "==== Processing method: VIF ====\n",
      "Dropping M2 with VIF = 43563.45\n",
      "Dropping PPI with VIF = 8287.74\n",
      "Dropping M1 with VIF = 2995.95\n",
      "Dropping DJI 종가 with VIF = 2395.89\n",
      "Dropping KOSPI 종가 with VIF = 708.73\n",
      "Dropping 한국 정책금리 with VIF = 518.93\n",
      "Dropping XAU Price with VIF = 389.56\n",
      "Dropping SP500 종가 with VIF = 130.69\n",
      "Dropping USD_KRW 시가 with VIF = 97.60\n",
      "Dropping WTI Price with VIF = 58.55\n",
      "Dropping KOSDAQ 종가 with VIF = 42.23\n",
      "Dropping KOSDAQ 거래량 with VIF = 14.70\n"
     ]
    },
    {
     "name": "stderr",
     "output_type": "stream",
     "text": [
      "C:\\Users\\james\\anaconda3\\envs\\my_new_env\\lib\\site-packages\\keras\\src\\layers\\rnn\\rnn.py:200: UserWarning: Do not pass an `input_shape`/`input_dim` argument to a layer. When using Sequential models, prefer using an `Input(shape)` object as the first layer in the model instead.\n",
      "  super().__init__(**kwargs)\n"
     ]
    },
    {
     "name": "stdout",
     "output_type": "stream",
     "text": [
      "\u001b[1m8/8\u001b[0m \u001b[32m━━━━━━━━━━━━━━━━━━━━\u001b[0m\u001b[37m\u001b[0m \u001b[1m0s\u001b[0m 12ms/step\n"
     ]
    },
    {
     "name": "stderr",
     "output_type": "stream",
     "text": [
      "C:\\Users\\james\\anaconda3\\envs\\my_new_env\\lib\\site-packages\\keras\\src\\layers\\rnn\\rnn.py:200: UserWarning: Do not pass an `input_shape`/`input_dim` argument to a layer. When using Sequential models, prefer using an `Input(shape)` object as the first layer in the model instead.\n",
      "  super().__init__(**kwargs)\n"
     ]
    },
    {
     "name": "stdout",
     "output_type": "stream",
     "text": [
      "\u001b[1m8/8\u001b[0m \u001b[32m━━━━━━━━━━━━━━━━━━━━\u001b[0m\u001b[37m\u001b[0m \u001b[1m0s\u001b[0m 14ms/step\n"
     ]
    },
    {
     "name": "stderr",
     "output_type": "stream",
     "text": [
      "C:\\Users\\james\\anaconda3\\envs\\my_new_env\\lib\\site-packages\\keras\\src\\layers\\convolutional\\base_conv.py:107: UserWarning: Do not pass an `input_shape`/`input_dim` argument to a layer. When using Sequential models, prefer using an `Input(shape)` object as the first layer in the model instead.\n",
      "  super().__init__(activity_regularizer=activity_regularizer, **kwargs)\n"
     ]
    },
    {
     "name": "stdout",
     "output_type": "stream",
     "text": [
      "\u001b[1m8/8\u001b[0m \u001b[32m━━━━━━━━━━━━━━━━━━━━\u001b[0m\u001b[37m\u001b[0m \u001b[1m0s\u001b[0m 15ms/step\n"
     ]
    },
    {
     "name": "stderr",
     "output_type": "stream",
     "text": [
      "C:\\Users\\james\\anaconda3\\envs\\my_new_env\\lib\\site-packages\\keras\\src\\layers\\convolutional\\base_conv.py:107: UserWarning: Do not pass an `input_shape`/`input_dim` argument to a layer. When using Sequential models, prefer using an `Input(shape)` object as the first layer in the model instead.\n",
      "  super().__init__(activity_regularizer=activity_regularizer, **kwargs)\n"
     ]
    },
    {
     "name": "stdout",
     "output_type": "stream",
     "text": [
      "\u001b[1m8/8\u001b[0m \u001b[32m━━━━━━━━━━━━━━━━━━━━\u001b[0m\u001b[37m\u001b[0m \u001b[1m0s\u001b[0m 17ms/step\n",
      "\n",
      "==== Processing method: PCA ====\n"
     ]
    },
    {
     "name": "stderr",
     "output_type": "stream",
     "text": [
      "C:\\Users\\james\\anaconda3\\envs\\my_new_env\\lib\\site-packages\\keras\\src\\layers\\rnn\\rnn.py:200: UserWarning: Do not pass an `input_shape`/`input_dim` argument to a layer. When using Sequential models, prefer using an `Input(shape)` object as the first layer in the model instead.\n",
      "  super().__init__(**kwargs)\n"
     ]
    },
    {
     "name": "stdout",
     "output_type": "stream",
     "text": [
      "\u001b[1m8/8\u001b[0m \u001b[32m━━━━━━━━━━━━━━━━━━━━\u001b[0m\u001b[37m\u001b[0m \u001b[1m0s\u001b[0m 13ms/step\n"
     ]
    },
    {
     "name": "stderr",
     "output_type": "stream",
     "text": [
      "C:\\Users\\james\\anaconda3\\envs\\my_new_env\\lib\\site-packages\\keras\\src\\layers\\rnn\\rnn.py:200: UserWarning: Do not pass an `input_shape`/`input_dim` argument to a layer. When using Sequential models, prefer using an `Input(shape)` object as the first layer in the model instead.\n",
      "  super().__init__(**kwargs)\n"
     ]
    },
    {
     "name": "stdout",
     "output_type": "stream",
     "text": [
      "\u001b[1m8/8\u001b[0m \u001b[32m━━━━━━━━━━━━━━━━━━━━\u001b[0m\u001b[37m\u001b[0m \u001b[1m0s\u001b[0m 18ms/step\n"
     ]
    },
    {
     "name": "stderr",
     "output_type": "stream",
     "text": [
      "C:\\Users\\james\\anaconda3\\envs\\my_new_env\\lib\\site-packages\\keras\\src\\layers\\convolutional\\base_conv.py:107: UserWarning: Do not pass an `input_shape`/`input_dim` argument to a layer. When using Sequential models, prefer using an `Input(shape)` object as the first layer in the model instead.\n",
      "  super().__init__(activity_regularizer=activity_regularizer, **kwargs)\n"
     ]
    },
    {
     "name": "stdout",
     "output_type": "stream",
     "text": [
      "\u001b[1m8/8\u001b[0m \u001b[32m━━━━━━━━━━━━━━━━━━━━\u001b[0m\u001b[37m\u001b[0m \u001b[1m0s\u001b[0m 14ms/step\n"
     ]
    },
    {
     "name": "stderr",
     "output_type": "stream",
     "text": [
      "C:\\Users\\james\\anaconda3\\envs\\my_new_env\\lib\\site-packages\\keras\\src\\layers\\convolutional\\base_conv.py:107: UserWarning: Do not pass an `input_shape`/`input_dim` argument to a layer. When using Sequential models, prefer using an `Input(shape)` object as the first layer in the model instead.\n",
      "  super().__init__(activity_regularizer=activity_regularizer, **kwargs)\n"
     ]
    },
    {
     "name": "stdout",
     "output_type": "stream",
     "text": [
      "\u001b[1m8/8\u001b[0m \u001b[32m━━━━━━━━━━━━━━━━━━━━\u001b[0m\u001b[37m\u001b[0m \u001b[1m0s\u001b[0m 16ms/step\n",
      "\n",
      "==== Processing method: NONE ====\n"
     ]
    },
    {
     "name": "stderr",
     "output_type": "stream",
     "text": [
      "C:\\Users\\james\\anaconda3\\envs\\my_new_env\\lib\\site-packages\\keras\\src\\layers\\rnn\\rnn.py:200: UserWarning: Do not pass an `input_shape`/`input_dim` argument to a layer. When using Sequential models, prefer using an `Input(shape)` object as the first layer in the model instead.\n",
      "  super().__init__(**kwargs)\n"
     ]
    },
    {
     "name": "stdout",
     "output_type": "stream",
     "text": [
      "\u001b[1m8/8\u001b[0m \u001b[32m━━━━━━━━━━━━━━━━━━━━\u001b[0m\u001b[37m\u001b[0m \u001b[1m0s\u001b[0m 13ms/step\n"
     ]
    },
    {
     "name": "stderr",
     "output_type": "stream",
     "text": [
      "C:\\Users\\james\\anaconda3\\envs\\my_new_env\\lib\\site-packages\\keras\\src\\layers\\rnn\\rnn.py:200: UserWarning: Do not pass an `input_shape`/`input_dim` argument to a layer. When using Sequential models, prefer using an `Input(shape)` object as the first layer in the model instead.\n",
      "  super().__init__(**kwargs)\n"
     ]
    },
    {
     "name": "stdout",
     "output_type": "stream",
     "text": [
      "\u001b[1m8/8\u001b[0m \u001b[32m━━━━━━━━━━━━━━━━━━━━\u001b[0m\u001b[37m\u001b[0m \u001b[1m0s\u001b[0m 13ms/step\n"
     ]
    },
    {
     "name": "stderr",
     "output_type": "stream",
     "text": [
      "C:\\Users\\james\\anaconda3\\envs\\my_new_env\\lib\\site-packages\\keras\\src\\layers\\convolutional\\base_conv.py:107: UserWarning: Do not pass an `input_shape`/`input_dim` argument to a layer. When using Sequential models, prefer using an `Input(shape)` object as the first layer in the model instead.\n",
      "  super().__init__(activity_regularizer=activity_regularizer, **kwargs)\n"
     ]
    },
    {
     "name": "stdout",
     "output_type": "stream",
     "text": [
      "\u001b[1m8/8\u001b[0m \u001b[32m━━━━━━━━━━━━━━━━━━━━\u001b[0m\u001b[37m\u001b[0m \u001b[1m0s\u001b[0m 14ms/step\n"
     ]
    },
    {
     "name": "stderr",
     "output_type": "stream",
     "text": [
      "C:\\Users\\james\\anaconda3\\envs\\my_new_env\\lib\\site-packages\\keras\\src\\layers\\convolutional\\base_conv.py:107: UserWarning: Do not pass an `input_shape`/`input_dim` argument to a layer. When using Sequential models, prefer using an `Input(shape)` object as the first layer in the model instead.\n",
      "  super().__init__(activity_regularizer=activity_regularizer, **kwargs)\n"
     ]
    },
    {
     "name": "stdout",
     "output_type": "stream",
     "text": [
      "\u001b[1m8/8\u001b[0m \u001b[32m━━━━━━━━━━━━━━━━━━━━\u001b[0m\u001b[37m\u001b[0m \u001b[1m0s\u001b[0m 15ms/step\n",
      "\n",
      "==== Processing method: VIF ====\n",
      "Dropping M2 with VIF = 43563.62\n",
      "Dropping PPI with VIF = 8288.89\n",
      "Dropping M1 with VIF = 2997.38\n",
      "Dropping DJI 종가 with VIF = 2395.97\n",
      "Dropping KOSPI 종가 with VIF = 708.84\n",
      "Dropping 한국 정책금리 with VIF = 519.06\n",
      "Dropping XAU Price with VIF = 389.40\n",
      "Dropping SP500 종가 with VIF = 130.64\n",
      "Dropping USD_KRW 시가 with VIF = 97.61\n",
      "Dropping WTI Price with VIF = 58.48\n",
      "Dropping KOSDAQ 종가 with VIF = 42.21\n",
      "Dropping KOSDAQ 거래량 with VIF = 14.69\n"
     ]
    },
    {
     "name": "stderr",
     "output_type": "stream",
     "text": [
      "C:\\Users\\james\\anaconda3\\envs\\my_new_env\\lib\\site-packages\\keras\\src\\layers\\rnn\\rnn.py:200: UserWarning: Do not pass an `input_shape`/`input_dim` argument to a layer. When using Sequential models, prefer using an `Input(shape)` object as the first layer in the model instead.\n",
      "  super().__init__(**kwargs)\n"
     ]
    },
    {
     "name": "stdout",
     "output_type": "stream",
     "text": [
      "\u001b[1m8/8\u001b[0m \u001b[32m━━━━━━━━━━━━━━━━━━━━\u001b[0m\u001b[37m\u001b[0m \u001b[1m0s\u001b[0m 12ms/step\n"
     ]
    },
    {
     "name": "stderr",
     "output_type": "stream",
     "text": [
      "C:\\Users\\james\\anaconda3\\envs\\my_new_env\\lib\\site-packages\\keras\\src\\layers\\rnn\\rnn.py:200: UserWarning: Do not pass an `input_shape`/`input_dim` argument to a layer. When using Sequential models, prefer using an `Input(shape)` object as the first layer in the model instead.\n",
      "  super().__init__(**kwargs)\n"
     ]
    },
    {
     "name": "stdout",
     "output_type": "stream",
     "text": [
      "\u001b[1m8/8\u001b[0m \u001b[32m━━━━━━━━━━━━━━━━━━━━\u001b[0m\u001b[37m\u001b[0m \u001b[1m0s\u001b[0m 14ms/step\n"
     ]
    },
    {
     "name": "stderr",
     "output_type": "stream",
     "text": [
      "C:\\Users\\james\\anaconda3\\envs\\my_new_env\\lib\\site-packages\\keras\\src\\layers\\convolutional\\base_conv.py:107: UserWarning: Do not pass an `input_shape`/`input_dim` argument to a layer. When using Sequential models, prefer using an `Input(shape)` object as the first layer in the model instead.\n",
      "  super().__init__(activity_regularizer=activity_regularizer, **kwargs)\n"
     ]
    },
    {
     "name": "stdout",
     "output_type": "stream",
     "text": [
      "\u001b[1m8/8\u001b[0m \u001b[32m━━━━━━━━━━━━━━━━━━━━\u001b[0m\u001b[37m\u001b[0m \u001b[1m0s\u001b[0m 13ms/step\n"
     ]
    },
    {
     "name": "stderr",
     "output_type": "stream",
     "text": [
      "C:\\Users\\james\\anaconda3\\envs\\my_new_env\\lib\\site-packages\\keras\\src\\layers\\convolutional\\base_conv.py:107: UserWarning: Do not pass an `input_shape`/`input_dim` argument to a layer. When using Sequential models, prefer using an `Input(shape)` object as the first layer in the model instead.\n",
      "  super().__init__(activity_regularizer=activity_regularizer, **kwargs)\n"
     ]
    },
    {
     "name": "stdout",
     "output_type": "stream",
     "text": [
      "\u001b[1m8/8\u001b[0m \u001b[32m━━━━━━━━━━━━━━━━━━━━\u001b[0m\u001b[37m\u001b[0m \u001b[1m0s\u001b[0m 16ms/step\n",
      "\n",
      "==== Processing method: PCA ====\n"
     ]
    },
    {
     "name": "stderr",
     "output_type": "stream",
     "text": [
      "C:\\Users\\james\\anaconda3\\envs\\my_new_env\\lib\\site-packages\\keras\\src\\layers\\rnn\\rnn.py:200: UserWarning: Do not pass an `input_shape`/`input_dim` argument to a layer. When using Sequential models, prefer using an `Input(shape)` object as the first layer in the model instead.\n",
      "  super().__init__(**kwargs)\n"
     ]
    },
    {
     "name": "stdout",
     "output_type": "stream",
     "text": [
      "\u001b[1m8/8\u001b[0m \u001b[32m━━━━━━━━━━━━━━━━━━━━\u001b[0m\u001b[37m\u001b[0m \u001b[1m0s\u001b[0m 13ms/step\n"
     ]
    },
    {
     "name": "stderr",
     "output_type": "stream",
     "text": [
      "C:\\Users\\james\\anaconda3\\envs\\my_new_env\\lib\\site-packages\\keras\\src\\layers\\rnn\\rnn.py:200: UserWarning: Do not pass an `input_shape`/`input_dim` argument to a layer. When using Sequential models, prefer using an `Input(shape)` object as the first layer in the model instead.\n",
      "  super().__init__(**kwargs)\n"
     ]
    },
    {
     "name": "stdout",
     "output_type": "stream",
     "text": [
      "\u001b[1m8/8\u001b[0m \u001b[32m━━━━━━━━━━━━━━━━━━━━\u001b[0m\u001b[37m\u001b[0m \u001b[1m0s\u001b[0m 14ms/step\n"
     ]
    },
    {
     "name": "stderr",
     "output_type": "stream",
     "text": [
      "C:\\Users\\james\\anaconda3\\envs\\my_new_env\\lib\\site-packages\\keras\\src\\layers\\convolutional\\base_conv.py:107: UserWarning: Do not pass an `input_shape`/`input_dim` argument to a layer. When using Sequential models, prefer using an `Input(shape)` object as the first layer in the model instead.\n",
      "  super().__init__(activity_regularizer=activity_regularizer, **kwargs)\n"
     ]
    },
    {
     "name": "stdout",
     "output_type": "stream",
     "text": [
      "\u001b[1m8/8\u001b[0m \u001b[32m━━━━━━━━━━━━━━━━━━━━\u001b[0m\u001b[37m\u001b[0m \u001b[1m0s\u001b[0m 13ms/step\n"
     ]
    },
    {
     "name": "stderr",
     "output_type": "stream",
     "text": [
      "C:\\Users\\james\\anaconda3\\envs\\my_new_env\\lib\\site-packages\\keras\\src\\layers\\convolutional\\base_conv.py:107: UserWarning: Do not pass an `input_shape`/`input_dim` argument to a layer. When using Sequential models, prefer using an `Input(shape)` object as the first layer in the model instead.\n",
      "  super().__init__(activity_regularizer=activity_regularizer, **kwargs)\n"
     ]
    },
    {
     "name": "stdout",
     "output_type": "stream",
     "text": [
      "\u001b[1m8/8\u001b[0m \u001b[32m━━━━━━━━━━━━━━━━━━━━\u001b[0m\u001b[37m\u001b[0m \u001b[1m0s\u001b[0m 16ms/step\n",
      "\n",
      "==== Processing method: NONE ====\n"
     ]
    },
    {
     "name": "stderr",
     "output_type": "stream",
     "text": [
      "C:\\Users\\james\\anaconda3\\envs\\my_new_env\\lib\\site-packages\\keras\\src\\layers\\rnn\\rnn.py:200: UserWarning: Do not pass an `input_shape`/`input_dim` argument to a layer. When using Sequential models, prefer using an `Input(shape)` object as the first layer in the model instead.\n",
      "  super().__init__(**kwargs)\n"
     ]
    },
    {
     "name": "stdout",
     "output_type": "stream",
     "text": [
      "\u001b[1m8/8\u001b[0m \u001b[32m━━━━━━━━━━━━━━━━━━━━\u001b[0m\u001b[37m\u001b[0m \u001b[1m0s\u001b[0m 12ms/step\n"
     ]
    },
    {
     "name": "stderr",
     "output_type": "stream",
     "text": [
      "C:\\Users\\james\\anaconda3\\envs\\my_new_env\\lib\\site-packages\\keras\\src\\layers\\rnn\\rnn.py:200: UserWarning: Do not pass an `input_shape`/`input_dim` argument to a layer. When using Sequential models, prefer using an `Input(shape)` object as the first layer in the model instead.\n",
      "  super().__init__(**kwargs)\n"
     ]
    },
    {
     "name": "stdout",
     "output_type": "stream",
     "text": [
      "\u001b[1m8/8\u001b[0m \u001b[32m━━━━━━━━━━━━━━━━━━━━\u001b[0m\u001b[37m\u001b[0m \u001b[1m0s\u001b[0m 14ms/step\n"
     ]
    },
    {
     "name": "stderr",
     "output_type": "stream",
     "text": [
      "C:\\Users\\james\\anaconda3\\envs\\my_new_env\\lib\\site-packages\\keras\\src\\layers\\convolutional\\base_conv.py:107: UserWarning: Do not pass an `input_shape`/`input_dim` argument to a layer. When using Sequential models, prefer using an `Input(shape)` object as the first layer in the model instead.\n",
      "  super().__init__(activity_regularizer=activity_regularizer, **kwargs)\n"
     ]
    },
    {
     "name": "stdout",
     "output_type": "stream",
     "text": [
      "\u001b[1m8/8\u001b[0m \u001b[32m━━━━━━━━━━━━━━━━━━━━\u001b[0m\u001b[37m\u001b[0m \u001b[1m0s\u001b[0m 16ms/step\n"
     ]
    },
    {
     "name": "stderr",
     "output_type": "stream",
     "text": [
      "C:\\Users\\james\\anaconda3\\envs\\my_new_env\\lib\\site-packages\\keras\\src\\layers\\convolutional\\base_conv.py:107: UserWarning: Do not pass an `input_shape`/`input_dim` argument to a layer. When using Sequential models, prefer using an `Input(shape)` object as the first layer in the model instead.\n",
      "  super().__init__(activity_regularizer=activity_regularizer, **kwargs)\n"
     ]
    },
    {
     "name": "stdout",
     "output_type": "stream",
     "text": [
      "\u001b[1m8/8\u001b[0m \u001b[32m━━━━━━━━━━━━━━━━━━━━\u001b[0m\u001b[37m\u001b[0m \u001b[1m0s\u001b[0m 16ms/step\n",
      "\n",
      "==== Processing method: VIF ====\n",
      "Dropping M2 with VIF = 43563.43\n",
      "Dropping PPI with VIF = 8287.29\n",
      "Dropping M1 with VIF = 2995.95\n",
      "Dropping DJI 종가 with VIF = 2395.88\n",
      "Dropping KOSPI 종가 with VIF = 707.48\n",
      "Dropping 한국 정책금리 with VIF = 518.85\n",
      "Dropping XAU Price with VIF = 388.21\n",
      "Dropping SP500 종가 with VIF = 130.56\n",
      "Dropping USD_KRW 시가 with VIF = 97.60\n",
      "Dropping WTI Price with VIF = 58.17\n",
      "Dropping KOSDAQ 종가 with VIF = 42.20\n",
      "Dropping KOSDAQ 거래량 with VIF = 14.68\n"
     ]
    },
    {
     "name": "stderr",
     "output_type": "stream",
     "text": [
      "C:\\Users\\james\\anaconda3\\envs\\my_new_env\\lib\\site-packages\\keras\\src\\layers\\rnn\\rnn.py:200: UserWarning: Do not pass an `input_shape`/`input_dim` argument to a layer. When using Sequential models, prefer using an `Input(shape)` object as the first layer in the model instead.\n",
      "  super().__init__(**kwargs)\n"
     ]
    },
    {
     "name": "stdout",
     "output_type": "stream",
     "text": [
      "\u001b[1m8/8\u001b[0m \u001b[32m━━━━━━━━━━━━━━━━━━━━\u001b[0m\u001b[37m\u001b[0m \u001b[1m0s\u001b[0m 12ms/step\n"
     ]
    },
    {
     "name": "stderr",
     "output_type": "stream",
     "text": [
      "C:\\Users\\james\\anaconda3\\envs\\my_new_env\\lib\\site-packages\\keras\\src\\layers\\rnn\\rnn.py:200: UserWarning: Do not pass an `input_shape`/`input_dim` argument to a layer. When using Sequential models, prefer using an `Input(shape)` object as the first layer in the model instead.\n",
      "  super().__init__(**kwargs)\n"
     ]
    },
    {
     "name": "stdout",
     "output_type": "stream",
     "text": [
      "\u001b[1m8/8\u001b[0m \u001b[32m━━━━━━━━━━━━━━━━━━━━\u001b[0m\u001b[37m\u001b[0m \u001b[1m0s\u001b[0m 13ms/step\n"
     ]
    },
    {
     "name": "stderr",
     "output_type": "stream",
     "text": [
      "C:\\Users\\james\\anaconda3\\envs\\my_new_env\\lib\\site-packages\\keras\\src\\layers\\convolutional\\base_conv.py:107: UserWarning: Do not pass an `input_shape`/`input_dim` argument to a layer. When using Sequential models, prefer using an `Input(shape)` object as the first layer in the model instead.\n",
      "  super().__init__(activity_regularizer=activity_regularizer, **kwargs)\n"
     ]
    },
    {
     "name": "stdout",
     "output_type": "stream",
     "text": [
      "\u001b[1m8/8\u001b[0m \u001b[32m━━━━━━━━━━━━━━━━━━━━\u001b[0m\u001b[37m\u001b[0m \u001b[1m0s\u001b[0m 14ms/step\n"
     ]
    },
    {
     "name": "stderr",
     "output_type": "stream",
     "text": [
      "C:\\Users\\james\\anaconda3\\envs\\my_new_env\\lib\\site-packages\\keras\\src\\layers\\convolutional\\base_conv.py:107: UserWarning: Do not pass an `input_shape`/`input_dim` argument to a layer. When using Sequential models, prefer using an `Input(shape)` object as the first layer in the model instead.\n",
      "  super().__init__(activity_regularizer=activity_regularizer, **kwargs)\n"
     ]
    },
    {
     "name": "stdout",
     "output_type": "stream",
     "text": [
      "\u001b[1m8/8\u001b[0m \u001b[32m━━━━━━━━━━━━━━━━━━━━\u001b[0m\u001b[37m\u001b[0m \u001b[1m0s\u001b[0m 15ms/step\n",
      "\n",
      "==== Processing method: PCA ====\n"
     ]
    },
    {
     "name": "stderr",
     "output_type": "stream",
     "text": [
      "C:\\Users\\james\\anaconda3\\envs\\my_new_env\\lib\\site-packages\\keras\\src\\layers\\rnn\\rnn.py:200: UserWarning: Do not pass an `input_shape`/`input_dim` argument to a layer. When using Sequential models, prefer using an `Input(shape)` object as the first layer in the model instead.\n",
      "  super().__init__(**kwargs)\n"
     ]
    },
    {
     "name": "stdout",
     "output_type": "stream",
     "text": [
      "\u001b[1m8/8\u001b[0m \u001b[32m━━━━━━━━━━━━━━━━━━━━\u001b[0m\u001b[37m\u001b[0m \u001b[1m0s\u001b[0m 12ms/step\n"
     ]
    },
    {
     "name": "stderr",
     "output_type": "stream",
     "text": [
      "C:\\Users\\james\\anaconda3\\envs\\my_new_env\\lib\\site-packages\\keras\\src\\layers\\rnn\\rnn.py:200: UserWarning: Do not pass an `input_shape`/`input_dim` argument to a layer. When using Sequential models, prefer using an `Input(shape)` object as the first layer in the model instead.\n",
      "  super().__init__(**kwargs)\n"
     ]
    },
    {
     "name": "stdout",
     "output_type": "stream",
     "text": [
      "\u001b[1m8/8\u001b[0m \u001b[32m━━━━━━━━━━━━━━━━━━━━\u001b[0m\u001b[37m\u001b[0m \u001b[1m0s\u001b[0m 13ms/step\n"
     ]
    },
    {
     "name": "stderr",
     "output_type": "stream",
     "text": [
      "C:\\Users\\james\\anaconda3\\envs\\my_new_env\\lib\\site-packages\\keras\\src\\layers\\convolutional\\base_conv.py:107: UserWarning: Do not pass an `input_shape`/`input_dim` argument to a layer. When using Sequential models, prefer using an `Input(shape)` object as the first layer in the model instead.\n",
      "  super().__init__(activity_regularizer=activity_regularizer, **kwargs)\n"
     ]
    },
    {
     "name": "stdout",
     "output_type": "stream",
     "text": [
      "\u001b[1m8/8\u001b[0m \u001b[32m━━━━━━━━━━━━━━━━━━━━\u001b[0m\u001b[37m\u001b[0m \u001b[1m0s\u001b[0m 13ms/step\n"
     ]
    },
    {
     "name": "stderr",
     "output_type": "stream",
     "text": [
      "C:\\Users\\james\\anaconda3\\envs\\my_new_env\\lib\\site-packages\\keras\\src\\layers\\convolutional\\base_conv.py:107: UserWarning: Do not pass an `input_shape`/`input_dim` argument to a layer. When using Sequential models, prefer using an `Input(shape)` object as the first layer in the model instead.\n",
      "  super().__init__(activity_regularizer=activity_regularizer, **kwargs)\n"
     ]
    },
    {
     "name": "stdout",
     "output_type": "stream",
     "text": [
      "\u001b[1m8/8\u001b[0m \u001b[32m━━━━━━━━━━━━━━━━━━━━\u001b[0m\u001b[37m\u001b[0m \u001b[1m0s\u001b[0m 15ms/step\n",
      "\n",
      "==== Processing method: NONE ====\n"
     ]
    },
    {
     "name": "stderr",
     "output_type": "stream",
     "text": [
      "C:\\Users\\james\\anaconda3\\envs\\my_new_env\\lib\\site-packages\\keras\\src\\layers\\rnn\\rnn.py:200: UserWarning: Do not pass an `input_shape`/`input_dim` argument to a layer. When using Sequential models, prefer using an `Input(shape)` object as the first layer in the model instead.\n",
      "  super().__init__(**kwargs)\n"
     ]
    },
    {
     "name": "stdout",
     "output_type": "stream",
     "text": [
      "\u001b[1m8/8\u001b[0m \u001b[32m━━━━━━━━━━━━━━━━━━━━\u001b[0m\u001b[37m\u001b[0m \u001b[1m0s\u001b[0m 13ms/step\n"
     ]
    },
    {
     "name": "stderr",
     "output_type": "stream",
     "text": [
      "C:\\Users\\james\\anaconda3\\envs\\my_new_env\\lib\\site-packages\\keras\\src\\layers\\rnn\\rnn.py:200: UserWarning: Do not pass an `input_shape`/`input_dim` argument to a layer. When using Sequential models, prefer using an `Input(shape)` object as the first layer in the model instead.\n",
      "  super().__init__(**kwargs)\n"
     ]
    },
    {
     "name": "stdout",
     "output_type": "stream",
     "text": [
      "\u001b[1m8/8\u001b[0m \u001b[32m━━━━━━━━━━━━━━━━━━━━\u001b[0m\u001b[37m\u001b[0m \u001b[1m0s\u001b[0m 14ms/step\n"
     ]
    },
    {
     "name": "stderr",
     "output_type": "stream",
     "text": [
      "C:\\Users\\james\\anaconda3\\envs\\my_new_env\\lib\\site-packages\\keras\\src\\layers\\convolutional\\base_conv.py:107: UserWarning: Do not pass an `input_shape`/`input_dim` argument to a layer. When using Sequential models, prefer using an `Input(shape)` object as the first layer in the model instead.\n",
      "  super().__init__(activity_regularizer=activity_regularizer, **kwargs)\n"
     ]
    },
    {
     "name": "stdout",
     "output_type": "stream",
     "text": [
      "\u001b[1m8/8\u001b[0m \u001b[32m━━━━━━━━━━━━━━━━━━━━\u001b[0m\u001b[37m\u001b[0m \u001b[1m0s\u001b[0m 14ms/step\n"
     ]
    },
    {
     "name": "stderr",
     "output_type": "stream",
     "text": [
      "C:\\Users\\james\\anaconda3\\envs\\my_new_env\\lib\\site-packages\\keras\\src\\layers\\convolutional\\base_conv.py:107: UserWarning: Do not pass an `input_shape`/`input_dim` argument to a layer. When using Sequential models, prefer using an `Input(shape)` object as the first layer in the model instead.\n",
      "  super().__init__(activity_regularizer=activity_regularizer, **kwargs)\n"
     ]
    },
    {
     "name": "stdout",
     "output_type": "stream",
     "text": [
      "\u001b[1m8/8\u001b[0m \u001b[32m━━━━━━━━━━━━━━━━━━━━\u001b[0m\u001b[37m\u001b[0m \u001b[1m0s\u001b[0m 15ms/step\n",
      "\n",
      "==== Processing method: VIF ====\n",
      "Dropping M2 with VIF = 43563.61\n",
      "Dropping PPI with VIF = 8287.58\n",
      "Dropping M1 with VIF = 2996.51\n",
      "Dropping DJI 종가 with VIF = 2395.89\n",
      "Dropping KOSPI 종가 with VIF = 708.50\n",
      "Dropping 한국 정책금리 with VIF = 518.99\n",
      "Dropping XAU Price with VIF = 389.48\n",
      "Dropping SP500 종가 with VIF = 130.76\n",
      "Dropping USD_KRW 시가 with VIF = 97.63\n",
      "Dropping WTI Price with VIF = 58.42\n",
      "Dropping KOSDAQ 종가 with VIF = 42.22\n",
      "Dropping KOSDAQ 거래량 with VIF = 14.70\n"
     ]
    },
    {
     "name": "stderr",
     "output_type": "stream",
     "text": [
      "C:\\Users\\james\\anaconda3\\envs\\my_new_env\\lib\\site-packages\\keras\\src\\layers\\rnn\\rnn.py:200: UserWarning: Do not pass an `input_shape`/`input_dim` argument to a layer. When using Sequential models, prefer using an `Input(shape)` object as the first layer in the model instead.\n",
      "  super().__init__(**kwargs)\n"
     ]
    },
    {
     "name": "stdout",
     "output_type": "stream",
     "text": [
      "\u001b[1m8/8\u001b[0m \u001b[32m━━━━━━━━━━━━━━━━━━━━\u001b[0m\u001b[37m\u001b[0m \u001b[1m0s\u001b[0m 12ms/step\n"
     ]
    },
    {
     "name": "stderr",
     "output_type": "stream",
     "text": [
      "C:\\Users\\james\\anaconda3\\envs\\my_new_env\\lib\\site-packages\\keras\\src\\layers\\rnn\\rnn.py:200: UserWarning: Do not pass an `input_shape`/`input_dim` argument to a layer. When using Sequential models, prefer using an `Input(shape)` object as the first layer in the model instead.\n",
      "  super().__init__(**kwargs)\n"
     ]
    },
    {
     "name": "stdout",
     "output_type": "stream",
     "text": [
      "\u001b[1m8/8\u001b[0m \u001b[32m━━━━━━━━━━━━━━━━━━━━\u001b[0m\u001b[37m\u001b[0m \u001b[1m0s\u001b[0m 14ms/step\n"
     ]
    },
    {
     "name": "stderr",
     "output_type": "stream",
     "text": [
      "C:\\Users\\james\\anaconda3\\envs\\my_new_env\\lib\\site-packages\\keras\\src\\layers\\convolutional\\base_conv.py:107: UserWarning: Do not pass an `input_shape`/`input_dim` argument to a layer. When using Sequential models, prefer using an `Input(shape)` object as the first layer in the model instead.\n",
      "  super().__init__(activity_regularizer=activity_regularizer, **kwargs)\n"
     ]
    },
    {
     "name": "stdout",
     "output_type": "stream",
     "text": [
      "\u001b[1m8/8\u001b[0m \u001b[32m━━━━━━━━━━━━━━━━━━━━\u001b[0m\u001b[37m\u001b[0m \u001b[1m0s\u001b[0m 14ms/step\n"
     ]
    },
    {
     "name": "stderr",
     "output_type": "stream",
     "text": [
      "C:\\Users\\james\\anaconda3\\envs\\my_new_env\\lib\\site-packages\\keras\\src\\layers\\convolutional\\base_conv.py:107: UserWarning: Do not pass an `input_shape`/`input_dim` argument to a layer. When using Sequential models, prefer using an `Input(shape)` object as the first layer in the model instead.\n",
      "  super().__init__(activity_regularizer=activity_regularizer, **kwargs)\n"
     ]
    },
    {
     "name": "stdout",
     "output_type": "stream",
     "text": [
      "\u001b[1m8/8\u001b[0m \u001b[32m━━━━━━━━━━━━━━━━━━━━\u001b[0m\u001b[37m\u001b[0m \u001b[1m0s\u001b[0m 15ms/step\n",
      "\n",
      "==== Processing method: PCA ====\n"
     ]
    },
    {
     "name": "stderr",
     "output_type": "stream",
     "text": [
      "C:\\Users\\james\\anaconda3\\envs\\my_new_env\\lib\\site-packages\\keras\\src\\layers\\rnn\\rnn.py:200: UserWarning: Do not pass an `input_shape`/`input_dim` argument to a layer. When using Sequential models, prefer using an `Input(shape)` object as the first layer in the model instead.\n",
      "  super().__init__(**kwargs)\n"
     ]
    },
    {
     "name": "stdout",
     "output_type": "stream",
     "text": [
      "\u001b[1m8/8\u001b[0m \u001b[32m━━━━━━━━━━━━━━━━━━━━\u001b[0m\u001b[37m\u001b[0m \u001b[1m0s\u001b[0m 12ms/step\n"
     ]
    },
    {
     "name": "stderr",
     "output_type": "stream",
     "text": [
      "C:\\Users\\james\\anaconda3\\envs\\my_new_env\\lib\\site-packages\\keras\\src\\layers\\rnn\\rnn.py:200: UserWarning: Do not pass an `input_shape`/`input_dim` argument to a layer. When using Sequential models, prefer using an `Input(shape)` object as the first layer in the model instead.\n",
      "  super().__init__(**kwargs)\n"
     ]
    },
    {
     "name": "stdout",
     "output_type": "stream",
     "text": [
      "\u001b[1m8/8\u001b[0m \u001b[32m━━━━━━━━━━━━━━━━━━━━\u001b[0m\u001b[37m\u001b[0m \u001b[1m0s\u001b[0m 14ms/step\n"
     ]
    },
    {
     "name": "stderr",
     "output_type": "stream",
     "text": [
      "C:\\Users\\james\\anaconda3\\envs\\my_new_env\\lib\\site-packages\\keras\\src\\layers\\convolutional\\base_conv.py:107: UserWarning: Do not pass an `input_shape`/`input_dim` argument to a layer. When using Sequential models, prefer using an `Input(shape)` object as the first layer in the model instead.\n",
      "  super().__init__(activity_regularizer=activity_regularizer, **kwargs)\n"
     ]
    },
    {
     "name": "stdout",
     "output_type": "stream",
     "text": [
      "\u001b[1m8/8\u001b[0m \u001b[32m━━━━━━━━━━━━━━━━━━━━\u001b[0m\u001b[37m\u001b[0m \u001b[1m0s\u001b[0m 13ms/step\n"
     ]
    },
    {
     "name": "stderr",
     "output_type": "stream",
     "text": [
      "C:\\Users\\james\\anaconda3\\envs\\my_new_env\\lib\\site-packages\\keras\\src\\layers\\convolutional\\base_conv.py:107: UserWarning: Do not pass an `input_shape`/`input_dim` argument to a layer. When using Sequential models, prefer using an `Input(shape)` object as the first layer in the model instead.\n",
      "  super().__init__(activity_regularizer=activity_regularizer, **kwargs)\n"
     ]
    },
    {
     "name": "stdout",
     "output_type": "stream",
     "text": [
      "\u001b[1m8/8\u001b[0m \u001b[32m━━━━━━━━━━━━━━━━━━━━\u001b[0m\u001b[37m\u001b[0m \u001b[1m0s\u001b[0m 15ms/step\n",
      "\n",
      "==== Processing method: NONE ====\n"
     ]
    },
    {
     "name": "stderr",
     "output_type": "stream",
     "text": [
      "C:\\Users\\james\\anaconda3\\envs\\my_new_env\\lib\\site-packages\\keras\\src\\layers\\rnn\\rnn.py:200: UserWarning: Do not pass an `input_shape`/`input_dim` argument to a layer. When using Sequential models, prefer using an `Input(shape)` object as the first layer in the model instead.\n",
      "  super().__init__(**kwargs)\n"
     ]
    },
    {
     "name": "stdout",
     "output_type": "stream",
     "text": [
      "\u001b[1m8/8\u001b[0m \u001b[32m━━━━━━━━━━━━━━━━━━━━\u001b[0m\u001b[37m\u001b[0m \u001b[1m0s\u001b[0m 13ms/step\n"
     ]
    },
    {
     "name": "stderr",
     "output_type": "stream",
     "text": [
      "C:\\Users\\james\\anaconda3\\envs\\my_new_env\\lib\\site-packages\\keras\\src\\layers\\rnn\\rnn.py:200: UserWarning: Do not pass an `input_shape`/`input_dim` argument to a layer. When using Sequential models, prefer using an `Input(shape)` object as the first layer in the model instead.\n",
      "  super().__init__(**kwargs)\n"
     ]
    },
    {
     "name": "stdout",
     "output_type": "stream",
     "text": [
      "\u001b[1m8/8\u001b[0m \u001b[32m━━━━━━━━━━━━━━━━━━━━\u001b[0m\u001b[37m\u001b[0m \u001b[1m0s\u001b[0m 14ms/step\n"
     ]
    },
    {
     "name": "stderr",
     "output_type": "stream",
     "text": [
      "C:\\Users\\james\\anaconda3\\envs\\my_new_env\\lib\\site-packages\\keras\\src\\layers\\convolutional\\base_conv.py:107: UserWarning: Do not pass an `input_shape`/`input_dim` argument to a layer. When using Sequential models, prefer using an `Input(shape)` object as the first layer in the model instead.\n",
      "  super().__init__(activity_regularizer=activity_regularizer, **kwargs)\n"
     ]
    },
    {
     "name": "stdout",
     "output_type": "stream",
     "text": [
      "\u001b[1m8/8\u001b[0m \u001b[32m━━━━━━━━━━━━━━━━━━━━\u001b[0m\u001b[37m\u001b[0m \u001b[1m0s\u001b[0m 13ms/step\n"
     ]
    },
    {
     "name": "stderr",
     "output_type": "stream",
     "text": [
      "C:\\Users\\james\\anaconda3\\envs\\my_new_env\\lib\\site-packages\\keras\\src\\layers\\convolutional\\base_conv.py:107: UserWarning: Do not pass an `input_shape`/`input_dim` argument to a layer. When using Sequential models, prefer using an `Input(shape)` object as the first layer in the model instead.\n",
      "  super().__init__(activity_regularizer=activity_regularizer, **kwargs)\n"
     ]
    },
    {
     "name": "stdout",
     "output_type": "stream",
     "text": [
      "\u001b[1m8/8\u001b[0m \u001b[32m━━━━━━━━━━━━━━━━━━━━\u001b[0m\u001b[37m\u001b[0m \u001b[1m0s\u001b[0m 14ms/step\n",
      "\n",
      "==== Processing method: VIF ====\n",
      "Dropping M2 with VIF = 43594.53\n",
      "Dropping PPI with VIF = 8288.84\n",
      "Dropping M1 with VIF = 3003.82\n",
      "Dropping DJI 종가 with VIF = 2395.93\n",
      "Dropping KOSPI 종가 with VIF = 708.44\n",
      "Dropping 한국 정책금리 with VIF = 520.31\n",
      "Dropping XAU Price with VIF = 388.35\n",
      "Dropping SP500 종가 with VIF = 130.91\n",
      "Dropping USD_KRW 시가 with VIF = 97.60\n",
      "Dropping WTI Price with VIF = 58.20\n",
      "Dropping KOSDAQ 종가 with VIF = 42.21\n",
      "Dropping KOSDAQ 거래량 with VIF = 14.68\n"
     ]
    },
    {
     "name": "stderr",
     "output_type": "stream",
     "text": [
      "C:\\Users\\james\\anaconda3\\envs\\my_new_env\\lib\\site-packages\\keras\\src\\layers\\rnn\\rnn.py:200: UserWarning: Do not pass an `input_shape`/`input_dim` argument to a layer. When using Sequential models, prefer using an `Input(shape)` object as the first layer in the model instead.\n",
      "  super().__init__(**kwargs)\n"
     ]
    },
    {
     "name": "stdout",
     "output_type": "stream",
     "text": [
      "\u001b[1m8/8\u001b[0m \u001b[32m━━━━━━━━━━━━━━━━━━━━\u001b[0m\u001b[37m\u001b[0m \u001b[1m0s\u001b[0m 12ms/step\n"
     ]
    },
    {
     "name": "stderr",
     "output_type": "stream",
     "text": [
      "C:\\Users\\james\\anaconda3\\envs\\my_new_env\\lib\\site-packages\\keras\\src\\layers\\rnn\\rnn.py:200: UserWarning: Do not pass an `input_shape`/`input_dim` argument to a layer. When using Sequential models, prefer using an `Input(shape)` object as the first layer in the model instead.\n",
      "  super().__init__(**kwargs)\n"
     ]
    },
    {
     "name": "stdout",
     "output_type": "stream",
     "text": [
      "\u001b[1m8/8\u001b[0m \u001b[32m━━━━━━━━━━━━━━━━━━━━\u001b[0m\u001b[37m\u001b[0m \u001b[1m0s\u001b[0m 14ms/step\n"
     ]
    },
    {
     "name": "stderr",
     "output_type": "stream",
     "text": [
      "C:\\Users\\james\\anaconda3\\envs\\my_new_env\\lib\\site-packages\\keras\\src\\layers\\convolutional\\base_conv.py:107: UserWarning: Do not pass an `input_shape`/`input_dim` argument to a layer. When using Sequential models, prefer using an `Input(shape)` object as the first layer in the model instead.\n",
      "  super().__init__(activity_regularizer=activity_regularizer, **kwargs)\n"
     ]
    },
    {
     "name": "stdout",
     "output_type": "stream",
     "text": [
      "\u001b[1m8/8\u001b[0m \u001b[32m━━━━━━━━━━━━━━━━━━━━\u001b[0m\u001b[37m\u001b[0m \u001b[1m0s\u001b[0m 17ms/step\n"
     ]
    },
    {
     "name": "stderr",
     "output_type": "stream",
     "text": [
      "C:\\Users\\james\\anaconda3\\envs\\my_new_env\\lib\\site-packages\\keras\\src\\layers\\convolutional\\base_conv.py:107: UserWarning: Do not pass an `input_shape`/`input_dim` argument to a layer. When using Sequential models, prefer using an `Input(shape)` object as the first layer in the model instead.\n",
      "  super().__init__(activity_regularizer=activity_regularizer, **kwargs)\n"
     ]
    },
    {
     "name": "stdout",
     "output_type": "stream",
     "text": [
      "\u001b[1m8/8\u001b[0m \u001b[32m━━━━━━━━━━━━━━━━━━━━\u001b[0m\u001b[37m\u001b[0m \u001b[1m0s\u001b[0m 14ms/step\n",
      "\n",
      "==== Processing method: PCA ====\n"
     ]
    },
    {
     "name": "stderr",
     "output_type": "stream",
     "text": [
      "C:\\Users\\james\\anaconda3\\envs\\my_new_env\\lib\\site-packages\\keras\\src\\layers\\rnn\\rnn.py:200: UserWarning: Do not pass an `input_shape`/`input_dim` argument to a layer. When using Sequential models, prefer using an `Input(shape)` object as the first layer in the model instead.\n",
      "  super().__init__(**kwargs)\n"
     ]
    },
    {
     "name": "stdout",
     "output_type": "stream",
     "text": [
      "\u001b[1m8/8\u001b[0m \u001b[32m━━━━━━━━━━━━━━━━━━━━\u001b[0m\u001b[37m\u001b[0m \u001b[1m0s\u001b[0m 12ms/step\n"
     ]
    },
    {
     "name": "stderr",
     "output_type": "stream",
     "text": [
      "C:\\Users\\james\\anaconda3\\envs\\my_new_env\\lib\\site-packages\\keras\\src\\layers\\rnn\\rnn.py:200: UserWarning: Do not pass an `input_shape`/`input_dim` argument to a layer. When using Sequential models, prefer using an `Input(shape)` object as the first layer in the model instead.\n",
      "  super().__init__(**kwargs)\n"
     ]
    },
    {
     "name": "stdout",
     "output_type": "stream",
     "text": [
      "\u001b[1m8/8\u001b[0m \u001b[32m━━━━━━━━━━━━━━━━━━━━\u001b[0m\u001b[37m\u001b[0m \u001b[1m0s\u001b[0m 13ms/step\n"
     ]
    },
    {
     "name": "stderr",
     "output_type": "stream",
     "text": [
      "C:\\Users\\james\\anaconda3\\envs\\my_new_env\\lib\\site-packages\\keras\\src\\layers\\convolutional\\base_conv.py:107: UserWarning: Do not pass an `input_shape`/`input_dim` argument to a layer. When using Sequential models, prefer using an `Input(shape)` object as the first layer in the model instead.\n",
      "  super().__init__(activity_regularizer=activity_regularizer, **kwargs)\n"
     ]
    },
    {
     "name": "stdout",
     "output_type": "stream",
     "text": [
      "\u001b[1m8/8\u001b[0m \u001b[32m━━━━━━━━━━━━━━━━━━━━\u001b[0m\u001b[37m\u001b[0m \u001b[1m0s\u001b[0m 14ms/step\n"
     ]
    },
    {
     "name": "stderr",
     "output_type": "stream",
     "text": [
      "C:\\Users\\james\\anaconda3\\envs\\my_new_env\\lib\\site-packages\\keras\\src\\layers\\convolutional\\base_conv.py:107: UserWarning: Do not pass an `input_shape`/`input_dim` argument to a layer. When using Sequential models, prefer using an `Input(shape)` object as the first layer in the model instead.\n",
      "  super().__init__(activity_regularizer=activity_regularizer, **kwargs)\n"
     ]
    },
    {
     "name": "stdout",
     "output_type": "stream",
     "text": [
      "\u001b[1m8/8\u001b[0m \u001b[32m━━━━━━━━━━━━━━━━━━━━\u001b[0m\u001b[37m\u001b[0m \u001b[1m0s\u001b[0m 15ms/step\n"
     ]
    }
   ],
   "source": [
    "# 긍정 부정 중립\n",
    "experiment_results_df1 = run_experiments(df, window_size=5, epochs=50, batch_size=16)\n",
    "# 긍정 부정\n",
    "experiment_results_df2 = run_experiments(df2, window_size=5, epochs=50, batch_size=16)\n",
    "# 감정 분석 x\n",
    "experiment_results_df3 = run_experiments(df_fx, window_size=5, epochs=50, batch_size=16)\n",
    "\n",
    "# score 0.95이상 긍정 부정 중립\n",
    "experiment_results_df4 = run_experiments(df3, window_size=5, epochs=50, batch_size=16)\n",
    "# score 0.95이상 긍정 부정 \n",
    "experiment_results_df5 = run_experiments(df4, window_size=5, epochs=50, batch_size=16)"
   ]
  },
  {
   "cell_type": "code",
   "execution_count": 56,
   "id": "b632058a-996a-4b47-aa54-a18aa41239c6",
   "metadata": {},
   "outputs": [
    {
     "name": "stdout",
     "output_type": "stream",
     "text": [
      "===== 모델 평가 결과 비교 =====\n"
     ]
    },
    {
     "data": {
      "text/html": [
       "<div>\n",
       "<style scoped>\n",
       "    .dataframe tbody tr th:only-of-type {\n",
       "        vertical-align: middle;\n",
       "    }\n",
       "\n",
       "    .dataframe tbody tr th {\n",
       "        vertical-align: top;\n",
       "    }\n",
       "\n",
       "    .dataframe thead th {\n",
       "        text-align: right;\n",
       "    }\n",
       "</style>\n",
       "<table border=\"1\" class=\"dataframe\">\n",
       "  <thead>\n",
       "    <tr style=\"text-align: right;\">\n",
       "      <th></th>\n",
       "      <th>데이터셋</th>\n",
       "      <th>방식</th>\n",
       "      <th>모델명</th>\n",
       "      <th>MSE</th>\n",
       "      <th>MAPE (%)</th>\n",
       "    </tr>\n",
       "  </thead>\n",
       "  <tbody>\n",
       "    <tr>\n",
       "      <th>0</th>\n",
       "      <td>df1</td>\n",
       "      <td>none</td>\n",
       "      <td>LSTM</td>\n",
       "      <td>223.968103</td>\n",
       "      <td>0.929955</td>\n",
       "    </tr>\n",
       "    <tr>\n",
       "      <th>1</th>\n",
       "      <td>df1</td>\n",
       "      <td>none</td>\n",
       "      <td>GRU</td>\n",
       "      <td>116.576269</td>\n",
       "      <td>0.758949</td>\n",
       "    </tr>\n",
       "    <tr>\n",
       "      <th>2</th>\n",
       "      <td>df1</td>\n",
       "      <td>none</td>\n",
       "      <td>CNN-LSTM</td>\n",
       "      <td>1873.173217</td>\n",
       "      <td>3.264094</td>\n",
       "    </tr>\n",
       "    <tr>\n",
       "      <th>3</th>\n",
       "      <td>df1</td>\n",
       "      <td>none</td>\n",
       "      <td>CNN-GRU</td>\n",
       "      <td>543.795346</td>\n",
       "      <td>1.691646</td>\n",
       "    </tr>\n",
       "    <tr>\n",
       "      <th>4</th>\n",
       "      <td>df1</td>\n",
       "      <td>vif</td>\n",
       "      <td>LSTM</td>\n",
       "      <td>5800.058575</td>\n",
       "      <td>5.476412</td>\n",
       "    </tr>\n",
       "    <tr>\n",
       "      <th>5</th>\n",
       "      <td>df1</td>\n",
       "      <td>vif</td>\n",
       "      <td>GRU</td>\n",
       "      <td>4613.087024</td>\n",
       "      <td>4.835208</td>\n",
       "    </tr>\n",
       "    <tr>\n",
       "      <th>6</th>\n",
       "      <td>df1</td>\n",
       "      <td>vif</td>\n",
       "      <td>CNN-LSTM</td>\n",
       "      <td>6743.950115</td>\n",
       "      <td>5.785647</td>\n",
       "    </tr>\n",
       "    <tr>\n",
       "      <th>7</th>\n",
       "      <td>df1</td>\n",
       "      <td>vif</td>\n",
       "      <td>CNN-GRU</td>\n",
       "      <td>8184.407518</td>\n",
       "      <td>6.318247</td>\n",
       "    </tr>\n",
       "    <tr>\n",
       "      <th>8</th>\n",
       "      <td>df1</td>\n",
       "      <td>pca</td>\n",
       "      <td>LSTM</td>\n",
       "      <td>186.023317</td>\n",
       "      <td>0.895606</td>\n",
       "    </tr>\n",
       "    <tr>\n",
       "      <th>9</th>\n",
       "      <td>df1</td>\n",
       "      <td>pca</td>\n",
       "      <td>GRU</td>\n",
       "      <td>430.557351</td>\n",
       "      <td>1.513754</td>\n",
       "    </tr>\n",
       "    <tr>\n",
       "      <th>10</th>\n",
       "      <td>df1</td>\n",
       "      <td>pca</td>\n",
       "      <td>CNN-LSTM</td>\n",
       "      <td>488.098223</td>\n",
       "      <td>1.524289</td>\n",
       "    </tr>\n",
       "    <tr>\n",
       "      <th>11</th>\n",
       "      <td>df1</td>\n",
       "      <td>pca</td>\n",
       "      <td>CNN-GRU</td>\n",
       "      <td>713.001970</td>\n",
       "      <td>1.858325</td>\n",
       "    </tr>\n",
       "    <tr>\n",
       "      <th>12</th>\n",
       "      <td>df2</td>\n",
       "      <td>none</td>\n",
       "      <td>LSTM</td>\n",
       "      <td>315.981002</td>\n",
       "      <td>1.268531</td>\n",
       "    </tr>\n",
       "    <tr>\n",
       "      <th>13</th>\n",
       "      <td>df2</td>\n",
       "      <td>none</td>\n",
       "      <td>GRU</td>\n",
       "      <td>65.008927</td>\n",
       "      <td>0.570848</td>\n",
       "    </tr>\n",
       "    <tr>\n",
       "      <th>14</th>\n",
       "      <td>df2</td>\n",
       "      <td>none</td>\n",
       "      <td>CNN-LSTM</td>\n",
       "      <td>1296.840788</td>\n",
       "      <td>2.597632</td>\n",
       "    </tr>\n",
       "    <tr>\n",
       "      <th>15</th>\n",
       "      <td>df2</td>\n",
       "      <td>none</td>\n",
       "      <td>CNN-GRU</td>\n",
       "      <td>522.659887</td>\n",
       "      <td>1.602517</td>\n",
       "    </tr>\n",
       "    <tr>\n",
       "      <th>16</th>\n",
       "      <td>df2</td>\n",
       "      <td>vif</td>\n",
       "      <td>LSTM</td>\n",
       "      <td>6463.353893</td>\n",
       "      <td>5.771982</td>\n",
       "    </tr>\n",
       "    <tr>\n",
       "      <th>17</th>\n",
       "      <td>df2</td>\n",
       "      <td>vif</td>\n",
       "      <td>GRU</td>\n",
       "      <td>5077.894354</td>\n",
       "      <td>5.029524</td>\n",
       "    </tr>\n",
       "    <tr>\n",
       "      <th>18</th>\n",
       "      <td>df2</td>\n",
       "      <td>vif</td>\n",
       "      <td>CNN-LSTM</td>\n",
       "      <td>7616.423321</td>\n",
       "      <td>6.232949</td>\n",
       "    </tr>\n",
       "    <tr>\n",
       "      <th>19</th>\n",
       "      <td>df2</td>\n",
       "      <td>vif</td>\n",
       "      <td>CNN-GRU</td>\n",
       "      <td>7579.663053</td>\n",
       "      <td>6.101705</td>\n",
       "    </tr>\n",
       "    <tr>\n",
       "      <th>20</th>\n",
       "      <td>df2</td>\n",
       "      <td>pca</td>\n",
       "      <td>LSTM</td>\n",
       "      <td>223.278828</td>\n",
       "      <td>1.034394</td>\n",
       "    </tr>\n",
       "    <tr>\n",
       "      <th>21</th>\n",
       "      <td>df2</td>\n",
       "      <td>pca</td>\n",
       "      <td>GRU</td>\n",
       "      <td>348.063166</td>\n",
       "      <td>1.348823</td>\n",
       "    </tr>\n",
       "    <tr>\n",
       "      <th>22</th>\n",
       "      <td>df2</td>\n",
       "      <td>pca</td>\n",
       "      <td>CNN-LSTM</td>\n",
       "      <td>1172.925150</td>\n",
       "      <td>2.595989</td>\n",
       "    </tr>\n",
       "    <tr>\n",
       "      <th>23</th>\n",
       "      <td>df2</td>\n",
       "      <td>pca</td>\n",
       "      <td>CNN-GRU</td>\n",
       "      <td>1220.444022</td>\n",
       "      <td>2.529707</td>\n",
       "    </tr>\n",
       "    <tr>\n",
       "      <th>24</th>\n",
       "      <td>df_fx</td>\n",
       "      <td>none</td>\n",
       "      <td>LSTM</td>\n",
       "      <td>143.412447</td>\n",
       "      <td>0.845809</td>\n",
       "    </tr>\n",
       "    <tr>\n",
       "      <th>25</th>\n",
       "      <td>df_fx</td>\n",
       "      <td>none</td>\n",
       "      <td>GRU</td>\n",
       "      <td>261.785492</td>\n",
       "      <td>1.163671</td>\n",
       "    </tr>\n",
       "    <tr>\n",
       "      <th>26</th>\n",
       "      <td>df_fx</td>\n",
       "      <td>none</td>\n",
       "      <td>CNN-LSTM</td>\n",
       "      <td>1122.763294</td>\n",
       "      <td>2.494166</td>\n",
       "    </tr>\n",
       "    <tr>\n",
       "      <th>27</th>\n",
       "      <td>df_fx</td>\n",
       "      <td>none</td>\n",
       "      <td>CNN-GRU</td>\n",
       "      <td>486.127115</td>\n",
       "      <td>1.564403</td>\n",
       "    </tr>\n",
       "    <tr>\n",
       "      <th>28</th>\n",
       "      <td>df_fx</td>\n",
       "      <td>vif</td>\n",
       "      <td>LSTM</td>\n",
       "      <td>5635.529827</td>\n",
       "      <td>5.363270</td>\n",
       "    </tr>\n",
       "    <tr>\n",
       "      <th>29</th>\n",
       "      <td>df_fx</td>\n",
       "      <td>vif</td>\n",
       "      <td>GRU</td>\n",
       "      <td>5690.083380</td>\n",
       "      <td>5.412337</td>\n",
       "    </tr>\n",
       "    <tr>\n",
       "      <th>30</th>\n",
       "      <td>df_fx</td>\n",
       "      <td>vif</td>\n",
       "      <td>CNN-LSTM</td>\n",
       "      <td>8009.072266</td>\n",
       "      <td>6.325746</td>\n",
       "    </tr>\n",
       "    <tr>\n",
       "      <th>31</th>\n",
       "      <td>df_fx</td>\n",
       "      <td>vif</td>\n",
       "      <td>CNN-GRU</td>\n",
       "      <td>8847.711833</td>\n",
       "      <td>6.618311</td>\n",
       "    </tr>\n",
       "    <tr>\n",
       "      <th>32</th>\n",
       "      <td>df_fx</td>\n",
       "      <td>pca</td>\n",
       "      <td>LSTM</td>\n",
       "      <td>365.023286</td>\n",
       "      <td>1.305389</td>\n",
       "    </tr>\n",
       "    <tr>\n",
       "      <th>33</th>\n",
       "      <td>df_fx</td>\n",
       "      <td>pca</td>\n",
       "      <td>GRU</td>\n",
       "      <td>946.428780</td>\n",
       "      <td>2.432568</td>\n",
       "    </tr>\n",
       "    <tr>\n",
       "      <th>34</th>\n",
       "      <td>df_fx</td>\n",
       "      <td>pca</td>\n",
       "      <td>CNN-LSTM</td>\n",
       "      <td>1357.368961</td>\n",
       "      <td>2.770226</td>\n",
       "    </tr>\n",
       "    <tr>\n",
       "      <th>35</th>\n",
       "      <td>df_fx</td>\n",
       "      <td>pca</td>\n",
       "      <td>CNN-GRU</td>\n",
       "      <td>530.559425</td>\n",
       "      <td>1.661307</td>\n",
       "    </tr>\n",
       "    <tr>\n",
       "      <th>36</th>\n",
       "      <td>df3</td>\n",
       "      <td>none</td>\n",
       "      <td>LSTM</td>\n",
       "      <td>654.915772</td>\n",
       "      <td>1.894062</td>\n",
       "    </tr>\n",
       "    <tr>\n",
       "      <th>37</th>\n",
       "      <td>df3</td>\n",
       "      <td>none</td>\n",
       "      <td>GRU</td>\n",
       "      <td>284.994739</td>\n",
       "      <td>0.978757</td>\n",
       "    </tr>\n",
       "    <tr>\n",
       "      <th>38</th>\n",
       "      <td>df3</td>\n",
       "      <td>none</td>\n",
       "      <td>CNN-LSTM</td>\n",
       "      <td>671.031221</td>\n",
       "      <td>1.881480</td>\n",
       "    </tr>\n",
       "    <tr>\n",
       "      <th>39</th>\n",
       "      <td>df3</td>\n",
       "      <td>none</td>\n",
       "      <td>CNN-GRU</td>\n",
       "      <td>1069.011034</td>\n",
       "      <td>2.342469</td>\n",
       "    </tr>\n",
       "    <tr>\n",
       "      <th>40</th>\n",
       "      <td>df3</td>\n",
       "      <td>vif</td>\n",
       "      <td>LSTM</td>\n",
       "      <td>5741.420387</td>\n",
       "      <td>5.454383</td>\n",
       "    </tr>\n",
       "    <tr>\n",
       "      <th>41</th>\n",
       "      <td>df3</td>\n",
       "      <td>vif</td>\n",
       "      <td>GRU</td>\n",
       "      <td>5494.263751</td>\n",
       "      <td>5.333208</td>\n",
       "    </tr>\n",
       "    <tr>\n",
       "      <th>42</th>\n",
       "      <td>df3</td>\n",
       "      <td>vif</td>\n",
       "      <td>CNN-LSTM</td>\n",
       "      <td>6548.186977</td>\n",
       "      <td>5.670044</td>\n",
       "    </tr>\n",
       "    <tr>\n",
       "      <th>43</th>\n",
       "      <td>df3</td>\n",
       "      <td>vif</td>\n",
       "      <td>CNN-GRU</td>\n",
       "      <td>8290.983176</td>\n",
       "      <td>6.201942</td>\n",
       "    </tr>\n",
       "    <tr>\n",
       "      <th>44</th>\n",
       "      <td>df3</td>\n",
       "      <td>pca</td>\n",
       "      <td>LSTM</td>\n",
       "      <td>862.978217</td>\n",
       "      <td>2.125663</td>\n",
       "    </tr>\n",
       "    <tr>\n",
       "      <th>45</th>\n",
       "      <td>df3</td>\n",
       "      <td>pca</td>\n",
       "      <td>GRU</td>\n",
       "      <td>639.451099</td>\n",
       "      <td>1.857073</td>\n",
       "    </tr>\n",
       "    <tr>\n",
       "      <th>46</th>\n",
       "      <td>df3</td>\n",
       "      <td>pca</td>\n",
       "      <td>CNN-LSTM</td>\n",
       "      <td>1067.559773</td>\n",
       "      <td>2.452584</td>\n",
       "    </tr>\n",
       "    <tr>\n",
       "      <th>47</th>\n",
       "      <td>df3</td>\n",
       "      <td>pca</td>\n",
       "      <td>CNN-GRU</td>\n",
       "      <td>592.369492</td>\n",
       "      <td>1.764884</td>\n",
       "    </tr>\n",
       "    <tr>\n",
       "      <th>48</th>\n",
       "      <td>df4</td>\n",
       "      <td>none</td>\n",
       "      <td>LSTM</td>\n",
       "      <td>116.781290</td>\n",
       "      <td>0.704004</td>\n",
       "    </tr>\n",
       "    <tr>\n",
       "      <th>49</th>\n",
       "      <td>df4</td>\n",
       "      <td>none</td>\n",
       "      <td>GRU</td>\n",
       "      <td>251.450730</td>\n",
       "      <td>1.180811</td>\n",
       "    </tr>\n",
       "    <tr>\n",
       "      <th>50</th>\n",
       "      <td>df4</td>\n",
       "      <td>none</td>\n",
       "      <td>CNN-LSTM</td>\n",
       "      <td>1131.383696</td>\n",
       "      <td>2.471738</td>\n",
       "    </tr>\n",
       "    <tr>\n",
       "      <th>51</th>\n",
       "      <td>df4</td>\n",
       "      <td>none</td>\n",
       "      <td>CNN-GRU</td>\n",
       "      <td>486.947666</td>\n",
       "      <td>1.610759</td>\n",
       "    </tr>\n",
       "    <tr>\n",
       "      <th>52</th>\n",
       "      <td>df4</td>\n",
       "      <td>vif</td>\n",
       "      <td>LSTM</td>\n",
       "      <td>5413.759243</td>\n",
       "      <td>5.245358</td>\n",
       "    </tr>\n",
       "    <tr>\n",
       "      <th>53</th>\n",
       "      <td>df4</td>\n",
       "      <td>vif</td>\n",
       "      <td>GRU</td>\n",
       "      <td>4850.604837</td>\n",
       "      <td>4.909307</td>\n",
       "    </tr>\n",
       "    <tr>\n",
       "      <th>54</th>\n",
       "      <td>df4</td>\n",
       "      <td>vif</td>\n",
       "      <td>CNN-LSTM</td>\n",
       "      <td>6317.465376</td>\n",
       "      <td>5.514041</td>\n",
       "    </tr>\n",
       "    <tr>\n",
       "      <th>55</th>\n",
       "      <td>df4</td>\n",
       "      <td>vif</td>\n",
       "      <td>CNN-GRU</td>\n",
       "      <td>9022.398242</td>\n",
       "      <td>6.714834</td>\n",
       "    </tr>\n",
       "    <tr>\n",
       "      <th>56</th>\n",
       "      <td>df4</td>\n",
       "      <td>pca</td>\n",
       "      <td>LSTM</td>\n",
       "      <td>197.812069</td>\n",
       "      <td>0.882141</td>\n",
       "    </tr>\n",
       "    <tr>\n",
       "      <th>57</th>\n",
       "      <td>df4</td>\n",
       "      <td>pca</td>\n",
       "      <td>GRU</td>\n",
       "      <td>165.289027</td>\n",
       "      <td>0.825202</td>\n",
       "    </tr>\n",
       "    <tr>\n",
       "      <th>58</th>\n",
       "      <td>df4</td>\n",
       "      <td>pca</td>\n",
       "      <td>CNN-LSTM</td>\n",
       "      <td>2160.365583</td>\n",
       "      <td>3.565294</td>\n",
       "    </tr>\n",
       "    <tr>\n",
       "      <th>59</th>\n",
       "      <td>df4</td>\n",
       "      <td>pca</td>\n",
       "      <td>CNN-GRU</td>\n",
       "      <td>725.580247</td>\n",
       "      <td>1.951995</td>\n",
       "    </tr>\n",
       "  </tbody>\n",
       "</table>\n",
       "</div>"
      ],
      "text/plain": [
       "     데이터셋    방식       모델명          MSE  MAPE (%)\n",
       "0     df1  none      LSTM   223.968103  0.929955\n",
       "1     df1  none       GRU   116.576269  0.758949\n",
       "2     df1  none  CNN-LSTM  1873.173217  3.264094\n",
       "3     df1  none   CNN-GRU   543.795346  1.691646\n",
       "4     df1   vif      LSTM  5800.058575  5.476412\n",
       "5     df1   vif       GRU  4613.087024  4.835208\n",
       "6     df1   vif  CNN-LSTM  6743.950115  5.785647\n",
       "7     df1   vif   CNN-GRU  8184.407518  6.318247\n",
       "8     df1   pca      LSTM   186.023317  0.895606\n",
       "9     df1   pca       GRU   430.557351  1.513754\n",
       "10    df1   pca  CNN-LSTM   488.098223  1.524289\n",
       "11    df1   pca   CNN-GRU   713.001970  1.858325\n",
       "12    df2  none      LSTM   315.981002  1.268531\n",
       "13    df2  none       GRU    65.008927  0.570848\n",
       "14    df2  none  CNN-LSTM  1296.840788  2.597632\n",
       "15    df2  none   CNN-GRU   522.659887  1.602517\n",
       "16    df2   vif      LSTM  6463.353893  5.771982\n",
       "17    df2   vif       GRU  5077.894354  5.029524\n",
       "18    df2   vif  CNN-LSTM  7616.423321  6.232949\n",
       "19    df2   vif   CNN-GRU  7579.663053  6.101705\n",
       "20    df2   pca      LSTM   223.278828  1.034394\n",
       "21    df2   pca       GRU   348.063166  1.348823\n",
       "22    df2   pca  CNN-LSTM  1172.925150  2.595989\n",
       "23    df2   pca   CNN-GRU  1220.444022  2.529707\n",
       "24  df_fx  none      LSTM   143.412447  0.845809\n",
       "25  df_fx  none       GRU   261.785492  1.163671\n",
       "26  df_fx  none  CNN-LSTM  1122.763294  2.494166\n",
       "27  df_fx  none   CNN-GRU   486.127115  1.564403\n",
       "28  df_fx   vif      LSTM  5635.529827  5.363270\n",
       "29  df_fx   vif       GRU  5690.083380  5.412337\n",
       "30  df_fx   vif  CNN-LSTM  8009.072266  6.325746\n",
       "31  df_fx   vif   CNN-GRU  8847.711833  6.618311\n",
       "32  df_fx   pca      LSTM   365.023286  1.305389\n",
       "33  df_fx   pca       GRU   946.428780  2.432568\n",
       "34  df_fx   pca  CNN-LSTM  1357.368961  2.770226\n",
       "35  df_fx   pca   CNN-GRU   530.559425  1.661307\n",
       "36    df3  none      LSTM   654.915772  1.894062\n",
       "37    df3  none       GRU   284.994739  0.978757\n",
       "38    df3  none  CNN-LSTM   671.031221  1.881480\n",
       "39    df3  none   CNN-GRU  1069.011034  2.342469\n",
       "40    df3   vif      LSTM  5741.420387  5.454383\n",
       "41    df3   vif       GRU  5494.263751  5.333208\n",
       "42    df3   vif  CNN-LSTM  6548.186977  5.670044\n",
       "43    df3   vif   CNN-GRU  8290.983176  6.201942\n",
       "44    df3   pca      LSTM   862.978217  2.125663\n",
       "45    df3   pca       GRU   639.451099  1.857073\n",
       "46    df3   pca  CNN-LSTM  1067.559773  2.452584\n",
       "47    df3   pca   CNN-GRU   592.369492  1.764884\n",
       "48    df4  none      LSTM   116.781290  0.704004\n",
       "49    df4  none       GRU   251.450730  1.180811\n",
       "50    df4  none  CNN-LSTM  1131.383696  2.471738\n",
       "51    df4  none   CNN-GRU   486.947666  1.610759\n",
       "52    df4   vif      LSTM  5413.759243  5.245358\n",
       "53    df4   vif       GRU  4850.604837  4.909307\n",
       "54    df4   vif  CNN-LSTM  6317.465376  5.514041\n",
       "55    df4   vif   CNN-GRU  9022.398242  6.714834\n",
       "56    df4   pca      LSTM   197.812069  0.882141\n",
       "57    df4   pca       GRU   165.289027  0.825202\n",
       "58    df4   pca  CNN-LSTM  2160.365583  3.565294\n",
       "59    df4   pca   CNN-GRU   725.580247  1.951995"
      ]
     },
     "execution_count": 56,
     "metadata": {},
     "output_type": "execute_result"
    }
   ],
   "source": [
    "print(\"===== 모델 평가 결과 비교 =====\")\n",
    "rows = []\n",
    "for dataset_name, experiment_results in zip(['df1', 'df2','df_fx','df3','df4'], \n",
    "                                            [experiment_results_df1, experiment_results_df2, experiment_results_df3\n",
    "                                            ,experiment_results_df4, experiment_results_df5]):\n",
    "    for method, result in experiment_results.items():\n",
    "        for model_name, model_data in result['models'].items():\n",
    "            mse_val = model_data['metrics']['mse']\n",
    "            mape_val = model_data['metrics']['mape']\n",
    "            rows.append({\n",
    "                '데이터셋': dataset_name,\n",
    "                '방식': method,\n",
    "                '모델명': model_name,\n",
    "                'MSE': mse_val,\n",
    "                'MAPE (%)': mape_val\n",
    "            })\n",
    "\n",
    "results_compare_df = pd.DataFrame(rows)\n",
    "results_compare_df\n"
   ]
  },
  {
   "cell_type": "code",
   "execution_count": 57,
   "id": "297f55e6-514e-4c5d-bfcd-b151f41fdc62",
   "metadata": {},
   "outputs": [
    {
     "name": "stdout",
     "output_type": "stream",
     "text": [
      "===== 시각화 =====\n"
     ]
    },
    {
     "data": {
      "image/png": "[encoded data removed]",
      "text/plain": [
       "<Figure size 1200x600 with 1 Axes>"
      ]
     },
     "metadata": {},
     "output_type": "display_data"
    }
   ],
   "source": [
    "print(\"===== 시각화 =====\")\n",
    "raw_results = experiment_results_df2['none']\n",
    "plot_time_series_predictions(raw_results['y_test_inv'], raw_results['models'], method=\"none\")"
   ]
  },
  {
   "cell_type": "code",
   "execution_count": null,
   "id": "1ccf772e-6302-474e-b228-8152c6f6b9eb",
   "metadata": {},
   "outputs": [],
   "source": []
  }
 ],
 "metadata": {
  "kernelspec": {
   "display_name": "Python (my_new_env)",
   "language": "python",
   "name": "my_new_env"
  },
  "language_info": {
   "codemirror_mode": {
    "name": "ipython",
    "version": 3
   },
   "file_extension": ".py",
   "mimetype": "text/x-python",
   "name": "python",
   "nbconvert_exporter": "python",
   "pygments_lexer": "ipython3",
   "version": "3.9.20"
  }
 },
 "nbformat": 4,
 "nbformat_minor": 5
}
